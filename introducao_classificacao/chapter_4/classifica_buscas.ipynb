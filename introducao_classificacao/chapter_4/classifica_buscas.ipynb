{
 "cells": [
  {
   "cell_type": "code",
   "execution_count": 70,
   "metadata": {},
   "outputs": [],
   "source": [
    "import pandas as pd\n",
    "from collections import Counter\n",
    "\n",
    "# df => dataframe\n",
    "df = pd.read_csv('buscas.csv')\n",
    "\n",
    "# somente dataframes dos dados\n",
    "X_df = df[['home', 'busca', 'logado']]\n",
    "Y_df = df['comprou']\n",
    "Xdummies_df = pd.get_dummies(X_df)\n",
    "Ydummies_df = Y_df\n",
    "\n",
    "# valores dentro dos dataframes\n",
    "X = Xdummies_df.values\n",
    "Y = Ydummies_df.values\n",
    "\n",
    "porcentagem_treino = 0.9\n",
    "tamanho_treino = int(porcentagem_treino * len(Y)) # 900\n",
    "tamanho_teste = len(Y) - tamanho_treino           # 100\n",
    "\n",
    "treino_dados = X[:tamanho_treino]\n",
    "treino_marcacoes = Y[:tamanho_treino]\n",
    "\n",
    "teste_dados = X[-tamanho_teste:]\n",
    "teste_marcacoes = Y[-tamanho_teste:]"
   ]
  },
  {
   "cell_type": "code",
   "execution_count": 65,
   "metadata": {},
   "outputs": [
    {
     "data": {
      "text/plain": [
       "MultinomialNB(alpha=1.0, class_prior=None, fit_prior=True)"
      ]
     },
     "execution_count": 65,
     "metadata": {},
     "output_type": "execute_result"
    }
   ],
   "source": [
    "# treinando modelo\n",
    "from sklearn.naive_bayes import MultinomialNB\n",
    "\n",
    "modelo = MultinomialNB()\n",
    "modelo.fit(treino_dados, treino_marcacoes)"
   ]
  },
  {
   "cell_type": "code",
   "execution_count": 87,
   "metadata": {},
   "outputs": [
    {
     "name": "stdout",
     "output_type": "stream",
     "text": [
      "Taxa de acerto do algoritmo: 82.000000\n",
      "Total de elementos: 100\n",
      "Taxa de acerto base: 83.200000\n",
      "Taxa de acerto base: 82.000000\n"
     ]
    }
   ],
   "source": [
    "resultado = modelo.predict(teste_dados)\n",
    "acertos = resultado == teste_marcacoes\n",
    "\n",
    "# taxa de acertos do algoritmo treinado\n",
    "total_acertos = sum(acertos)\n",
    "total_elementos = len(teste_marcacoes)\n",
    "taxa_acertos = 100.0 * total_acertos / total_elementos\n",
    "print('Taxa de acerto do algoritmo: %f' % taxa_acertos)\n",
    "print('Total de elementos: %d' % total_elementos)\n",
    "\n",
    "# taxa de acertos usando Y total(ERRADO)\n",
    "acerto_base = max(Counter(Y).values())\n",
    "taxa_acerto_base = 100.0 * acerto_base / len(Y)\n",
    "print('Taxa de acerto base: %f' % taxa_acerto_base)\n",
    "\n",
    "# taxa de acertos usando 90% do Y\n",
    "acerto_base = max(Counter(teste_marcacoes).values())\n",
    "taxa_acerto_base = 100.0 * acerto_base / len(teste_marcacoes)\n",
    "print('Taxa de acerto base: %f' % taxa_acerto_base)"
   ]
  }
 ],
 "metadata": {
  "kernelspec": {
   "display_name": "Python 3",
   "language": "python",
   "name": "python3"
  },
  "language_info": {
   "codemirror_mode": {
    "name": "ipython",
    "version": 3
   },
   "file_extension": ".py",
   "mimetype": "text/x-python",
   "name": "python",
   "nbconvert_exporter": "python",
   "pygments_lexer": "ipython3",
   "version": "3.7.5"
  }
 },
 "nbformat": 4,
 "nbformat_minor": 2
}
