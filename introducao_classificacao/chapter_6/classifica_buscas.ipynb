{
 "cells": [
  {
   "cell_type": "code",
   "execution_count": 128,
   "metadata": {},
   "outputs": [],
   "source": [
    "import pandas as pd\n",
    "from collections import Counter\n",
    "\n",
    "# REGISTROS DOS TESTE REALIZADOS\n",
    "# teste inicial: home, busca, logado => comprou\n",
    "# home, busca\n",
    "# home, logado\n",
    "# busca, logado\n",
    "# busca: 85,71% (7 testes)\n",
    "# comparando [adaboost, multinomial] usando [home, busca, logado]\n",
    "\n",
    "df = pd.read_csv('buscas2.csv')\n",
    "\n",
    "X_df = df[['home','busca','logado']]\n",
    "Y_df = df['comprou']\n",
    "Xdummies_df = pd.get_dummies(X_df)\n",
    "Ydummies_df = Y_df\n",
    "\n",
    "# valores dentro dos dataframes\n",
    "X = Xdummies_df.values\n",
    "Y = Ydummies_df.values\n",
    "\n",
    "porcentagem_treino = 0.8\n",
    "porcentagem_teste = 0.1\n",
    "tamanho_treino = int(porcentagem_treino * len(Y))\n",
    "tamanho_teste = int(porcentagem_teste * len(Y))\n",
    "tamanho_validacao = len(Y) - tamanho_treino - tamanho_teste\n",
    "\n",
    "treino_dados = X[:tamanho_treino]\n",
    "treino_marcacoes = Y[:tamanho_treino]\n",
    "\n",
    "fim_treino = tamanho_treino + tamanho_teste\n",
    "\n",
    "teste_dados = X[tamanho_treino:fim_treino]\n",
    "teste_marcacoes = Y[tamanho_treino:fim_treino]\n",
    "\n",
    "validacao_dados = X[fim_treino:]\n",
    "validacao_marcacoes = Y[fim_treino:]"
   ]
  },
  {
   "cell_type": "code",
   "execution_count": 129,
   "metadata": {},
   "outputs": [],
   "source": [
    "def fit_and_predict(nome, modelo, treino_dados, treino_marcacoes, teste_dados, teste_marcacoes):\n",
    "    modelo.fit(treino_dados, treino_marcacoes)\n",
    "    \n",
    "    resultado = modelo.predict(teste_dados)\n",
    "    acertos = resultado == teste_marcacoes\n",
    "    \n",
    "    # taxa de acertos do algoritmo treinado\n",
    "    total_acertos = sum(acertos)\n",
    "    total_elementos = len(teste_marcacoes)\n",
    "    taxa_acertos = 100.0 * total_acertos / total_elementos\n",
    "    \n",
    "    msg = \"Taxa de acerto do algoritmo {0}: {1}\".format(nome, taxa_acertos)\n",
    "    print(msg)\n",
    "    \n",
    "    return taxa_acertos"
   ]
  },
  {
   "cell_type": "code",
   "execution_count": 130,
   "metadata": {},
   "outputs": [],
   "source": [
    "def teste_real(modelo, validacao_dados, validacao_marcacoes):\n",
    "    modelo.fit(validacao_dados, validacao_marcacoes)\n",
    "    resultado = modelo.predict(validacao_dados)\n",
    "    \n",
    "    acertos = resultado == validacao_marcacoes\n",
    "    total_acertos = sum(acertos)\n",
    "    total_elementos = len(validacao_marcacoes)\n",
    "    \n",
    "    taxa_acertos = 100.0 * total_acertos / total_elementos\n",
    "    \n",
    "    msg = \"Taxa de acerto do vencedor entre os dois algoritmos no mundo real: {0}\".format(taxa_acertos)\n",
    "    print(msg)"
   ]
  },
  {
   "cell_type": "code",
   "execution_count": 131,
   "metadata": {},
   "outputs": [
    {
     "name": "stdout",
     "output_type": "stream",
     "text": [
      "Taxa de acerto do algoritmo MultinomialNB: 85.71428571428571\n",
      "Taxa de acerto do algoritmo AdaBoostClassifier: 85.71428571428571\n",
      "Taxa de acerto do vencedor entre os dois algoritmos no mundo real: 75.0\n",
      "Taxa de acerto base: 62.500000\n",
      "Total de elementos: 8\n"
     ]
    }
   ],
   "source": [
    "# treinando com MultinomialNB\n",
    "from sklearn.naive_bayes import MultinomialNB\n",
    "modeloMultinomial = MultinomialNB()\n",
    "resultadoMultinomial = fit_and_predict(\"MultinomialNB\", modelo, treino_dados, treino_marcacoes, teste_dados, teste_marcacoes)\n",
    "\n",
    "# treinando com AdaBoost\n",
    "from sklearn.ensemble import AdaBoostClassifier\n",
    "modeloAdaBoost = AdaBoostClassifier()\n",
    "resultadoAdaBoost = fit_and_predict(\"AdaBoostClassifier\",modelo, treino_dados, treino_marcacoes, teste_dados, teste_marcacoes)\n",
    "\n",
    "if resultadoMultinomial > resultadoAdaBoost:\n",
    "    vencedor = modeloMultinomial\n",
    "else:\n",
    "    vencedor = modeloAdaBoost\n",
    "    \n",
    "teste_real(vencedor, validacao_dados, validacao_marcacoes)\n",
    "\n",
    "# taxa de acertos do algoritmo base\n",
    "acerto_base = max(Counter(validacao_marcacoes).values())\n",
    "taxa_acerto_base = 100.0 * acerto_base / len(validacao_marcacoes)\n",
    "print('Taxa de acerto base: %f' % taxa_acerto_base)\n",
    "\n",
    "total_elementos = len(validacao_dados)\n",
    "print('Total de elementos: %d' % total_elementos)"
   ]
  }
 ],
 "metadata": {
  "kernelspec": {
   "display_name": "Python 3",
   "language": "python",
   "name": "python3"
  },
  "language_info": {
   "codemirror_mode": {
    "name": "ipython",
    "version": 3
   },
   "file_extension": ".py",
   "mimetype": "text/x-python",
   "name": "python",
   "nbconvert_exporter": "python",
   "pygments_lexer": "ipython3",
   "version": "3.7.5"
  }
 },
 "nbformat": 4,
 "nbformat_minor": 2
}
