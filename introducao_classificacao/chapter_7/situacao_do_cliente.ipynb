{
 "cells": [
  {
   "cell_type": "code",
   "execution_count": 1,
   "metadata": {},
   "outputs": [],
   "source": [
    "import pandas as pd\n",
    "from collections import Counter\n",
    "\n",
    "df = pd.read_csv('situacao_do_cliente.csv')\n",
    "\n",
    "X_df = df[['recencia','frequencia','semanas_de_inscricao']]\n",
    "Y_df = df['situacao']\n",
    "Xdummies_df = pd.get_dummies(X_df)\n",
    "Ydummies_df = Y_df\n",
    "\n",
    "# valores dentro dos dataframes\n",
    "X = Xdummies_df.values\n",
    "Y = Ydummies_df.values\n",
    "\n",
    "porcentagem_treino = 0.8\n",
    "porcentagem_teste = 0.1\n",
    "tamanho_treino = int(porcentagem_treino * len(Y))\n",
    "tamanho_teste = int(porcentagem_teste * len(Y))\n",
    "tamanho_validacao = len(Y) - tamanho_treino - tamanho_teste\n",
    "\n",
    "treino_dados = X[:tamanho_treino]\n",
    "treino_marcacoes = Y[:tamanho_treino]\n",
    "\n",
    "fim_treino = tamanho_treino + tamanho_teste\n",
    "\n",
    "teste_dados = X[tamanho_treino:fim_treino]\n",
    "teste_marcacoes = Y[tamanho_treino:fim_treino]\n",
    "\n",
    "validacao_dados = X[fim_treino:]\n",
    "validacao_marcacoes = Y[fim_treino:]"
   ]
  },
  {
   "cell_type": "code",
   "execution_count": 2,
   "metadata": {},
   "outputs": [],
   "source": [
    "def fit_and_predict(nome, modelo, treino_dados, treino_marcacoes, teste_dados, teste_marcacoes):\n",
    "    modelo.fit(treino_dados, treino_marcacoes)\n",
    "    \n",
    "    resultado = modelo.predict(teste_dados)\n",
    "    acertos = resultado == teste_marcacoes\n",
    "    \n",
    "    # taxa de acertos do algoritmo treinado\n",
    "    total_acertos = sum(acertos)\n",
    "    total_elementos = len(teste_marcacoes)\n",
    "    taxa_acertos = 100.0 * total_acertos / total_elementos\n",
    "    \n",
    "    msg = \"Taxa de acerto do algoritmo {0}: {1}\".format(nome, taxa_acertos)\n",
    "    print(msg)\n",
    "    \n",
    "    print(resultado)\n",
    "    \n",
    "    return taxa_acertos"
   ]
  },
  {
   "cell_type": "code",
   "execution_count": 3,
   "metadata": {},
   "outputs": [],
   "source": [
    "def teste_real(modelo, validacao_dados, validacao_marcacoes):\n",
    "    modelo.fit(validacao_dados, validacao_marcacoes)\n",
    "    resultado = modelo.predict(validacao_dados)\n",
    "    \n",
    "    acertos = resultado == validacao_marcacoes\n",
    "    total_acertos = sum(acertos)\n",
    "    total_elementos = len(validacao_marcacoes)\n",
    "    \n",
    "    taxa_acertos = 100.0 * total_acertos / total_elementos\n",
    "    \n",
    "    msg = \"Taxa de acerto do vencedor entre os dois algoritmos no mundo real: {0}\".format(taxa_acertos)\n",
    "    print(msg)"
   ]
  },
  {
   "cell_type": "code",
   "execution_count": 17,
   "metadata": {
    "scrolled": true
   },
   "outputs": [
    {
     "name": "stdout",
     "output_type": "stream",
     "text": [
      "Taxa de acerto do algoritmo OneVsRestClassifier: 90.9090909090909\n",
      "[2 0 1 1 1 1 1 1 2 1 2 1 1 1 1 1 1 1 1 1 2 1]\n",
      "Taxa de acerto do algoritmo OneVsOneClassifier: 100.0\n",
      "[2 0 1 1 1 1 1 1 2 1 2 1 1 0 1 1 1 1 0 1 2 1]\n",
      "Taxa de acerto do algoritmo MultinomialNB: 72.72727272727273\n",
      "[1 1 1 1 1 1 1 1 2 1 1 1 1 1 1 1 1 1 1 1 1 1]\n",
      "Taxa de acerto do algoritmo AdaBoostClassifier: 68.18181818181819\n",
      "[1 1 1 1 1 1 1 1 1 1 1 1 1 1 1 1 1 1 1 1 1 1]\n",
      "Taxa de acerto do vencedor entre os dois algoritmos no mundo real: 95.65217391304348\n",
      "Taxa de acerto do algoritmo base: 82.608696\n",
      "\n",
      "Total de elementos: 23\n"
     ]
    },
    {
     "name": "stderr",
     "output_type": "stream",
     "text": [
      "/usr/local/lib/python3.7/dist-packages/sklearn/svm/_base.py:947: ConvergenceWarning: Liblinear failed to converge, increase the number of iterations.\n",
      "  \"the number of iterations.\", ConvergenceWarning)\n",
      "/usr/local/lib/python3.7/dist-packages/sklearn/svm/_base.py:947: ConvergenceWarning: Liblinear failed to converge, increase the number of iterations.\n",
      "  \"the number of iterations.\", ConvergenceWarning)\n",
      "/usr/local/lib/python3.7/dist-packages/sklearn/svm/_base.py:947: ConvergenceWarning: Liblinear failed to converge, increase the number of iterations.\n",
      "  \"the number of iterations.\", ConvergenceWarning)\n"
     ]
    }
   ],
   "source": [
    "resultados = {}\n",
    "\n",
    "# treinando com OnevsRest\n",
    "from sklearn.multiclass import OneVsRestClassifier\n",
    "from sklearn.svm import LinearSVC\n",
    "modeloOneVsRest = OneVsRestClassifier(LinearSVC(random_state = 0))\n",
    "resultadoOneVsRest = fit_and_predict(\"OneVsRestClassifier\", modeloOneVsRest, treino_dados, treino_marcacoes, teste_dados, teste_marcacoes)\n",
    "resultados[resultadoOneVsRest] = modeloOneVsRest\n",
    "\n",
    "# treinando com OnevsOne\n",
    "from sklearn.multiclass import OneVsOneClassifier\n",
    "modeloOneVsOne = OneVsOneClassifier(LinearSVC(random_state = 0))\n",
    "resultadoOneVsOne = fit_and_predict(\"OneVsOneClassifier\", modeloOneVsOne, treino_dados, treino_marcacoes, teste_dados, teste_marcacoes)\n",
    "resultados[resultadoOneVsOne] = modeloOneVsOne\n",
    "\n",
    "# treinando com MultinomialNB\n",
    "from sklearn.naive_bayes import MultinomialNB\n",
    "modeloMultinomial = MultinomialNB()\n",
    "resultadoMultinomial = fit_and_predict(\"MultinomialNB\", modeloMultinomial, treino_dados, treino_marcacoes, teste_dados, teste_marcacoes)\n",
    "resultados[resultadoMultinomial] = modeloMultinomial\n",
    "\n",
    "# treinando com AdaBoost\n",
    "from sklearn.ensemble import AdaBoostClassifier\n",
    "modeloAdaBoost = AdaBoostClassifier()\n",
    "resultadoAdaBoost = fit_and_predict(\"AdaBoostClassifier\", modeloAdaBoost, treino_dados, treino_marcacoes, teste_dados, teste_marcacoes)\n",
    "resultados[resultadoAdaBoost] = modeloAdaBoost\n",
    "\n",
    "maximo = max(resultados)\n",
    "vencedor = resultados[maximo]\n",
    "    \n",
    "teste_real(vencedor, validacao_dados, validacao_marcacoes)\n",
    "\n",
    "# taxa de acertos do algoritmo base\n",
    "acerto_base = max(Counter(validacao_marcacoes).values())\n",
    "taxa_acerto_base = 100.0 * acerto_base / len(validacao_marcacoes)\n",
    "print('Taxa de acerto do algoritmo base: %f' % taxa_acerto_base)\n",
    "print()\n",
    "total_elementos = len(validacao_dados)\n",
    "print('Total de elementos: %d' % total_elementos)"
   ]
  }
 ],
 "metadata": {
  "kernelspec": {
   "display_name": "Python 3",
   "language": "python",
   "name": "python3"
  },
  "language_info": {
   "codemirror_mode": {
    "name": "ipython",
    "version": 3
   },
   "file_extension": ".py",
   "mimetype": "text/x-python",
   "name": "python",
   "nbconvert_exporter": "python",
   "pygments_lexer": "ipython3",
   "version": "3.7.5"
  }
 },
 "nbformat": 4,
 "nbformat_minor": 2
}
