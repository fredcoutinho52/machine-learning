{
 "cells": [
  {
   "cell_type": "code",
   "execution_count": 57,
   "metadata": {},
   "outputs": [],
   "source": [
    "import pandas as pd\n",
    "import numpy as np\n",
    "import nltk\n",
    "from collections import Counter\n",
    "from sklearn.model_selection import cross_val_score\n",
    "\n",
    "stopwords = nltk.corpus.stopwords.words('portuguese')\n",
    "stemmer = nltk.stem.RSLPStemmer()\n",
    "\n",
    "classificacoes = pd.read_csv('emails.csv')\n",
    "textosPuros = classificacoes['email']\n",
    "frases = textosPuros.str.lower()\n",
    "textosQuebrados = [nltk.tokenize.word_tokenize(frase) for frase in frases]\n",
    "\n",
    "dicionario = set()\n",
    "\n",
    "for lista in textosQuebrados:\n",
    "    validas = [stemmer.stem(palavra) for palavra in lista if palavra not in stopwords and len(palavra) > 2]\n",
    "    dicionario.update(validas)\n",
    "    \n",
    "total_palavras = len(dicionario)\n",
    "tuplas = zip(dicionario, range(total_palavras))\n",
    "tradutor = {palavra:indice for palavra, indice in tuplas}\n",
    "    \n",
    "vetores_texto = [vetorizar_texto(texto, tradutor, stemmer) for texto in textosQuebrados]\n",
    "\n",
    "marcas = classificacoes['classificacao']\n",
    "\n",
    "X = vetores_texto\n",
    "Y = marcas\n",
    "\n",
    "porcentagem_treino = 0.8\n",
    "\n",
    "tamanho_treino = int(porcentagem_treino * len(Y))\n",
    "tamanho_validacao = len(Y) - tamanho_treino\n",
    "\n",
    "treino_dados = X[:tamanho_treino]\n",
    "treino_marcacoes = Y[:tamanho_treino]\n",
    "\n",
    "validacao_dados = X[tamanho_treino:]\n",
    "validacao_marcacoes = Y[tamanho_treino:]"
   ]
  },
  {
   "cell_type": "code",
   "execution_count": 47,
   "metadata": {},
   "outputs": [],
   "source": [
    "def vetorizar_texto(texto, tradutor, stemmer):\n",
    "    vetor = [0] * len(tradutor)\n",
    "    for palavra in texto:\n",
    "        if len(palavra) > 0:\n",
    "            raiz = stemmer.stem(palavra)\n",
    "            if raiz in tradutor:\n",
    "                posicao = tradutor[raiz]\n",
    "                vetor[posicao] += 1\n",
    "    \n",
    "    return vetor"
   ]
  },
  {
   "cell_type": "code",
   "execution_count": 43,
   "metadata": {},
   "outputs": [],
   "source": [
    "def fit_and_predict(nome, modelo, treino_dados, treino_marcacoes):\n",
    "    k = 10\n",
    "    scores = cross_val_score(modelo, treino_dados, treino_marcacoes, cv = k)\n",
    "    taxa_acerto = np.mean(scores)\n",
    "    msg = 'Taxa de acerto do {0}: {1}'.format(nome, taxa_acerto)\n",
    "    print(msg)\n",
    "    return taxa_acerto"
   ]
  },
  {
   "cell_type": "code",
   "execution_count": 44,
   "metadata": {},
   "outputs": [],
   "source": [
    "def teste_real(modelo, validacao_dados, validacao_marcacoes):\n",
    "    resultado = modelo.predict(validacao_dados)\n",
    "    \n",
    "    acertos = resultado == validacao_marcacoes\n",
    "    \n",
    "    total_acertos = sum(acertos)\n",
    "    total_elementos = len(validacao_marcacoes)\n",
    "    \n",
    "    taxa_acerto = 100.0 * total_acertos / total_elementos\n",
    "    \n",
    "    msg = \"Taxa de acerto do vencedor entre os algoritmos no mundo real: {0}\".format(taxa_acerto)\n",
    "    \n",
    "    print(msg)"
   ]
  },
  {
   "cell_type": "code",
   "execution_count": 58,
   "metadata": {},
   "outputs": [
    {
     "name": "stdout",
     "output_type": "stream",
     "text": [
      "Taxa de acerto do OneVsRest: 0.775\n",
      "Taxa de acerto do OneVsOne: 0.75\n",
      "Taxa de acerto do MultinomialNB: 0.8\n",
      "Taxa de acerto do AdaBoost: 0.5833333333333333\n",
      "Taxa de acerto do vencedor entre os algoritmos no mundo real: 77.77777777777777\n",
      "Taxa de acerto base: 44.444444\n",
      "Total de teste: 9\n"
     ]
    }
   ],
   "source": [
    "resultados = {}\n",
    "\n",
    "# treinando com OneVsRest\n",
    "from sklearn.multiclass import OneVsRestClassifier\n",
    "from sklearn.svm import LinearSVC\n",
    "modeloOneVsRest = OneVsRestClassifier(LinearSVC(random_state = 0, tol = 1))\n",
    "resultadoOneVsRest = fit_and_predict(\"OneVsRest\", modeloOneVsRest, treino_dados, treino_marcacoes)\n",
    "resultados[resultadoOneVsRest] = modeloOneVsRest\n",
    "\n",
    "# treinando com OneVsOne\n",
    "from sklearn.multiclass import OneVsOneClassifier\n",
    "from sklearn.svm import LinearSVC\n",
    "modeloOneVsOne = OneVsOneClassifier(LinearSVC(random_state = 0, tol = 1))\n",
    "resultadoOneVsOne = fit_and_predict(\"OneVsOne\", modeloOneVsOne, treino_dados, treino_marcacoes)\n",
    "resultados[resultadoOneVsOne] = modeloOneVsOne\n",
    "\n",
    "# treinando com MultinomialNB\n",
    "from sklearn.naive_bayes import MultinomialNB\n",
    "modeloMultinomial = MultinomialNB()\n",
    "resultadoMultinomial = fit_and_predict(\"MultinomialNB\", modeloMultinomial, treino_dados, treino_marcacoes)\n",
    "resultados[resultadoMultinomial] = modeloMultinomial\n",
    "\n",
    "# treinando com AdaBoost\n",
    "from sklearn.ensemble import AdaBoostClassifier\n",
    "modeloAdaBoost = AdaBoostClassifier(random_state = 0)\n",
    "resultadoAdaBoost = fit_and_predict(\"AdaBoost\", modeloAdaBoost, treino_dados, treino_marcacoes)\n",
    "resultados[resultadoAdaBoost] = modeloAdaBoost\n",
    "\n",
    "maximo = max(resultados)\n",
    "vencedor = resultados[maximo]\n",
    "\n",
    "vencedor.fit(treino_dados, treino_marcacoes)\n",
    "\n",
    "teste_real(vencedor, validacao_dados, validacao_marcacoes)\n",
    "\n",
    "acerto_base = max(Counter(validacao_marcacoes).values())\n",
    "taxa_acerto_base = 100.0 * acerto_base / len(validacao_marcacoes)\n",
    "print(\"Taxa de acerto base: %f\" % taxa_acerto_base)\n",
    "\n",
    "total_elementos = len(validacao_dados)\n",
    "print(\"Total de teste: %d\" % total_elementos)"
   ]
  }
 ],
 "metadata": {
  "kernelspec": {
   "display_name": "Python 3",
   "language": "python",
   "name": "python3"
  },
  "language_info": {
   "codemirror_mode": {
    "name": "ipython",
    "version": 3
   },
   "file_extension": ".py",
   "mimetype": "text/x-python",
   "name": "python",
   "nbconvert_exporter": "python",
   "pygments_lexer": "ipython3",
   "version": "3.7.5"
  }
 },
 "nbformat": 4,
 "nbformat_minor": 2
}
