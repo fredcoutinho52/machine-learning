{
 "cells": [
  {
   "cell_type": "code",
   "execution_count": 16,
   "metadata": {},
   "outputs": [],
   "source": [
    "# animal = [é gordinho?, tem perninha curta?, faz auau?]\n",
    "porco1 = [1, 1, 0]\n",
    "porco2 = [1, 1, 0]\n",
    "porco3 = [1, 1, 0]\n",
    "cachorro1 = [1, 1, 1]\n",
    "cachorro2 = [0, 1, 1]\n",
    "cachorro3 = [0, 1, 1]\n",
    "\n",
    "# 1 => porco / -1 => cachorro\n",
    "dados = [porco1, porco2, porco3, cachorro1, cachorro2, cachorro3]\n",
    "marcacoes = [1, 1, 1, -1, -1, -1]\n",
    "\n",
    "misterioso1 = [1, 1, 1]\n",
    "misterioso2 = [1, 0, 0]\n",
    "misterioso3 = [0, 0, 1]"
   ]
  },
  {
   "cell_type": "code",
   "execution_count": 13,
   "metadata": {},
   "outputs": [
    {
     "data": {
      "text/plain": [
       "MultinomialNB(alpha=1.0, class_prior=None, fit_prior=True)"
      ]
     },
     "execution_count": 13,
     "metadata": {},
     "output_type": "execute_result"
    }
   ],
   "source": [
    "from sklearn.naive_bayes import MultinomialNB\n",
    "\n",
    "# treinando modelo\n",
    "modelo = MultinomialNB()\n",
    "modelo.fit(dados, marcacoes)"
   ]
  },
  {
   "cell_type": "code",
   "execution_count": 29,
   "metadata": {},
   "outputs": [
    {
     "data": {
      "text/plain": [
       "66.66666666666667"
      ]
     },
     "execution_count": 29,
     "metadata": {},
     "output_type": "execute_result"
    }
   ],
   "source": [
    "teste = [misterioso1, misterioso2, misterioso3]\n",
    "\n",
    "marcacoes_teste = [-1, 1, 1]\n",
    "\n",
    "# classificando\n",
    "resultado = modelo.predict(teste)\n",
    "\n",
    "# verificando taxa de acerto\n",
    "diferencas = resultado - marcacoes_teste\n",
    "acertos = [d for d in diferencas if d == 0]\n",
    "total_de_acertos = len(acertos)\n",
    "total_de_elementos = len(teste)\n",
    "taxa_de_acerto = 100.0 * total_de_acertos / total_de_elementos\n",
    "taxa_de_acerto"
   ]
  }
 ],
 "metadata": {
  "kernelspec": {
   "display_name": "Python 3",
   "language": "python",
   "name": "python3"
  },
  "language_info": {
   "codemirror_mode": {
    "name": "ipython",
    "version": 3
   },
   "file_extension": ".py",
   "mimetype": "text/x-python",
   "name": "python",
   "nbconvert_exporter": "python",
   "pygments_lexer": "ipython3",
   "version": "3.7.5"
  }
 },
 "nbformat": 4,
 "nbformat_minor": 2
}
