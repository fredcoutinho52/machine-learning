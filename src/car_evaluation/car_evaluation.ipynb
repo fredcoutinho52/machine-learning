{
 "cells": [
  {
   "cell_type": "code",
   "execution_count": 72,
   "metadata": {},
   "outputs": [],
   "source": [
    "from sklearn import preprocessing\n",
    "import pandas as pd\n",
    "\n",
    "dataframe = pd.read_csv('car_data.csv')\n",
    "\n",
    "le = preprocessing.LabelEncoder()\n",
    "dataframe = dataframe.apply(le.fit_transform)\n",
    "\n",
    "x = dataframe[['buying', 'maint', 'doors', 'persons', 'luggage', 'safety']]\n",
    "y = dataframe['value']\n",
    "\n",
    "tamanho_treino = int(0.9 * len(y))\n",
    "tamanho_teste = len(y) - tamanho_treino\n",
    "\n",
    "treino_x = x[:tamanho_treino]\n",
    "treino_y = y[:tamanho_treino]\n",
    "\n",
    "teste_x = x[-tamanho_teste:]\n",
    "teste_y = y[-tamanho_teste:]"
   ]
  },
  {
   "cell_type": "code",
   "execution_count": 71,
   "metadata": {},
   "outputs": [
    {
     "data": {
      "text/plain": [
       "MultinomialNB(alpha=1.0, class_prior=None, fit_prior=True)"
      ]
     },
     "execution_count": 71,
     "metadata": {},
     "output_type": "execute_result"
    }
   ],
   "source": [
    "from sklearn.naive_bayes import MultinomialNB\n",
    "\n",
    "modelo = MultinomialNB()\n",
    "modelo.fit(treino_x, treino_y)"
   ]
  },
  {
   "cell_type": "code",
   "execution_count": 70,
   "metadata": {},
   "outputs": [
    {
     "name": "stdout",
     "output_type": "stream",
     "text": [
      "Taxa de acertos: 54.91%\n"
     ]
    }
   ],
   "source": [
    "resultado = modelo.predict(teste_x)\n",
    "acertos = resultado == teste_y\n",
    "\n",
    "total_acertos = sum(acertos)\n",
    "total_elementos = len(teste_y)\n",
    "taxa_acertos = 100 * total_acertos / total_elementos\n",
    "\n",
    "print('Taxa de acertos: {}%'.format(round(taxa_acertos, 2)))"
   ]
  }
 ],
 "metadata": {
  "kernelspec": {
   "display_name": "Python 3",
   "language": "python",
   "name": "python3"
  },
  "language_info": {
   "codemirror_mode": {
    "name": "ipython",
    "version": 3
   },
   "file_extension": ".py",
   "mimetype": "text/x-python",
   "name": "python",
   "nbconvert_exporter": "python",
   "pygments_lexer": "ipython3",
   "version": "3.8.2"
  }
 },
 "nbformat": 4,
 "nbformat_minor": 4
}
