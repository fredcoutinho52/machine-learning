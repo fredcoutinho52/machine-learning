{
 "cells": [
  {
   "cell_type": "code",
   "execution_count": 4,
   "metadata": {},
   "outputs": [],
   "source": [
    "# lendo arquivos do csv com a biblioteca csv\n",
    "import csv\n",
    "\n",
    "def carregar_buscas():\n",
    "    X = []\n",
    "    Y = []\n",
    "    \n",
    "    arquivo = open('buscas.csv', 'r')\n",
    "    leitor = csv.reader(arquivo)\n",
    "    \n",
    "    next(leitor)\n",
    "    \n",
    "    for home, busca, logado, comprou in leitor:\n",
    "        dado = ([int(home), busca, int(logado)])\n",
    "        X.append(dado)\n",
    "        Y.append(int(comprou))\n",
    "        \n",
    "    return X, Y\n",
    "\n",
    "X, Y = carregar_buscas()"
   ]
  },
  {
   "cell_type": "code",
   "execution_count": 44,
   "metadata": {},
   "outputs": [],
   "source": [
    "# lendo arquivos do csv com a biblioteca pandas\n",
    "import pandas as pd\n",
    "\n",
    "# df => dataframe\n",
    "df = pd.read_csv('buscas.csv')\n",
    "\n",
    "# somente dataframes dos dados\n",
    "X_df = df[['home', 'busca', 'logado']]\n",
    "Y_df = df['comprou']\n",
    "Xdummies_df = pd.get_dummies(X_df)\n",
    "Ydummies_df = Y_df\n",
    "\n",
    "# valores dentro dos dataframes\n",
    "X = Xdummies_df.values\n",
    "Y = Ydummies_df.values\n",
    "\n",
    "porcentagem_treino = 0.9\n",
    "tamanho_treino = int(porcentagem_treino * len(Y)) # 900\n",
    "tamanho_teste = len(Y) - tamanho_treino           # 100\n",
    "\n",
    "treino_dados = X[:tamanho_treino]\n",
    "treino_marcacoes = Y[:tamanho_treino]\n",
    "\n",
    "teste_dados = X[-tamanho_teste:]\n",
    "teste_marcacoes = Y[-tamanho_teste:]"
   ]
  },
  {
   "cell_type": "code",
   "execution_count": 47,
   "metadata": {},
   "outputs": [
    {
     "data": {
      "text/plain": [
       "MultinomialNB(alpha=1.0, class_prior=None, fit_prior=True)"
      ]
     },
     "execution_count": 47,
     "metadata": {},
     "output_type": "execute_result"
    }
   ],
   "source": [
    "# treinando modelo\n",
    "from sklearn.naive_bayes import MultinomialNB\n",
    "\n",
    "modelo = MultinomialNB()\n",
    "modelo.fit(treino_dados, treino_marcacoes)"
   ]
  },
  {
   "cell_type": "code",
   "execution_count": 53,
   "metadata": {},
   "outputs": [
    {
     "name": "stdout",
     "output_type": "stream",
     "text": [
      "82.0 100\n"
     ]
    }
   ],
   "source": [
    "resultado = modelo.predict(teste_dados)\n",
    "diferencas = resultado - teste_marcacoes\n",
    "\n",
    "#taxa de acertos\n",
    "acertos = [d for d in diferencas if d == 0]\n",
    "total_acertos = len(acertos)\n",
    "total_elementos = len(teste_marcacoes)\n",
    "taxa_acertos = 100.0 * total_acertos / total_elementos\n",
    "\n",
    "print(taxa_acertos, total_elementos)"
   ]
  }
 ],
 "metadata": {
  "kernelspec": {
   "display_name": "Python 3",
   "language": "python",
   "name": "python3"
  },
  "language_info": {
   "codemirror_mode": {
    "name": "ipython",
    "version": 3
   },
   "file_extension": ".py",
   "mimetype": "text/x-python",
   "name": "python",
   "nbconvert_exporter": "python",
   "pygments_lexer": "ipython3",
   "version": "3.7.5"
  }
 },
 "nbformat": 4,
 "nbformat_minor": 2
}
