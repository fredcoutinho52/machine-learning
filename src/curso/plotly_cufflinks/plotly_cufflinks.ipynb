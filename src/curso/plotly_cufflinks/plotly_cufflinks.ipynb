{
 "cells": [
  {
   "cell_type": "code",
   "execution_count": 2,
   "metadata": {},
   "outputs": [],
   "source": [
    "import pandas as pd\n",
    "import numpy as np\n",
    "import matplotlib.pyplot as plt"
   ]
  },
  {
   "cell_type": "code",
   "execution_count": 3,
   "metadata": {},
   "outputs": [],
   "source": [
    "%matplotlib inline"
   ]
  },
  {
   "cell_type": "code",
   "execution_count": 5,
   "metadata": {},
   "outputs": [
    {
     "name": "stdout",
     "output_type": "stream",
     "text": [
      "4.8.1\n"
     ]
    }
   ],
   "source": [
    "from plotly import __version__\n",
    "print(__version__)"
   ]
  },
  {
   "cell_type": "code",
   "execution_count": 7,
   "metadata": {},
   "outputs": [],
   "source": [
    "from plotly.offline import download_plotlyjs, init_notebook_mode, plot, iplot"
   ]
  },
  {
   "cell_type": "code",
   "execution_count": 8,
   "metadata": {},
   "outputs": [],
   "source": [
    "import cufflinks as cf"
   ]
  },
  {
   "cell_type": "code",
   "execution_count": 9,
   "metadata": {},
   "outputs": [
    {
     "data": {
      "text/html": [
       "        <script type=\"text/javascript\">\n",
       "        window.PlotlyConfig = {MathJaxConfig: 'local'};\n",
       "        if (window.MathJax) {MathJax.Hub.Config({SVG: {font: \"STIX-Web\"}});}\n",
       "        if (typeof require !== 'undefined') {\n",
       "        require.undef(\"plotly\");\n",
       "        requirejs.config({\n",
       "            paths: {\n",
       "                'plotly': ['https://cdn.plot.ly/plotly-latest.min']\n",
       "            }\n",
       "        });\n",
       "        require(['plotly'], function(Plotly) {\n",
       "            window._Plotly = Plotly;\n",
       "        });\n",
       "        }\n",
       "        </script>\n",
       "        "
      ]
     },
     "metadata": {},
     "output_type": "display_data"
    }
   ],
   "source": [
    "init_notebook_mode(connected=True)"
   ]
  },
  {
   "cell_type": "code",
   "execution_count": 10,
   "metadata": {},
   "outputs": [
    {
     "data": {
      "text/html": [
       "        <script type=\"text/javascript\">\n",
       "        window.PlotlyConfig = {MathJaxConfig: 'local'};\n",
       "        if (window.MathJax) {MathJax.Hub.Config({SVG: {font: \"STIX-Web\"}});}\n",
       "        if (typeof require !== 'undefined') {\n",
       "        require.undef(\"plotly\");\n",
       "        requirejs.config({\n",
       "            paths: {\n",
       "                'plotly': ['https://cdn.plot.ly/plotly-latest.min']\n",
       "            }\n",
       "        });\n",
       "        require(['plotly'], function(Plotly) {\n",
       "            window._Plotly = Plotly;\n",
       "        });\n",
       "        }\n",
       "        </script>\n",
       "        "
      ]
     },
     "metadata": {},
     "output_type": "display_data"
    }
   ],
   "source": [
    "cf.go_offline()"
   ]
  },
  {
   "cell_type": "code",
   "execution_count": 12,
   "metadata": {},
   "outputs": [
    {
     "data": {
      "text/html": [
       "<div>\n",
       "<style scoped>\n",
       "    .dataframe tbody tr th:only-of-type {\n",
       "        vertical-align: middle;\n",
       "    }\n",
       "\n",
       "    .dataframe tbody tr th {\n",
       "        vertical-align: top;\n",
       "    }\n",
       "\n",
       "    .dataframe thead th {\n",
       "        text-align: right;\n",
       "    }\n",
       "</style>\n",
       "<table border=\"1\" class=\"dataframe\">\n",
       "  <thead>\n",
       "    <tr style=\"text-align: right;\">\n",
       "      <th></th>\n",
       "      <th>A</th>\n",
       "      <th>B</th>\n",
       "      <th>C</th>\n",
       "      <th>D</th>\n",
       "    </tr>\n",
       "  </thead>\n",
       "  <tbody>\n",
       "    <tr>\n",
       "      <th>0</th>\n",
       "      <td>-0.051838</td>\n",
       "      <td>0.369537</td>\n",
       "      <td>-0.815493</td>\n",
       "      <td>1.282255</td>\n",
       "    </tr>\n",
       "    <tr>\n",
       "      <th>1</th>\n",
       "      <td>-0.496863</td>\n",
       "      <td>-0.874382</td>\n",
       "      <td>0.679283</td>\n",
       "      <td>0.400553</td>\n",
       "    </tr>\n",
       "    <tr>\n",
       "      <th>2</th>\n",
       "      <td>-2.177152</td>\n",
       "      <td>-1.575170</td>\n",
       "      <td>0.824703</td>\n",
       "      <td>1.787307</td>\n",
       "    </tr>\n",
       "    <tr>\n",
       "      <th>3</th>\n",
       "      <td>-0.511373</td>\n",
       "      <td>-0.528596</td>\n",
       "      <td>0.707576</td>\n",
       "      <td>1.722191</td>\n",
       "    </tr>\n",
       "    <tr>\n",
       "      <th>4</th>\n",
       "      <td>-0.038373</td>\n",
       "      <td>1.626477</td>\n",
       "      <td>0.073654</td>\n",
       "      <td>-0.330124</td>\n",
       "    </tr>\n",
       "  </tbody>\n",
       "</table>\n",
       "</div>"
      ],
      "text/plain": [
       "          A         B         C         D\n",
       "0 -0.051838  0.369537 -0.815493  1.282255\n",
       "1 -0.496863 -0.874382  0.679283  0.400553\n",
       "2 -2.177152 -1.575170  0.824703  1.787307\n",
       "3 -0.511373 -0.528596  0.707576  1.722191\n",
       "4 -0.038373  1.626477  0.073654 -0.330124"
      ]
     },
     "execution_count": 12,
     "metadata": {},
     "output_type": "execute_result"
    }
   ],
   "source": [
    "df = pd.DataFrame(np.random.randn(100, 4), columns=['A', 'B', 'C', 'D'])\n",
    "df.head()"
   ]
  },
  {
   "cell_type": "code",
   "execution_count": 15,
   "metadata": {},
   "outputs": [
    {
     "data": {
      "text/html": [
       "<div>\n",
       "<style scoped>\n",
       "    .dataframe tbody tr th:only-of-type {\n",
       "        vertical-align: middle;\n",
       "    }\n",
       "\n",
       "    .dataframe tbody tr th {\n",
       "        vertical-align: top;\n",
       "    }\n",
       "\n",
       "    .dataframe thead th {\n",
       "        text-align: right;\n",
       "    }\n",
       "</style>\n",
       "<table border=\"1\" class=\"dataframe\">\n",
       "  <thead>\n",
       "    <tr style=\"text-align: right;\">\n",
       "      <th></th>\n",
       "      <th>Categoria</th>\n",
       "      <th>Valores</th>\n",
       "    </tr>\n",
       "  </thead>\n",
       "  <tbody>\n",
       "    <tr>\n",
       "      <th>0</th>\n",
       "      <td>A</td>\n",
       "      <td>32</td>\n",
       "    </tr>\n",
       "    <tr>\n",
       "      <th>1</th>\n",
       "      <td>B</td>\n",
       "      <td>43</td>\n",
       "    </tr>\n",
       "    <tr>\n",
       "      <th>2</th>\n",
       "      <td>C</td>\n",
       "      <td>50</td>\n",
       "    </tr>\n",
       "  </tbody>\n",
       "</table>\n",
       "</div>"
      ],
      "text/plain": [
       "  Categoria  Valores\n",
       "0         A       32\n",
       "1         B       43\n",
       "2         C       50"
      ]
     },
     "execution_count": 15,
     "metadata": {},
     "output_type": "execute_result"
    }
   ],
   "source": [
    "df2 = pd.DataFrame({ 'Categoria': ['A', 'B', 'C'], 'Valores': [32, 43, 50] })\n",
    "df2"
   ]
  },
  {
   "cell_type": "code",
   "execution_count": 17,
   "metadata": {},
   "outputs": [
    {
     "data": {
      "text/plain": [
       "<matplotlib.axes._subplots.AxesSubplot at 0x119ced18>"
      ]
     },
     "execution_count": 17,
     "metadata": {},
     "output_type": "execute_result"
    },
    {
     "data": {
      "image/png": "[encoded data removed]",
      "text/plain": [
       "<Figure size 432x288 with 1 Axes>"
      ]
     },
     "metadata": {
      "needs_background": "light"
     },
     "output_type": "display_data"
    }
   ],
   "source": [
    "df.plot(kind='scatter', x='A', y='B') # usando matplotlib"
   ]
  },
  {
   "cell_type": "code",
   "execution_count": 19,
   "metadata": {},
   "outputs": [
    {
     "data": {
      "application/vnd.plotly.v1+json": {
       "config": {
        "linkText": "Export to plot.ly",
        "plotlyServerURL": "https://plot.ly",
        "showLink": true
       },
       "data": [
        {
         "line": {
          "color": "rgba(255, 153, 51, 1.0)",
          "dash": "solid",
          "shape": "linear",
          "width": 1.3
         },
         "marker": {
          "size": 12,
          "symbol": "circle"
         },
         "mode": "markers",
         "name": "B",
         "text": "",
         "type": "scatter",
         "x": [
          -0.051837791061411176,
          -0.49686287148954067,
          -2.1771515192846906,
          -0.5113732243720404,
          -0.03837284189106989,
          0.3548680089577916,
          -0.9670222154179324,
          0.48967087422011185,
          1.010118843634135,
          1.1767005716127645,
          0.6049739509700985,
          -1.2688805227873958,
          -0.02341822554535787,
          -0.8845292410026588,
          -0.11078185573420099,
          0.4450716121013818,
          -0.6524788440445956,
          0.8362365802443669,
          -0.26480206570836334,
          -0.015521473434741142,
          -0.9070581908107753,
          -0.19848188846188358,
          0.23484988589792208,
          -0.9429068811094353,
          0.33804310467588616,
          0.2231325138137817,
          1.4180751876383473,
          0.27684307950859816,
          -0.7268118558078794,
          -1.8190959116589784,
          0.8863588248415394,
          0.811407224749543,
          0.9168706533314526,
          -0.49255538436951624,
          -0.38855891112932583,
          -0.33060548677620133,
          0.22814018946691325,
          -0.06134433481792067,
          2.2699080261066835,
          -0.648450660547072,
          -0.6676597248888836,
          0.12780912335519987,
          0.26203454175511987,
          -0.5425640188515645,
          -1.7685038013335517,
          0.40968157985444253,
          -0.42445362372076917,
          -1.088382988200841,
          1.23453450356868,
          -0.3638729323339125,
          0.7811986561585942,
          -1.0258459763128092,
          -1.7662105171837867,
          0.41472993026917654,
          -0.9409427214991185,
          -2.224333425583536,
          -0.2431794109095521,
          -0.9395444396754363,
          -0.5689902576839743,
          3.044340783482019,
          1.2505474809367803,
          -1.8363813899795214,
          -1.4820530742319769,
          -0.46642801300752706,
          0.812718554669287,
          0.6645329003944418,
          0.3270216654104052,
          -0.1223759657745449,
          0.09624616022289444,
          -0.22541462588698472,
          -0.2958817575821674,
          0.2871613386480438,
          0.07953086113867225,
          0.36601957350281533,
          1.646247258053811,
          0.40813146514571574,
          0.43032791348249316,
          -0.35118667775584894,
          1.0808974968793563,
          0.4428858638821342,
          -1.276203580800424,
          -0.5670787860121267,
          0.5425648310098887,
          -2.3985130158037213,
          0.02387026311991676,
          -0.1123122571750988,
          -0.778639967616544,
          0.5459580253709689,
          1.4604660678279568,
          0.3965009201697333,
          -0.5651998505477467,
          0.3117696147066201,
          -1.5089493383412824,
          -0.28001165739536366,
          1.3072298277883696,
          -0.7487924987650352,
          -0.48883749025194284,
          -0.09653869536735393,
          0.01895917624825842,
          0.6100637239125053
         ],
         "y": [
          0.3695370284703798,
          -0.8743817851595044,
          -1.5751701215297989,
          -0.5285960006848781,
          1.626477455353992,
          -2.459883081251386,
          -0.2917473650965046,
          -0.27854283712680494,
          -0.21414904709360755,
          0.05697064749512811,
          -0.11926176248256731,
          -0.7021821239487716,
          -0.24572150749364016,
          -0.14898474253809174,
          -1.3113443874376083,
          -4.167956106747543,
          0.5272200063944493,
          0.8649922158474757,
          -0.44583230013138686,
          -0.4160049037062795,
          -0.466239445185336,
          0.08377937035475586,
          0.6614591440734874,
          1.12535799467954,
          0.9567317890641305,
          1.8181135552660397,
          -0.927102989747783,
          0.44080180507522854,
          -0.06554376455534469,
          -0.2603983795904401,
          0.6333449797500809,
          -0.10072593183762651,
          -1.1133918555613957,
          -1.129529656932896,
          -0.19799900792328565,
          -0.13847772677187756,
          -0.18071833438394155,
          0.08693506582433717,
          0.4956531660302352,
          0.518581006571991,
          -0.5021690307243035,
          -0.46873614050059736,
          2.8629607999012587,
          1.1628814628174975,
          -0.10637423519170412,
          -0.5365095684859182,
          0.10172889460656297,
          0.8434298624659738,
          0.178773563424261,
          -0.8930770980031411,
          -0.528758606533394,
          -0.2566640539476154,
          -1.288023250707061,
          -0.970954446795933,
          0.6549562426168584,
          -2.3232483033711198,
          -0.11610262914757792,
          0.09858406174514805,
          0.4361663737293656,
          0.6945343333387475,
          -0.16649974364440523,
          0.8223881464101899,
          1.9482584831312117,
          0.29704791128841773,
          0.3237810004606294,
          0.544957091603034,
          -0.17353554497162008,
          -1.065684238826915,
          -0.08021988841387116,
          0.4569936193631879,
          0.6254218330930134,
          -0.08102891382823191,
          -1.0928559466028436,
          -1.3591555442045564,
          0.4577921792340458,
          0.3495884903538427,
          -1.1037616297370296,
          -1.990831617641072,
          0.6455485345946241,
          -1.5268647591648523,
          -0.46605297721767797,
          -0.019275930557890078,
          -0.34203927447449445,
          1.3673189706167137,
          0.4734388491991349,
          1.0693898450217338,
          -1.1866359358774416,
          0.012262267947191194,
          1.5134873033665468,
          1.5976790969792416,
          -0.423613673426834,
          0.06955095640490072,
          -1.1664675783266583,
          -0.6094899292030159,
          -0.7697122722341971,
          -0.011835620658037676,
          -0.6125980696950949,
          0.6171362973467006,
          -1.4793715674364853,
          -1.1455262902983676
         ]
        }
       ],
       "layout": {
        "legend": {
         "bgcolor": "#F5F6F9",
         "font": {
          "color": "#4D5663"
         }
        },
        "paper_bgcolor": "#F5F6F9",
        "plot_bgcolor": "#F5F6F9",
        "template": {
         "data": {
          "bar": [
           {
            "error_x": {
             "color": "#2a3f5f"
            },
            "error_y": {
             "color": "#2a3f5f"
            },
            "marker": {
             "line": {
              "color": "#E5ECF6",
              "width": 0.5
             }
            },
            "type": "bar"
           }
          ],
          "barpolar": [
           {
            "marker": {
             "line": {
              "color": "#E5ECF6",
              "width": 0.5
             }
            },
            "type": "barpolar"
           }
          ],
          "carpet": [
           {
            "aaxis": {
             "endlinecolor": "#2a3f5f",
             "gridcolor": "white",
             "linecolor": "white",
             "minorgridcolor": "white",
             "startlinecolor": "#2a3f5f"
            },
            "baxis": {
             "endlinecolor": "#2a3f5f",
             "gridcolor": "white",
             "linecolor": "white",
             "minorgridcolor": "white",
             "startlinecolor": "#2a3f5f"
            },
            "type": "carpet"
           }
          ],
          "choropleth": [
           {
            "colorbar": {
             "outlinewidth": 0,
             "ticks": ""
            },
            "type": "choropleth"
           }
          ],
          "contour": [
           {
            "colorbar": {
             "outlinewidth": 0,
             "ticks": ""
            },
            "colorscale": [
             [
              0,
              "#0d0887"
             ],
             [
              0.1111111111111111,
              "#46039f"
             ],
             [
              0.2222222222222222,
              "#7201a8"
             ],
             [
              0.3333333333333333,
              "#9c179e"
             ],
             [
              0.4444444444444444,
              "#bd3786"
             ],
             [
              0.5555555555555556,
              "#d8576b"
             ],
             [
              0.6666666666666666,
              "#ed7953"
             ],
             [
              0.7777777777777778,
              "#fb9f3a"
             ],
             [
              0.8888888888888888,
              "#fdca26"
             ],
             [
              1,
              "#f0f921"
             ]
            ],
            "type": "contour"
           }
          ],
          "contourcarpet": [
           {
            "colorbar": {
             "outlinewidth": 0,
             "ticks": ""
            },
            "type": "contourcarpet"
           }
          ],
          "heatmap": [
           {
            "colorbar": {
             "outlinewidth": 0,
             "ticks": ""
            },
            "colorscale": [
             [
              0,
              "#0d0887"
             ],
             [
              0.1111111111111111,
              "#46039f"
             ],
             [
              0.2222222222222222,
              "#7201a8"
             ],
             [
              0.3333333333333333,
              "#9c179e"
             ],
             [
              0.4444444444444444,
              "#bd3786"
             ],
             [
              0.5555555555555556,
              "#d8576b"
             ],
             [
              0.6666666666666666,
              "#ed7953"
             ],
             [
              0.7777777777777778,
              "#fb9f3a"
             ],
             [
              0.8888888888888888,
              "#fdca26"
             ],
             [
              1,
              "#f0f921"
             ]
            ],
            "type": "heatmap"
           }
          ],
          "heatmapgl": [
           {
            "colorbar": {
             "outlinewidth": 0,
             "ticks": ""
            },
            "colorscale": [
             [
              0,
              "#0d0887"
             ],
             [
              0.1111111111111111,
              "#46039f"
             ],
             [
              0.2222222222222222,
              "#7201a8"
             ],
             [
              0.3333333333333333,
              "#9c179e"
             ],
             [
              0.4444444444444444,
              "#bd3786"
             ],
             [
              0.5555555555555556,
              "#d8576b"
             ],
             [
              0.6666666666666666,
              "#ed7953"
             ],
             [
              0.7777777777777778,
              "#fb9f3a"
             ],
             [
              0.8888888888888888,
              "#fdca26"
             ],
             [
              1,
              "#f0f921"
             ]
            ],
            "type": "heatmapgl"
           }
          ],
          "histogram": [
           {
            "marker": {
             "colorbar": {
              "outlinewidth": 0,
              "ticks": ""
             }
            },
            "type": "histogram"
           }
          ],
          "histogram2d": [
           {
            "colorbar": {
             "outlinewidth": 0,
             "ticks": ""
            },
            "colorscale": [
             [
              0,
              "#0d0887"
             ],
             [
              0.1111111111111111,
              "#46039f"
             ],
             [
              0.2222222222222222,
              "#7201a8"
             ],
             [
              0.3333333333333333,
              "#9c179e"
             ],
             [
              0.4444444444444444,
              "#bd3786"
             ],
             [
              0.5555555555555556,
              "#d8576b"
             ],
             [
              0.6666666666666666,
              "#ed7953"
             ],
             [
              0.7777777777777778,
              "#fb9f3a"
             ],
             [
              0.8888888888888888,
              "#fdca26"
             ],
             [
              1,
              "#f0f921"
             ]
            ],
            "type": "histogram2d"
           }
          ],
          "histogram2dcontour": [
           {
            "colorbar": {
             "outlinewidth": 0,
             "ticks": ""
            },
            "colorscale": [
             [
              0,
              "#0d0887"
             ],
             [
              0.1111111111111111,
              "#46039f"
             ],
             [
              0.2222222222222222,
              "#7201a8"
             ],
             [
              0.3333333333333333,
              "#9c179e"
             ],
             [
              0.4444444444444444,
              "#bd3786"
             ],
             [
              0.5555555555555556,
              "#d8576b"
             ],
             [
              0.6666666666666666,
              "#ed7953"
             ],
             [
              0.7777777777777778,
              "#fb9f3a"
             ],
             [
              0.8888888888888888,
              "#fdca26"
             ],
             [
              1,
              "#f0f921"
             ]
            ],
            "type": "histogram2dcontour"
           }
          ],
          "mesh3d": [
           {
            "colorbar": {
             "outlinewidth": 0,
             "ticks": ""
            },
            "type": "mesh3d"
           }
          ],
          "parcoords": [
           {
            "line": {
             "colorbar": {
              "outlinewidth": 0,
              "ticks": ""
             }
            },
            "type": "parcoords"
           }
          ],
          "pie": [
           {
            "automargin": true,
            "type": "pie"
           }
          ],
          "scatter": [
           {
            "marker": {
             "colorbar": {
              "outlinewidth": 0,
              "ticks": ""
             }
            },
            "type": "scatter"
           }
          ],
          "scatter3d": [
           {
            "line": {
             "colorbar": {
              "outlinewidth": 0,
              "ticks": ""
             }
            },
            "marker": {
             "colorbar": {
              "outlinewidth": 0,
              "ticks": ""
             }
            },
            "type": "scatter3d"
           }
          ],
          "scattercarpet": [
           {
            "marker": {
             "colorbar": {
              "outlinewidth": 0,
              "ticks": ""
             }
            },
            "type": "scattercarpet"
           }
          ],
          "scattergeo": [
           {
            "marker": {
             "colorbar": {
              "outlinewidth": 0,
              "ticks": ""
             }
            },
            "type": "scattergeo"
           }
          ],
          "scattergl": [
           {
            "marker": {
             "colorbar": {
              "outlinewidth": 0,
              "ticks": ""
             }
            },
            "type": "scattergl"
           }
          ],
          "scattermapbox": [
           {
            "marker": {
             "colorbar": {
              "outlinewidth": 0,
              "ticks": ""
             }
            },
            "type": "scattermapbox"
           }
          ],
          "scatterpolar": [
           {
            "marker": {
             "colorbar": {
              "outlinewidth": 0,
              "ticks": ""
             }
            },
            "type": "scatterpolar"
           }
          ],
          "scatterpolargl": [
           {
            "marker": {
             "colorbar": {
              "outlinewidth": 0,
              "ticks": ""
             }
            },
            "type": "scatterpolargl"
           }
          ],
          "scatterternary": [
           {
            "marker": {
             "colorbar": {
              "outlinewidth": 0,
              "ticks": ""
             }
            },
            "type": "scatterternary"
           }
          ],
          "surface": [
           {
            "colorbar": {
             "outlinewidth": 0,
             "ticks": ""
            },
            "colorscale": [
             [
              0,
              "#0d0887"
             ],
             [
              0.1111111111111111,
              "#46039f"
             ],
             [
              0.2222222222222222,
              "#7201a8"
             ],
             [
              0.3333333333333333,
              "#9c179e"
             ],
             [
              0.4444444444444444,
              "#bd3786"
             ],
             [
              0.5555555555555556,
              "#d8576b"
             ],
             [
              0.6666666666666666,
              "#ed7953"
             ],
             [
              0.7777777777777778,
              "#fb9f3a"
             ],
             [
              0.8888888888888888,
              "#fdca26"
             ],
             [
              1,
              "#f0f921"
             ]
            ],
            "type": "surface"
           }
          ],
          "table": [
           {
            "cells": {
             "fill": {
              "color": "#EBF0F8"
             },
             "line": {
              "color": "white"
             }
            },
            "header": {
             "fill": {
              "color": "#C8D4E3"
             },
             "line": {
              "color": "white"
             }
            },
            "type": "table"
           }
          ]
         },
         "layout": {
          "annotationdefaults": {
           "arrowcolor": "#2a3f5f",
           "arrowhead": 0,
           "arrowwidth": 1
          },
          "coloraxis": {
           "colorbar": {
            "outlinewidth": 0,
            "ticks": ""
           }
          },
          "colorscale": {
           "diverging": [
            [
             0,
             "#8e0152"
            ],
            [
             0.1,
             "#c51b7d"
            ],
            [
             0.2,
             "#de77ae"
            ],
            [
             0.3,
             "#f1b6da"
            ],
            [
             0.4,
             "#fde0ef"
            ],
            [
             0.5,
             "#f7f7f7"
            ],
            [
             0.6,
             "#e6f5d0"
            ],
            [
             0.7,
             "#b8e186"
            ],
            [
             0.8,
             "#7fbc41"
            ],
            [
             0.9,
             "#4d9221"
            ],
            [
             1,
             "#276419"
            ]
           ],
           "sequential": [
            [
             0,
             "#0d0887"
            ],
            [
             0.1111111111111111,
             "#46039f"
            ],
            [
             0.2222222222222222,
             "#7201a8"
            ],
            [
             0.3333333333333333,
             "#9c179e"
            ],
            [
             0.4444444444444444,
             "#bd3786"
            ],
            [
             0.5555555555555556,
             "#d8576b"
            ],
            [
             0.6666666666666666,
             "#ed7953"
            ],
            [
             0.7777777777777778,
             "#fb9f3a"
            ],
            [
             0.8888888888888888,
             "#fdca26"
            ],
            [
             1,
             "#f0f921"
            ]
           ],
           "sequentialminus": [
            [
             0,
             "#0d0887"
            ],
            [
             0.1111111111111111,
             "#46039f"
            ],
            [
             0.2222222222222222,
             "#7201a8"
            ],
            [
             0.3333333333333333,
             "#9c179e"
            ],
            [
             0.4444444444444444,
             "#bd3786"
            ],
            [
             0.5555555555555556,
             "#d8576b"
            ],
            [
             0.6666666666666666,
             "#ed7953"
            ],
            [
             0.7777777777777778,
             "#fb9f3a"
            ],
            [
             0.8888888888888888,
             "#fdca26"
            ],
            [
             1,
             "#f0f921"
            ]
           ]
          },
          "colorway": [
           "#636efa",
           "#EF553B",
           "#00cc96",
           "#ab63fa",
           "#FFA15A",
           "#19d3f3",
           "#FF6692",
           "#B6E880",
           "#FF97FF",
           "#FECB52"
          ],
          "font": {
           "color": "#2a3f5f"
          },
          "geo": {
           "bgcolor": "white",
           "lakecolor": "white",
           "landcolor": "#E5ECF6",
           "showlakes": true,
           "showland": true,
           "subunitcolor": "white"
          },
          "hoverlabel": {
           "align": "left"
          },
          "hovermode": "closest",
          "mapbox": {
           "style": "light"
          },
          "paper_bgcolor": "white",
          "plot_bgcolor": "#E5ECF6",
          "polar": {
           "angularaxis": {
            "gridcolor": "white",
            "linecolor": "white",
            "ticks": ""
           },
           "bgcolor": "#E5ECF6",
           "radialaxis": {
            "gridcolor": "white",
            "linecolor": "white",
            "ticks": ""
           }
          },
          "scene": {
           "xaxis": {
            "backgroundcolor": "#E5ECF6",
            "gridcolor": "white",
            "gridwidth": 2,
            "linecolor": "white",
            "showbackground": true,
            "ticks": "",
            "zerolinecolor": "white"
           },
           "yaxis": {
            "backgroundcolor": "#E5ECF6",
            "gridcolor": "white",
            "gridwidth": 2,
            "linecolor": "white",
            "showbackground": true,
            "ticks": "",
            "zerolinecolor": "white"
           },
           "zaxis": {
            "backgroundcolor": "#E5ECF6",
            "gridcolor": "white",
            "gridwidth": 2,
            "linecolor": "white",
            "showbackground": true,
            "ticks": "",
            "zerolinecolor": "white"
           }
          },
          "shapedefaults": {
           "line": {
            "color": "#2a3f5f"
           }
          },
          "ternary": {
           "aaxis": {
            "gridcolor": "white",
            "linecolor": "white",
            "ticks": ""
           },
           "baxis": {
            "gridcolor": "white",
            "linecolor": "white",
            "ticks": ""
           },
           "bgcolor": "#E5ECF6",
           "caxis": {
            "gridcolor": "white",
            "linecolor": "white",
            "ticks": ""
           }
          },
          "title": {
           "x": 0.05
          },
          "xaxis": {
           "automargin": true,
           "gridcolor": "white",
           "linecolor": "white",
           "ticks": "",
           "title": {
            "standoff": 15
           },
           "zerolinecolor": "white",
           "zerolinewidth": 2
          },
          "yaxis": {
           "automargin": true,
           "gridcolor": "white",
           "linecolor": "white",
           "ticks": "",
           "title": {
            "standoff": 15
           },
           "zerolinecolor": "white",
           "zerolinewidth": 2
          }
         }
        },
        "title": {
         "font": {
          "color": "#4D5663"
         }
        },
        "xaxis": {
         "gridcolor": "#E1E5ED",
         "showgrid": true,
         "tickfont": {
          "color": "#4D5663"
         },
         "title": {
          "font": {
           "color": "#4D5663"
          },
          "text": ""
         },
         "zerolinecolor": "#E1E5ED"
        },
        "yaxis": {
         "gridcolor": "#E1E5ED",
         "showgrid": true,
         "tickfont": {
          "color": "#4D5663"
         },
         "title": {
          "font": {
           "color": "#4D5663"
          },
          "text": ""
         },
         "zerolinecolor": "#E1E5ED"
        }
       }
      },
      "text/html": [
       "<div>\n",
       "        \n",
       "        \n",
       "            <div id=\"da4ae6c2-50df-425f-9329-5b0d09176d4e\" class=\"plotly-graph-div\" style=\"height:525px; width:100%;\"></div>\n",
       "            <script type=\"text/javascript\">\n",
       "                require([\"plotly\"], function(Plotly) {\n",
       "                    window.PLOTLYENV=window.PLOTLYENV || {};\n",
       "                    window.PLOTLYENV.BASE_URL='https://plot.ly';\n",
       "                    \n",
       "                if (document.getElementById(\"da4ae6c2-50df-425f-9329-5b0d09176d4e\")) {\n",
       "                    Plotly.newPlot(\n",
       "                        'da4ae6c2-50df-425f-9329-5b0d09176d4e',\n",
       "                        [{\"line\": {\"color\": \"rgba(255, 153, 51, 1.0)\", \"dash\": \"solid\", \"shape\": \"linear\", \"width\": 1.3}, \"marker\": {\"size\": 12, \"symbol\": \"circle\"}, \"mode\": \"markers\", \"name\": \"B\", \"text\": \"\", \"type\": \"scatter\", \"x\": [-0.051837791061411176, -0.49686287148954067, -2.1771515192846906, -0.5113732243720404, -0.03837284189106989, 0.3548680089577916, -0.9670222154179324, 0.48967087422011185, 1.010118843634135, 1.1767005716127645, 0.6049739509700985, -1.2688805227873958, -0.02341822554535787, -0.8845292410026588, -0.11078185573420099, 0.4450716121013818, -0.6524788440445956, 0.8362365802443669, -0.26480206570836334, -0.015521473434741142, -0.9070581908107753, -0.19848188846188358, 0.23484988589792208, -0.9429068811094353, 0.33804310467588616, 0.2231325138137817, 1.4180751876383473, 0.27684307950859816, -0.7268118558078794, -1.8190959116589784, 0.8863588248415394, 0.811407224749543, 0.9168706533314526, -0.49255538436951624, -0.38855891112932583, -0.33060548677620133, 0.22814018946691325, -0.06134433481792067, 2.2699080261066835, -0.648450660547072, -0.6676597248888836, 0.12780912335519987, 0.26203454175511987, -0.5425640188515645, -1.7685038013335517, 0.40968157985444253, -0.42445362372076917, -1.088382988200841, 1.23453450356868, -0.3638729323339125, 0.7811986561585942, -1.0258459763128092, -1.7662105171837867, 0.41472993026917654, -0.9409427214991185, -2.224333425583536, -0.2431794109095521, -0.9395444396754363, -0.5689902576839743, 3.044340783482019, 1.2505474809367803, -1.8363813899795214, -1.4820530742319769, -0.46642801300752706, 0.812718554669287, 0.6645329003944418, 0.3270216654104052, -0.1223759657745449, 0.09624616022289444, -0.22541462588698472, -0.2958817575821674, 0.2871613386480438, 0.07953086113867225, 0.36601957350281533, 1.646247258053811, 0.40813146514571574, 0.43032791348249316, -0.35118667775584894, 1.0808974968793563, 0.4428858638821342, -1.276203580800424, -0.5670787860121267, 0.5425648310098887, -2.3985130158037213, 0.02387026311991676, -0.1123122571750988, -0.778639967616544, 0.5459580253709689, 1.4604660678279568, 0.3965009201697333, -0.5651998505477467, 0.3117696147066201, -1.5089493383412824, -0.28001165739536366, 1.3072298277883696, -0.7487924987650352, -0.48883749025194284, -0.09653869536735393, 0.01895917624825842, 0.6100637239125053], \"y\": [0.3695370284703798, -0.8743817851595044, -1.5751701215297989, -0.5285960006848781, 1.626477455353992, -2.459883081251386, -0.2917473650965046, -0.27854283712680494, -0.21414904709360755, 0.05697064749512811, -0.11926176248256731, -0.7021821239487716, -0.24572150749364016, -0.14898474253809174, -1.3113443874376083, -4.167956106747543, 0.5272200063944493, 0.8649922158474757, -0.44583230013138686, -0.4160049037062795, -0.466239445185336, 0.08377937035475586, 0.6614591440734874, 1.12535799467954, 0.9567317890641305, 1.8181135552660397, -0.927102989747783, 0.44080180507522854, -0.06554376455534469, -0.2603983795904401, 0.6333449797500809, -0.10072593183762651, -1.1133918555613957, -1.129529656932896, -0.19799900792328565, -0.13847772677187756, -0.18071833438394155, 0.08693506582433717, 0.4956531660302352, 0.518581006571991, -0.5021690307243035, -0.46873614050059736, 2.8629607999012587, 1.1628814628174975, -0.10637423519170412, -0.5365095684859182, 0.10172889460656297, 0.8434298624659738, 0.178773563424261, -0.8930770980031411, -0.528758606533394, -0.2566640539476154, -1.288023250707061, -0.970954446795933, 0.6549562426168584, -2.3232483033711198, -0.11610262914757792, 0.09858406174514805, 0.4361663737293656, 0.6945343333387475, -0.16649974364440523, 0.8223881464101899, 1.9482584831312117, 0.29704791128841773, 0.3237810004606294, 0.544957091603034, -0.17353554497162008, -1.065684238826915, -0.08021988841387116, 0.4569936193631879, 0.6254218330930134, -0.08102891382823191, -1.0928559466028436, -1.3591555442045564, 0.4577921792340458, 0.3495884903538427, -1.1037616297370296, -1.990831617641072, 0.6455485345946241, -1.5268647591648523, -0.46605297721767797, -0.019275930557890078, -0.34203927447449445, 1.3673189706167137, 0.4734388491991349, 1.0693898450217338, -1.1866359358774416, 0.012262267947191194, 1.5134873033665468, 1.5976790969792416, -0.423613673426834, 0.06955095640490072, -1.1664675783266583, -0.6094899292030159, -0.7697122722341971, -0.011835620658037676, -0.6125980696950949, 0.6171362973467006, -1.4793715674364853, -1.1455262902983676]}],\n",
       "                        {\"legend\": {\"bgcolor\": \"#F5F6F9\", \"font\": {\"color\": \"#4D5663\"}}, \"paper_bgcolor\": \"#F5F6F9\", \"plot_bgcolor\": \"#F5F6F9\", \"template\": {\"data\": {\"bar\": [{\"error_x\": {\"color\": \"#2a3f5f\"}, \"error_y\": {\"color\": \"#2a3f5f\"}, \"marker\": {\"line\": {\"color\": \"#E5ECF6\", \"width\": 0.5}}, \"type\": \"bar\"}], \"barpolar\": [{\"marker\": {\"line\": {\"color\": \"#E5ECF6\", \"width\": 0.5}}, \"type\": \"barpolar\"}], \"carpet\": [{\"aaxis\": {\"endlinecolor\": \"#2a3f5f\", \"gridcolor\": \"white\", \"linecolor\": \"white\", \"minorgridcolor\": \"white\", \"startlinecolor\": \"#2a3f5f\"}, \"baxis\": {\"endlinecolor\": \"#2a3f5f\", \"gridcolor\": \"white\", \"linecolor\": \"white\", \"minorgridcolor\": \"white\", \"startlinecolor\": \"#2a3f5f\"}, \"type\": \"carpet\"}], \"choropleth\": [{\"colorbar\": {\"outlinewidth\": 0, \"ticks\": \"\"}, \"type\": \"choropleth\"}], \"contour\": [{\"colorbar\": {\"outlinewidth\": 0, \"ticks\": \"\"}, \"colorscale\": [[0.0, \"#0d0887\"], [0.1111111111111111, \"#46039f\"], [0.2222222222222222, \"#7201a8\"], [0.3333333333333333, \"#9c179e\"], [0.4444444444444444, \"#bd3786\"], [0.5555555555555556, \"#d8576b\"], [0.6666666666666666, \"#ed7953\"], [0.7777777777777778, \"#fb9f3a\"], [0.8888888888888888, \"#fdca26\"], [1.0, \"#f0f921\"]], \"type\": \"contour\"}], \"contourcarpet\": [{\"colorbar\": {\"outlinewidth\": 0, \"ticks\": \"\"}, \"type\": \"contourcarpet\"}], \"heatmap\": [{\"colorbar\": {\"outlinewidth\": 0, \"ticks\": \"\"}, \"colorscale\": [[0.0, \"#0d0887\"], [0.1111111111111111, \"#46039f\"], [0.2222222222222222, \"#7201a8\"], [0.3333333333333333, \"#9c179e\"], [0.4444444444444444, \"#bd3786\"], [0.5555555555555556, \"#d8576b\"], [0.6666666666666666, \"#ed7953\"], [0.7777777777777778, \"#fb9f3a\"], [0.8888888888888888, \"#fdca26\"], [1.0, \"#f0f921\"]], \"type\": \"heatmap\"}], \"heatmapgl\": [{\"colorbar\": {\"outlinewidth\": 0, \"ticks\": \"\"}, \"colorscale\": [[0.0, \"#0d0887\"], [0.1111111111111111, \"#46039f\"], [0.2222222222222222, \"#7201a8\"], [0.3333333333333333, \"#9c179e\"], [0.4444444444444444, \"#bd3786\"], [0.5555555555555556, \"#d8576b\"], [0.6666666666666666, \"#ed7953\"], [0.7777777777777778, \"#fb9f3a\"], [0.8888888888888888, \"#fdca26\"], [1.0, \"#f0f921\"]], \"type\": \"heatmapgl\"}], \"histogram\": [{\"marker\": {\"colorbar\": {\"outlinewidth\": 0, \"ticks\": \"\"}}, \"type\": \"histogram\"}], \"histogram2d\": [{\"colorbar\": {\"outlinewidth\": 0, \"ticks\": \"\"}, \"colorscale\": [[0.0, \"#0d0887\"], [0.1111111111111111, \"#46039f\"], [0.2222222222222222, \"#7201a8\"], [0.3333333333333333, \"#9c179e\"], [0.4444444444444444, \"#bd3786\"], [0.5555555555555556, \"#d8576b\"], [0.6666666666666666, \"#ed7953\"], [0.7777777777777778, \"#fb9f3a\"], [0.8888888888888888, \"#fdca26\"], [1.0, \"#f0f921\"]], \"type\": \"histogram2d\"}], \"histogram2dcontour\": [{\"colorbar\": {\"outlinewidth\": 0, \"ticks\": \"\"}, \"colorscale\": [[0.0, \"#0d0887\"], [0.1111111111111111, \"#46039f\"], [0.2222222222222222, \"#7201a8\"], [0.3333333333333333, \"#9c179e\"], [0.4444444444444444, \"#bd3786\"], [0.5555555555555556, \"#d8576b\"], [0.6666666666666666, \"#ed7953\"], [0.7777777777777778, \"#fb9f3a\"], [0.8888888888888888, \"#fdca26\"], [1.0, \"#f0f921\"]], \"type\": \"histogram2dcontour\"}], \"mesh3d\": [{\"colorbar\": {\"outlinewidth\": 0, \"ticks\": \"\"}, \"type\": \"mesh3d\"}], \"parcoords\": [{\"line\": {\"colorbar\": {\"outlinewidth\": 0, \"ticks\": \"\"}}, \"type\": \"parcoords\"}], \"pie\": [{\"automargin\": true, \"type\": \"pie\"}], \"scatter\": [{\"marker\": {\"colorbar\": {\"outlinewidth\": 0, \"ticks\": \"\"}}, \"type\": \"scatter\"}], \"scatter3d\": [{\"line\": {\"colorbar\": {\"outlinewidth\": 0, \"ticks\": \"\"}}, \"marker\": {\"colorbar\": {\"outlinewidth\": 0, \"ticks\": \"\"}}, \"type\": \"scatter3d\"}], \"scattercarpet\": [{\"marker\": {\"colorbar\": {\"outlinewidth\": 0, \"ticks\": \"\"}}, \"type\": \"scattercarpet\"}], \"scattergeo\": [{\"marker\": {\"colorbar\": {\"outlinewidth\": 0, \"ticks\": \"\"}}, \"type\": \"scattergeo\"}], \"scattergl\": [{\"marker\": {\"colorbar\": {\"outlinewidth\": 0, \"ticks\": \"\"}}, \"type\": \"scattergl\"}], \"scattermapbox\": [{\"marker\": {\"colorbar\": {\"outlinewidth\": 0, \"ticks\": \"\"}}, \"type\": \"scattermapbox\"}], \"scatterpolar\": [{\"marker\": {\"colorbar\": {\"outlinewidth\": 0, \"ticks\": \"\"}}, \"type\": \"scatterpolar\"}], \"scatterpolargl\": [{\"marker\": {\"colorbar\": {\"outlinewidth\": 0, \"ticks\": \"\"}}, \"type\": \"scatterpolargl\"}], \"scatterternary\": [{\"marker\": {\"colorbar\": {\"outlinewidth\": 0, \"ticks\": \"\"}}, \"type\": \"scatterternary\"}], \"surface\": [{\"colorbar\": {\"outlinewidth\": 0, \"ticks\": \"\"}, \"colorscale\": [[0.0, \"#0d0887\"], [0.1111111111111111, \"#46039f\"], [0.2222222222222222, \"#7201a8\"], [0.3333333333333333, \"#9c179e\"], [0.4444444444444444, \"#bd3786\"], [0.5555555555555556, \"#d8576b\"], [0.6666666666666666, \"#ed7953\"], [0.7777777777777778, \"#fb9f3a\"], [0.8888888888888888, \"#fdca26\"], [1.0, \"#f0f921\"]], \"type\": \"surface\"}], \"table\": [{\"cells\": {\"fill\": {\"color\": \"#EBF0F8\"}, \"line\": {\"color\": \"white\"}}, \"header\": {\"fill\": {\"color\": \"#C8D4E3\"}, \"line\": {\"color\": \"white\"}}, \"type\": \"table\"}]}, \"layout\": {\"annotationdefaults\": {\"arrowcolor\": \"#2a3f5f\", \"arrowhead\": 0, \"arrowwidth\": 1}, \"coloraxis\": {\"colorbar\": {\"outlinewidth\": 0, \"ticks\": \"\"}}, \"colorscale\": {\"diverging\": [[0, \"#8e0152\"], [0.1, \"#c51b7d\"], [0.2, \"#de77ae\"], [0.3, \"#f1b6da\"], [0.4, \"#fde0ef\"], [0.5, \"#f7f7f7\"], [0.6, \"#e6f5d0\"], [0.7, \"#b8e186\"], [0.8, \"#7fbc41\"], [0.9, \"#4d9221\"], [1, \"#276419\"]], \"sequential\": [[0.0, \"#0d0887\"], [0.1111111111111111, \"#46039f\"], [0.2222222222222222, \"#7201a8\"], [0.3333333333333333, \"#9c179e\"], [0.4444444444444444, \"#bd3786\"], [0.5555555555555556, \"#d8576b\"], [0.6666666666666666, \"#ed7953\"], [0.7777777777777778, \"#fb9f3a\"], [0.8888888888888888, \"#fdca26\"], [1.0, \"#f0f921\"]], \"sequentialminus\": [[0.0, \"#0d0887\"], [0.1111111111111111, \"#46039f\"], [0.2222222222222222, \"#7201a8\"], [0.3333333333333333, \"#9c179e\"], [0.4444444444444444, \"#bd3786\"], [0.5555555555555556, \"#d8576b\"], [0.6666666666666666, \"#ed7953\"], [0.7777777777777778, \"#fb9f3a\"], [0.8888888888888888, \"#fdca26\"], [1.0, \"#f0f921\"]]}, \"colorway\": [\"#636efa\", \"#EF553B\", \"#00cc96\", \"#ab63fa\", \"#FFA15A\", \"#19d3f3\", \"#FF6692\", \"#B6E880\", \"#FF97FF\", \"#FECB52\"], \"font\": {\"color\": \"#2a3f5f\"}, \"geo\": {\"bgcolor\": \"white\", \"lakecolor\": \"white\", \"landcolor\": \"#E5ECF6\", \"showlakes\": true, \"showland\": true, \"subunitcolor\": \"white\"}, \"hoverlabel\": {\"align\": \"left\"}, \"hovermode\": \"closest\", \"mapbox\": {\"style\": \"light\"}, \"paper_bgcolor\": \"white\", \"plot_bgcolor\": \"#E5ECF6\", \"polar\": {\"angularaxis\": {\"gridcolor\": \"white\", \"linecolor\": \"white\", \"ticks\": \"\"}, \"bgcolor\": \"#E5ECF6\", \"radialaxis\": {\"gridcolor\": \"white\", \"linecolor\": \"white\", \"ticks\": \"\"}}, \"scene\": {\"xaxis\": {\"backgroundcolor\": \"#E5ECF6\", \"gridcolor\": \"white\", \"gridwidth\": 2, \"linecolor\": \"white\", \"showbackground\": true, \"ticks\": \"\", \"zerolinecolor\": \"white\"}, \"yaxis\": {\"backgroundcolor\": \"#E5ECF6\", \"gridcolor\": \"white\", \"gridwidth\": 2, \"linecolor\": \"white\", \"showbackground\": true, \"ticks\": \"\", \"zerolinecolor\": \"white\"}, \"zaxis\": {\"backgroundcolor\": \"#E5ECF6\", \"gridcolor\": \"white\", \"gridwidth\": 2, \"linecolor\": \"white\", \"showbackground\": true, \"ticks\": \"\", \"zerolinecolor\": \"white\"}}, \"shapedefaults\": {\"line\": {\"color\": \"#2a3f5f\"}}, \"ternary\": {\"aaxis\": {\"gridcolor\": \"white\", \"linecolor\": \"white\", \"ticks\": \"\"}, \"baxis\": {\"gridcolor\": \"white\", \"linecolor\": \"white\", \"ticks\": \"\"}, \"bgcolor\": \"#E5ECF6\", \"caxis\": {\"gridcolor\": \"white\", \"linecolor\": \"white\", \"ticks\": \"\"}}, \"title\": {\"x\": 0.05}, \"xaxis\": {\"automargin\": true, \"gridcolor\": \"white\", \"linecolor\": \"white\", \"ticks\": \"\", \"title\": {\"standoff\": 15}, \"zerolinecolor\": \"white\", \"zerolinewidth\": 2}, \"yaxis\": {\"automargin\": true, \"gridcolor\": \"white\", \"linecolor\": \"white\", \"ticks\": \"\", \"title\": {\"standoff\": 15}, \"zerolinecolor\": \"white\", \"zerolinewidth\": 2}}}, \"title\": {\"font\": {\"color\": \"#4D5663\"}}, \"xaxis\": {\"gridcolor\": \"#E1E5ED\", \"showgrid\": true, \"tickfont\": {\"color\": \"#4D5663\"}, \"title\": {\"font\": {\"color\": \"#4D5663\"}, \"text\": \"\"}, \"zerolinecolor\": \"#E1E5ED\"}, \"yaxis\": {\"gridcolor\": \"#E1E5ED\", \"showgrid\": true, \"tickfont\": {\"color\": \"#4D5663\"}, \"title\": {\"font\": {\"color\": \"#4D5663\"}, \"text\": \"\"}, \"zerolinecolor\": \"#E1E5ED\"}},\n",
       "                        {\"showLink\": true, \"linkText\": \"Export to plot.ly\", \"plotlyServerURL\": \"https://plot.ly\", \"responsive\": true}\n",
       "                    ).then(function(){\n",
       "                            \n",
       "var gd = document.getElementById('da4ae6c2-50df-425f-9329-5b0d09176d4e');\n",
       "var x = new MutationObserver(function (mutations, observer) {{\n",
       "        var display = window.getComputedStyle(gd).display;\n",
       "        if (!display || display === 'none') {{\n",
       "            console.log([gd, 'removed!']);\n",
       "            Plotly.purge(gd);\n",
       "            observer.disconnect();\n",
       "        }}\n",
       "}});\n",
       "\n",
       "// Listen for the removal of the full notebook cells\n",
       "var notebookContainer = gd.closest('#notebook-container');\n",
       "if (notebookContainer) {{\n",
       "    x.observe(notebookContainer, {childList: true});\n",
       "}}\n",
       "\n",
       "// Listen for the clearing of the current output cell\n",
       "var outputEl = gd.closest('.output');\n",
       "if (outputEl) {{\n",
       "    x.observe(outputEl, {childList: true});\n",
       "}}\n",
       "\n",
       "                        })\n",
       "                };\n",
       "                });\n",
       "            </script>\n",
       "        </div>"
      ]
     },
     "metadata": {},
     "output_type": "display_data"
    }
   ],
   "source": [
    "df.iplot(kind='scatter', x='A', y='B', mode='markers') # usando plotly"
   ]
  },
  {
   "cell_type": "code",
   "execution_count": 20,
   "metadata": {},
   "outputs": [
    {
     "data": {
      "application/vnd.plotly.v1+json": {
       "config": {
        "linkText": "Export to plot.ly",
        "plotlyServerURL": "https://plot.ly",
        "showLink": true
       },
       "data": [
        {
         "marker": {
          "color": "rgba(255, 153, 51, 0.6)",
          "line": {
           "color": "rgba(255, 153, 51, 1.0)",
           "width": 1
          }
         },
         "name": "Valores",
         "orientation": "v",
         "text": "",
         "type": "bar",
         "x": [
          "A",
          "B",
          "C"
         ],
         "y": [
          32,
          43,
          50
         ]
        }
       ],
       "layout": {
        "legend": {
         "bgcolor": "#F5F6F9",
         "font": {
          "color": "#4D5663"
         }
        },
        "paper_bgcolor": "#F5F6F9",
        "plot_bgcolor": "#F5F6F9",
        "template": {
         "data": {
          "bar": [
           {
            "error_x": {
             "color": "#2a3f5f"
            },
            "error_y": {
             "color": "#2a3f5f"
            },
            "marker": {
             "line": {
              "color": "#E5ECF6",
              "width": 0.5
             }
            },
            "type": "bar"
           }
          ],
          "barpolar": [
           {
            "marker": {
             "line": {
              "color": "#E5ECF6",
              "width": 0.5
             }
            },
            "type": "barpolar"
           }
          ],
          "carpet": [
           {
            "aaxis": {
             "endlinecolor": "#2a3f5f",
             "gridcolor": "white",
             "linecolor": "white",
             "minorgridcolor": "white",
             "startlinecolor": "#2a3f5f"
            },
            "baxis": {
             "endlinecolor": "#2a3f5f",
             "gridcolor": "white",
             "linecolor": "white",
             "minorgridcolor": "white",
             "startlinecolor": "#2a3f5f"
            },
            "type": "carpet"
           }
          ],
          "choropleth": [
           {
            "colorbar": {
             "outlinewidth": 0,
             "ticks": ""
            },
            "type": "choropleth"
           }
          ],
          "contour": [
           {
            "colorbar": {
             "outlinewidth": 0,
             "ticks": ""
            },
            "colorscale": [
             [
              0,
              "#0d0887"
             ],
             [
              0.1111111111111111,
              "#46039f"
             ],
             [
              0.2222222222222222,
              "#7201a8"
             ],
             [
              0.3333333333333333,
              "#9c179e"
             ],
             [
              0.4444444444444444,
              "#bd3786"
             ],
             [
              0.5555555555555556,
              "#d8576b"
             ],
             [
              0.6666666666666666,
              "#ed7953"
             ],
             [
              0.7777777777777778,
              "#fb9f3a"
             ],
             [
              0.8888888888888888,
              "#fdca26"
             ],
             [
              1,
              "#f0f921"
             ]
            ],
            "type": "contour"
           }
          ],
          "contourcarpet": [
           {
            "colorbar": {
             "outlinewidth": 0,
             "ticks": ""
            },
            "type": "contourcarpet"
           }
          ],
          "heatmap": [
           {
            "colorbar": {
             "outlinewidth": 0,
             "ticks": ""
            },
            "colorscale": [
             [
              0,
              "#0d0887"
             ],
             [
              0.1111111111111111,
              "#46039f"
             ],
             [
              0.2222222222222222,
              "#7201a8"
             ],
             [
              0.3333333333333333,
              "#9c179e"
             ],
             [
              0.4444444444444444,
              "#bd3786"
             ],
             [
              0.5555555555555556,
              "#d8576b"
             ],
             [
              0.6666666666666666,
              "#ed7953"
             ],
             [
              0.7777777777777778,
              "#fb9f3a"
             ],
             [
              0.8888888888888888,
              "#fdca26"
             ],
             [
              1,
              "#f0f921"
             ]
            ],
            "type": "heatmap"
           }
          ],
          "heatmapgl": [
           {
            "colorbar": {
             "outlinewidth": 0,
             "ticks": ""
            },
            "colorscale": [
             [
              0,
              "#0d0887"
             ],
             [
              0.1111111111111111,
              "#46039f"
             ],
             [
              0.2222222222222222,
              "#7201a8"
             ],
             [
              0.3333333333333333,
              "#9c179e"
             ],
             [
              0.4444444444444444,
              "#bd3786"
             ],
             [
              0.5555555555555556,
              "#d8576b"
             ],
             [
              0.6666666666666666,
              "#ed7953"
             ],
             [
              0.7777777777777778,
              "#fb9f3a"
             ],
             [
              0.8888888888888888,
              "#fdca26"
             ],
             [
              1,
              "#f0f921"
             ]
            ],
            "type": "heatmapgl"
           }
          ],
          "histogram": [
           {
            "marker": {
             "colorbar": {
              "outlinewidth": 0,
              "ticks": ""
             }
            },
            "type": "histogram"
           }
          ],
          "histogram2d": [
           {
            "colorbar": {
             "outlinewidth": 0,
             "ticks": ""
            },
            "colorscale": [
             [
              0,
              "#0d0887"
             ],
             [
              0.1111111111111111,
              "#46039f"
             ],
             [
              0.2222222222222222,
              "#7201a8"
             ],
             [
              0.3333333333333333,
              "#9c179e"
             ],
             [
              0.4444444444444444,
              "#bd3786"
             ],
             [
              0.5555555555555556,
              "#d8576b"
             ],
             [
              0.6666666666666666,
              "#ed7953"
             ],
             [
              0.7777777777777778,
              "#fb9f3a"
             ],
             [
              0.8888888888888888,
              "#fdca26"
             ],
             [
              1,
              "#f0f921"
             ]
            ],
            "type": "histogram2d"
           }
          ],
          "histogram2dcontour": [
           {
            "colorbar": {
             "outlinewidth": 0,
             "ticks": ""
            },
            "colorscale": [
             [
              0,
              "#0d0887"
             ],
             [
              0.1111111111111111,
              "#46039f"
             ],
             [
              0.2222222222222222,
              "#7201a8"
             ],
             [
              0.3333333333333333,
              "#9c179e"
             ],
             [
              0.4444444444444444,
              "#bd3786"
             ],
             [
              0.5555555555555556,
              "#d8576b"
             ],
             [
              0.6666666666666666,
              "#ed7953"
             ],
             [
              0.7777777777777778,
              "#fb9f3a"
             ],
             [
              0.8888888888888888,
              "#fdca26"
             ],
             [
              1,
              "#f0f921"
             ]
            ],
            "type": "histogram2dcontour"
           }
          ],
          "mesh3d": [
           {
            "colorbar": {
             "outlinewidth": 0,
             "ticks": ""
            },
            "type": "mesh3d"
           }
          ],
          "parcoords": [
           {
            "line": {
             "colorbar": {
              "outlinewidth": 0,
              "ticks": ""
             }
            },
            "type": "parcoords"
           }
          ],
          "pie": [
           {
            "automargin": true,
            "type": "pie"
           }
          ],
          "scatter": [
           {
            "marker": {
             "colorbar": {
              "outlinewidth": 0,
              "ticks": ""
             }
            },
            "type": "scatter"
           }
          ],
          "scatter3d": [
           {
            "line": {
             "colorbar": {
              "outlinewidth": 0,
              "ticks": ""
             }
            },
            "marker": {
             "colorbar": {
              "outlinewidth": 0,
              "ticks": ""
             }
            },
            "type": "scatter3d"
           }
          ],
          "scattercarpet": [
           {
            "marker": {
             "colorbar": {
              "outlinewidth": 0,
              "ticks": ""
             }
            },
            "type": "scattercarpet"
           }
          ],
          "scattergeo": [
           {
            "marker": {
             "colorbar": {
              "outlinewidth": 0,
              "ticks": ""
             }
            },
            "type": "scattergeo"
           }
          ],
          "scattergl": [
           {
            "marker": {
             "colorbar": {
              "outlinewidth": 0,
              "ticks": ""
             }
            },
            "type": "scattergl"
           }
          ],
          "scattermapbox": [
           {
            "marker": {
             "colorbar": {
              "outlinewidth": 0,
              "ticks": ""
             }
            },
            "type": "scattermapbox"
           }
          ],
          "scatterpolar": [
           {
            "marker": {
             "colorbar": {
              "outlinewidth": 0,
              "ticks": ""
             }
            },
            "type": "scatterpolar"
           }
          ],
          "scatterpolargl": [
           {
            "marker": {
             "colorbar": {
              "outlinewidth": 0,
              "ticks": ""
             }
            },
            "type": "scatterpolargl"
           }
          ],
          "scatterternary": [
           {
            "marker": {
             "colorbar": {
              "outlinewidth": 0,
              "ticks": ""
             }
            },
            "type": "scatterternary"
           }
          ],
          "surface": [
           {
            "colorbar": {
             "outlinewidth": 0,
             "ticks": ""
            },
            "colorscale": [
             [
              0,
              "#0d0887"
             ],
             [
              0.1111111111111111,
              "#46039f"
             ],
             [
              0.2222222222222222,
              "#7201a8"
             ],
             [
              0.3333333333333333,
              "#9c179e"
             ],
             [
              0.4444444444444444,
              "#bd3786"
             ],
             [
              0.5555555555555556,
              "#d8576b"
             ],
             [
              0.6666666666666666,
              "#ed7953"
             ],
             [
              0.7777777777777778,
              "#fb9f3a"
             ],
             [
              0.8888888888888888,
              "#fdca26"
             ],
             [
              1,
              "#f0f921"
             ]
            ],
            "type": "surface"
           }
          ],
          "table": [
           {
            "cells": {
             "fill": {
              "color": "#EBF0F8"
             },
             "line": {
              "color": "white"
             }
            },
            "header": {
             "fill": {
              "color": "#C8D4E3"
             },
             "line": {
              "color": "white"
             }
            },
            "type": "table"
           }
          ]
         },
         "layout": {
          "annotationdefaults": {
           "arrowcolor": "#2a3f5f",
           "arrowhead": 0,
           "arrowwidth": 1
          },
          "coloraxis": {
           "colorbar": {
            "outlinewidth": 0,
            "ticks": ""
           }
          },
          "colorscale": {
           "diverging": [
            [
             0,
             "#8e0152"
            ],
            [
             0.1,
             "#c51b7d"
            ],
            [
             0.2,
             "#de77ae"
            ],
            [
             0.3,
             "#f1b6da"
            ],
            [
             0.4,
             "#fde0ef"
            ],
            [
             0.5,
             "#f7f7f7"
            ],
            [
             0.6,
             "#e6f5d0"
            ],
            [
             0.7,
             "#b8e186"
            ],
            [
             0.8,
             "#7fbc41"
            ],
            [
             0.9,
             "#4d9221"
            ],
            [
             1,
             "#276419"
            ]
           ],
           "sequential": [
            [
             0,
             "#0d0887"
            ],
            [
             0.1111111111111111,
             "#46039f"
            ],
            [
             0.2222222222222222,
             "#7201a8"
            ],
            [
             0.3333333333333333,
             "#9c179e"
            ],
            [
             0.4444444444444444,
             "#bd3786"
            ],
            [
             0.5555555555555556,
             "#d8576b"
            ],
            [
             0.6666666666666666,
             "#ed7953"
            ],
            [
             0.7777777777777778,
             "#fb9f3a"
            ],
            [
             0.8888888888888888,
             "#fdca26"
            ],
            [
             1,
             "#f0f921"
            ]
           ],
           "sequentialminus": [
            [
             0,
             "#0d0887"
            ],
            [
             0.1111111111111111,
             "#46039f"
            ],
            [
             0.2222222222222222,
             "#7201a8"
            ],
            [
             0.3333333333333333,
             "#9c179e"
            ],
            [
             0.4444444444444444,
             "#bd3786"
            ],
            [
             0.5555555555555556,
             "#d8576b"
            ],
            [
             0.6666666666666666,
             "#ed7953"
            ],
            [
             0.7777777777777778,
             "#fb9f3a"
            ],
            [
             0.8888888888888888,
             "#fdca26"
            ],
            [
             1,
             "#f0f921"
            ]
           ]
          },
          "colorway": [
           "#636efa",
           "#EF553B",
           "#00cc96",
           "#ab63fa",
           "#FFA15A",
           "#19d3f3",
           "#FF6692",
           "#B6E880",
           "#FF97FF",
           "#FECB52"
          ],
          "font": {
           "color": "#2a3f5f"
          },
          "geo": {
           "bgcolor": "white",
           "lakecolor": "white",
           "landcolor": "#E5ECF6",
           "showlakes": true,
           "showland": true,
           "subunitcolor": "white"
          },
          "hoverlabel": {
           "align": "left"
          },
          "hovermode": "closest",
          "mapbox": {
           "style": "light"
          },
          "paper_bgcolor": "white",
          "plot_bgcolor": "#E5ECF6",
          "polar": {
           "angularaxis": {
            "gridcolor": "white",
            "linecolor": "white",
            "ticks": ""
           },
           "bgcolor": "#E5ECF6",
           "radialaxis": {
            "gridcolor": "white",
            "linecolor": "white",
            "ticks": ""
           }
          },
          "scene": {
           "xaxis": {
            "backgroundcolor": "#E5ECF6",
            "gridcolor": "white",
            "gridwidth": 2,
            "linecolor": "white",
            "showbackground": true,
            "ticks": "",
            "zerolinecolor": "white"
           },
           "yaxis": {
            "backgroundcolor": "#E5ECF6",
            "gridcolor": "white",
            "gridwidth": 2,
            "linecolor": "white",
            "showbackground": true,
            "ticks": "",
            "zerolinecolor": "white"
           },
           "zaxis": {
            "backgroundcolor": "#E5ECF6",
            "gridcolor": "white",
            "gridwidth": 2,
            "linecolor": "white",
            "showbackground": true,
            "ticks": "",
            "zerolinecolor": "white"
           }
          },
          "shapedefaults": {
           "line": {
            "color": "#2a3f5f"
           }
          },
          "ternary": {
           "aaxis": {
            "gridcolor": "white",
            "linecolor": "white",
            "ticks": ""
           },
           "baxis": {
            "gridcolor": "white",
            "linecolor": "white",
            "ticks": ""
           },
           "bgcolor": "#E5ECF6",
           "caxis": {
            "gridcolor": "white",
            "linecolor": "white",
            "ticks": ""
           }
          },
          "title": {
           "x": 0.05
          },
          "xaxis": {
           "automargin": true,
           "gridcolor": "white",
           "linecolor": "white",
           "ticks": "",
           "title": {
            "standoff": 15
           },
           "zerolinecolor": "white",
           "zerolinewidth": 2
          },
          "yaxis": {
           "automargin": true,
           "gridcolor": "white",
           "linecolor": "white",
           "ticks": "",
           "title": {
            "standoff": 15
           },
           "zerolinecolor": "white",
           "zerolinewidth": 2
          }
         }
        },
        "title": {
         "font": {
          "color": "#4D5663"
         }
        },
        "xaxis": {
         "gridcolor": "#E1E5ED",
         "showgrid": true,
         "tickfont": {
          "color": "#4D5663"
         },
         "title": {
          "font": {
           "color": "#4D5663"
          },
          "text": ""
         },
         "zerolinecolor": "#E1E5ED"
        },
        "yaxis": {
         "gridcolor": "#E1E5ED",
         "showgrid": true,
         "tickfont": {
          "color": "#4D5663"
         },
         "title": {
          "font": {
           "color": "#4D5663"
          },
          "text": ""
         },
         "zerolinecolor": "#E1E5ED"
        }
       }
      },
      "text/html": [
       "<div>\n",
       "        \n",
       "        \n",
       "            <div id=\"bb4fa3a1-b943-4da8-8900-297e0966ff30\" class=\"plotly-graph-div\" style=\"height:525px; width:100%;\"></div>\n",
       "            <script type=\"text/javascript\">\n",
       "                require([\"plotly\"], function(Plotly) {\n",
       "                    window.PLOTLYENV=window.PLOTLYENV || {};\n",
       "                    window.PLOTLYENV.BASE_URL='https://plot.ly';\n",
       "                    \n",
       "                if (document.getElementById(\"bb4fa3a1-b943-4da8-8900-297e0966ff30\")) {\n",
       "                    Plotly.newPlot(\n",
       "                        'bb4fa3a1-b943-4da8-8900-297e0966ff30',\n",
       "                        [{\"marker\": {\"color\": \"rgba(255, 153, 51, 0.6)\", \"line\": {\"color\": \"rgba(255, 153, 51, 1.0)\", \"width\": 1}}, \"name\": \"Valores\", \"orientation\": \"v\", \"text\": \"\", \"type\": \"bar\", \"x\": [\"A\", \"B\", \"C\"], \"y\": [32, 43, 50]}],\n",
       "                        {\"legend\": {\"bgcolor\": \"#F5F6F9\", \"font\": {\"color\": \"#4D5663\"}}, \"paper_bgcolor\": \"#F5F6F9\", \"plot_bgcolor\": \"#F5F6F9\", \"template\": {\"data\": {\"bar\": [{\"error_x\": {\"color\": \"#2a3f5f\"}, \"error_y\": {\"color\": \"#2a3f5f\"}, \"marker\": {\"line\": {\"color\": \"#E5ECF6\", \"width\": 0.5}}, \"type\": \"bar\"}], \"barpolar\": [{\"marker\": {\"line\": {\"color\": \"#E5ECF6\", \"width\": 0.5}}, \"type\": \"barpolar\"}], \"carpet\": [{\"aaxis\": {\"endlinecolor\": \"#2a3f5f\", \"gridcolor\": \"white\", \"linecolor\": \"white\", \"minorgridcolor\": \"white\", \"startlinecolor\": \"#2a3f5f\"}, \"baxis\": {\"endlinecolor\": \"#2a3f5f\", \"gridcolor\": \"white\", \"linecolor\": \"white\", \"minorgridcolor\": \"white\", \"startlinecolor\": \"#2a3f5f\"}, \"type\": \"carpet\"}], \"choropleth\": [{\"colorbar\": {\"outlinewidth\": 0, \"ticks\": \"\"}, \"type\": \"choropleth\"}], \"contour\": [{\"colorbar\": {\"outlinewidth\": 0, \"ticks\": \"\"}, \"colorscale\": [[0.0, \"#0d0887\"], [0.1111111111111111, \"#46039f\"], [0.2222222222222222, \"#7201a8\"], [0.3333333333333333, \"#9c179e\"], [0.4444444444444444, \"#bd3786\"], [0.5555555555555556, \"#d8576b\"], [0.6666666666666666, \"#ed7953\"], [0.7777777777777778, \"#fb9f3a\"], [0.8888888888888888, \"#fdca26\"], [1.0, \"#f0f921\"]], \"type\": \"contour\"}], \"contourcarpet\": [{\"colorbar\": {\"outlinewidth\": 0, \"ticks\": \"\"}, \"type\": \"contourcarpet\"}], \"heatmap\": [{\"colorbar\": {\"outlinewidth\": 0, \"ticks\": \"\"}, \"colorscale\": [[0.0, \"#0d0887\"], [0.1111111111111111, \"#46039f\"], [0.2222222222222222, \"#7201a8\"], [0.3333333333333333, \"#9c179e\"], [0.4444444444444444, \"#bd3786\"], [0.5555555555555556, \"#d8576b\"], [0.6666666666666666, \"#ed7953\"], [0.7777777777777778, \"#fb9f3a\"], [0.8888888888888888, \"#fdca26\"], [1.0, \"#f0f921\"]], \"type\": \"heatmap\"}], \"heatmapgl\": [{\"colorbar\": {\"outlinewidth\": 0, \"ticks\": \"\"}, \"colorscale\": [[0.0, \"#0d0887\"], [0.1111111111111111, \"#46039f\"], [0.2222222222222222, \"#7201a8\"], [0.3333333333333333, \"#9c179e\"], [0.4444444444444444, \"#bd3786\"], [0.5555555555555556, \"#d8576b\"], [0.6666666666666666, \"#ed7953\"], [0.7777777777777778, \"#fb9f3a\"], [0.8888888888888888, \"#fdca26\"], [1.0, \"#f0f921\"]], \"type\": \"heatmapgl\"}], \"histogram\": [{\"marker\": {\"colorbar\": {\"outlinewidth\": 0, \"ticks\": \"\"}}, \"type\": \"histogram\"}], \"histogram2d\": [{\"colorbar\": {\"outlinewidth\": 0, \"ticks\": \"\"}, \"colorscale\": [[0.0, \"#0d0887\"], [0.1111111111111111, \"#46039f\"], [0.2222222222222222, \"#7201a8\"], [0.3333333333333333, \"#9c179e\"], [0.4444444444444444, \"#bd3786\"], [0.5555555555555556, \"#d8576b\"], [0.6666666666666666, \"#ed7953\"], [0.7777777777777778, \"#fb9f3a\"], [0.8888888888888888, \"#fdca26\"], [1.0, \"#f0f921\"]], \"type\": \"histogram2d\"}], \"histogram2dcontour\": [{\"colorbar\": {\"outlinewidth\": 0, \"ticks\": \"\"}, \"colorscale\": [[0.0, \"#0d0887\"], [0.1111111111111111, \"#46039f\"], [0.2222222222222222, \"#7201a8\"], [0.3333333333333333, \"#9c179e\"], [0.4444444444444444, \"#bd3786\"], [0.5555555555555556, \"#d8576b\"], [0.6666666666666666, \"#ed7953\"], [0.7777777777777778, \"#fb9f3a\"], [0.8888888888888888, \"#fdca26\"], [1.0, \"#f0f921\"]], \"type\": \"histogram2dcontour\"}], \"mesh3d\": [{\"colorbar\": {\"outlinewidth\": 0, \"ticks\": \"\"}, \"type\": \"mesh3d\"}], \"parcoords\": [{\"line\": {\"colorbar\": {\"outlinewidth\": 0, \"ticks\": \"\"}}, \"type\": \"parcoords\"}], \"pie\": [{\"automargin\": true, \"type\": \"pie\"}], \"scatter\": [{\"marker\": {\"colorbar\": {\"outlinewidth\": 0, \"ticks\": \"\"}}, \"type\": \"scatter\"}], \"scatter3d\": [{\"line\": {\"colorbar\": {\"outlinewidth\": 0, \"ticks\": \"\"}}, \"marker\": {\"colorbar\": {\"outlinewidth\": 0, \"ticks\": \"\"}}, \"type\": \"scatter3d\"}], \"scattercarpet\": [{\"marker\": {\"colorbar\": {\"outlinewidth\": 0, \"ticks\": \"\"}}, \"type\": \"scattercarpet\"}], \"scattergeo\": [{\"marker\": {\"colorbar\": {\"outlinewidth\": 0, \"ticks\": \"\"}}, \"type\": \"scattergeo\"}], \"scattergl\": [{\"marker\": {\"colorbar\": {\"outlinewidth\": 0, \"ticks\": \"\"}}, \"type\": \"scattergl\"}], \"scattermapbox\": [{\"marker\": {\"colorbar\": {\"outlinewidth\": 0, \"ticks\": \"\"}}, \"type\": \"scattermapbox\"}], \"scatterpolar\": [{\"marker\": {\"colorbar\": {\"outlinewidth\": 0, \"ticks\": \"\"}}, \"type\": \"scatterpolar\"}], \"scatterpolargl\": [{\"marker\": {\"colorbar\": {\"outlinewidth\": 0, \"ticks\": \"\"}}, \"type\": \"scatterpolargl\"}], \"scatterternary\": [{\"marker\": {\"colorbar\": {\"outlinewidth\": 0, \"ticks\": \"\"}}, \"type\": \"scatterternary\"}], \"surface\": [{\"colorbar\": {\"outlinewidth\": 0, \"ticks\": \"\"}, \"colorscale\": [[0.0, \"#0d0887\"], [0.1111111111111111, \"#46039f\"], [0.2222222222222222, \"#7201a8\"], [0.3333333333333333, \"#9c179e\"], [0.4444444444444444, \"#bd3786\"], [0.5555555555555556, \"#d8576b\"], [0.6666666666666666, \"#ed7953\"], [0.7777777777777778, \"#fb9f3a\"], [0.8888888888888888, \"#fdca26\"], [1.0, \"#f0f921\"]], \"type\": \"surface\"}], \"table\": [{\"cells\": {\"fill\": {\"color\": \"#EBF0F8\"}, \"line\": {\"color\": \"white\"}}, \"header\": {\"fill\": {\"color\": \"#C8D4E3\"}, \"line\": {\"color\": \"white\"}}, \"type\": \"table\"}]}, \"layout\": {\"annotationdefaults\": {\"arrowcolor\": \"#2a3f5f\", \"arrowhead\": 0, \"arrowwidth\": 1}, \"coloraxis\": {\"colorbar\": {\"outlinewidth\": 0, \"ticks\": \"\"}}, \"colorscale\": {\"diverging\": [[0, \"#8e0152\"], [0.1, \"#c51b7d\"], [0.2, \"#de77ae\"], [0.3, \"#f1b6da\"], [0.4, \"#fde0ef\"], [0.5, \"#f7f7f7\"], [0.6, \"#e6f5d0\"], [0.7, \"#b8e186\"], [0.8, \"#7fbc41\"], [0.9, \"#4d9221\"], [1, \"#276419\"]], \"sequential\": [[0.0, \"#0d0887\"], [0.1111111111111111, \"#46039f\"], [0.2222222222222222, \"#7201a8\"], [0.3333333333333333, \"#9c179e\"], [0.4444444444444444, \"#bd3786\"], [0.5555555555555556, \"#d8576b\"], [0.6666666666666666, \"#ed7953\"], [0.7777777777777778, \"#fb9f3a\"], [0.8888888888888888, \"#fdca26\"], [1.0, \"#f0f921\"]], \"sequentialminus\": [[0.0, \"#0d0887\"], [0.1111111111111111, \"#46039f\"], [0.2222222222222222, \"#7201a8\"], [0.3333333333333333, \"#9c179e\"], [0.4444444444444444, \"#bd3786\"], [0.5555555555555556, \"#d8576b\"], [0.6666666666666666, \"#ed7953\"], [0.7777777777777778, \"#fb9f3a\"], [0.8888888888888888, \"#fdca26\"], [1.0, \"#f0f921\"]]}, \"colorway\": [\"#636efa\", \"#EF553B\", \"#00cc96\", \"#ab63fa\", \"#FFA15A\", \"#19d3f3\", \"#FF6692\", \"#B6E880\", \"#FF97FF\", \"#FECB52\"], \"font\": {\"color\": \"#2a3f5f\"}, \"geo\": {\"bgcolor\": \"white\", \"lakecolor\": \"white\", \"landcolor\": \"#E5ECF6\", \"showlakes\": true, \"showland\": true, \"subunitcolor\": \"white\"}, \"hoverlabel\": {\"align\": \"left\"}, \"hovermode\": \"closest\", \"mapbox\": {\"style\": \"light\"}, \"paper_bgcolor\": \"white\", \"plot_bgcolor\": \"#E5ECF6\", \"polar\": {\"angularaxis\": {\"gridcolor\": \"white\", \"linecolor\": \"white\", \"ticks\": \"\"}, \"bgcolor\": \"#E5ECF6\", \"radialaxis\": {\"gridcolor\": \"white\", \"linecolor\": \"white\", \"ticks\": \"\"}}, \"scene\": {\"xaxis\": {\"backgroundcolor\": \"#E5ECF6\", \"gridcolor\": \"white\", \"gridwidth\": 2, \"linecolor\": \"white\", \"showbackground\": true, \"ticks\": \"\", \"zerolinecolor\": \"white\"}, \"yaxis\": {\"backgroundcolor\": \"#E5ECF6\", \"gridcolor\": \"white\", \"gridwidth\": 2, \"linecolor\": \"white\", \"showbackground\": true, \"ticks\": \"\", \"zerolinecolor\": \"white\"}, \"zaxis\": {\"backgroundcolor\": \"#E5ECF6\", \"gridcolor\": \"white\", \"gridwidth\": 2, \"linecolor\": \"white\", \"showbackground\": true, \"ticks\": \"\", \"zerolinecolor\": \"white\"}}, \"shapedefaults\": {\"line\": {\"color\": \"#2a3f5f\"}}, \"ternary\": {\"aaxis\": {\"gridcolor\": \"white\", \"linecolor\": \"white\", \"ticks\": \"\"}, \"baxis\": {\"gridcolor\": \"white\", \"linecolor\": \"white\", \"ticks\": \"\"}, \"bgcolor\": \"#E5ECF6\", \"caxis\": {\"gridcolor\": \"white\", \"linecolor\": \"white\", \"ticks\": \"\"}}, \"title\": {\"x\": 0.05}, \"xaxis\": {\"automargin\": true, \"gridcolor\": \"white\", \"linecolor\": \"white\", \"ticks\": \"\", \"title\": {\"standoff\": 15}, \"zerolinecolor\": \"white\", \"zerolinewidth\": 2}, \"yaxis\": {\"automargin\": true, \"gridcolor\": \"white\", \"linecolor\": \"white\", \"ticks\": \"\", \"title\": {\"standoff\": 15}, \"zerolinecolor\": \"white\", \"zerolinewidth\": 2}}}, \"title\": {\"font\": {\"color\": \"#4D5663\"}}, \"xaxis\": {\"gridcolor\": \"#E1E5ED\", \"showgrid\": true, \"tickfont\": {\"color\": \"#4D5663\"}, \"title\": {\"font\": {\"color\": \"#4D5663\"}, \"text\": \"\"}, \"zerolinecolor\": \"#E1E5ED\"}, \"yaxis\": {\"gridcolor\": \"#E1E5ED\", \"showgrid\": true, \"tickfont\": {\"color\": \"#4D5663\"}, \"title\": {\"font\": {\"color\": \"#4D5663\"}, \"text\": \"\"}, \"zerolinecolor\": \"#E1E5ED\"}},\n",
       "                        {\"showLink\": true, \"linkText\": \"Export to plot.ly\", \"plotlyServerURL\": \"https://plot.ly\", \"responsive\": true}\n",
       "                    ).then(function(){\n",
       "                            \n",
       "var gd = document.getElementById('bb4fa3a1-b943-4da8-8900-297e0966ff30');\n",
       "var x = new MutationObserver(function (mutations, observer) {{\n",
       "        var display = window.getComputedStyle(gd).display;\n",
       "        if (!display || display === 'none') {{\n",
       "            console.log([gd, 'removed!']);\n",
       "            Plotly.purge(gd);\n",
       "            observer.disconnect();\n",
       "        }}\n",
       "}});\n",
       "\n",
       "// Listen for the removal of the full notebook cells\n",
       "var notebookContainer = gd.closest('#notebook-container');\n",
       "if (notebookContainer) {{\n",
       "    x.observe(notebookContainer, {childList: true});\n",
       "}}\n",
       "\n",
       "// Listen for the clearing of the current output cell\n",
       "var outputEl = gd.closest('.output');\n",
       "if (outputEl) {{\n",
       "    x.observe(outputEl, {childList: true});\n",
       "}}\n",
       "\n",
       "                        })\n",
       "                };\n",
       "                });\n",
       "            </script>\n",
       "        </div>"
      ]
     },
     "metadata": {},
     "output_type": "display_data"
    }
   ],
   "source": [
    "df2.iplot(kind='bar', x='Categoria', y='Valores')"
   ]
  },
  {
   "cell_type": "code",
   "execution_count": 22,
   "metadata": {},
   "outputs": [
    {
     "data": {
      "application/vnd.plotly.v1+json": {
       "config": {
        "linkText": "Export to plot.ly",
        "plotlyServerURL": "https://plot.ly",
        "showLink": true
       },
       "data": [
        {
         "marker": {
          "color": "rgba(255, 153, 51, 0.6)",
          "line": {
           "color": "rgba(255, 153, 51, 1.0)",
           "width": 1
          }
         },
         "name": "A",
         "orientation": "v",
         "text": "",
         "type": "bar",
         "x": [
          0,
          1,
          2,
          3,
          4,
          5,
          6,
          7,
          8,
          9,
          10,
          11,
          12,
          13,
          14,
          15,
          16,
          17,
          18,
          19,
          20,
          21,
          22,
          23,
          24,
          25,
          26,
          27,
          28,
          29,
          30,
          31,
          32,
          33,
          34,
          35,
          36,
          37,
          38,
          39,
          40,
          41,
          42,
          43,
          44,
          45,
          46,
          47,
          48,
          49,
          50,
          51,
          52,
          53,
          54,
          55,
          56,
          57,
          58,
          59,
          60,
          61,
          62,
          63,
          64,
          65,
          66,
          67,
          68,
          69,
          70,
          71,
          72,
          73,
          74,
          75,
          76,
          77,
          78,
          79,
          80,
          81,
          82,
          83,
          84,
          85,
          86,
          87,
          88,
          89,
          90,
          91,
          92,
          93,
          94,
          95,
          96,
          97,
          98,
          99
         ],
         "y": [
          -0.051837791061411176,
          -0.49686287148954067,
          -2.1771515192846906,
          -0.5113732243720404,
          -0.03837284189106989,
          0.3548680089577916,
          -0.9670222154179324,
          0.48967087422011185,
          1.010118843634135,
          1.1767005716127645,
          0.6049739509700985,
          -1.2688805227873958,
          -0.02341822554535787,
          -0.8845292410026588,
          -0.11078185573420099,
          0.4450716121013818,
          -0.6524788440445956,
          0.8362365802443669,
          -0.26480206570836334,
          -0.015521473434741142,
          -0.9070581908107753,
          -0.19848188846188358,
          0.23484988589792208,
          -0.9429068811094353,
          0.33804310467588616,
          0.2231325138137817,
          1.4180751876383473,
          0.27684307950859816,
          -0.7268118558078794,
          -1.8190959116589784,
          0.8863588248415394,
          0.811407224749543,
          0.9168706533314526,
          -0.49255538436951624,
          -0.38855891112932583,
          -0.33060548677620133,
          0.22814018946691325,
          -0.06134433481792067,
          2.2699080261066835,
          -0.648450660547072,
          -0.6676597248888836,
          0.12780912335519987,
          0.26203454175511987,
          -0.5425640188515645,
          -1.7685038013335517,
          0.40968157985444253,
          -0.42445362372076917,
          -1.088382988200841,
          1.23453450356868,
          -0.3638729323339125,
          0.7811986561585942,
          -1.0258459763128092,
          -1.7662105171837867,
          0.41472993026917654,
          -0.9409427214991185,
          -2.224333425583536,
          -0.2431794109095521,
          -0.9395444396754363,
          -0.5689902576839743,
          3.044340783482019,
          1.2505474809367803,
          -1.8363813899795214,
          -1.4820530742319769,
          -0.46642801300752706,
          0.812718554669287,
          0.6645329003944418,
          0.3270216654104052,
          -0.1223759657745449,
          0.09624616022289444,
          -0.22541462588698472,
          -0.2958817575821674,
          0.2871613386480438,
          0.07953086113867225,
          0.36601957350281533,
          1.646247258053811,
          0.40813146514571574,
          0.43032791348249316,
          -0.35118667775584894,
          1.0808974968793563,
          0.4428858638821342,
          -1.276203580800424,
          -0.5670787860121267,
          0.5425648310098887,
          -2.3985130158037213,
          0.02387026311991676,
          -0.1123122571750988,
          -0.778639967616544,
          0.5459580253709689,
          1.4604660678279568,
          0.3965009201697333,
          -0.5651998505477467,
          0.3117696147066201,
          -1.5089493383412824,
          -0.28001165739536366,
          1.3072298277883696,
          -0.7487924987650352,
          -0.48883749025194284,
          -0.09653869536735393,
          0.01895917624825842,
          0.6100637239125053
         ]
        },
        {
         "marker": {
          "color": "rgba(55, 128, 191, 0.6)",
          "line": {
           "color": "rgba(55, 128, 191, 1.0)",
           "width": 1
          }
         },
         "name": "B",
         "orientation": "v",
         "text": "",
         "type": "bar",
         "x": [
          0,
          1,
          2,
          3,
          4,
          5,
          6,
          7,
          8,
          9,
          10,
          11,
          12,
          13,
          14,
          15,
          16,
          17,
          18,
          19,
          20,
          21,
          22,
          23,
          24,
          25,
          26,
          27,
          28,
          29,
          30,
          31,
          32,
          33,
          34,
          35,
          36,
          37,
          38,
          39,
          40,
          41,
          42,
          43,
          44,
          45,
          46,
          47,
          48,
          49,
          50,
          51,
          52,
          53,
          54,
          55,
          56,
          57,
          58,
          59,
          60,
          61,
          62,
          63,
          64,
          65,
          66,
          67,
          68,
          69,
          70,
          71,
          72,
          73,
          74,
          75,
          76,
          77,
          78,
          79,
          80,
          81,
          82,
          83,
          84,
          85,
          86,
          87,
          88,
          89,
          90,
          91,
          92,
          93,
          94,
          95,
          96,
          97,
          98,
          99
         ],
         "y": [
          0.3695370284703798,
          -0.8743817851595044,
          -1.5751701215297989,
          -0.5285960006848781,
          1.626477455353992,
          -2.459883081251386,
          -0.2917473650965046,
          -0.27854283712680494,
          -0.21414904709360755,
          0.05697064749512811,
          -0.11926176248256731,
          -0.7021821239487716,
          -0.24572150749364016,
          -0.14898474253809174,
          -1.3113443874376083,
          -4.167956106747543,
          0.5272200063944493,
          0.8649922158474757,
          -0.44583230013138686,
          -0.4160049037062795,
          -0.466239445185336,
          0.08377937035475586,
          0.6614591440734874,
          1.12535799467954,
          0.9567317890641305,
          1.8181135552660397,
          -0.927102989747783,
          0.44080180507522854,
          -0.06554376455534469,
          -0.2603983795904401,
          0.6333449797500809,
          -0.10072593183762651,
          -1.1133918555613957,
          -1.129529656932896,
          -0.19799900792328565,
          -0.13847772677187756,
          -0.18071833438394155,
          0.08693506582433717,
          0.4956531660302352,
          0.518581006571991,
          -0.5021690307243035,
          -0.46873614050059736,
          2.8629607999012587,
          1.1628814628174975,
          -0.10637423519170412,
          -0.5365095684859182,
          0.10172889460656297,
          0.8434298624659738,
          0.178773563424261,
          -0.8930770980031411,
          -0.528758606533394,
          -0.2566640539476154,
          -1.288023250707061,
          -0.970954446795933,
          0.6549562426168584,
          -2.3232483033711198,
          -0.11610262914757792,
          0.09858406174514805,
          0.4361663737293656,
          0.6945343333387475,
          -0.16649974364440523,
          0.8223881464101899,
          1.9482584831312117,
          0.29704791128841773,
          0.3237810004606294,
          0.544957091603034,
          -0.17353554497162008,
          -1.065684238826915,
          -0.08021988841387116,
          0.4569936193631879,
          0.6254218330930134,
          -0.08102891382823191,
          -1.0928559466028436,
          -1.3591555442045564,
          0.4577921792340458,
          0.3495884903538427,
          -1.1037616297370296,
          -1.990831617641072,
          0.6455485345946241,
          -1.5268647591648523,
          -0.46605297721767797,
          -0.019275930557890078,
          -0.34203927447449445,
          1.3673189706167137,
          0.4734388491991349,
          1.0693898450217338,
          -1.1866359358774416,
          0.012262267947191194,
          1.5134873033665468,
          1.5976790969792416,
          -0.423613673426834,
          0.06955095640490072,
          -1.1664675783266583,
          -0.6094899292030159,
          -0.7697122722341971,
          -0.011835620658037676,
          -0.6125980696950949,
          0.6171362973467006,
          -1.4793715674364853,
          -1.1455262902983676
         ]
        },
        {
         "marker": {
          "color": "rgba(50, 171, 96, 0.6)",
          "line": {
           "color": "rgba(50, 171, 96, 1.0)",
           "width": 1
          }
         },
         "name": "C",
         "orientation": "v",
         "text": "",
         "type": "bar",
         "x": [
          0,
          1,
          2,
          3,
          4,
          5,
          6,
          7,
          8,
          9,
          10,
          11,
          12,
          13,
          14,
          15,
          16,
          17,
          18,
          19,
          20,
          21,
          22,
          23,
          24,
          25,
          26,
          27,
          28,
          29,
          30,
          31,
          32,
          33,
          34,
          35,
          36,
          37,
          38,
          39,
          40,
          41,
          42,
          43,
          44,
          45,
          46,
          47,
          48,
          49,
          50,
          51,
          52,
          53,
          54,
          55,
          56,
          57,
          58,
          59,
          60,
          61,
          62,
          63,
          64,
          65,
          66,
          67,
          68,
          69,
          70,
          71,
          72,
          73,
          74,
          75,
          76,
          77,
          78,
          79,
          80,
          81,
          82,
          83,
          84,
          85,
          86,
          87,
          88,
          89,
          90,
          91,
          92,
          93,
          94,
          95,
          96,
          97,
          98,
          99
         ],
         "y": [
          -0.8154929365890754,
          0.6792826710933785,
          0.824703082888759,
          0.7075762470179497,
          0.07365396278792792,
          -0.8105705063983373,
          0.13334782373413395,
          -0.02443113381127301,
          1.0536217164839008,
          -0.08342677773846315,
          -0.298493431665501,
          -2.2784790679135716,
          -1.033862408480082,
          0.8642419401735617,
          0.10085264050538734,
          0.9410010976361294,
          -0.2674685056250175,
          -0.8642828255005719,
          -0.69632068563847,
          -0.8664922439507659,
          0.6293027737635437,
          0.06050408243705343,
          1.1593542458650372,
          -0.5899162141516092,
          0.626324691115494,
          1.032168396778142,
          0.33754734882931714,
          0.18713337526897916,
          -0.17343679502919768,
          1.6286878922994552,
          0.28899545345282185,
          -1.4448313139698175,
          -0.8388221697622474,
          0.17907157837101717,
          0.32931330254002256,
          -0.9250137613019447,
          0.4935716283948479,
          0.394160237456869,
          -2.013902701361426,
          -0.2940243829919321,
          0.21586676849098707,
          0.5298064552415997,
          1.614518034961775,
          -2.270101038469866,
          1.6886601157977816,
          0.6881533447454158,
          0.25174345012722577,
          0.3378213355528154,
          0.6705698060137221,
          -0.031948036708369106,
          -0.08220382176457258,
          0.3125795749433185,
          1.5272691242267729,
          0.9718481567175451,
          -1.1274261759202133,
          0.4421452144984506,
          -0.35499216986570375,
          -0.7814438069631231,
          -0.5598770139976932,
          0.8165428868962974,
          -0.10292551612671881,
          -1.9599786743326544,
          0.47510296837616367,
          0.7328407303431982,
          -0.46872720075476854,
          1.262190459516613,
          -0.05833540902356298,
          0.11052859576117118,
          -0.5884698688701494,
          -1.2483083327623725,
          0.2066697543893116,
          0.6719817769679528,
          0.39567931062804224,
          -0.4306543072032271,
          -1.7546189253573135,
          -0.47332649862861675,
          0.6426916085977166,
          0.9633850723074893,
          -0.8770555093850285,
          -2.905161987160775,
          0.8482874475301787,
          -0.42270655290951586,
          -0.9953775484525826,
          1.3213317263108992,
          -1.4492254391520913,
          -0.09570604420631665,
          -1.4866448108202428,
          -1.4453918207614649,
          -0.07423117728993073,
          -0.9995823360214144,
          0.7388765575959787,
          -0.37297370367235766,
          -0.6659108390811059,
          -0.4651095380198942,
          -0.3160081273844198,
          -0.9815681676930179,
          0.5435691970650005,
          0.4969979391842474,
          -0.8672665672491162,
          0.44019907878237374
         ]
        },
        {
         "marker": {
          "color": "rgba(128, 0, 128, 0.6)",
          "line": {
           "color": "rgba(128, 0, 128, 1.0)",
           "width": 1
          }
         },
         "name": "D",
         "orientation": "v",
         "text": "",
         "type": "bar",
         "x": [
          0,
          1,
          2,
          3,
          4,
          5,
          6,
          7,
          8,
          9,
          10,
          11,
          12,
          13,
          14,
          15,
          16,
          17,
          18,
          19,
          20,
          21,
          22,
          23,
          24,
          25,
          26,
          27,
          28,
          29,
          30,
          31,
          32,
          33,
          34,
          35,
          36,
          37,
          38,
          39,
          40,
          41,
          42,
          43,
          44,
          45,
          46,
          47,
          48,
          49,
          50,
          51,
          52,
          53,
          54,
          55,
          56,
          57,
          58,
          59,
          60,
          61,
          62,
          63,
          64,
          65,
          66,
          67,
          68,
          69,
          70,
          71,
          72,
          73,
          74,
          75,
          76,
          77,
          78,
          79,
          80,
          81,
          82,
          83,
          84,
          85,
          86,
          87,
          88,
          89,
          90,
          91,
          92,
          93,
          94,
          95,
          96,
          97,
          98,
          99
         ],
         "y": [
          1.2822550062316957,
          0.40055323573444107,
          1.787307135006294,
          1.7221907799186702,
          -0.33012384630410374,
          0.5015771873657603,
          -0.2473547725963533,
          -0.0640547215064039,
          -1.2688345257971019,
          0.7944394500612837,
          -0.3464648964452649,
          0.3724309331099352,
          0.4334063357163549,
          -0.7803152729518554,
          -0.15256826965799988,
          0.9860346107050248,
          -0.013657624655136605,
          -0.4302458835164767,
          0.08742528916803126,
          0.519209084088822,
          0.6982718270826062,
          -0.19695824668480003,
          0.7343656222610719,
          0.9842019036477565,
          0.5451772059859311,
          -0.24858903661320736,
          -0.7824188710943614,
          1.1640797041445852,
          0.15329927658788975,
          -0.09114867065191426,
          0.5534416427041143,
          0.6946738238910318,
          0.20194117504756964,
          -0.35896270465549474,
          1.0906445557163424,
          -0.2824539228891635,
          1.1233705548985673,
          0.9589648047845943,
          0.2754236452464434,
          -1.0603397442196445,
          -0.2256360884092571,
          0.8603631910291578,
          0.1747665131819617,
          0.8597007906478508,
          -0.4947516166827669,
          1.24843889390558,
          0.5676592941056465,
          -0.5409291274871663,
          -0.043153913618455345,
          1.5573689209796098,
          -0.7637023855934686,
          0.7268950799090498,
          -0.48806830712512594,
          0.3432994768634184,
          -0.6239399075477323,
          -0.8508008791939529,
          -0.5373137821388475,
          0.41568614809700694,
          -1.0649642415638567,
          0.14383644256798317,
          -1.8054575468622778,
          0.7519404686581771,
          -0.4669308726577494,
          2.2686409521408586,
          1.9162386285954347,
          -0.5210201624771259,
          -2.2616201473779607,
          -0.3441027012451506,
          -1.403557990210369,
          -0.09748187365174565,
          0.30996784622566304,
          -0.30719849294978363,
          -0.5164850226458253,
          2.069020581536834,
          -0.3683269178730194,
          -0.16538567091528325,
          -1.3502023312974114,
          0.03029806499858065,
          -0.2854438445079592,
          -0.33348005450209356,
          -0.8087196832418141,
          2.7578216244376583,
          1.3775591992462703,
          1.1445203631577308,
          -1.1319746537803164,
          1.2151819805491515,
          -1.0214125872731903,
          0.542764965117343,
          0.8186438869989077,
          1.9598102601770646,
          1.5098606557031709,
          1.3644224942264092,
          -0.4907462799383518,
          0.7910265512352088,
          0.5886869733598117,
          -1.0582675744202503,
          1.3505249560880823,
          0.7928774939813371,
          0.5393622371005773,
          -1.4353470328033175
         ]
        }
       ],
       "layout": {
        "legend": {
         "bgcolor": "#F5F6F9",
         "font": {
          "color": "#4D5663"
         }
        },
        "paper_bgcolor": "#F5F6F9",
        "plot_bgcolor": "#F5F6F9",
        "template": {
         "data": {
          "bar": [
           {
            "error_x": {
             "color": "#2a3f5f"
            },
            "error_y": {
             "color": "#2a3f5f"
            },
            "marker": {
             "line": {
              "color": "#E5ECF6",
              "width": 0.5
             }
            },
            "type": "bar"
           }
          ],
          "barpolar": [
           {
            "marker": {
             "line": {
              "color": "#E5ECF6",
              "width": 0.5
             }
            },
            "type": "barpolar"
           }
          ],
          "carpet": [
           {
            "aaxis": {
             "endlinecolor": "#2a3f5f",
             "gridcolor": "white",
             "linecolor": "white",
             "minorgridcolor": "white",
             "startlinecolor": "#2a3f5f"
            },
            "baxis": {
             "endlinecolor": "#2a3f5f",
             "gridcolor": "white",
             "linecolor": "white",
             "minorgridcolor": "white",
             "startlinecolor": "#2a3f5f"
            },
            "type": "carpet"
           }
          ],
          "choropleth": [
           {
            "colorbar": {
             "outlinewidth": 0,
             "ticks": ""
            },
            "type": "choropleth"
           }
          ],
          "contour": [
           {
            "colorbar": {
             "outlinewidth": 0,
             "ticks": ""
            },
            "colorscale": [
             [
              0,
              "#0d0887"
             ],
             [
              0.1111111111111111,
              "#46039f"
             ],
             [
              0.2222222222222222,
              "#7201a8"
             ],
             [
              0.3333333333333333,
              "#9c179e"
             ],
             [
              0.4444444444444444,
              "#bd3786"
             ],
             [
              0.5555555555555556,
              "#d8576b"
             ],
             [
              0.6666666666666666,
              "#ed7953"
             ],
             [
              0.7777777777777778,
              "#fb9f3a"
             ],
             [
              0.8888888888888888,
              "#fdca26"
             ],
             [
              1,
              "#f0f921"
             ]
            ],
            "type": "contour"
           }
          ],
          "contourcarpet": [
           {
            "colorbar": {
             "outlinewidth": 0,
             "ticks": ""
            },
            "type": "contourcarpet"
           }
          ],
          "heatmap": [
           {
            "colorbar": {
             "outlinewidth": 0,
             "ticks": ""
            },
            "colorscale": [
             [
              0,
              "#0d0887"
             ],
             [
              0.1111111111111111,
              "#46039f"
             ],
             [
              0.2222222222222222,
              "#7201a8"
             ],
             [
              0.3333333333333333,
              "#9c179e"
             ],
             [
              0.4444444444444444,
              "#bd3786"
             ],
             [
              0.5555555555555556,
              "#d8576b"
             ],
             [
              0.6666666666666666,
              "#ed7953"
             ],
             [
              0.7777777777777778,
              "#fb9f3a"
             ],
             [
              0.8888888888888888,
              "#fdca26"
             ],
             [
              1,
              "#f0f921"
             ]
            ],
            "type": "heatmap"
           }
          ],
          "heatmapgl": [
           {
            "colorbar": {
             "outlinewidth": 0,
             "ticks": ""
            },
            "colorscale": [
             [
              0,
              "#0d0887"
             ],
             [
              0.1111111111111111,
              "#46039f"
             ],
             [
              0.2222222222222222,
              "#7201a8"
             ],
             [
              0.3333333333333333,
              "#9c179e"
             ],
             [
              0.4444444444444444,
              "#bd3786"
             ],
             [
              0.5555555555555556,
              "#d8576b"
             ],
             [
              0.6666666666666666,
              "#ed7953"
             ],
             [
              0.7777777777777778,
              "#fb9f3a"
             ],
             [
              0.8888888888888888,
              "#fdca26"
             ],
             [
              1,
              "#f0f921"
             ]
            ],
            "type": "heatmapgl"
           }
          ],
          "histogram": [
           {
            "marker": {
             "colorbar": {
              "outlinewidth": 0,
              "ticks": ""
             }
            },
            "type": "histogram"
           }
          ],
          "histogram2d": [
           {
            "colorbar": {
             "outlinewidth": 0,
             "ticks": ""
            },
            "colorscale": [
             [
              0,
              "#0d0887"
             ],
             [
              0.1111111111111111,
              "#46039f"
             ],
             [
              0.2222222222222222,
              "#7201a8"
             ],
             [
              0.3333333333333333,
              "#9c179e"
             ],
             [
              0.4444444444444444,
              "#bd3786"
             ],
             [
              0.5555555555555556,
              "#d8576b"
             ],
             [
              0.6666666666666666,
              "#ed7953"
             ],
             [
              0.7777777777777778,
              "#fb9f3a"
             ],
             [
              0.8888888888888888,
              "#fdca26"
             ],
             [
              1,
              "#f0f921"
             ]
            ],
            "type": "histogram2d"
           }
          ],
          "histogram2dcontour": [
           {
            "colorbar": {
             "outlinewidth": 0,
             "ticks": ""
            },
            "colorscale": [
             [
              0,
              "#0d0887"
             ],
             [
              0.1111111111111111,
              "#46039f"
             ],
             [
              0.2222222222222222,
              "#7201a8"
             ],
             [
              0.3333333333333333,
              "#9c179e"
             ],
             [
              0.4444444444444444,
              "#bd3786"
             ],
             [
              0.5555555555555556,
              "#d8576b"
             ],
             [
              0.6666666666666666,
              "#ed7953"
             ],
             [
              0.7777777777777778,
              "#fb9f3a"
             ],
             [
              0.8888888888888888,
              "#fdca26"
             ],
             [
              1,
              "#f0f921"
             ]
            ],
            "type": "histogram2dcontour"
           }
          ],
          "mesh3d": [
           {
            "colorbar": {
             "outlinewidth": 0,
             "ticks": ""
            },
            "type": "mesh3d"
           }
          ],
          "parcoords": [
           {
            "line": {
             "colorbar": {
              "outlinewidth": 0,
              "ticks": ""
             }
            },
            "type": "parcoords"
           }
          ],
          "pie": [
           {
            "automargin": true,
            "type": "pie"
           }
          ],
          "scatter": [
           {
            "marker": {
             "colorbar": {
              "outlinewidth": 0,
              "ticks": ""
             }
            },
            "type": "scatter"
           }
          ],
          "scatter3d": [
           {
            "line": {
             "colorbar": {
              "outlinewidth": 0,
              "ticks": ""
             }
            },
            "marker": {
             "colorbar": {
              "outlinewidth": 0,
              "ticks": ""
             }
            },
            "type": "scatter3d"
           }
          ],
          "scattercarpet": [
           {
            "marker": {
             "colorbar": {
              "outlinewidth": 0,
              "ticks": ""
             }
            },
            "type": "scattercarpet"
           }
          ],
          "scattergeo": [
           {
            "marker": {
             "colorbar": {
              "outlinewidth": 0,
              "ticks": ""
             }
            },
            "type": "scattergeo"
           }
          ],
          "scattergl": [
           {
            "marker": {
             "colorbar": {
              "outlinewidth": 0,
              "ticks": ""
             }
            },
            "type": "scattergl"
           }
          ],
          "scattermapbox": [
           {
            "marker": {
             "colorbar": {
              "outlinewidth": 0,
              "ticks": ""
             }
            },
            "type": "scattermapbox"
           }
          ],
          "scatterpolar": [
           {
            "marker": {
             "colorbar": {
              "outlinewidth": 0,
              "ticks": ""
             }
            },
            "type": "scatterpolar"
           }
          ],
          "scatterpolargl": [
           {
            "marker": {
             "colorbar": {
              "outlinewidth": 0,
              "ticks": ""
             }
            },
            "type": "scatterpolargl"
           }
          ],
          "scatterternary": [
           {
            "marker": {
             "colorbar": {
              "outlinewidth": 0,
              "ticks": ""
             }
            },
            "type": "scatterternary"
           }
          ],
          "surface": [
           {
            "colorbar": {
             "outlinewidth": 0,
             "ticks": ""
            },
            "colorscale": [
             [
              0,
              "#0d0887"
             ],
             [
              0.1111111111111111,
              "#46039f"
             ],
             [
              0.2222222222222222,
              "#7201a8"
             ],
             [
              0.3333333333333333,
              "#9c179e"
             ],
             [
              0.4444444444444444,
              "#bd3786"
             ],
             [
              0.5555555555555556,
              "#d8576b"
             ],
             [
              0.6666666666666666,
              "#ed7953"
             ],
             [
              0.7777777777777778,
              "#fb9f3a"
             ],
             [
              0.8888888888888888,
              "#fdca26"
             ],
             [
              1,
              "#f0f921"
             ]
            ],
            "type": "surface"
           }
          ],
          "table": [
           {
            "cells": {
             "fill": {
              "color": "#EBF0F8"
             },
             "line": {
              "color": "white"
             }
            },
            "header": {
             "fill": {
              "color": "#C8D4E3"
             },
             "line": {
              "color": "white"
             }
            },
            "type": "table"
           }
          ]
         },
         "layout": {
          "annotationdefaults": {
           "arrowcolor": "#2a3f5f",
           "arrowhead": 0,
           "arrowwidth": 1
          },
          "coloraxis": {
           "colorbar": {
            "outlinewidth": 0,
            "ticks": ""
           }
          },
          "colorscale": {
           "diverging": [
            [
             0,
             "#8e0152"
            ],
            [
             0.1,
             "#c51b7d"
            ],
            [
             0.2,
             "#de77ae"
            ],
            [
             0.3,
             "#f1b6da"
            ],
            [
             0.4,
             "#fde0ef"
            ],
            [
             0.5,
             "#f7f7f7"
            ],
            [
             0.6,
             "#e6f5d0"
            ],
            [
             0.7,
             "#b8e186"
            ],
            [
             0.8,
             "#7fbc41"
            ],
            [
             0.9,
             "#4d9221"
            ],
            [
             1,
             "#276419"
            ]
           ],
           "sequential": [
            [
             0,
             "#0d0887"
            ],
            [
             0.1111111111111111,
             "#46039f"
            ],
            [
             0.2222222222222222,
             "#7201a8"
            ],
            [
             0.3333333333333333,
             "#9c179e"
            ],
            [
             0.4444444444444444,
             "#bd3786"
            ],
            [
             0.5555555555555556,
             "#d8576b"
            ],
            [
             0.6666666666666666,
             "#ed7953"
            ],
            [
             0.7777777777777778,
             "#fb9f3a"
            ],
            [
             0.8888888888888888,
             "#fdca26"
            ],
            [
             1,
             "#f0f921"
            ]
           ],
           "sequentialminus": [
            [
             0,
             "#0d0887"
            ],
            [
             0.1111111111111111,
             "#46039f"
            ],
            [
             0.2222222222222222,
             "#7201a8"
            ],
            [
             0.3333333333333333,
             "#9c179e"
            ],
            [
             0.4444444444444444,
             "#bd3786"
            ],
            [
             0.5555555555555556,
             "#d8576b"
            ],
            [
             0.6666666666666666,
             "#ed7953"
            ],
            [
             0.7777777777777778,
             "#fb9f3a"
            ],
            [
             0.8888888888888888,
             "#fdca26"
            ],
            [
             1,
             "#f0f921"
            ]
           ]
          },
          "colorway": [
           "#636efa",
           "#EF553B",
           "#00cc96",
           "#ab63fa",
           "#FFA15A",
           "#19d3f3",
           "#FF6692",
           "#B6E880",
           "#FF97FF",
           "#FECB52"
          ],
          "font": {
           "color": "#2a3f5f"
          },
          "geo": {
           "bgcolor": "white",
           "lakecolor": "white",
           "landcolor": "#E5ECF6",
           "showlakes": true,
           "showland": true,
           "subunitcolor": "white"
          },
          "hoverlabel": {
           "align": "left"
          },
          "hovermode": "closest",
          "mapbox": {
           "style": "light"
          },
          "paper_bgcolor": "white",
          "plot_bgcolor": "#E5ECF6",
          "polar": {
           "angularaxis": {
            "gridcolor": "white",
            "linecolor": "white",
            "ticks": ""
           },
           "bgcolor": "#E5ECF6",
           "radialaxis": {
            "gridcolor": "white",
            "linecolor": "white",
            "ticks": ""
           }
          },
          "scene": {
           "xaxis": {
            "backgroundcolor": "#E5ECF6",
            "gridcolor": "white",
            "gridwidth": 2,
            "linecolor": "white",
            "showbackground": true,
            "ticks": "",
            "zerolinecolor": "white"
           },
           "yaxis": {
            "backgroundcolor": "#E5ECF6",
            "gridcolor": "white",
            "gridwidth": 2,
            "linecolor": "white",
            "showbackground": true,
            "ticks": "",
            "zerolinecolor": "white"
           },
           "zaxis": {
            "backgroundcolor": "#E5ECF6",
            "gridcolor": "white",
            "gridwidth": 2,
            "linecolor": "white",
            "showbackground": true,
            "ticks": "",
            "zerolinecolor": "white"
           }
          },
          "shapedefaults": {
           "line": {
            "color": "#2a3f5f"
           }
          },
          "ternary": {
           "aaxis": {
            "gridcolor": "white",
            "linecolor": "white",
            "ticks": ""
           },
           "baxis": {
            "gridcolor": "white",
            "linecolor": "white",
            "ticks": ""
           },
           "bgcolor": "#E5ECF6",
           "caxis": {
            "gridcolor": "white",
            "linecolor": "white",
            "ticks": ""
           }
          },
          "title": {
           "x": 0.05
          },
          "xaxis": {
           "automargin": true,
           "gridcolor": "white",
           "linecolor": "white",
           "ticks": "",
           "title": {
            "standoff": 15
           },
           "zerolinecolor": "white",
           "zerolinewidth": 2
          },
          "yaxis": {
           "automargin": true,
           "gridcolor": "white",
           "linecolor": "white",
           "ticks": "",
           "title": {
            "standoff": 15
           },
           "zerolinecolor": "white",
           "zerolinewidth": 2
          }
         }
        },
        "title": {
         "font": {
          "color": "#4D5663"
         }
        },
        "xaxis": {
         "gridcolor": "#E1E5ED",
         "showgrid": true,
         "tickfont": {
          "color": "#4D5663"
         },
         "title": {
          "font": {
           "color": "#4D5663"
          },
          "text": ""
         },
         "zerolinecolor": "#E1E5ED"
        },
        "yaxis": {
         "gridcolor": "#E1E5ED",
         "showgrid": true,
         "tickfont": {
          "color": "#4D5663"
         },
         "title": {
          "font": {
           "color": "#4D5663"
          },
          "text": ""
         },
         "zerolinecolor": "#E1E5ED"
        }
       }
      },
      "text/html": [
       "<div>\n",
       "        \n",
       "        \n",
       "            <div id=\"ed137b63-be18-4646-aa0f-c5d857b48eea\" class=\"plotly-graph-div\" style=\"height:525px; width:100%;\"></div>\n",
       "            <script type=\"text/javascript\">\n",
       "                require([\"plotly\"], function(Plotly) {\n",
       "                    window.PLOTLYENV=window.PLOTLYENV || {};\n",
       "                    window.PLOTLYENV.BASE_URL='https://plot.ly';\n",
       "                    \n",
       "                if (document.getElementById(\"ed137b63-be18-4646-aa0f-c5d857b48eea\")) {\n",
       "                    Plotly.newPlot(\n",
       "                        'ed137b63-be18-4646-aa0f-c5d857b48eea',\n",
       "                        [{\"marker\": {\"color\": \"rgba(255, 153, 51, 0.6)\", \"line\": {\"color\": \"rgba(255, 153, 51, 1.0)\", \"width\": 1}}, \"name\": \"A\", \"orientation\": \"v\", \"text\": \"\", \"type\": \"bar\", \"x\": [0, 1, 2, 3, 4, 5, 6, 7, 8, 9, 10, 11, 12, 13, 14, 15, 16, 17, 18, 19, 20, 21, 22, 23, 24, 25, 26, 27, 28, 29, 30, 31, 32, 33, 34, 35, 36, 37, 38, 39, 40, 41, 42, 43, 44, 45, 46, 47, 48, 49, 50, 51, 52, 53, 54, 55, 56, 57, 58, 59, 60, 61, 62, 63, 64, 65, 66, 67, 68, 69, 70, 71, 72, 73, 74, 75, 76, 77, 78, 79, 80, 81, 82, 83, 84, 85, 86, 87, 88, 89, 90, 91, 92, 93, 94, 95, 96, 97, 98, 99], \"y\": [-0.051837791061411176, -0.49686287148954067, -2.1771515192846906, -0.5113732243720404, -0.03837284189106989, 0.3548680089577916, -0.9670222154179324, 0.48967087422011185, 1.010118843634135, 1.1767005716127645, 0.6049739509700985, -1.2688805227873958, -0.02341822554535787, -0.8845292410026588, -0.11078185573420099, 0.4450716121013818, -0.6524788440445956, 0.8362365802443669, -0.26480206570836334, -0.015521473434741142, -0.9070581908107753, -0.19848188846188358, 0.23484988589792208, -0.9429068811094353, 0.33804310467588616, 0.2231325138137817, 1.4180751876383473, 0.27684307950859816, -0.7268118558078794, -1.8190959116589784, 0.8863588248415394, 0.811407224749543, 0.9168706533314526, -0.49255538436951624, -0.38855891112932583, -0.33060548677620133, 0.22814018946691325, -0.06134433481792067, 2.2699080261066835, -0.648450660547072, -0.6676597248888836, 0.12780912335519987, 0.26203454175511987, -0.5425640188515645, -1.7685038013335517, 0.40968157985444253, -0.42445362372076917, -1.088382988200841, 1.23453450356868, -0.3638729323339125, 0.7811986561585942, -1.0258459763128092, -1.7662105171837867, 0.41472993026917654, -0.9409427214991185, -2.224333425583536, -0.2431794109095521, -0.9395444396754363, -0.5689902576839743, 3.044340783482019, 1.2505474809367803, -1.8363813899795214, -1.4820530742319769, -0.46642801300752706, 0.812718554669287, 0.6645329003944418, 0.3270216654104052, -0.1223759657745449, 0.09624616022289444, -0.22541462588698472, -0.2958817575821674, 0.2871613386480438, 0.07953086113867225, 0.36601957350281533, 1.646247258053811, 0.40813146514571574, 0.43032791348249316, -0.35118667775584894, 1.0808974968793563, 0.4428858638821342, -1.276203580800424, -0.5670787860121267, 0.5425648310098887, -2.3985130158037213, 0.02387026311991676, -0.1123122571750988, -0.778639967616544, 0.5459580253709689, 1.4604660678279568, 0.3965009201697333, -0.5651998505477467, 0.3117696147066201, -1.5089493383412824, -0.28001165739536366, 1.3072298277883696, -0.7487924987650352, -0.48883749025194284, -0.09653869536735393, 0.01895917624825842, 0.6100637239125053]}, {\"marker\": {\"color\": \"rgba(55, 128, 191, 0.6)\", \"line\": {\"color\": \"rgba(55, 128, 191, 1.0)\", \"width\": 1}}, \"name\": \"B\", \"orientation\": \"v\", \"text\": \"\", \"type\": \"bar\", \"x\": [0, 1, 2, 3, 4, 5, 6, 7, 8, 9, 10, 11, 12, 13, 14, 15, 16, 17, 18, 19, 20, 21, 22, 23, 24, 25, 26, 27, 28, 29, 30, 31, 32, 33, 34, 35, 36, 37, 38, 39, 40, 41, 42, 43, 44, 45, 46, 47, 48, 49, 50, 51, 52, 53, 54, 55, 56, 57, 58, 59, 60, 61, 62, 63, 64, 65, 66, 67, 68, 69, 70, 71, 72, 73, 74, 75, 76, 77, 78, 79, 80, 81, 82, 83, 84, 85, 86, 87, 88, 89, 90, 91, 92, 93, 94, 95, 96, 97, 98, 99], \"y\": [0.3695370284703798, -0.8743817851595044, -1.5751701215297989, -0.5285960006848781, 1.626477455353992, -2.459883081251386, -0.2917473650965046, -0.27854283712680494, -0.21414904709360755, 0.05697064749512811, -0.11926176248256731, -0.7021821239487716, -0.24572150749364016, -0.14898474253809174, -1.3113443874376083, -4.167956106747543, 0.5272200063944493, 0.8649922158474757, -0.44583230013138686, -0.4160049037062795, -0.466239445185336, 0.08377937035475586, 0.6614591440734874, 1.12535799467954, 0.9567317890641305, 1.8181135552660397, -0.927102989747783, 0.44080180507522854, -0.06554376455534469, -0.2603983795904401, 0.6333449797500809, -0.10072593183762651, -1.1133918555613957, -1.129529656932896, -0.19799900792328565, -0.13847772677187756, -0.18071833438394155, 0.08693506582433717, 0.4956531660302352, 0.518581006571991, -0.5021690307243035, -0.46873614050059736, 2.8629607999012587, 1.1628814628174975, -0.10637423519170412, -0.5365095684859182, 0.10172889460656297, 0.8434298624659738, 0.178773563424261, -0.8930770980031411, -0.528758606533394, -0.2566640539476154, -1.288023250707061, -0.970954446795933, 0.6549562426168584, -2.3232483033711198, -0.11610262914757792, 0.09858406174514805, 0.4361663737293656, 0.6945343333387475, -0.16649974364440523, 0.8223881464101899, 1.9482584831312117, 0.29704791128841773, 0.3237810004606294, 0.544957091603034, -0.17353554497162008, -1.065684238826915, -0.08021988841387116, 0.4569936193631879, 0.6254218330930134, -0.08102891382823191, -1.0928559466028436, -1.3591555442045564, 0.4577921792340458, 0.3495884903538427, -1.1037616297370296, -1.990831617641072, 0.6455485345946241, -1.5268647591648523, -0.46605297721767797, -0.019275930557890078, -0.34203927447449445, 1.3673189706167137, 0.4734388491991349, 1.0693898450217338, -1.1866359358774416, 0.012262267947191194, 1.5134873033665468, 1.5976790969792416, -0.423613673426834, 0.06955095640490072, -1.1664675783266583, -0.6094899292030159, -0.7697122722341971, -0.011835620658037676, -0.6125980696950949, 0.6171362973467006, -1.4793715674364853, -1.1455262902983676]}, {\"marker\": {\"color\": \"rgba(50, 171, 96, 0.6)\", \"line\": {\"color\": \"rgba(50, 171, 96, 1.0)\", \"width\": 1}}, \"name\": \"C\", \"orientation\": \"v\", \"text\": \"\", \"type\": \"bar\", \"x\": [0, 1, 2, 3, 4, 5, 6, 7, 8, 9, 10, 11, 12, 13, 14, 15, 16, 17, 18, 19, 20, 21, 22, 23, 24, 25, 26, 27, 28, 29, 30, 31, 32, 33, 34, 35, 36, 37, 38, 39, 40, 41, 42, 43, 44, 45, 46, 47, 48, 49, 50, 51, 52, 53, 54, 55, 56, 57, 58, 59, 60, 61, 62, 63, 64, 65, 66, 67, 68, 69, 70, 71, 72, 73, 74, 75, 76, 77, 78, 79, 80, 81, 82, 83, 84, 85, 86, 87, 88, 89, 90, 91, 92, 93, 94, 95, 96, 97, 98, 99], \"y\": [-0.8154929365890754, 0.6792826710933785, 0.824703082888759, 0.7075762470179497, 0.07365396278792792, -0.8105705063983373, 0.13334782373413395, -0.02443113381127301, 1.0536217164839008, -0.08342677773846315, -0.298493431665501, -2.2784790679135716, -1.033862408480082, 0.8642419401735617, 0.10085264050538734, 0.9410010976361294, -0.2674685056250175, -0.8642828255005719, -0.69632068563847, -0.8664922439507659, 0.6293027737635437, 0.06050408243705343, 1.1593542458650372, -0.5899162141516092, 0.626324691115494, 1.032168396778142, 0.33754734882931714, 0.18713337526897916, -0.17343679502919768, 1.6286878922994552, 0.28899545345282185, -1.4448313139698175, -0.8388221697622474, 0.17907157837101717, 0.32931330254002256, -0.9250137613019447, 0.4935716283948479, 0.394160237456869, -2.013902701361426, -0.2940243829919321, 0.21586676849098707, 0.5298064552415997, 1.614518034961775, -2.270101038469866, 1.6886601157977816, 0.6881533447454158, 0.25174345012722577, 0.3378213355528154, 0.6705698060137221, -0.031948036708369106, -0.08220382176457258, 0.3125795749433185, 1.5272691242267729, 0.9718481567175451, -1.1274261759202133, 0.4421452144984506, -0.35499216986570375, -0.7814438069631231, -0.5598770139976932, 0.8165428868962974, -0.10292551612671881, -1.9599786743326544, 0.47510296837616367, 0.7328407303431982, -0.46872720075476854, 1.262190459516613, -0.05833540902356298, 0.11052859576117118, -0.5884698688701494, -1.2483083327623725, 0.2066697543893116, 0.6719817769679528, 0.39567931062804224, -0.4306543072032271, -1.7546189253573135, -0.47332649862861675, 0.6426916085977166, 0.9633850723074893, -0.8770555093850285, -2.905161987160775, 0.8482874475301787, -0.42270655290951586, -0.9953775484525826, 1.3213317263108992, -1.4492254391520913, -0.09570604420631665, -1.4866448108202428, -1.4453918207614649, -0.07423117728993073, -0.9995823360214144, 0.7388765575959787, -0.37297370367235766, -0.6659108390811059, -0.4651095380198942, -0.3160081273844198, -0.9815681676930179, 0.5435691970650005, 0.4969979391842474, -0.8672665672491162, 0.44019907878237374]}, {\"marker\": {\"color\": \"rgba(128, 0, 128, 0.6)\", \"line\": {\"color\": \"rgba(128, 0, 128, 1.0)\", \"width\": 1}}, \"name\": \"D\", \"orientation\": \"v\", \"text\": \"\", \"type\": \"bar\", \"x\": [0, 1, 2, 3, 4, 5, 6, 7, 8, 9, 10, 11, 12, 13, 14, 15, 16, 17, 18, 19, 20, 21, 22, 23, 24, 25, 26, 27, 28, 29, 30, 31, 32, 33, 34, 35, 36, 37, 38, 39, 40, 41, 42, 43, 44, 45, 46, 47, 48, 49, 50, 51, 52, 53, 54, 55, 56, 57, 58, 59, 60, 61, 62, 63, 64, 65, 66, 67, 68, 69, 70, 71, 72, 73, 74, 75, 76, 77, 78, 79, 80, 81, 82, 83, 84, 85, 86, 87, 88, 89, 90, 91, 92, 93, 94, 95, 96, 97, 98, 99], \"y\": [1.2822550062316957, 0.40055323573444107, 1.787307135006294, 1.7221907799186702, -0.33012384630410374, 0.5015771873657603, -0.2473547725963533, -0.0640547215064039, -1.2688345257971019, 0.7944394500612837, -0.3464648964452649, 0.3724309331099352, 0.4334063357163549, -0.7803152729518554, -0.15256826965799988, 0.9860346107050248, -0.013657624655136605, -0.4302458835164767, 0.08742528916803126, 0.519209084088822, 0.6982718270826062, -0.19695824668480003, 0.7343656222610719, 0.9842019036477565, 0.5451772059859311, -0.24858903661320736, -0.7824188710943614, 1.1640797041445852, 0.15329927658788975, -0.09114867065191426, 0.5534416427041143, 0.6946738238910318, 0.20194117504756964, -0.35896270465549474, 1.0906445557163424, -0.2824539228891635, 1.1233705548985673, 0.9589648047845943, 0.2754236452464434, -1.0603397442196445, -0.2256360884092571, 0.8603631910291578, 0.1747665131819617, 0.8597007906478508, -0.4947516166827669, 1.24843889390558, 0.5676592941056465, -0.5409291274871663, -0.043153913618455345, 1.5573689209796098, -0.7637023855934686, 0.7268950799090498, -0.48806830712512594, 0.3432994768634184, -0.6239399075477323, -0.8508008791939529, -0.5373137821388475, 0.41568614809700694, -1.0649642415638567, 0.14383644256798317, -1.8054575468622778, 0.7519404686581771, -0.4669308726577494, 2.2686409521408586, 1.9162386285954347, -0.5210201624771259, -2.2616201473779607, -0.3441027012451506, -1.403557990210369, -0.09748187365174565, 0.30996784622566304, -0.30719849294978363, -0.5164850226458253, 2.069020581536834, -0.3683269178730194, -0.16538567091528325, -1.3502023312974114, 0.03029806499858065, -0.2854438445079592, -0.33348005450209356, -0.8087196832418141, 2.7578216244376583, 1.3775591992462703, 1.1445203631577308, -1.1319746537803164, 1.2151819805491515, -1.0214125872731903, 0.542764965117343, 0.8186438869989077, 1.9598102601770646, 1.5098606557031709, 1.3644224942264092, -0.4907462799383518, 0.7910265512352088, 0.5886869733598117, -1.0582675744202503, 1.3505249560880823, 0.7928774939813371, 0.5393622371005773, -1.4353470328033175]}],\n",
       "                        {\"legend\": {\"bgcolor\": \"#F5F6F9\", \"font\": {\"color\": \"#4D5663\"}}, \"paper_bgcolor\": \"#F5F6F9\", \"plot_bgcolor\": \"#F5F6F9\", \"template\": {\"data\": {\"bar\": [{\"error_x\": {\"color\": \"#2a3f5f\"}, \"error_y\": {\"color\": \"#2a3f5f\"}, \"marker\": {\"line\": {\"color\": \"#E5ECF6\", \"width\": 0.5}}, \"type\": \"bar\"}], \"barpolar\": [{\"marker\": {\"line\": {\"color\": \"#E5ECF6\", \"width\": 0.5}}, \"type\": \"barpolar\"}], \"carpet\": [{\"aaxis\": {\"endlinecolor\": \"#2a3f5f\", \"gridcolor\": \"white\", \"linecolor\": \"white\", \"minorgridcolor\": \"white\", \"startlinecolor\": \"#2a3f5f\"}, \"baxis\": {\"endlinecolor\": \"#2a3f5f\", \"gridcolor\": \"white\", \"linecolor\": \"white\", \"minorgridcolor\": \"white\", \"startlinecolor\": \"#2a3f5f\"}, \"type\": \"carpet\"}], \"choropleth\": [{\"colorbar\": {\"outlinewidth\": 0, \"ticks\": \"\"}, \"type\": \"choropleth\"}], \"contour\": [{\"colorbar\": {\"outlinewidth\": 0, \"ticks\": \"\"}, \"colorscale\": [[0.0, \"#0d0887\"], [0.1111111111111111, \"#46039f\"], [0.2222222222222222, \"#7201a8\"], [0.3333333333333333, \"#9c179e\"], [0.4444444444444444, \"#bd3786\"], [0.5555555555555556, \"#d8576b\"], [0.6666666666666666, \"#ed7953\"], [0.7777777777777778, \"#fb9f3a\"], [0.8888888888888888, \"#fdca26\"], [1.0, \"#f0f921\"]], \"type\": \"contour\"}], \"contourcarpet\": [{\"colorbar\": {\"outlinewidth\": 0, \"ticks\": \"\"}, \"type\": \"contourcarpet\"}], \"heatmap\": [{\"colorbar\": {\"outlinewidth\": 0, \"ticks\": \"\"}, \"colorscale\": [[0.0, \"#0d0887\"], [0.1111111111111111, \"#46039f\"], [0.2222222222222222, \"#7201a8\"], [0.3333333333333333, \"#9c179e\"], [0.4444444444444444, \"#bd3786\"], [0.5555555555555556, \"#d8576b\"], [0.6666666666666666, \"#ed7953\"], [0.7777777777777778, \"#fb9f3a\"], [0.8888888888888888, \"#fdca26\"], [1.0, \"#f0f921\"]], \"type\": \"heatmap\"}], \"heatmapgl\": [{\"colorbar\": {\"outlinewidth\": 0, \"ticks\": \"\"}, \"colorscale\": [[0.0, \"#0d0887\"], [0.1111111111111111, \"#46039f\"], [0.2222222222222222, \"#7201a8\"], [0.3333333333333333, \"#9c179e\"], [0.4444444444444444, \"#bd3786\"], [0.5555555555555556, \"#d8576b\"], [0.6666666666666666, \"#ed7953\"], [0.7777777777777778, \"#fb9f3a\"], [0.8888888888888888, \"#fdca26\"], [1.0, \"#f0f921\"]], \"type\": \"heatmapgl\"}], \"histogram\": [{\"marker\": {\"colorbar\": {\"outlinewidth\": 0, \"ticks\": \"\"}}, \"type\": \"histogram\"}], \"histogram2d\": [{\"colorbar\": {\"outlinewidth\": 0, \"ticks\": \"\"}, \"colorscale\": [[0.0, \"#0d0887\"], [0.1111111111111111, \"#46039f\"], [0.2222222222222222, \"#7201a8\"], [0.3333333333333333, \"#9c179e\"], [0.4444444444444444, \"#bd3786\"], [0.5555555555555556, \"#d8576b\"], [0.6666666666666666, \"#ed7953\"], [0.7777777777777778, \"#fb9f3a\"], [0.8888888888888888, \"#fdca26\"], [1.0, \"#f0f921\"]], \"type\": \"histogram2d\"}], \"histogram2dcontour\": [{\"colorbar\": {\"outlinewidth\": 0, \"ticks\": \"\"}, \"colorscale\": [[0.0, \"#0d0887\"], [0.1111111111111111, \"#46039f\"], [0.2222222222222222, \"#7201a8\"], [0.3333333333333333, \"#9c179e\"], [0.4444444444444444, \"#bd3786\"], [0.5555555555555556, \"#d8576b\"], [0.6666666666666666, \"#ed7953\"], [0.7777777777777778, \"#fb9f3a\"], [0.8888888888888888, \"#fdca26\"], [1.0, \"#f0f921\"]], \"type\": \"histogram2dcontour\"}], \"mesh3d\": [{\"colorbar\": {\"outlinewidth\": 0, \"ticks\": \"\"}, \"type\": \"mesh3d\"}], \"parcoords\": [{\"line\": {\"colorbar\": {\"outlinewidth\": 0, \"ticks\": \"\"}}, \"type\": \"parcoords\"}], \"pie\": [{\"automargin\": true, \"type\": \"pie\"}], \"scatter\": [{\"marker\": {\"colorbar\": {\"outlinewidth\": 0, \"ticks\": \"\"}}, \"type\": \"scatter\"}], \"scatter3d\": [{\"line\": {\"colorbar\": {\"outlinewidth\": 0, \"ticks\": \"\"}}, \"marker\": {\"colorbar\": {\"outlinewidth\": 0, \"ticks\": \"\"}}, \"type\": \"scatter3d\"}], \"scattercarpet\": [{\"marker\": {\"colorbar\": {\"outlinewidth\": 0, \"ticks\": \"\"}}, \"type\": \"scattercarpet\"}], \"scattergeo\": [{\"marker\": {\"colorbar\": {\"outlinewidth\": 0, \"ticks\": \"\"}}, \"type\": \"scattergeo\"}], \"scattergl\": [{\"marker\": {\"colorbar\": {\"outlinewidth\": 0, \"ticks\": \"\"}}, \"type\": \"scattergl\"}], \"scattermapbox\": [{\"marker\": {\"colorbar\": {\"outlinewidth\": 0, \"ticks\": \"\"}}, \"type\": \"scattermapbox\"}], \"scatterpolar\": [{\"marker\": {\"colorbar\": {\"outlinewidth\": 0, \"ticks\": \"\"}}, \"type\": \"scatterpolar\"}], \"scatterpolargl\": [{\"marker\": {\"colorbar\": {\"outlinewidth\": 0, \"ticks\": \"\"}}, \"type\": \"scatterpolargl\"}], \"scatterternary\": [{\"marker\": {\"colorbar\": {\"outlinewidth\": 0, \"ticks\": \"\"}}, \"type\": \"scatterternary\"}], \"surface\": [{\"colorbar\": {\"outlinewidth\": 0, \"ticks\": \"\"}, \"colorscale\": [[0.0, \"#0d0887\"], [0.1111111111111111, \"#46039f\"], [0.2222222222222222, \"#7201a8\"], [0.3333333333333333, \"#9c179e\"], [0.4444444444444444, \"#bd3786\"], [0.5555555555555556, \"#d8576b\"], [0.6666666666666666, \"#ed7953\"], [0.7777777777777778, \"#fb9f3a\"], [0.8888888888888888, \"#fdca26\"], [1.0, \"#f0f921\"]], \"type\": \"surface\"}], \"table\": [{\"cells\": {\"fill\": {\"color\": \"#EBF0F8\"}, \"line\": {\"color\": \"white\"}}, \"header\": {\"fill\": {\"color\": \"#C8D4E3\"}, \"line\": {\"color\": \"white\"}}, \"type\": \"table\"}]}, \"layout\": {\"annotationdefaults\": {\"arrowcolor\": \"#2a3f5f\", \"arrowhead\": 0, \"arrowwidth\": 1}, \"coloraxis\": {\"colorbar\": {\"outlinewidth\": 0, \"ticks\": \"\"}}, \"colorscale\": {\"diverging\": [[0, \"#8e0152\"], [0.1, \"#c51b7d\"], [0.2, \"#de77ae\"], [0.3, \"#f1b6da\"], [0.4, \"#fde0ef\"], [0.5, \"#f7f7f7\"], [0.6, \"#e6f5d0\"], [0.7, \"#b8e186\"], [0.8, \"#7fbc41\"], [0.9, \"#4d9221\"], [1, \"#276419\"]], \"sequential\": [[0.0, \"#0d0887\"], [0.1111111111111111, \"#46039f\"], [0.2222222222222222, \"#7201a8\"], [0.3333333333333333, \"#9c179e\"], [0.4444444444444444, \"#bd3786\"], [0.5555555555555556, \"#d8576b\"], [0.6666666666666666, \"#ed7953\"], [0.7777777777777778, \"#fb9f3a\"], [0.8888888888888888, \"#fdca26\"], [1.0, \"#f0f921\"]], \"sequentialminus\": [[0.0, \"#0d0887\"], [0.1111111111111111, \"#46039f\"], [0.2222222222222222, \"#7201a8\"], [0.3333333333333333, \"#9c179e\"], [0.4444444444444444, \"#bd3786\"], [0.5555555555555556, \"#d8576b\"], [0.6666666666666666, \"#ed7953\"], [0.7777777777777778, \"#fb9f3a\"], [0.8888888888888888, \"#fdca26\"], [1.0, \"#f0f921\"]]}, \"colorway\": [\"#636efa\", \"#EF553B\", \"#00cc96\", \"#ab63fa\", \"#FFA15A\", \"#19d3f3\", \"#FF6692\", \"#B6E880\", \"#FF97FF\", \"#FECB52\"], \"font\": {\"color\": \"#2a3f5f\"}, \"geo\": {\"bgcolor\": \"white\", \"lakecolor\": \"white\", \"landcolor\": \"#E5ECF6\", \"showlakes\": true, \"showland\": true, \"subunitcolor\": \"white\"}, \"hoverlabel\": {\"align\": \"left\"}, \"hovermode\": \"closest\", \"mapbox\": {\"style\": \"light\"}, \"paper_bgcolor\": \"white\", \"plot_bgcolor\": \"#E5ECF6\", \"polar\": {\"angularaxis\": {\"gridcolor\": \"white\", \"linecolor\": \"white\", \"ticks\": \"\"}, \"bgcolor\": \"#E5ECF6\", \"radialaxis\": {\"gridcolor\": \"white\", \"linecolor\": \"white\", \"ticks\": \"\"}}, \"scene\": {\"xaxis\": {\"backgroundcolor\": \"#E5ECF6\", \"gridcolor\": \"white\", \"gridwidth\": 2, \"linecolor\": \"white\", \"showbackground\": true, \"ticks\": \"\", \"zerolinecolor\": \"white\"}, \"yaxis\": {\"backgroundcolor\": \"#E5ECF6\", \"gridcolor\": \"white\", \"gridwidth\": 2, \"linecolor\": \"white\", \"showbackground\": true, \"ticks\": \"\", \"zerolinecolor\": \"white\"}, \"zaxis\": {\"backgroundcolor\": \"#E5ECF6\", \"gridcolor\": \"white\", \"gridwidth\": 2, \"linecolor\": \"white\", \"showbackground\": true, \"ticks\": \"\", \"zerolinecolor\": \"white\"}}, \"shapedefaults\": {\"line\": {\"color\": \"#2a3f5f\"}}, \"ternary\": {\"aaxis\": {\"gridcolor\": \"white\", \"linecolor\": \"white\", \"ticks\": \"\"}, \"baxis\": {\"gridcolor\": \"white\", \"linecolor\": \"white\", \"ticks\": \"\"}, \"bgcolor\": \"#E5ECF6\", \"caxis\": {\"gridcolor\": \"white\", \"linecolor\": \"white\", \"ticks\": \"\"}}, \"title\": {\"x\": 0.05}, \"xaxis\": {\"automargin\": true, \"gridcolor\": \"white\", \"linecolor\": \"white\", \"ticks\": \"\", \"title\": {\"standoff\": 15}, \"zerolinecolor\": \"white\", \"zerolinewidth\": 2}, \"yaxis\": {\"automargin\": true, \"gridcolor\": \"white\", \"linecolor\": \"white\", \"ticks\": \"\", \"title\": {\"standoff\": 15}, \"zerolinecolor\": \"white\", \"zerolinewidth\": 2}}}, \"title\": {\"font\": {\"color\": \"#4D5663\"}}, \"xaxis\": {\"gridcolor\": \"#E1E5ED\", \"showgrid\": true, \"tickfont\": {\"color\": \"#4D5663\"}, \"title\": {\"font\": {\"color\": \"#4D5663\"}, \"text\": \"\"}, \"zerolinecolor\": \"#E1E5ED\"}, \"yaxis\": {\"gridcolor\": \"#E1E5ED\", \"showgrid\": true, \"tickfont\": {\"color\": \"#4D5663\"}, \"title\": {\"font\": {\"color\": \"#4D5663\"}, \"text\": \"\"}, \"zerolinecolor\": \"#E1E5ED\"}},\n",
       "                        {\"showLink\": true, \"linkText\": \"Export to plot.ly\", \"plotlyServerURL\": \"https://plot.ly\", \"responsive\": true}\n",
       "                    ).then(function(){\n",
       "                            \n",
       "var gd = document.getElementById('ed137b63-be18-4646-aa0f-c5d857b48eea');\n",
       "var x = new MutationObserver(function (mutations, observer) {{\n",
       "        var display = window.getComputedStyle(gd).display;\n",
       "        if (!display || display === 'none') {{\n",
       "            console.log([gd, 'removed!']);\n",
       "            Plotly.purge(gd);\n",
       "            observer.disconnect();\n",
       "        }}\n",
       "}});\n",
       "\n",
       "// Listen for the removal of the full notebook cells\n",
       "var notebookContainer = gd.closest('#notebook-container');\n",
       "if (notebookContainer) {{\n",
       "    x.observe(notebookContainer, {childList: true});\n",
       "}}\n",
       "\n",
       "// Listen for the clearing of the current output cell\n",
       "var outputEl = gd.closest('.output');\n",
       "if (outputEl) {{\n",
       "    x.observe(outputEl, {childList: true});\n",
       "}}\n",
       "\n",
       "                        })\n",
       "                };\n",
       "                });\n",
       "            </script>\n",
       "        </div>"
      ]
     },
     "metadata": {},
     "output_type": "display_data"
    }
   ],
   "source": [
    "df.iplot(kind='bar')"
   ]
  },
  {
   "cell_type": "code",
   "execution_count": 25,
   "metadata": {},
   "outputs": [
    {
     "data": {
      "application/vnd.plotly.v1+json": {
       "config": {
        "linkText": "Export to plot.ly",
        "plotlyServerURL": "https://plot.ly",
        "showLink": true
       },
       "data": [
        {
         "marker": {
          "color": "rgba(255, 153, 51, 0.6)",
          "line": {
           "color": "rgba(255, 153, 51, 1.0)",
           "width": 1
          }
         },
         "name": "None",
         "orientation": "v",
         "text": "",
         "type": "bar",
         "x": [
          "A",
          "B",
          "C",
          "D"
         ],
         "y": [
          100,
          100,
          100,
          100
         ]
        }
       ],
       "layout": {
        "legend": {
         "bgcolor": "#F5F6F9",
         "font": {
          "color": "#4D5663"
         }
        },
        "paper_bgcolor": "#F5F6F9",
        "plot_bgcolor": "#F5F6F9",
        "template": {
         "data": {
          "bar": [
           {
            "error_x": {
             "color": "#2a3f5f"
            },
            "error_y": {
             "color": "#2a3f5f"
            },
            "marker": {
             "line": {
              "color": "#E5ECF6",
              "width": 0.5
             }
            },
            "type": "bar"
           }
          ],
          "barpolar": [
           {
            "marker": {
             "line": {
              "color": "#E5ECF6",
              "width": 0.5
             }
            },
            "type": "barpolar"
           }
          ],
          "carpet": [
           {
            "aaxis": {
             "endlinecolor": "#2a3f5f",
             "gridcolor": "white",
             "linecolor": "white",
             "minorgridcolor": "white",
             "startlinecolor": "#2a3f5f"
            },
            "baxis": {
             "endlinecolor": "#2a3f5f",
             "gridcolor": "white",
             "linecolor": "white",
             "minorgridcolor": "white",
             "startlinecolor": "#2a3f5f"
            },
            "type": "carpet"
           }
          ],
          "choropleth": [
           {
            "colorbar": {
             "outlinewidth": 0,
             "ticks": ""
            },
            "type": "choropleth"
           }
          ],
          "contour": [
           {
            "colorbar": {
             "outlinewidth": 0,
             "ticks": ""
            },
            "colorscale": [
             [
              0,
              "#0d0887"
             ],
             [
              0.1111111111111111,
              "#46039f"
             ],
             [
              0.2222222222222222,
              "#7201a8"
             ],
             [
              0.3333333333333333,
              "#9c179e"
             ],
             [
              0.4444444444444444,
              "#bd3786"
             ],
             [
              0.5555555555555556,
              "#d8576b"
             ],
             [
              0.6666666666666666,
              "#ed7953"
             ],
             [
              0.7777777777777778,
              "#fb9f3a"
             ],
             [
              0.8888888888888888,
              "#fdca26"
             ],
             [
              1,
              "#f0f921"
             ]
            ],
            "type": "contour"
           }
          ],
          "contourcarpet": [
           {
            "colorbar": {
             "outlinewidth": 0,
             "ticks": ""
            },
            "type": "contourcarpet"
           }
          ],
          "heatmap": [
           {
            "colorbar": {
             "outlinewidth": 0,
             "ticks": ""
            },
            "colorscale": [
             [
              0,
              "#0d0887"
             ],
             [
              0.1111111111111111,
              "#46039f"
             ],
             [
              0.2222222222222222,
              "#7201a8"
             ],
             [
              0.3333333333333333,
              "#9c179e"
             ],
             [
              0.4444444444444444,
              "#bd3786"
             ],
             [
              0.5555555555555556,
              "#d8576b"
             ],
             [
              0.6666666666666666,
              "#ed7953"
             ],
             [
              0.7777777777777778,
              "#fb9f3a"
             ],
             [
              0.8888888888888888,
              "#fdca26"
             ],
             [
              1,
              "#f0f921"
             ]
            ],
            "type": "heatmap"
           }
          ],
          "heatmapgl": [
           {
            "colorbar": {
             "outlinewidth": 0,
             "ticks": ""
            },
            "colorscale": [
             [
              0,
              "#0d0887"
             ],
             [
              0.1111111111111111,
              "#46039f"
             ],
             [
              0.2222222222222222,
              "#7201a8"
             ],
             [
              0.3333333333333333,
              "#9c179e"
             ],
             [
              0.4444444444444444,
              "#bd3786"
             ],
             [
              0.5555555555555556,
              "#d8576b"
             ],
             [
              0.6666666666666666,
              "#ed7953"
             ],
             [
              0.7777777777777778,
              "#fb9f3a"
             ],
             [
              0.8888888888888888,
              "#fdca26"
             ],
             [
              1,
              "#f0f921"
             ]
            ],
            "type": "heatmapgl"
           }
          ],
          "histogram": [
           {
            "marker": {
             "colorbar": {
              "outlinewidth": 0,
              "ticks": ""
             }
            },
            "type": "histogram"
           }
          ],
          "histogram2d": [
           {
            "colorbar": {
             "outlinewidth": 0,
             "ticks": ""
            },
            "colorscale": [
             [
              0,
              "#0d0887"
             ],
             [
              0.1111111111111111,
              "#46039f"
             ],
             [
              0.2222222222222222,
              "#7201a8"
             ],
             [
              0.3333333333333333,
              "#9c179e"
             ],
             [
              0.4444444444444444,
              "#bd3786"
             ],
             [
              0.5555555555555556,
              "#d8576b"
             ],
             [
              0.6666666666666666,
              "#ed7953"
             ],
             [
              0.7777777777777778,
              "#fb9f3a"
             ],
             [
              0.8888888888888888,
              "#fdca26"
             ],
             [
              1,
              "#f0f921"
             ]
            ],
            "type": "histogram2d"
           }
          ],
          "histogram2dcontour": [
           {
            "colorbar": {
             "outlinewidth": 0,
             "ticks": ""
            },
            "colorscale": [
             [
              0,
              "#0d0887"
             ],
             [
              0.1111111111111111,
              "#46039f"
             ],
             [
              0.2222222222222222,
              "#7201a8"
             ],
             [
              0.3333333333333333,
              "#9c179e"
             ],
             [
              0.4444444444444444,
              "#bd3786"
             ],
             [
              0.5555555555555556,
              "#d8576b"
             ],
             [
              0.6666666666666666,
              "#ed7953"
             ],
             [
              0.7777777777777778,
              "#fb9f3a"
             ],
             [
              0.8888888888888888,
              "#fdca26"
             ],
             [
              1,
              "#f0f921"
             ]
            ],
            "type": "histogram2dcontour"
           }
          ],
          "mesh3d": [
           {
            "colorbar": {
             "outlinewidth": 0,
             "ticks": ""
            },
            "type": "mesh3d"
           }
          ],
          "parcoords": [
           {
            "line": {
             "colorbar": {
              "outlinewidth": 0,
              "ticks": ""
             }
            },
            "type": "parcoords"
           }
          ],
          "pie": [
           {
            "automargin": true,
            "type": "pie"
           }
          ],
          "scatter": [
           {
            "marker": {
             "colorbar": {
              "outlinewidth": 0,
              "ticks": ""
             }
            },
            "type": "scatter"
           }
          ],
          "scatter3d": [
           {
            "line": {
             "colorbar": {
              "outlinewidth": 0,
              "ticks": ""
             }
            },
            "marker": {
             "colorbar": {
              "outlinewidth": 0,
              "ticks": ""
             }
            },
            "type": "scatter3d"
           }
          ],
          "scattercarpet": [
           {
            "marker": {
             "colorbar": {
              "outlinewidth": 0,
              "ticks": ""
             }
            },
            "type": "scattercarpet"
           }
          ],
          "scattergeo": [
           {
            "marker": {
             "colorbar": {
              "outlinewidth": 0,
              "ticks": ""
             }
            },
            "type": "scattergeo"
           }
          ],
          "scattergl": [
           {
            "marker": {
             "colorbar": {
              "outlinewidth": 0,
              "ticks": ""
             }
            },
            "type": "scattergl"
           }
          ],
          "scattermapbox": [
           {
            "marker": {
             "colorbar": {
              "outlinewidth": 0,
              "ticks": ""
             }
            },
            "type": "scattermapbox"
           }
          ],
          "scatterpolar": [
           {
            "marker": {
             "colorbar": {
              "outlinewidth": 0,
              "ticks": ""
             }
            },
            "type": "scatterpolar"
           }
          ],
          "scatterpolargl": [
           {
            "marker": {
             "colorbar": {
              "outlinewidth": 0,
              "ticks": ""
             }
            },
            "type": "scatterpolargl"
           }
          ],
          "scatterternary": [
           {
            "marker": {
             "colorbar": {
              "outlinewidth": 0,
              "ticks": ""
             }
            },
            "type": "scatterternary"
           }
          ],
          "surface": [
           {
            "colorbar": {
             "outlinewidth": 0,
             "ticks": ""
            },
            "colorscale": [
             [
              0,
              "#0d0887"
             ],
             [
              0.1111111111111111,
              "#46039f"
             ],
             [
              0.2222222222222222,
              "#7201a8"
             ],
             [
              0.3333333333333333,
              "#9c179e"
             ],
             [
              0.4444444444444444,
              "#bd3786"
             ],
             [
              0.5555555555555556,
              "#d8576b"
             ],
             [
              0.6666666666666666,
              "#ed7953"
             ],
             [
              0.7777777777777778,
              "#fb9f3a"
             ],
             [
              0.8888888888888888,
              "#fdca26"
             ],
             [
              1,
              "#f0f921"
             ]
            ],
            "type": "surface"
           }
          ],
          "table": [
           {
            "cells": {
             "fill": {
              "color": "#EBF0F8"
             },
             "line": {
              "color": "white"
             }
            },
            "header": {
             "fill": {
              "color": "#C8D4E3"
             },
             "line": {
              "color": "white"
             }
            },
            "type": "table"
           }
          ]
         },
         "layout": {
          "annotationdefaults": {
           "arrowcolor": "#2a3f5f",
           "arrowhead": 0,
           "arrowwidth": 1
          },
          "coloraxis": {
           "colorbar": {
            "outlinewidth": 0,
            "ticks": ""
           }
          },
          "colorscale": {
           "diverging": [
            [
             0,
             "#8e0152"
            ],
            [
             0.1,
             "#c51b7d"
            ],
            [
             0.2,
             "#de77ae"
            ],
            [
             0.3,
             "#f1b6da"
            ],
            [
             0.4,
             "#fde0ef"
            ],
            [
             0.5,
             "#f7f7f7"
            ],
            [
             0.6,
             "#e6f5d0"
            ],
            [
             0.7,
             "#b8e186"
            ],
            [
             0.8,
             "#7fbc41"
            ],
            [
             0.9,
             "#4d9221"
            ],
            [
             1,
             "#276419"
            ]
           ],
           "sequential": [
            [
             0,
             "#0d0887"
            ],
            [
             0.1111111111111111,
             "#46039f"
            ],
            [
             0.2222222222222222,
             "#7201a8"
            ],
            [
             0.3333333333333333,
             "#9c179e"
            ],
            [
             0.4444444444444444,
             "#bd3786"
            ],
            [
             0.5555555555555556,
             "#d8576b"
            ],
            [
             0.6666666666666666,
             "#ed7953"
            ],
            [
             0.7777777777777778,
             "#fb9f3a"
            ],
            [
             0.8888888888888888,
             "#fdca26"
            ],
            [
             1,
             "#f0f921"
            ]
           ],
           "sequentialminus": [
            [
             0,
             "#0d0887"
            ],
            [
             0.1111111111111111,
             "#46039f"
            ],
            [
             0.2222222222222222,
             "#7201a8"
            ],
            [
             0.3333333333333333,
             "#9c179e"
            ],
            [
             0.4444444444444444,
             "#bd3786"
            ],
            [
             0.5555555555555556,
             "#d8576b"
            ],
            [
             0.6666666666666666,
             "#ed7953"
            ],
            [
             0.7777777777777778,
             "#fb9f3a"
            ],
            [
             0.8888888888888888,
             "#fdca26"
            ],
            [
             1,
             "#f0f921"
            ]
           ]
          },
          "colorway": [
           "#636efa",
           "#EF553B",
           "#00cc96",
           "#ab63fa",
           "#FFA15A",
           "#19d3f3",
           "#FF6692",
           "#B6E880",
           "#FF97FF",
           "#FECB52"
          ],
          "font": {
           "color": "#2a3f5f"
          },
          "geo": {
           "bgcolor": "white",
           "lakecolor": "white",
           "landcolor": "#E5ECF6",
           "showlakes": true,
           "showland": true,
           "subunitcolor": "white"
          },
          "hoverlabel": {
           "align": "left"
          },
          "hovermode": "closest",
          "mapbox": {
           "style": "light"
          },
          "paper_bgcolor": "white",
          "plot_bgcolor": "#E5ECF6",
          "polar": {
           "angularaxis": {
            "gridcolor": "white",
            "linecolor": "white",
            "ticks": ""
           },
           "bgcolor": "#E5ECF6",
           "radialaxis": {
            "gridcolor": "white",
            "linecolor": "white",
            "ticks": ""
           }
          },
          "scene": {
           "xaxis": {
            "backgroundcolor": "#E5ECF6",
            "gridcolor": "white",
            "gridwidth": 2,
            "linecolor": "white",
            "showbackground": true,
            "ticks": "",
            "zerolinecolor": "white"
           },
           "yaxis": {
            "backgroundcolor": "#E5ECF6",
            "gridcolor": "white",
            "gridwidth": 2,
            "linecolor": "white",
            "showbackground": true,
            "ticks": "",
            "zerolinecolor": "white"
           },
           "zaxis": {
            "backgroundcolor": "#E5ECF6",
            "gridcolor": "white",
            "gridwidth": 2,
            "linecolor": "white",
            "showbackground": true,
            "ticks": "",
            "zerolinecolor": "white"
           }
          },
          "shapedefaults": {
           "line": {
            "color": "#2a3f5f"
           }
          },
          "ternary": {
           "aaxis": {
            "gridcolor": "white",
            "linecolor": "white",
            "ticks": ""
           },
           "baxis": {
            "gridcolor": "white",
            "linecolor": "white",
            "ticks": ""
           },
           "bgcolor": "#E5ECF6",
           "caxis": {
            "gridcolor": "white",
            "linecolor": "white",
            "ticks": ""
           }
          },
          "title": {
           "x": 0.05
          },
          "xaxis": {
           "automargin": true,
           "gridcolor": "white",
           "linecolor": "white",
           "ticks": "",
           "title": {
            "standoff": 15
           },
           "zerolinecolor": "white",
           "zerolinewidth": 2
          },
          "yaxis": {
           "automargin": true,
           "gridcolor": "white",
           "linecolor": "white",
           "ticks": "",
           "title": {
            "standoff": 15
           },
           "zerolinecolor": "white",
           "zerolinewidth": 2
          }
         }
        },
        "title": {
         "font": {
          "color": "#4D5663"
         }
        },
        "xaxis": {
         "gridcolor": "#E1E5ED",
         "showgrid": true,
         "tickfont": {
          "color": "#4D5663"
         },
         "title": {
          "font": {
           "color": "#4D5663"
          },
          "text": ""
         },
         "zerolinecolor": "#E1E5ED"
        },
        "yaxis": {
         "gridcolor": "#E1E5ED",
         "showgrid": true,
         "tickfont": {
          "color": "#4D5663"
         },
         "title": {
          "font": {
           "color": "#4D5663"
          },
          "text": ""
         },
         "zerolinecolor": "#E1E5ED"
        }
       }
      },
      "text/html": [
       "<div>\n",
       "        \n",
       "        \n",
       "            <div id=\"e6a9f3f4-22d4-4155-927f-2809d7cfe094\" class=\"plotly-graph-div\" style=\"height:525px; width:100%;\"></div>\n",
       "            <script type=\"text/javascript\">\n",
       "                require([\"plotly\"], function(Plotly) {\n",
       "                    window.PLOTLYENV=window.PLOTLYENV || {};\n",
       "                    window.PLOTLYENV.BASE_URL='https://plot.ly';\n",
       "                    \n",
       "                if (document.getElementById(\"e6a9f3f4-22d4-4155-927f-2809d7cfe094\")) {\n",
       "                    Plotly.newPlot(\n",
       "                        'e6a9f3f4-22d4-4155-927f-2809d7cfe094',\n",
       "                        [{\"marker\": {\"color\": \"rgba(255, 153, 51, 0.6)\", \"line\": {\"color\": \"rgba(255, 153, 51, 1.0)\", \"width\": 1}}, \"name\": \"None\", \"orientation\": \"v\", \"text\": \"\", \"type\": \"bar\", \"x\": [\"A\", \"B\", \"C\", \"D\"], \"y\": [100, 100, 100, 100]}],\n",
       "                        {\"legend\": {\"bgcolor\": \"#F5F6F9\", \"font\": {\"color\": \"#4D5663\"}}, \"paper_bgcolor\": \"#F5F6F9\", \"plot_bgcolor\": \"#F5F6F9\", \"template\": {\"data\": {\"bar\": [{\"error_x\": {\"color\": \"#2a3f5f\"}, \"error_y\": {\"color\": \"#2a3f5f\"}, \"marker\": {\"line\": {\"color\": \"#E5ECF6\", \"width\": 0.5}}, \"type\": \"bar\"}], \"barpolar\": [{\"marker\": {\"line\": {\"color\": \"#E5ECF6\", \"width\": 0.5}}, \"type\": \"barpolar\"}], \"carpet\": [{\"aaxis\": {\"endlinecolor\": \"#2a3f5f\", \"gridcolor\": \"white\", \"linecolor\": \"white\", \"minorgridcolor\": \"white\", \"startlinecolor\": \"#2a3f5f\"}, \"baxis\": {\"endlinecolor\": \"#2a3f5f\", \"gridcolor\": \"white\", \"linecolor\": \"white\", \"minorgridcolor\": \"white\", \"startlinecolor\": \"#2a3f5f\"}, \"type\": \"carpet\"}], \"choropleth\": [{\"colorbar\": {\"outlinewidth\": 0, \"ticks\": \"\"}, \"type\": \"choropleth\"}], \"contour\": [{\"colorbar\": {\"outlinewidth\": 0, \"ticks\": \"\"}, \"colorscale\": [[0.0, \"#0d0887\"], [0.1111111111111111, \"#46039f\"], [0.2222222222222222, \"#7201a8\"], [0.3333333333333333, \"#9c179e\"], [0.4444444444444444, \"#bd3786\"], [0.5555555555555556, \"#d8576b\"], [0.6666666666666666, \"#ed7953\"], [0.7777777777777778, \"#fb9f3a\"], [0.8888888888888888, \"#fdca26\"], [1.0, \"#f0f921\"]], \"type\": \"contour\"}], \"contourcarpet\": [{\"colorbar\": {\"outlinewidth\": 0, \"ticks\": \"\"}, \"type\": \"contourcarpet\"}], \"heatmap\": [{\"colorbar\": {\"outlinewidth\": 0, \"ticks\": \"\"}, \"colorscale\": [[0.0, \"#0d0887\"], [0.1111111111111111, \"#46039f\"], [0.2222222222222222, \"#7201a8\"], [0.3333333333333333, \"#9c179e\"], [0.4444444444444444, \"#bd3786\"], [0.5555555555555556, \"#d8576b\"], [0.6666666666666666, \"#ed7953\"], [0.7777777777777778, \"#fb9f3a\"], [0.8888888888888888, \"#fdca26\"], [1.0, \"#f0f921\"]], \"type\": \"heatmap\"}], \"heatmapgl\": [{\"colorbar\": {\"outlinewidth\": 0, \"ticks\": \"\"}, \"colorscale\": [[0.0, \"#0d0887\"], [0.1111111111111111, \"#46039f\"], [0.2222222222222222, \"#7201a8\"], [0.3333333333333333, \"#9c179e\"], [0.4444444444444444, \"#bd3786\"], [0.5555555555555556, \"#d8576b\"], [0.6666666666666666, \"#ed7953\"], [0.7777777777777778, \"#fb9f3a\"], [0.8888888888888888, \"#fdca26\"], [1.0, \"#f0f921\"]], \"type\": \"heatmapgl\"}], \"histogram\": [{\"marker\": {\"colorbar\": {\"outlinewidth\": 0, \"ticks\": \"\"}}, \"type\": \"histogram\"}], \"histogram2d\": [{\"colorbar\": {\"outlinewidth\": 0, \"ticks\": \"\"}, \"colorscale\": [[0.0, \"#0d0887\"], [0.1111111111111111, \"#46039f\"], [0.2222222222222222, \"#7201a8\"], [0.3333333333333333, \"#9c179e\"], [0.4444444444444444, \"#bd3786\"], [0.5555555555555556, \"#d8576b\"], [0.6666666666666666, \"#ed7953\"], [0.7777777777777778, \"#fb9f3a\"], [0.8888888888888888, \"#fdca26\"], [1.0, \"#f0f921\"]], \"type\": \"histogram2d\"}], \"histogram2dcontour\": [{\"colorbar\": {\"outlinewidth\": 0, \"ticks\": \"\"}, \"colorscale\": [[0.0, \"#0d0887\"], [0.1111111111111111, \"#46039f\"], [0.2222222222222222, \"#7201a8\"], [0.3333333333333333, \"#9c179e\"], [0.4444444444444444, \"#bd3786\"], [0.5555555555555556, \"#d8576b\"], [0.6666666666666666, \"#ed7953\"], [0.7777777777777778, \"#fb9f3a\"], [0.8888888888888888, \"#fdca26\"], [1.0, \"#f0f921\"]], \"type\": \"histogram2dcontour\"}], \"mesh3d\": [{\"colorbar\": {\"outlinewidth\": 0, \"ticks\": \"\"}, \"type\": \"mesh3d\"}], \"parcoords\": [{\"line\": {\"colorbar\": {\"outlinewidth\": 0, \"ticks\": \"\"}}, \"type\": \"parcoords\"}], \"pie\": [{\"automargin\": true, \"type\": \"pie\"}], \"scatter\": [{\"marker\": {\"colorbar\": {\"outlinewidth\": 0, \"ticks\": \"\"}}, \"type\": \"scatter\"}], \"scatter3d\": [{\"line\": {\"colorbar\": {\"outlinewidth\": 0, \"ticks\": \"\"}}, \"marker\": {\"colorbar\": {\"outlinewidth\": 0, \"ticks\": \"\"}}, \"type\": \"scatter3d\"}], \"scattercarpet\": [{\"marker\": {\"colorbar\": {\"outlinewidth\": 0, \"ticks\": \"\"}}, \"type\": \"scattercarpet\"}], \"scattergeo\": [{\"marker\": {\"colorbar\": {\"outlinewidth\": 0, \"ticks\": \"\"}}, \"type\": \"scattergeo\"}], \"scattergl\": [{\"marker\": {\"colorbar\": {\"outlinewidth\": 0, \"ticks\": \"\"}}, \"type\": \"scattergl\"}], \"scattermapbox\": [{\"marker\": {\"colorbar\": {\"outlinewidth\": 0, \"ticks\": \"\"}}, \"type\": \"scattermapbox\"}], \"scatterpolar\": [{\"marker\": {\"colorbar\": {\"outlinewidth\": 0, \"ticks\": \"\"}}, \"type\": \"scatterpolar\"}], \"scatterpolargl\": [{\"marker\": {\"colorbar\": {\"outlinewidth\": 0, \"ticks\": \"\"}}, \"type\": \"scatterpolargl\"}], \"scatterternary\": [{\"marker\": {\"colorbar\": {\"outlinewidth\": 0, \"ticks\": \"\"}}, \"type\": \"scatterternary\"}], \"surface\": [{\"colorbar\": {\"outlinewidth\": 0, \"ticks\": \"\"}, \"colorscale\": [[0.0, \"#0d0887\"], [0.1111111111111111, \"#46039f\"], [0.2222222222222222, \"#7201a8\"], [0.3333333333333333, \"#9c179e\"], [0.4444444444444444, \"#bd3786\"], [0.5555555555555556, \"#d8576b\"], [0.6666666666666666, \"#ed7953\"], [0.7777777777777778, \"#fb9f3a\"], [0.8888888888888888, \"#fdca26\"], [1.0, \"#f0f921\"]], \"type\": \"surface\"}], \"table\": [{\"cells\": {\"fill\": {\"color\": \"#EBF0F8\"}, \"line\": {\"color\": \"white\"}}, \"header\": {\"fill\": {\"color\": \"#C8D4E3\"}, \"line\": {\"color\": \"white\"}}, \"type\": \"table\"}]}, \"layout\": {\"annotationdefaults\": {\"arrowcolor\": \"#2a3f5f\", \"arrowhead\": 0, \"arrowwidth\": 1}, \"coloraxis\": {\"colorbar\": {\"outlinewidth\": 0, \"ticks\": \"\"}}, \"colorscale\": {\"diverging\": [[0, \"#8e0152\"], [0.1, \"#c51b7d\"], [0.2, \"#de77ae\"], [0.3, \"#f1b6da\"], [0.4, \"#fde0ef\"], [0.5, \"#f7f7f7\"], [0.6, \"#e6f5d0\"], [0.7, \"#b8e186\"], [0.8, \"#7fbc41\"], [0.9, \"#4d9221\"], [1, \"#276419\"]], \"sequential\": [[0.0, \"#0d0887\"], [0.1111111111111111, \"#46039f\"], [0.2222222222222222, \"#7201a8\"], [0.3333333333333333, \"#9c179e\"], [0.4444444444444444, \"#bd3786\"], [0.5555555555555556, \"#d8576b\"], [0.6666666666666666, \"#ed7953\"], [0.7777777777777778, \"#fb9f3a\"], [0.8888888888888888, \"#fdca26\"], [1.0, \"#f0f921\"]], \"sequentialminus\": [[0.0, \"#0d0887\"], [0.1111111111111111, \"#46039f\"], [0.2222222222222222, \"#7201a8\"], [0.3333333333333333, \"#9c179e\"], [0.4444444444444444, \"#bd3786\"], [0.5555555555555556, \"#d8576b\"], [0.6666666666666666, \"#ed7953\"], [0.7777777777777778, \"#fb9f3a\"], [0.8888888888888888, \"#fdca26\"], [1.0, \"#f0f921\"]]}, \"colorway\": [\"#636efa\", \"#EF553B\", \"#00cc96\", \"#ab63fa\", \"#FFA15A\", \"#19d3f3\", \"#FF6692\", \"#B6E880\", \"#FF97FF\", \"#FECB52\"], \"font\": {\"color\": \"#2a3f5f\"}, \"geo\": {\"bgcolor\": \"white\", \"lakecolor\": \"white\", \"landcolor\": \"#E5ECF6\", \"showlakes\": true, \"showland\": true, \"subunitcolor\": \"white\"}, \"hoverlabel\": {\"align\": \"left\"}, \"hovermode\": \"closest\", \"mapbox\": {\"style\": \"light\"}, \"paper_bgcolor\": \"white\", \"plot_bgcolor\": \"#E5ECF6\", \"polar\": {\"angularaxis\": {\"gridcolor\": \"white\", \"linecolor\": \"white\", \"ticks\": \"\"}, \"bgcolor\": \"#E5ECF6\", \"radialaxis\": {\"gridcolor\": \"white\", \"linecolor\": \"white\", \"ticks\": \"\"}}, \"scene\": {\"xaxis\": {\"backgroundcolor\": \"#E5ECF6\", \"gridcolor\": \"white\", \"gridwidth\": 2, \"linecolor\": \"white\", \"showbackground\": true, \"ticks\": \"\", \"zerolinecolor\": \"white\"}, \"yaxis\": {\"backgroundcolor\": \"#E5ECF6\", \"gridcolor\": \"white\", \"gridwidth\": 2, \"linecolor\": \"white\", \"showbackground\": true, \"ticks\": \"\", \"zerolinecolor\": \"white\"}, \"zaxis\": {\"backgroundcolor\": \"#E5ECF6\", \"gridcolor\": \"white\", \"gridwidth\": 2, \"linecolor\": \"white\", \"showbackground\": true, \"ticks\": \"\", \"zerolinecolor\": \"white\"}}, \"shapedefaults\": {\"line\": {\"color\": \"#2a3f5f\"}}, \"ternary\": {\"aaxis\": {\"gridcolor\": \"white\", \"linecolor\": \"white\", \"ticks\": \"\"}, \"baxis\": {\"gridcolor\": \"white\", \"linecolor\": \"white\", \"ticks\": \"\"}, \"bgcolor\": \"#E5ECF6\", \"caxis\": {\"gridcolor\": \"white\", \"linecolor\": \"white\", \"ticks\": \"\"}}, \"title\": {\"x\": 0.05}, \"xaxis\": {\"automargin\": true, \"gridcolor\": \"white\", \"linecolor\": \"white\", \"ticks\": \"\", \"title\": {\"standoff\": 15}, \"zerolinecolor\": \"white\", \"zerolinewidth\": 2}, \"yaxis\": {\"automargin\": true, \"gridcolor\": \"white\", \"linecolor\": \"white\", \"ticks\": \"\", \"title\": {\"standoff\": 15}, \"zerolinecolor\": \"white\", \"zerolinewidth\": 2}}}, \"title\": {\"font\": {\"color\": \"#4D5663\"}}, \"xaxis\": {\"gridcolor\": \"#E1E5ED\", \"showgrid\": true, \"tickfont\": {\"color\": \"#4D5663\"}, \"title\": {\"font\": {\"color\": \"#4D5663\"}, \"text\": \"\"}, \"zerolinecolor\": \"#E1E5ED\"}, \"yaxis\": {\"gridcolor\": \"#E1E5ED\", \"showgrid\": true, \"tickfont\": {\"color\": \"#4D5663\"}, \"title\": {\"font\": {\"color\": \"#4D5663\"}, \"text\": \"\"}, \"zerolinecolor\": \"#E1E5ED\"}},\n",
       "                        {\"showLink\": true, \"linkText\": \"Export to plot.ly\", \"plotlyServerURL\": \"https://plot.ly\", \"responsive\": true}\n",
       "                    ).then(function(){\n",
       "                            \n",
       "var gd = document.getElementById('e6a9f3f4-22d4-4155-927f-2809d7cfe094');\n",
       "var x = new MutationObserver(function (mutations, observer) {{\n",
       "        var display = window.getComputedStyle(gd).display;\n",
       "        if (!display || display === 'none') {{\n",
       "            console.log([gd, 'removed!']);\n",
       "            Plotly.purge(gd);\n",
       "            observer.disconnect();\n",
       "        }}\n",
       "}});\n",
       "\n",
       "// Listen for the removal of the full notebook cells\n",
       "var notebookContainer = gd.closest('#notebook-container');\n",
       "if (notebookContainer) {{\n",
       "    x.observe(notebookContainer, {childList: true});\n",
       "}}\n",
       "\n",
       "// Listen for the clearing of the current output cell\n",
       "var outputEl = gd.closest('.output');\n",
       "if (outputEl) {{\n",
       "    x.observe(outputEl, {childList: true});\n",
       "}}\n",
       "\n",
       "                        })\n",
       "                };\n",
       "                });\n",
       "            </script>\n",
       "        </div>"
      ]
     },
     "metadata": {},
     "output_type": "display_data"
    }
   ],
   "source": [
    "df.count().iplot(kind='bar')"
   ]
  },
  {
   "cell_type": "code",
   "execution_count": 26,
   "metadata": {},
   "outputs": [
    {
     "data": {
      "application/vnd.plotly.v1+json": {
       "config": {
        "linkText": "Export to plot.ly",
        "plotlyServerURL": "https://plot.ly",
        "showLink": true
       },
       "data": [
        {
         "boxpoints": false,
         "line": {
          "width": 1.3
         },
         "marker": {
          "color": "rgba(255, 153, 51, 1.0)"
         },
         "name": "A",
         "orientation": "v",
         "type": "box",
         "y": [
          -0.051837791061411176,
          -0.49686287148954067,
          -2.1771515192846906,
          -0.5113732243720404,
          -0.03837284189106989,
          0.3548680089577916,
          -0.9670222154179324,
          0.48967087422011185,
          1.010118843634135,
          1.1767005716127645,
          0.6049739509700985,
          -1.2688805227873958,
          -0.02341822554535787,
          -0.8845292410026588,
          -0.11078185573420099,
          0.4450716121013818,
          -0.6524788440445956,
          0.8362365802443669,
          -0.26480206570836334,
          -0.015521473434741142,
          -0.9070581908107753,
          -0.19848188846188358,
          0.23484988589792208,
          -0.9429068811094353,
          0.33804310467588616,
          0.2231325138137817,
          1.4180751876383473,
          0.27684307950859816,
          -0.7268118558078794,
          -1.8190959116589784,
          0.8863588248415394,
          0.811407224749543,
          0.9168706533314526,
          -0.49255538436951624,
          -0.38855891112932583,
          -0.33060548677620133,
          0.22814018946691325,
          -0.06134433481792067,
          2.2699080261066835,
          -0.648450660547072,
          -0.6676597248888836,
          0.12780912335519987,
          0.26203454175511987,
          -0.5425640188515645,
          -1.7685038013335517,
          0.40968157985444253,
          -0.42445362372076917,
          -1.088382988200841,
          1.23453450356868,
          -0.3638729323339125,
          0.7811986561585942,
          -1.0258459763128092,
          -1.7662105171837867,
          0.41472993026917654,
          -0.9409427214991185,
          -2.224333425583536,
          -0.2431794109095521,
          -0.9395444396754363,
          -0.5689902576839743,
          3.044340783482019,
          1.2505474809367803,
          -1.8363813899795214,
          -1.4820530742319769,
          -0.46642801300752706,
          0.812718554669287,
          0.6645329003944418,
          0.3270216654104052,
          -0.1223759657745449,
          0.09624616022289444,
          -0.22541462588698472,
          -0.2958817575821674,
          0.2871613386480438,
          0.07953086113867225,
          0.36601957350281533,
          1.646247258053811,
          0.40813146514571574,
          0.43032791348249316,
          -0.35118667775584894,
          1.0808974968793563,
          0.4428858638821342,
          -1.276203580800424,
          -0.5670787860121267,
          0.5425648310098887,
          -2.3985130158037213,
          0.02387026311991676,
          -0.1123122571750988,
          -0.778639967616544,
          0.5459580253709689,
          1.4604660678279568,
          0.3965009201697333,
          -0.5651998505477467,
          0.3117696147066201,
          -1.5089493383412824,
          -0.28001165739536366,
          1.3072298277883696,
          -0.7487924987650352,
          -0.48883749025194284,
          -0.09653869536735393,
          0.01895917624825842,
          0.6100637239125053
         ]
        },
        {
         "boxpoints": false,
         "line": {
          "width": 1.3
         },
         "marker": {
          "color": "rgba(55, 128, 191, 1.0)"
         },
         "name": "B",
         "orientation": "v",
         "type": "box",
         "y": [
          0.3695370284703798,
          -0.8743817851595044,
          -1.5751701215297989,
          -0.5285960006848781,
          1.626477455353992,
          -2.459883081251386,
          -0.2917473650965046,
          -0.27854283712680494,
          -0.21414904709360755,
          0.05697064749512811,
          -0.11926176248256731,
          -0.7021821239487716,
          -0.24572150749364016,
          -0.14898474253809174,
          -1.3113443874376083,
          -4.167956106747543,
          0.5272200063944493,
          0.8649922158474757,
          -0.44583230013138686,
          -0.4160049037062795,
          -0.466239445185336,
          0.08377937035475586,
          0.6614591440734874,
          1.12535799467954,
          0.9567317890641305,
          1.8181135552660397,
          -0.927102989747783,
          0.44080180507522854,
          -0.06554376455534469,
          -0.2603983795904401,
          0.6333449797500809,
          -0.10072593183762651,
          -1.1133918555613957,
          -1.129529656932896,
          -0.19799900792328565,
          -0.13847772677187756,
          -0.18071833438394155,
          0.08693506582433717,
          0.4956531660302352,
          0.518581006571991,
          -0.5021690307243035,
          -0.46873614050059736,
          2.8629607999012587,
          1.1628814628174975,
          -0.10637423519170412,
          -0.5365095684859182,
          0.10172889460656297,
          0.8434298624659738,
          0.178773563424261,
          -0.8930770980031411,
          -0.528758606533394,
          -0.2566640539476154,
          -1.288023250707061,
          -0.970954446795933,
          0.6549562426168584,
          -2.3232483033711198,
          -0.11610262914757792,
          0.09858406174514805,
          0.4361663737293656,
          0.6945343333387475,
          -0.16649974364440523,
          0.8223881464101899,
          1.9482584831312117,
          0.29704791128841773,
          0.3237810004606294,
          0.544957091603034,
          -0.17353554497162008,
          -1.065684238826915,
          -0.08021988841387116,
          0.4569936193631879,
          0.6254218330930134,
          -0.08102891382823191,
          -1.0928559466028436,
          -1.3591555442045564,
          0.4577921792340458,
          0.3495884903538427,
          -1.1037616297370296,
          -1.990831617641072,
          0.6455485345946241,
          -1.5268647591648523,
          -0.46605297721767797,
          -0.019275930557890078,
          -0.34203927447449445,
          1.3673189706167137,
          0.4734388491991349,
          1.0693898450217338,
          -1.1866359358774416,
          0.012262267947191194,
          1.5134873033665468,
          1.5976790969792416,
          -0.423613673426834,
          0.06955095640490072,
          -1.1664675783266583,
          -0.6094899292030159,
          -0.7697122722341971,
          -0.011835620658037676,
          -0.6125980696950949,
          0.6171362973467006,
          -1.4793715674364853,
          -1.1455262902983676
         ]
        },
        {
         "boxpoints": false,
         "line": {
          "width": 1.3
         },
         "marker": {
          "color": "rgba(50, 171, 96, 1.0)"
         },
         "name": "C",
         "orientation": "v",
         "type": "box",
         "y": [
          -0.8154929365890754,
          0.6792826710933785,
          0.824703082888759,
          0.7075762470179497,
          0.07365396278792792,
          -0.8105705063983373,
          0.13334782373413395,
          -0.02443113381127301,
          1.0536217164839008,
          -0.08342677773846315,
          -0.298493431665501,
          -2.2784790679135716,
          -1.033862408480082,
          0.8642419401735617,
          0.10085264050538734,
          0.9410010976361294,
          -0.2674685056250175,
          -0.8642828255005719,
          -0.69632068563847,
          -0.8664922439507659,
          0.6293027737635437,
          0.06050408243705343,
          1.1593542458650372,
          -0.5899162141516092,
          0.626324691115494,
          1.032168396778142,
          0.33754734882931714,
          0.18713337526897916,
          -0.17343679502919768,
          1.6286878922994552,
          0.28899545345282185,
          -1.4448313139698175,
          -0.8388221697622474,
          0.17907157837101717,
          0.32931330254002256,
          -0.9250137613019447,
          0.4935716283948479,
          0.394160237456869,
          -2.013902701361426,
          -0.2940243829919321,
          0.21586676849098707,
          0.5298064552415997,
          1.614518034961775,
          -2.270101038469866,
          1.6886601157977816,
          0.6881533447454158,
          0.25174345012722577,
          0.3378213355528154,
          0.6705698060137221,
          -0.031948036708369106,
          -0.08220382176457258,
          0.3125795749433185,
          1.5272691242267729,
          0.9718481567175451,
          -1.1274261759202133,
          0.4421452144984506,
          -0.35499216986570375,
          -0.7814438069631231,
          -0.5598770139976932,
          0.8165428868962974,
          -0.10292551612671881,
          -1.9599786743326544,
          0.47510296837616367,
          0.7328407303431982,
          -0.46872720075476854,
          1.262190459516613,
          -0.05833540902356298,
          0.11052859576117118,
          -0.5884698688701494,
          -1.2483083327623725,
          0.2066697543893116,
          0.6719817769679528,
          0.39567931062804224,
          -0.4306543072032271,
          -1.7546189253573135,
          -0.47332649862861675,
          0.6426916085977166,
          0.9633850723074893,
          -0.8770555093850285,
          -2.905161987160775,
          0.8482874475301787,
          -0.42270655290951586,
          -0.9953775484525826,
          1.3213317263108992,
          -1.4492254391520913,
          -0.09570604420631665,
          -1.4866448108202428,
          -1.4453918207614649,
          -0.07423117728993073,
          -0.9995823360214144,
          0.7388765575959787,
          -0.37297370367235766,
          -0.6659108390811059,
          -0.4651095380198942,
          -0.3160081273844198,
          -0.9815681676930179,
          0.5435691970650005,
          0.4969979391842474,
          -0.8672665672491162,
          0.44019907878237374
         ]
        },
        {
         "boxpoints": false,
         "line": {
          "width": 1.3
         },
         "marker": {
          "color": "rgba(128, 0, 128, 1.0)"
         },
         "name": "D",
         "orientation": "v",
         "type": "box",
         "y": [
          1.2822550062316957,
          0.40055323573444107,
          1.787307135006294,
          1.7221907799186702,
          -0.33012384630410374,
          0.5015771873657603,
          -0.2473547725963533,
          -0.0640547215064039,
          -1.2688345257971019,
          0.7944394500612837,
          -0.3464648964452649,
          0.3724309331099352,
          0.4334063357163549,
          -0.7803152729518554,
          -0.15256826965799988,
          0.9860346107050248,
          -0.013657624655136605,
          -0.4302458835164767,
          0.08742528916803126,
          0.519209084088822,
          0.6982718270826062,
          -0.19695824668480003,
          0.7343656222610719,
          0.9842019036477565,
          0.5451772059859311,
          -0.24858903661320736,
          -0.7824188710943614,
          1.1640797041445852,
          0.15329927658788975,
          -0.09114867065191426,
          0.5534416427041143,
          0.6946738238910318,
          0.20194117504756964,
          -0.35896270465549474,
          1.0906445557163424,
          -0.2824539228891635,
          1.1233705548985673,
          0.9589648047845943,
          0.2754236452464434,
          -1.0603397442196445,
          -0.2256360884092571,
          0.8603631910291578,
          0.1747665131819617,
          0.8597007906478508,
          -0.4947516166827669,
          1.24843889390558,
          0.5676592941056465,
          -0.5409291274871663,
          -0.043153913618455345,
          1.5573689209796098,
          -0.7637023855934686,
          0.7268950799090498,
          -0.48806830712512594,
          0.3432994768634184,
          -0.6239399075477323,
          -0.8508008791939529,
          -0.5373137821388475,
          0.41568614809700694,
          -1.0649642415638567,
          0.14383644256798317,
          -1.8054575468622778,
          0.7519404686581771,
          -0.4669308726577494,
          2.2686409521408586,
          1.9162386285954347,
          -0.5210201624771259,
          -2.2616201473779607,
          -0.3441027012451506,
          -1.403557990210369,
          -0.09748187365174565,
          0.30996784622566304,
          -0.30719849294978363,
          -0.5164850226458253,
          2.069020581536834,
          -0.3683269178730194,
          -0.16538567091528325,
          -1.3502023312974114,
          0.03029806499858065,
          -0.2854438445079592,
          -0.33348005450209356,
          -0.8087196832418141,
          2.7578216244376583,
          1.3775591992462703,
          1.1445203631577308,
          -1.1319746537803164,
          1.2151819805491515,
          -1.0214125872731903,
          0.542764965117343,
          0.8186438869989077,
          1.9598102601770646,
          1.5098606557031709,
          1.3644224942264092,
          -0.4907462799383518,
          0.7910265512352088,
          0.5886869733598117,
          -1.0582675744202503,
          1.3505249560880823,
          0.7928774939813371,
          0.5393622371005773,
          -1.4353470328033175
         ]
        }
       ],
       "layout": {
        "legend": {
         "bgcolor": "#F5F6F9",
         "font": {
          "color": "#4D5663"
         }
        },
        "paper_bgcolor": "#F5F6F9",
        "plot_bgcolor": "#F5F6F9",
        "template": {
         "data": {
          "bar": [
           {
            "error_x": {
             "color": "#2a3f5f"
            },
            "error_y": {
             "color": "#2a3f5f"
            },
            "marker": {
             "line": {
              "color": "#E5ECF6",
              "width": 0.5
             }
            },
            "type": "bar"
           }
          ],
          "barpolar": [
           {
            "marker": {
             "line": {
              "color": "#E5ECF6",
              "width": 0.5
             }
            },
            "type": "barpolar"
           }
          ],
          "carpet": [
           {
            "aaxis": {
             "endlinecolor": "#2a3f5f",
             "gridcolor": "white",
             "linecolor": "white",
             "minorgridcolor": "white",
             "startlinecolor": "#2a3f5f"
            },
            "baxis": {
             "endlinecolor": "#2a3f5f",
             "gridcolor": "white",
             "linecolor": "white",
             "minorgridcolor": "white",
             "startlinecolor": "#2a3f5f"
            },
            "type": "carpet"
           }
          ],
          "choropleth": [
           {
            "colorbar": {
             "outlinewidth": 0,
             "ticks": ""
            },
            "type": "choropleth"
           }
          ],
          "contour": [
           {
            "colorbar": {
             "outlinewidth": 0,
             "ticks": ""
            },
            "colorscale": [
             [
              0,
              "#0d0887"
             ],
             [
              0.1111111111111111,
              "#46039f"
             ],
             [
              0.2222222222222222,
              "#7201a8"
             ],
             [
              0.3333333333333333,
              "#9c179e"
             ],
             [
              0.4444444444444444,
              "#bd3786"
             ],
             [
              0.5555555555555556,
              "#d8576b"
             ],
             [
              0.6666666666666666,
              "#ed7953"
             ],
             [
              0.7777777777777778,
              "#fb9f3a"
             ],
             [
              0.8888888888888888,
              "#fdca26"
             ],
             [
              1,
              "#f0f921"
             ]
            ],
            "type": "contour"
           }
          ],
          "contourcarpet": [
           {
            "colorbar": {
             "outlinewidth": 0,
             "ticks": ""
            },
            "type": "contourcarpet"
           }
          ],
          "heatmap": [
           {
            "colorbar": {
             "outlinewidth": 0,
             "ticks": ""
            },
            "colorscale": [
             [
              0,
              "#0d0887"
             ],
             [
              0.1111111111111111,
              "#46039f"
             ],
             [
              0.2222222222222222,
              "#7201a8"
             ],
             [
              0.3333333333333333,
              "#9c179e"
             ],
             [
              0.4444444444444444,
              "#bd3786"
             ],
             [
              0.5555555555555556,
              "#d8576b"
             ],
             [
              0.6666666666666666,
              "#ed7953"
             ],
             [
              0.7777777777777778,
              "#fb9f3a"
             ],
             [
              0.8888888888888888,
              "#fdca26"
             ],
             [
              1,
              "#f0f921"
             ]
            ],
            "type": "heatmap"
           }
          ],
          "heatmapgl": [
           {
            "colorbar": {
             "outlinewidth": 0,
             "ticks": ""
            },
            "colorscale": [
             [
              0,
              "#0d0887"
             ],
             [
              0.1111111111111111,
              "#46039f"
             ],
             [
              0.2222222222222222,
              "#7201a8"
             ],
             [
              0.3333333333333333,
              "#9c179e"
             ],
             [
              0.4444444444444444,
              "#bd3786"
             ],
             [
              0.5555555555555556,
              "#d8576b"
             ],
             [
              0.6666666666666666,
              "#ed7953"
             ],
             [
              0.7777777777777778,
              "#fb9f3a"
             ],
             [
              0.8888888888888888,
              "#fdca26"
             ],
             [
              1,
              "#f0f921"
             ]
            ],
            "type": "heatmapgl"
           }
          ],
          "histogram": [
           {
            "marker": {
             "colorbar": {
              "outlinewidth": 0,
              "ticks": ""
             }
            },
            "type": "histogram"
           }
          ],
          "histogram2d": [
           {
            "colorbar": {
             "outlinewidth": 0,
             "ticks": ""
            },
            "colorscale": [
             [
              0,
              "#0d0887"
             ],
             [
              0.1111111111111111,
              "#46039f"
             ],
             [
              0.2222222222222222,
              "#7201a8"
             ],
             [
              0.3333333333333333,
              "#9c179e"
             ],
             [
              0.4444444444444444,
              "#bd3786"
             ],
             [
              0.5555555555555556,
              "#d8576b"
             ],
             [
              0.6666666666666666,
              "#ed7953"
             ],
             [
              0.7777777777777778,
              "#fb9f3a"
             ],
             [
              0.8888888888888888,
              "#fdca26"
             ],
             [
              1,
              "#f0f921"
             ]
            ],
            "type": "histogram2d"
           }
          ],
          "histogram2dcontour": [
           {
            "colorbar": {
             "outlinewidth": 0,
             "ticks": ""
            },
            "colorscale": [
             [
              0,
              "#0d0887"
             ],
             [
              0.1111111111111111,
              "#46039f"
             ],
             [
              0.2222222222222222,
              "#7201a8"
             ],
             [
              0.3333333333333333,
              "#9c179e"
             ],
             [
              0.4444444444444444,
              "#bd3786"
             ],
             [
              0.5555555555555556,
              "#d8576b"
             ],
             [
              0.6666666666666666,
              "#ed7953"
             ],
             [
              0.7777777777777778,
              "#fb9f3a"
             ],
             [
              0.8888888888888888,
              "#fdca26"
             ],
             [
              1,
              "#f0f921"
             ]
            ],
            "type": "histogram2dcontour"
           }
          ],
          "mesh3d": [
           {
            "colorbar": {
             "outlinewidth": 0,
             "ticks": ""
            },
            "type": "mesh3d"
           }
          ],
          "parcoords": [
           {
            "line": {
             "colorbar": {
              "outlinewidth": 0,
              "ticks": ""
             }
            },
            "type": "parcoords"
           }
          ],
          "pie": [
           {
            "automargin": true,
            "type": "pie"
           }
          ],
          "scatter": [
           {
            "marker": {
             "colorbar": {
              "outlinewidth": 0,
              "ticks": ""
             }
            },
            "type": "scatter"
           }
          ],
          "scatter3d": [
           {
            "line": {
             "colorbar": {
              "outlinewidth": 0,
              "ticks": ""
             }
            },
            "marker": {
             "colorbar": {
              "outlinewidth": 0,
              "ticks": ""
             }
            },
            "type": "scatter3d"
           }
          ],
          "scattercarpet": [
           {
            "marker": {
             "colorbar": {
              "outlinewidth": 0,
              "ticks": ""
             }
            },
            "type": "scattercarpet"
           }
          ],
          "scattergeo": [
           {
            "marker": {
             "colorbar": {
              "outlinewidth": 0,
              "ticks": ""
             }
            },
            "type": "scattergeo"
           }
          ],
          "scattergl": [
           {
            "marker": {
             "colorbar": {
              "outlinewidth": 0,
              "ticks": ""
             }
            },
            "type": "scattergl"
           }
          ],
          "scattermapbox": [
           {
            "marker": {
             "colorbar": {
              "outlinewidth": 0,
              "ticks": ""
             }
            },
            "type": "scattermapbox"
           }
          ],
          "scatterpolar": [
           {
            "marker": {
             "colorbar": {
              "outlinewidth": 0,
              "ticks": ""
             }
            },
            "type": "scatterpolar"
           }
          ],
          "scatterpolargl": [
           {
            "marker": {
             "colorbar": {
              "outlinewidth": 0,
              "ticks": ""
             }
            },
            "type": "scatterpolargl"
           }
          ],
          "scatterternary": [
           {
            "marker": {
             "colorbar": {
              "outlinewidth": 0,
              "ticks": ""
             }
            },
            "type": "scatterternary"
           }
          ],
          "surface": [
           {
            "colorbar": {
             "outlinewidth": 0,
             "ticks": ""
            },
            "colorscale": [
             [
              0,
              "#0d0887"
             ],
             [
              0.1111111111111111,
              "#46039f"
             ],
             [
              0.2222222222222222,
              "#7201a8"
             ],
             [
              0.3333333333333333,
              "#9c179e"
             ],
             [
              0.4444444444444444,
              "#bd3786"
             ],
             [
              0.5555555555555556,
              "#d8576b"
             ],
             [
              0.6666666666666666,
              "#ed7953"
             ],
             [
              0.7777777777777778,
              "#fb9f3a"
             ],
             [
              0.8888888888888888,
              "#fdca26"
             ],
             [
              1,
              "#f0f921"
             ]
            ],
            "type": "surface"
           }
          ],
          "table": [
           {
            "cells": {
             "fill": {
              "color": "#EBF0F8"
             },
             "line": {
              "color": "white"
             }
            },
            "header": {
             "fill": {
              "color": "#C8D4E3"
             },
             "line": {
              "color": "white"
             }
            },
            "type": "table"
           }
          ]
         },
         "layout": {
          "annotationdefaults": {
           "arrowcolor": "#2a3f5f",
           "arrowhead": 0,
           "arrowwidth": 1
          },
          "coloraxis": {
           "colorbar": {
            "outlinewidth": 0,
            "ticks": ""
           }
          },
          "colorscale": {
           "diverging": [
            [
             0,
             "#8e0152"
            ],
            [
             0.1,
             "#c51b7d"
            ],
            [
             0.2,
             "#de77ae"
            ],
            [
             0.3,
             "#f1b6da"
            ],
            [
             0.4,
             "#fde0ef"
            ],
            [
             0.5,
             "#f7f7f7"
            ],
            [
             0.6,
             "#e6f5d0"
            ],
            [
             0.7,
             "#b8e186"
            ],
            [
             0.8,
             "#7fbc41"
            ],
            [
             0.9,
             "#4d9221"
            ],
            [
             1,
             "#276419"
            ]
           ],
           "sequential": [
            [
             0,
             "#0d0887"
            ],
            [
             0.1111111111111111,
             "#46039f"
            ],
            [
             0.2222222222222222,
             "#7201a8"
            ],
            [
             0.3333333333333333,
             "#9c179e"
            ],
            [
             0.4444444444444444,
             "#bd3786"
            ],
            [
             0.5555555555555556,
             "#d8576b"
            ],
            [
             0.6666666666666666,
             "#ed7953"
            ],
            [
             0.7777777777777778,
             "#fb9f3a"
            ],
            [
             0.8888888888888888,
             "#fdca26"
            ],
            [
             1,
             "#f0f921"
            ]
           ],
           "sequentialminus": [
            [
             0,
             "#0d0887"
            ],
            [
             0.1111111111111111,
             "#46039f"
            ],
            [
             0.2222222222222222,
             "#7201a8"
            ],
            [
             0.3333333333333333,
             "#9c179e"
            ],
            [
             0.4444444444444444,
             "#bd3786"
            ],
            [
             0.5555555555555556,
             "#d8576b"
            ],
            [
             0.6666666666666666,
             "#ed7953"
            ],
            [
             0.7777777777777778,
             "#fb9f3a"
            ],
            [
             0.8888888888888888,
             "#fdca26"
            ],
            [
             1,
             "#f0f921"
            ]
           ]
          },
          "colorway": [
           "#636efa",
           "#EF553B",
           "#00cc96",
           "#ab63fa",
           "#FFA15A",
           "#19d3f3",
           "#FF6692",
           "#B6E880",
           "#FF97FF",
           "#FECB52"
          ],
          "font": {
           "color": "#2a3f5f"
          },
          "geo": {
           "bgcolor": "white",
           "lakecolor": "white",
           "landcolor": "#E5ECF6",
           "showlakes": true,
           "showland": true,
           "subunitcolor": "white"
          },
          "hoverlabel": {
           "align": "left"
          },
          "hovermode": "closest",
          "mapbox": {
           "style": "light"
          },
          "paper_bgcolor": "white",
          "plot_bgcolor": "#E5ECF6",
          "polar": {
           "angularaxis": {
            "gridcolor": "white",
            "linecolor": "white",
            "ticks": ""
           },
           "bgcolor": "#E5ECF6",
           "radialaxis": {
            "gridcolor": "white",
            "linecolor": "white",
            "ticks": ""
           }
          },
          "scene": {
           "xaxis": {
            "backgroundcolor": "#E5ECF6",
            "gridcolor": "white",
            "gridwidth": 2,
            "linecolor": "white",
            "showbackground": true,
            "ticks": "",
            "zerolinecolor": "white"
           },
           "yaxis": {
            "backgroundcolor": "#E5ECF6",
            "gridcolor": "white",
            "gridwidth": 2,
            "linecolor": "white",
            "showbackground": true,
            "ticks": "",
            "zerolinecolor": "white"
           },
           "zaxis": {
            "backgroundcolor": "#E5ECF6",
            "gridcolor": "white",
            "gridwidth": 2,
            "linecolor": "white",
            "showbackground": true,
            "ticks": "",
            "zerolinecolor": "white"
           }
          },
          "shapedefaults": {
           "line": {
            "color": "#2a3f5f"
           }
          },
          "ternary": {
           "aaxis": {
            "gridcolor": "white",
            "linecolor": "white",
            "ticks": ""
           },
           "baxis": {
            "gridcolor": "white",
            "linecolor": "white",
            "ticks": ""
           },
           "bgcolor": "#E5ECF6",
           "caxis": {
            "gridcolor": "white",
            "linecolor": "white",
            "ticks": ""
           }
          },
          "title": {
           "x": 0.05
          },
          "xaxis": {
           "automargin": true,
           "gridcolor": "white",
           "linecolor": "white",
           "ticks": "",
           "title": {
            "standoff": 15
           },
           "zerolinecolor": "white",
           "zerolinewidth": 2
          },
          "yaxis": {
           "automargin": true,
           "gridcolor": "white",
           "linecolor": "white",
           "ticks": "",
           "title": {
            "standoff": 15
           },
           "zerolinecolor": "white",
           "zerolinewidth": 2
          }
         }
        },
        "title": {
         "font": {
          "color": "#4D5663"
         }
        },
        "xaxis": {
         "gridcolor": "#E1E5ED",
         "showgrid": true,
         "tickfont": {
          "color": "#4D5663"
         },
         "title": {
          "font": {
           "color": "#4D5663"
          },
          "text": ""
         },
         "zerolinecolor": "#E1E5ED"
        },
        "yaxis": {
         "gridcolor": "#E1E5ED",
         "showgrid": true,
         "tickfont": {
          "color": "#4D5663"
         },
         "title": {
          "font": {
           "color": "#4D5663"
          },
          "text": ""
         },
         "zerolinecolor": "#E1E5ED"
        }
       }
      },
      "text/html": [
       "<div>\n",
       "        \n",
       "        \n",
       "            <div id=\"b50d71d3-767a-4989-925b-c888e62a65f9\" class=\"plotly-graph-div\" style=\"height:525px; width:100%;\"></div>\n",
       "            <script type=\"text/javascript\">\n",
       "                require([\"plotly\"], function(Plotly) {\n",
       "                    window.PLOTLYENV=window.PLOTLYENV || {};\n",
       "                    window.PLOTLYENV.BASE_URL='https://plot.ly';\n",
       "                    \n",
       "                if (document.getElementById(\"b50d71d3-767a-4989-925b-c888e62a65f9\")) {\n",
       "                    Plotly.newPlot(\n",
       "                        'b50d71d3-767a-4989-925b-c888e62a65f9',\n",
       "                        [{\"boxpoints\": false, \"line\": {\"width\": 1.3}, \"marker\": {\"color\": \"rgba(255, 153, 51, 1.0)\"}, \"name\": \"A\", \"orientation\": \"v\", \"type\": \"box\", \"y\": [-0.051837791061411176, -0.49686287148954067, -2.1771515192846906, -0.5113732243720404, -0.03837284189106989, 0.3548680089577916, -0.9670222154179324, 0.48967087422011185, 1.010118843634135, 1.1767005716127645, 0.6049739509700985, -1.2688805227873958, -0.02341822554535787, -0.8845292410026588, -0.11078185573420099, 0.4450716121013818, -0.6524788440445956, 0.8362365802443669, -0.26480206570836334, -0.015521473434741142, -0.9070581908107753, -0.19848188846188358, 0.23484988589792208, -0.9429068811094353, 0.33804310467588616, 0.2231325138137817, 1.4180751876383473, 0.27684307950859816, -0.7268118558078794, -1.8190959116589784, 0.8863588248415394, 0.811407224749543, 0.9168706533314526, -0.49255538436951624, -0.38855891112932583, -0.33060548677620133, 0.22814018946691325, -0.06134433481792067, 2.2699080261066835, -0.648450660547072, -0.6676597248888836, 0.12780912335519987, 0.26203454175511987, -0.5425640188515645, -1.7685038013335517, 0.40968157985444253, -0.42445362372076917, -1.088382988200841, 1.23453450356868, -0.3638729323339125, 0.7811986561585942, -1.0258459763128092, -1.7662105171837867, 0.41472993026917654, -0.9409427214991185, -2.224333425583536, -0.2431794109095521, -0.9395444396754363, -0.5689902576839743, 3.044340783482019, 1.2505474809367803, -1.8363813899795214, -1.4820530742319769, -0.46642801300752706, 0.812718554669287, 0.6645329003944418, 0.3270216654104052, -0.1223759657745449, 0.09624616022289444, -0.22541462588698472, -0.2958817575821674, 0.2871613386480438, 0.07953086113867225, 0.36601957350281533, 1.646247258053811, 0.40813146514571574, 0.43032791348249316, -0.35118667775584894, 1.0808974968793563, 0.4428858638821342, -1.276203580800424, -0.5670787860121267, 0.5425648310098887, -2.3985130158037213, 0.02387026311991676, -0.1123122571750988, -0.778639967616544, 0.5459580253709689, 1.4604660678279568, 0.3965009201697333, -0.5651998505477467, 0.3117696147066201, -1.5089493383412824, -0.28001165739536366, 1.3072298277883696, -0.7487924987650352, -0.48883749025194284, -0.09653869536735393, 0.01895917624825842, 0.6100637239125053]}, {\"boxpoints\": false, \"line\": {\"width\": 1.3}, \"marker\": {\"color\": \"rgba(55, 128, 191, 1.0)\"}, \"name\": \"B\", \"orientation\": \"v\", \"type\": \"box\", \"y\": [0.3695370284703798, -0.8743817851595044, -1.5751701215297989, -0.5285960006848781, 1.626477455353992, -2.459883081251386, -0.2917473650965046, -0.27854283712680494, -0.21414904709360755, 0.05697064749512811, -0.11926176248256731, -0.7021821239487716, -0.24572150749364016, -0.14898474253809174, -1.3113443874376083, -4.167956106747543, 0.5272200063944493, 0.8649922158474757, -0.44583230013138686, -0.4160049037062795, -0.466239445185336, 0.08377937035475586, 0.6614591440734874, 1.12535799467954, 0.9567317890641305, 1.8181135552660397, -0.927102989747783, 0.44080180507522854, -0.06554376455534469, -0.2603983795904401, 0.6333449797500809, -0.10072593183762651, -1.1133918555613957, -1.129529656932896, -0.19799900792328565, -0.13847772677187756, -0.18071833438394155, 0.08693506582433717, 0.4956531660302352, 0.518581006571991, -0.5021690307243035, -0.46873614050059736, 2.8629607999012587, 1.1628814628174975, -0.10637423519170412, -0.5365095684859182, 0.10172889460656297, 0.8434298624659738, 0.178773563424261, -0.8930770980031411, -0.528758606533394, -0.2566640539476154, -1.288023250707061, -0.970954446795933, 0.6549562426168584, -2.3232483033711198, -0.11610262914757792, 0.09858406174514805, 0.4361663737293656, 0.6945343333387475, -0.16649974364440523, 0.8223881464101899, 1.9482584831312117, 0.29704791128841773, 0.3237810004606294, 0.544957091603034, -0.17353554497162008, -1.065684238826915, -0.08021988841387116, 0.4569936193631879, 0.6254218330930134, -0.08102891382823191, -1.0928559466028436, -1.3591555442045564, 0.4577921792340458, 0.3495884903538427, -1.1037616297370296, -1.990831617641072, 0.6455485345946241, -1.5268647591648523, -0.46605297721767797, -0.019275930557890078, -0.34203927447449445, 1.3673189706167137, 0.4734388491991349, 1.0693898450217338, -1.1866359358774416, 0.012262267947191194, 1.5134873033665468, 1.5976790969792416, -0.423613673426834, 0.06955095640490072, -1.1664675783266583, -0.6094899292030159, -0.7697122722341971, -0.011835620658037676, -0.6125980696950949, 0.6171362973467006, -1.4793715674364853, -1.1455262902983676]}, {\"boxpoints\": false, \"line\": {\"width\": 1.3}, \"marker\": {\"color\": \"rgba(50, 171, 96, 1.0)\"}, \"name\": \"C\", \"orientation\": \"v\", \"type\": \"box\", \"y\": [-0.8154929365890754, 0.6792826710933785, 0.824703082888759, 0.7075762470179497, 0.07365396278792792, -0.8105705063983373, 0.13334782373413395, -0.02443113381127301, 1.0536217164839008, -0.08342677773846315, -0.298493431665501, -2.2784790679135716, -1.033862408480082, 0.8642419401735617, 0.10085264050538734, 0.9410010976361294, -0.2674685056250175, -0.8642828255005719, -0.69632068563847, -0.8664922439507659, 0.6293027737635437, 0.06050408243705343, 1.1593542458650372, -0.5899162141516092, 0.626324691115494, 1.032168396778142, 0.33754734882931714, 0.18713337526897916, -0.17343679502919768, 1.6286878922994552, 0.28899545345282185, -1.4448313139698175, -0.8388221697622474, 0.17907157837101717, 0.32931330254002256, -0.9250137613019447, 0.4935716283948479, 0.394160237456869, -2.013902701361426, -0.2940243829919321, 0.21586676849098707, 0.5298064552415997, 1.614518034961775, -2.270101038469866, 1.6886601157977816, 0.6881533447454158, 0.25174345012722577, 0.3378213355528154, 0.6705698060137221, -0.031948036708369106, -0.08220382176457258, 0.3125795749433185, 1.5272691242267729, 0.9718481567175451, -1.1274261759202133, 0.4421452144984506, -0.35499216986570375, -0.7814438069631231, -0.5598770139976932, 0.8165428868962974, -0.10292551612671881, -1.9599786743326544, 0.47510296837616367, 0.7328407303431982, -0.46872720075476854, 1.262190459516613, -0.05833540902356298, 0.11052859576117118, -0.5884698688701494, -1.2483083327623725, 0.2066697543893116, 0.6719817769679528, 0.39567931062804224, -0.4306543072032271, -1.7546189253573135, -0.47332649862861675, 0.6426916085977166, 0.9633850723074893, -0.8770555093850285, -2.905161987160775, 0.8482874475301787, -0.42270655290951586, -0.9953775484525826, 1.3213317263108992, -1.4492254391520913, -0.09570604420631665, -1.4866448108202428, -1.4453918207614649, -0.07423117728993073, -0.9995823360214144, 0.7388765575959787, -0.37297370367235766, -0.6659108390811059, -0.4651095380198942, -0.3160081273844198, -0.9815681676930179, 0.5435691970650005, 0.4969979391842474, -0.8672665672491162, 0.44019907878237374]}, {\"boxpoints\": false, \"line\": {\"width\": 1.3}, \"marker\": {\"color\": \"rgba(128, 0, 128, 1.0)\"}, \"name\": \"D\", \"orientation\": \"v\", \"type\": \"box\", \"y\": [1.2822550062316957, 0.40055323573444107, 1.787307135006294, 1.7221907799186702, -0.33012384630410374, 0.5015771873657603, -0.2473547725963533, -0.0640547215064039, -1.2688345257971019, 0.7944394500612837, -0.3464648964452649, 0.3724309331099352, 0.4334063357163549, -0.7803152729518554, -0.15256826965799988, 0.9860346107050248, -0.013657624655136605, -0.4302458835164767, 0.08742528916803126, 0.519209084088822, 0.6982718270826062, -0.19695824668480003, 0.7343656222610719, 0.9842019036477565, 0.5451772059859311, -0.24858903661320736, -0.7824188710943614, 1.1640797041445852, 0.15329927658788975, -0.09114867065191426, 0.5534416427041143, 0.6946738238910318, 0.20194117504756964, -0.35896270465549474, 1.0906445557163424, -0.2824539228891635, 1.1233705548985673, 0.9589648047845943, 0.2754236452464434, -1.0603397442196445, -0.2256360884092571, 0.8603631910291578, 0.1747665131819617, 0.8597007906478508, -0.4947516166827669, 1.24843889390558, 0.5676592941056465, -0.5409291274871663, -0.043153913618455345, 1.5573689209796098, -0.7637023855934686, 0.7268950799090498, -0.48806830712512594, 0.3432994768634184, -0.6239399075477323, -0.8508008791939529, -0.5373137821388475, 0.41568614809700694, -1.0649642415638567, 0.14383644256798317, -1.8054575468622778, 0.7519404686581771, -0.4669308726577494, 2.2686409521408586, 1.9162386285954347, -0.5210201624771259, -2.2616201473779607, -0.3441027012451506, -1.403557990210369, -0.09748187365174565, 0.30996784622566304, -0.30719849294978363, -0.5164850226458253, 2.069020581536834, -0.3683269178730194, -0.16538567091528325, -1.3502023312974114, 0.03029806499858065, -0.2854438445079592, -0.33348005450209356, -0.8087196832418141, 2.7578216244376583, 1.3775591992462703, 1.1445203631577308, -1.1319746537803164, 1.2151819805491515, -1.0214125872731903, 0.542764965117343, 0.8186438869989077, 1.9598102601770646, 1.5098606557031709, 1.3644224942264092, -0.4907462799383518, 0.7910265512352088, 0.5886869733598117, -1.0582675744202503, 1.3505249560880823, 0.7928774939813371, 0.5393622371005773, -1.4353470328033175]}],\n",
       "                        {\"legend\": {\"bgcolor\": \"#F5F6F9\", \"font\": {\"color\": \"#4D5663\"}}, \"paper_bgcolor\": \"#F5F6F9\", \"plot_bgcolor\": \"#F5F6F9\", \"template\": {\"data\": {\"bar\": [{\"error_x\": {\"color\": \"#2a3f5f\"}, \"error_y\": {\"color\": \"#2a3f5f\"}, \"marker\": {\"line\": {\"color\": \"#E5ECF6\", \"width\": 0.5}}, \"type\": \"bar\"}], \"barpolar\": [{\"marker\": {\"line\": {\"color\": \"#E5ECF6\", \"width\": 0.5}}, \"type\": \"barpolar\"}], \"carpet\": [{\"aaxis\": {\"endlinecolor\": \"#2a3f5f\", \"gridcolor\": \"white\", \"linecolor\": \"white\", \"minorgridcolor\": \"white\", \"startlinecolor\": \"#2a3f5f\"}, \"baxis\": {\"endlinecolor\": \"#2a3f5f\", \"gridcolor\": \"white\", \"linecolor\": \"white\", \"minorgridcolor\": \"white\", \"startlinecolor\": \"#2a3f5f\"}, \"type\": \"carpet\"}], \"choropleth\": [{\"colorbar\": {\"outlinewidth\": 0, \"ticks\": \"\"}, \"type\": \"choropleth\"}], \"contour\": [{\"colorbar\": {\"outlinewidth\": 0, \"ticks\": \"\"}, \"colorscale\": [[0.0, \"#0d0887\"], [0.1111111111111111, \"#46039f\"], [0.2222222222222222, \"#7201a8\"], [0.3333333333333333, \"#9c179e\"], [0.4444444444444444, \"#bd3786\"], [0.5555555555555556, \"#d8576b\"], [0.6666666666666666, \"#ed7953\"], [0.7777777777777778, \"#fb9f3a\"], [0.8888888888888888, \"#fdca26\"], [1.0, \"#f0f921\"]], \"type\": \"contour\"}], \"contourcarpet\": [{\"colorbar\": {\"outlinewidth\": 0, \"ticks\": \"\"}, \"type\": \"contourcarpet\"}], \"heatmap\": [{\"colorbar\": {\"outlinewidth\": 0, \"ticks\": \"\"}, \"colorscale\": [[0.0, \"#0d0887\"], [0.1111111111111111, \"#46039f\"], [0.2222222222222222, \"#7201a8\"], [0.3333333333333333, \"#9c179e\"], [0.4444444444444444, \"#bd3786\"], [0.5555555555555556, \"#d8576b\"], [0.6666666666666666, \"#ed7953\"], [0.7777777777777778, \"#fb9f3a\"], [0.8888888888888888, \"#fdca26\"], [1.0, \"#f0f921\"]], \"type\": \"heatmap\"}], \"heatmapgl\": [{\"colorbar\": {\"outlinewidth\": 0, \"ticks\": \"\"}, \"colorscale\": [[0.0, \"#0d0887\"], [0.1111111111111111, \"#46039f\"], [0.2222222222222222, \"#7201a8\"], [0.3333333333333333, \"#9c179e\"], [0.4444444444444444, \"#bd3786\"], [0.5555555555555556, \"#d8576b\"], [0.6666666666666666, \"#ed7953\"], [0.7777777777777778, \"#fb9f3a\"], [0.8888888888888888, \"#fdca26\"], [1.0, \"#f0f921\"]], \"type\": \"heatmapgl\"}], \"histogram\": [{\"marker\": {\"colorbar\": {\"outlinewidth\": 0, \"ticks\": \"\"}}, \"type\": \"histogram\"}], \"histogram2d\": [{\"colorbar\": {\"outlinewidth\": 0, \"ticks\": \"\"}, \"colorscale\": [[0.0, \"#0d0887\"], [0.1111111111111111, \"#46039f\"], [0.2222222222222222, \"#7201a8\"], [0.3333333333333333, \"#9c179e\"], [0.4444444444444444, \"#bd3786\"], [0.5555555555555556, \"#d8576b\"], [0.6666666666666666, \"#ed7953\"], [0.7777777777777778, \"#fb9f3a\"], [0.8888888888888888, \"#fdca26\"], [1.0, \"#f0f921\"]], \"type\": \"histogram2d\"}], \"histogram2dcontour\": [{\"colorbar\": {\"outlinewidth\": 0, \"ticks\": \"\"}, \"colorscale\": [[0.0, \"#0d0887\"], [0.1111111111111111, \"#46039f\"], [0.2222222222222222, \"#7201a8\"], [0.3333333333333333, \"#9c179e\"], [0.4444444444444444, \"#bd3786\"], [0.5555555555555556, \"#d8576b\"], [0.6666666666666666, \"#ed7953\"], [0.7777777777777778, \"#fb9f3a\"], [0.8888888888888888, \"#fdca26\"], [1.0, \"#f0f921\"]], \"type\": \"histogram2dcontour\"}], \"mesh3d\": [{\"colorbar\": {\"outlinewidth\": 0, \"ticks\": \"\"}, \"type\": \"mesh3d\"}], \"parcoords\": [{\"line\": {\"colorbar\": {\"outlinewidth\": 0, \"ticks\": \"\"}}, \"type\": \"parcoords\"}], \"pie\": [{\"automargin\": true, \"type\": \"pie\"}], \"scatter\": [{\"marker\": {\"colorbar\": {\"outlinewidth\": 0, \"ticks\": \"\"}}, \"type\": \"scatter\"}], \"scatter3d\": [{\"line\": {\"colorbar\": {\"outlinewidth\": 0, \"ticks\": \"\"}}, \"marker\": {\"colorbar\": {\"outlinewidth\": 0, \"ticks\": \"\"}}, \"type\": \"scatter3d\"}], \"scattercarpet\": [{\"marker\": {\"colorbar\": {\"outlinewidth\": 0, \"ticks\": \"\"}}, \"type\": \"scattercarpet\"}], \"scattergeo\": [{\"marker\": {\"colorbar\": {\"outlinewidth\": 0, \"ticks\": \"\"}}, \"type\": \"scattergeo\"}], \"scattergl\": [{\"marker\": {\"colorbar\": {\"outlinewidth\": 0, \"ticks\": \"\"}}, \"type\": \"scattergl\"}], \"scattermapbox\": [{\"marker\": {\"colorbar\": {\"outlinewidth\": 0, \"ticks\": \"\"}}, \"type\": \"scattermapbox\"}], \"scatterpolar\": [{\"marker\": {\"colorbar\": {\"outlinewidth\": 0, \"ticks\": \"\"}}, \"type\": \"scatterpolar\"}], \"scatterpolargl\": [{\"marker\": {\"colorbar\": {\"outlinewidth\": 0, \"ticks\": \"\"}}, \"type\": \"scatterpolargl\"}], \"scatterternary\": [{\"marker\": {\"colorbar\": {\"outlinewidth\": 0, \"ticks\": \"\"}}, \"type\": \"scatterternary\"}], \"surface\": [{\"colorbar\": {\"outlinewidth\": 0, \"ticks\": \"\"}, \"colorscale\": [[0.0, \"#0d0887\"], [0.1111111111111111, \"#46039f\"], [0.2222222222222222, \"#7201a8\"], [0.3333333333333333, \"#9c179e\"], [0.4444444444444444, \"#bd3786\"], [0.5555555555555556, \"#d8576b\"], [0.6666666666666666, \"#ed7953\"], [0.7777777777777778, \"#fb9f3a\"], [0.8888888888888888, \"#fdca26\"], [1.0, \"#f0f921\"]], \"type\": \"surface\"}], \"table\": [{\"cells\": {\"fill\": {\"color\": \"#EBF0F8\"}, \"line\": {\"color\": \"white\"}}, \"header\": {\"fill\": {\"color\": \"#C8D4E3\"}, \"line\": {\"color\": \"white\"}}, \"type\": \"table\"}]}, \"layout\": {\"annotationdefaults\": {\"arrowcolor\": \"#2a3f5f\", \"arrowhead\": 0, \"arrowwidth\": 1}, \"coloraxis\": {\"colorbar\": {\"outlinewidth\": 0, \"ticks\": \"\"}}, \"colorscale\": {\"diverging\": [[0, \"#8e0152\"], [0.1, \"#c51b7d\"], [0.2, \"#de77ae\"], [0.3, \"#f1b6da\"], [0.4, \"#fde0ef\"], [0.5, \"#f7f7f7\"], [0.6, \"#e6f5d0\"], [0.7, \"#b8e186\"], [0.8, \"#7fbc41\"], [0.9, \"#4d9221\"], [1, \"#276419\"]], \"sequential\": [[0.0, \"#0d0887\"], [0.1111111111111111, \"#46039f\"], [0.2222222222222222, \"#7201a8\"], [0.3333333333333333, \"#9c179e\"], [0.4444444444444444, \"#bd3786\"], [0.5555555555555556, \"#d8576b\"], [0.6666666666666666, \"#ed7953\"], [0.7777777777777778, \"#fb9f3a\"], [0.8888888888888888, \"#fdca26\"], [1.0, \"#f0f921\"]], \"sequentialminus\": [[0.0, \"#0d0887\"], [0.1111111111111111, \"#46039f\"], [0.2222222222222222, \"#7201a8\"], [0.3333333333333333, \"#9c179e\"], [0.4444444444444444, \"#bd3786\"], [0.5555555555555556, \"#d8576b\"], [0.6666666666666666, \"#ed7953\"], [0.7777777777777778, \"#fb9f3a\"], [0.8888888888888888, \"#fdca26\"], [1.0, \"#f0f921\"]]}, \"colorway\": [\"#636efa\", \"#EF553B\", \"#00cc96\", \"#ab63fa\", \"#FFA15A\", \"#19d3f3\", \"#FF6692\", \"#B6E880\", \"#FF97FF\", \"#FECB52\"], \"font\": {\"color\": \"#2a3f5f\"}, \"geo\": {\"bgcolor\": \"white\", \"lakecolor\": \"white\", \"landcolor\": \"#E5ECF6\", \"showlakes\": true, \"showland\": true, \"subunitcolor\": \"white\"}, \"hoverlabel\": {\"align\": \"left\"}, \"hovermode\": \"closest\", \"mapbox\": {\"style\": \"light\"}, \"paper_bgcolor\": \"white\", \"plot_bgcolor\": \"#E5ECF6\", \"polar\": {\"angularaxis\": {\"gridcolor\": \"white\", \"linecolor\": \"white\", \"ticks\": \"\"}, \"bgcolor\": \"#E5ECF6\", \"radialaxis\": {\"gridcolor\": \"white\", \"linecolor\": \"white\", \"ticks\": \"\"}}, \"scene\": {\"xaxis\": {\"backgroundcolor\": \"#E5ECF6\", \"gridcolor\": \"white\", \"gridwidth\": 2, \"linecolor\": \"white\", \"showbackground\": true, \"ticks\": \"\", \"zerolinecolor\": \"white\"}, \"yaxis\": {\"backgroundcolor\": \"#E5ECF6\", \"gridcolor\": \"white\", \"gridwidth\": 2, \"linecolor\": \"white\", \"showbackground\": true, \"ticks\": \"\", \"zerolinecolor\": \"white\"}, \"zaxis\": {\"backgroundcolor\": \"#E5ECF6\", \"gridcolor\": \"white\", \"gridwidth\": 2, \"linecolor\": \"white\", \"showbackground\": true, \"ticks\": \"\", \"zerolinecolor\": \"white\"}}, \"shapedefaults\": {\"line\": {\"color\": \"#2a3f5f\"}}, \"ternary\": {\"aaxis\": {\"gridcolor\": \"white\", \"linecolor\": \"white\", \"ticks\": \"\"}, \"baxis\": {\"gridcolor\": \"white\", \"linecolor\": \"white\", \"ticks\": \"\"}, \"bgcolor\": \"#E5ECF6\", \"caxis\": {\"gridcolor\": \"white\", \"linecolor\": \"white\", \"ticks\": \"\"}}, \"title\": {\"x\": 0.05}, \"xaxis\": {\"automargin\": true, \"gridcolor\": \"white\", \"linecolor\": \"white\", \"ticks\": \"\", \"title\": {\"standoff\": 15}, \"zerolinecolor\": \"white\", \"zerolinewidth\": 2}, \"yaxis\": {\"automargin\": true, \"gridcolor\": \"white\", \"linecolor\": \"white\", \"ticks\": \"\", \"title\": {\"standoff\": 15}, \"zerolinecolor\": \"white\", \"zerolinewidth\": 2}}}, \"title\": {\"font\": {\"color\": \"#4D5663\"}}, \"xaxis\": {\"gridcolor\": \"#E1E5ED\", \"showgrid\": true, \"tickfont\": {\"color\": \"#4D5663\"}, \"title\": {\"font\": {\"color\": \"#4D5663\"}, \"text\": \"\"}, \"zerolinecolor\": \"#E1E5ED\"}, \"yaxis\": {\"gridcolor\": \"#E1E5ED\", \"showgrid\": true, \"tickfont\": {\"color\": \"#4D5663\"}, \"title\": {\"font\": {\"color\": \"#4D5663\"}, \"text\": \"\"}, \"zerolinecolor\": \"#E1E5ED\"}},\n",
       "                        {\"showLink\": true, \"linkText\": \"Export to plot.ly\", \"plotlyServerURL\": \"https://plot.ly\", \"responsive\": true}\n",
       "                    ).then(function(){\n",
       "                            \n",
       "var gd = document.getElementById('b50d71d3-767a-4989-925b-c888e62a65f9');\n",
       "var x = new MutationObserver(function (mutations, observer) {{\n",
       "        var display = window.getComputedStyle(gd).display;\n",
       "        if (!display || display === 'none') {{\n",
       "            console.log([gd, 'removed!']);\n",
       "            Plotly.purge(gd);\n",
       "            observer.disconnect();\n",
       "        }}\n",
       "}});\n",
       "\n",
       "// Listen for the removal of the full notebook cells\n",
       "var notebookContainer = gd.closest('#notebook-container');\n",
       "if (notebookContainer) {{\n",
       "    x.observe(notebookContainer, {childList: true});\n",
       "}}\n",
       "\n",
       "// Listen for the clearing of the current output cell\n",
       "var outputEl = gd.closest('.output');\n",
       "if (outputEl) {{\n",
       "    x.observe(outputEl, {childList: true});\n",
       "}}\n",
       "\n",
       "                        })\n",
       "                };\n",
       "                });\n",
       "            </script>\n",
       "        </div>"
      ]
     },
     "metadata": {},
     "output_type": "display_data"
    }
   ],
   "source": [
    "df.iplot(kind='box')"
   ]
  },
  {
   "cell_type": "code",
   "execution_count": 27,
   "metadata": {},
   "outputs": [
    {
     "data": {
      "text/html": [
       "<div>\n",
       "<style scoped>\n",
       "    .dataframe tbody tr th:only-of-type {\n",
       "        vertical-align: middle;\n",
       "    }\n",
       "\n",
       "    .dataframe tbody tr th {\n",
       "        vertical-align: top;\n",
       "    }\n",
       "\n",
       "    .dataframe thead th {\n",
       "        text-align: right;\n",
       "    }\n",
       "</style>\n",
       "<table border=\"1\" class=\"dataframe\">\n",
       "  <thead>\n",
       "    <tr style=\"text-align: right;\">\n",
       "      <th></th>\n",
       "      <th>x</th>\n",
       "      <th>y</th>\n",
       "      <th>z</th>\n",
       "    </tr>\n",
       "  </thead>\n",
       "  <tbody>\n",
       "    <tr>\n",
       "      <th>0</th>\n",
       "      <td>1</td>\n",
       "      <td>10</td>\n",
       "      <td>5</td>\n",
       "    </tr>\n",
       "    <tr>\n",
       "      <th>1</th>\n",
       "      <td>2</td>\n",
       "      <td>20</td>\n",
       "      <td>4</td>\n",
       "    </tr>\n",
       "    <tr>\n",
       "      <th>2</th>\n",
       "      <td>3</td>\n",
       "      <td>30</td>\n",
       "      <td>3</td>\n",
       "    </tr>\n",
       "    <tr>\n",
       "      <th>3</th>\n",
       "      <td>4</td>\n",
       "      <td>40</td>\n",
       "      <td>2</td>\n",
       "    </tr>\n",
       "    <tr>\n",
       "      <th>4</th>\n",
       "      <td>5</td>\n",
       "      <td>50</td>\n",
       "      <td>1</td>\n",
       "    </tr>\n",
       "  </tbody>\n",
       "</table>\n",
       "</div>"
      ],
      "text/plain": [
       "   x   y  z\n",
       "0  1  10  5\n",
       "1  2  20  4\n",
       "2  3  30  3\n",
       "3  4  40  2\n",
       "4  5  50  1"
      ]
     },
     "execution_count": 27,
     "metadata": {},
     "output_type": "execute_result"
    }
   ],
   "source": [
    "df3 = pd.DataFrame({ 'x': [1, 2, 3, 4, 5], 'y': [10, 20, 30, 40, 50], 'z': [5, 4, 3, 2, 1] })\n",
    "df3"
   ]
  },
  {
   "cell_type": "code",
   "execution_count": 30,
   "metadata": {},
   "outputs": [
    {
     "data": {
      "application/vnd.plotly.v1+json": {
       "config": {
        "linkText": "Export to plot.ly",
        "plotlyServerURL": "https://plot.ly",
        "showLink": true
       },
       "data": [
        {
         "colorscale": [
          [
           0,
           "rgb(165,0,38)"
          ],
          [
           0.1,
           "rgb(215,48,39)"
          ],
          [
           0.2,
           "rgb(244,109,67)"
          ],
          [
           0.3,
           "rgb(253,174,97)"
          ],
          [
           0.4,
           "rgb(254,224,144)"
          ],
          [
           0.5,
           "rgb(255,255,191)"
          ],
          [
           0.6,
           "rgb(224,243,248)"
          ],
          [
           0.7,
           "rgb(171,217,233)"
          ],
          [
           0.8,
           "rgb(116,173,209)"
          ],
          [
           0.9,
           "rgb(69,117,180)"
          ],
          [
           1,
           "rgb(49,54,149)"
          ]
         ],
         "type": "surface",
         "x": [
          0,
          1,
          2,
          3,
          4
         ],
         "y": [
          "x",
          "y",
          "z"
         ],
         "z": [
          [
           1,
           2,
           3,
           4,
           5
          ],
          [
           10,
           20,
           30,
           40,
           50
          ],
          [
           5,
           4,
           3,
           2,
           1
          ]
         ]
        }
       ],
       "layout": {
        "legend": {
         "bgcolor": "#F5F6F9",
         "font": {
          "color": "#4D5663"
         }
        },
        "paper_bgcolor": "#F5F6F9",
        "plot_bgcolor": "#F5F6F9",
        "template": {
         "data": {
          "bar": [
           {
            "error_x": {
             "color": "#2a3f5f"
            },
            "error_y": {
             "color": "#2a3f5f"
            },
            "marker": {
             "line": {
              "color": "#E5ECF6",
              "width": 0.5
             }
            },
            "type": "bar"
           }
          ],
          "barpolar": [
           {
            "marker": {
             "line": {
              "color": "#E5ECF6",
              "width": 0.5
             }
            },
            "type": "barpolar"
           }
          ],
          "carpet": [
           {
            "aaxis": {
             "endlinecolor": "#2a3f5f",
             "gridcolor": "white",
             "linecolor": "white",
             "minorgridcolor": "white",
             "startlinecolor": "#2a3f5f"
            },
            "baxis": {
             "endlinecolor": "#2a3f5f",
             "gridcolor": "white",
             "linecolor": "white",
             "minorgridcolor": "white",
             "startlinecolor": "#2a3f5f"
            },
            "type": "carpet"
           }
          ],
          "choropleth": [
           {
            "colorbar": {
             "outlinewidth": 0,
             "ticks": ""
            },
            "type": "choropleth"
           }
          ],
          "contour": [
           {
            "colorbar": {
             "outlinewidth": 0,
             "ticks": ""
            },
            "colorscale": [
             [
              0,
              "#0d0887"
             ],
             [
              0.1111111111111111,
              "#46039f"
             ],
             [
              0.2222222222222222,
              "#7201a8"
             ],
             [
              0.3333333333333333,
              "#9c179e"
             ],
             [
              0.4444444444444444,
              "#bd3786"
             ],
             [
              0.5555555555555556,
              "#d8576b"
             ],
             [
              0.6666666666666666,
              "#ed7953"
             ],
             [
              0.7777777777777778,
              "#fb9f3a"
             ],
             [
              0.8888888888888888,
              "#fdca26"
             ],
             [
              1,
              "#f0f921"
             ]
            ],
            "type": "contour"
           }
          ],
          "contourcarpet": [
           {
            "colorbar": {
             "outlinewidth": 0,
             "ticks": ""
            },
            "type": "contourcarpet"
           }
          ],
          "heatmap": [
           {
            "colorbar": {
             "outlinewidth": 0,
             "ticks": ""
            },
            "colorscale": [
             [
              0,
              "#0d0887"
             ],
             [
              0.1111111111111111,
              "#46039f"
             ],
             [
              0.2222222222222222,
              "#7201a8"
             ],
             [
              0.3333333333333333,
              "#9c179e"
             ],
             [
              0.4444444444444444,
              "#bd3786"
             ],
             [
              0.5555555555555556,
              "#d8576b"
             ],
             [
              0.6666666666666666,
              "#ed7953"
             ],
             [
              0.7777777777777778,
              "#fb9f3a"
             ],
             [
              0.8888888888888888,
              "#fdca26"
             ],
             [
              1,
              "#f0f921"
             ]
            ],
            "type": "heatmap"
           }
          ],
          "heatmapgl": [
           {
            "colorbar": {
             "outlinewidth": 0,
             "ticks": ""
            },
            "colorscale": [
             [
              0,
              "#0d0887"
             ],
             [
              0.1111111111111111,
              "#46039f"
             ],
             [
              0.2222222222222222,
              "#7201a8"
             ],
             [
              0.3333333333333333,
              "#9c179e"
             ],
             [
              0.4444444444444444,
              "#bd3786"
             ],
             [
              0.5555555555555556,
              "#d8576b"
             ],
             [
              0.6666666666666666,
              "#ed7953"
             ],
             [
              0.7777777777777778,
              "#fb9f3a"
             ],
             [
              0.8888888888888888,
              "#fdca26"
             ],
             [
              1,
              "#f0f921"
             ]
            ],
            "type": "heatmapgl"
           }
          ],
          "histogram": [
           {
            "marker": {
             "colorbar": {
              "outlinewidth": 0,
              "ticks": ""
             }
            },
            "type": "histogram"
           }
          ],
          "histogram2d": [
           {
            "colorbar": {
             "outlinewidth": 0,
             "ticks": ""
            },
            "colorscale": [
             [
              0,
              "#0d0887"
             ],
             [
              0.1111111111111111,
              "#46039f"
             ],
             [
              0.2222222222222222,
              "#7201a8"
             ],
             [
              0.3333333333333333,
              "#9c179e"
             ],
             [
              0.4444444444444444,
              "#bd3786"
             ],
             [
              0.5555555555555556,
              "#d8576b"
             ],
             [
              0.6666666666666666,
              "#ed7953"
             ],
             [
              0.7777777777777778,
              "#fb9f3a"
             ],
             [
              0.8888888888888888,
              "#fdca26"
             ],
             [
              1,
              "#f0f921"
             ]
            ],
            "type": "histogram2d"
           }
          ],
          "histogram2dcontour": [
           {
            "colorbar": {
             "outlinewidth": 0,
             "ticks": ""
            },
            "colorscale": [
             [
              0,
              "#0d0887"
             ],
             [
              0.1111111111111111,
              "#46039f"
             ],
             [
              0.2222222222222222,
              "#7201a8"
             ],
             [
              0.3333333333333333,
              "#9c179e"
             ],
             [
              0.4444444444444444,
              "#bd3786"
             ],
             [
              0.5555555555555556,
              "#d8576b"
             ],
             [
              0.6666666666666666,
              "#ed7953"
             ],
             [
              0.7777777777777778,
              "#fb9f3a"
             ],
             [
              0.8888888888888888,
              "#fdca26"
             ],
             [
              1,
              "#f0f921"
             ]
            ],
            "type": "histogram2dcontour"
           }
          ],
          "mesh3d": [
           {
            "colorbar": {
             "outlinewidth": 0,
             "ticks": ""
            },
            "type": "mesh3d"
           }
          ],
          "parcoords": [
           {
            "line": {
             "colorbar": {
              "outlinewidth": 0,
              "ticks": ""
             }
            },
            "type": "parcoords"
           }
          ],
          "pie": [
           {
            "automargin": true,
            "type": "pie"
           }
          ],
          "scatter": [
           {
            "marker": {
             "colorbar": {
              "outlinewidth": 0,
              "ticks": ""
             }
            },
            "type": "scatter"
           }
          ],
          "scatter3d": [
           {
            "line": {
             "colorbar": {
              "outlinewidth": 0,
              "ticks": ""
             }
            },
            "marker": {
             "colorbar": {
              "outlinewidth": 0,
              "ticks": ""
             }
            },
            "type": "scatter3d"
           }
          ],
          "scattercarpet": [
           {
            "marker": {
             "colorbar": {
              "outlinewidth": 0,
              "ticks": ""
             }
            },
            "type": "scattercarpet"
           }
          ],
          "scattergeo": [
           {
            "marker": {
             "colorbar": {
              "outlinewidth": 0,
              "ticks": ""
             }
            },
            "type": "scattergeo"
           }
          ],
          "scattergl": [
           {
            "marker": {
             "colorbar": {
              "outlinewidth": 0,
              "ticks": ""
             }
            },
            "type": "scattergl"
           }
          ],
          "scattermapbox": [
           {
            "marker": {
             "colorbar": {
              "outlinewidth": 0,
              "ticks": ""
             }
            },
            "type": "scattermapbox"
           }
          ],
          "scatterpolar": [
           {
            "marker": {
             "colorbar": {
              "outlinewidth": 0,
              "ticks": ""
             }
            },
            "type": "scatterpolar"
           }
          ],
          "scatterpolargl": [
           {
            "marker": {
             "colorbar": {
              "outlinewidth": 0,
              "ticks": ""
             }
            },
            "type": "scatterpolargl"
           }
          ],
          "scatterternary": [
           {
            "marker": {
             "colorbar": {
              "outlinewidth": 0,
              "ticks": ""
             }
            },
            "type": "scatterternary"
           }
          ],
          "surface": [
           {
            "colorbar": {
             "outlinewidth": 0,
             "ticks": ""
            },
            "colorscale": [
             [
              0,
              "#0d0887"
             ],
             [
              0.1111111111111111,
              "#46039f"
             ],
             [
              0.2222222222222222,
              "#7201a8"
             ],
             [
              0.3333333333333333,
              "#9c179e"
             ],
             [
              0.4444444444444444,
              "#bd3786"
             ],
             [
              0.5555555555555556,
              "#d8576b"
             ],
             [
              0.6666666666666666,
              "#ed7953"
             ],
             [
              0.7777777777777778,
              "#fb9f3a"
             ],
             [
              0.8888888888888888,
              "#fdca26"
             ],
             [
              1,
              "#f0f921"
             ]
            ],
            "type": "surface"
           }
          ],
          "table": [
           {
            "cells": {
             "fill": {
              "color": "#EBF0F8"
             },
             "line": {
              "color": "white"
             }
            },
            "header": {
             "fill": {
              "color": "#C8D4E3"
             },
             "line": {
              "color": "white"
             }
            },
            "type": "table"
           }
          ]
         },
         "layout": {
          "annotationdefaults": {
           "arrowcolor": "#2a3f5f",
           "arrowhead": 0,
           "arrowwidth": 1
          },
          "coloraxis": {
           "colorbar": {
            "outlinewidth": 0,
            "ticks": ""
           }
          },
          "colorscale": {
           "diverging": [
            [
             0,
             "#8e0152"
            ],
            [
             0.1,
             "#c51b7d"
            ],
            [
             0.2,
             "#de77ae"
            ],
            [
             0.3,
             "#f1b6da"
            ],
            [
             0.4,
             "#fde0ef"
            ],
            [
             0.5,
             "#f7f7f7"
            ],
            [
             0.6,
             "#e6f5d0"
            ],
            [
             0.7,
             "#b8e186"
            ],
            [
             0.8,
             "#7fbc41"
            ],
            [
             0.9,
             "#4d9221"
            ],
            [
             1,
             "#276419"
            ]
           ],
           "sequential": [
            [
             0,
             "#0d0887"
            ],
            [
             0.1111111111111111,
             "#46039f"
            ],
            [
             0.2222222222222222,
             "#7201a8"
            ],
            [
             0.3333333333333333,
             "#9c179e"
            ],
            [
             0.4444444444444444,
             "#bd3786"
            ],
            [
             0.5555555555555556,
             "#d8576b"
            ],
            [
             0.6666666666666666,
             "#ed7953"
            ],
            [
             0.7777777777777778,
             "#fb9f3a"
            ],
            [
             0.8888888888888888,
             "#fdca26"
            ],
            [
             1,
             "#f0f921"
            ]
           ],
           "sequentialminus": [
            [
             0,
             "#0d0887"
            ],
            [
             0.1111111111111111,
             "#46039f"
            ],
            [
             0.2222222222222222,
             "#7201a8"
            ],
            [
             0.3333333333333333,
             "#9c179e"
            ],
            [
             0.4444444444444444,
             "#bd3786"
            ],
            [
             0.5555555555555556,
             "#d8576b"
            ],
            [
             0.6666666666666666,
             "#ed7953"
            ],
            [
             0.7777777777777778,
             "#fb9f3a"
            ],
            [
             0.8888888888888888,
             "#fdca26"
            ],
            [
             1,
             "#f0f921"
            ]
           ]
          },
          "colorway": [
           "#636efa",
           "#EF553B",
           "#00cc96",
           "#ab63fa",
           "#FFA15A",
           "#19d3f3",
           "#FF6692",
           "#B6E880",
           "#FF97FF",
           "#FECB52"
          ],
          "font": {
           "color": "#2a3f5f"
          },
          "geo": {
           "bgcolor": "white",
           "lakecolor": "white",
           "landcolor": "#E5ECF6",
           "showlakes": true,
           "showland": true,
           "subunitcolor": "white"
          },
          "hoverlabel": {
           "align": "left"
          },
          "hovermode": "closest",
          "mapbox": {
           "style": "light"
          },
          "paper_bgcolor": "white",
          "plot_bgcolor": "#E5ECF6",
          "polar": {
           "angularaxis": {
            "gridcolor": "white",
            "linecolor": "white",
            "ticks": ""
           },
           "bgcolor": "#E5ECF6",
           "radialaxis": {
            "gridcolor": "white",
            "linecolor": "white",
            "ticks": ""
           }
          },
          "scene": {
           "xaxis": {
            "backgroundcolor": "#E5ECF6",
            "gridcolor": "white",
            "gridwidth": 2,
            "linecolor": "white",
            "showbackground": true,
            "ticks": "",
            "zerolinecolor": "white"
           },
           "yaxis": {
            "backgroundcolor": "#E5ECF6",
            "gridcolor": "white",
            "gridwidth": 2,
            "linecolor": "white",
            "showbackground": true,
            "ticks": "",
            "zerolinecolor": "white"
           },
           "zaxis": {
            "backgroundcolor": "#E5ECF6",
            "gridcolor": "white",
            "gridwidth": 2,
            "linecolor": "white",
            "showbackground": true,
            "ticks": "",
            "zerolinecolor": "white"
           }
          },
          "shapedefaults": {
           "line": {
            "color": "#2a3f5f"
           }
          },
          "ternary": {
           "aaxis": {
            "gridcolor": "white",
            "linecolor": "white",
            "ticks": ""
           },
           "baxis": {
            "gridcolor": "white",
            "linecolor": "white",
            "ticks": ""
           },
           "bgcolor": "#E5ECF6",
           "caxis": {
            "gridcolor": "white",
            "linecolor": "white",
            "ticks": ""
           }
          },
          "title": {
           "x": 0.05
          },
          "xaxis": {
           "automargin": true,
           "gridcolor": "white",
           "linecolor": "white",
           "ticks": "",
           "title": {
            "standoff": 15
           },
           "zerolinecolor": "white",
           "zerolinewidth": 2
          },
          "yaxis": {
           "automargin": true,
           "gridcolor": "white",
           "linecolor": "white",
           "ticks": "",
           "title": {
            "standoff": 15
           },
           "zerolinecolor": "white",
           "zerolinewidth": 2
          }
         }
        },
        "title": {
         "font": {
          "color": "#4D5663"
         }
        },
        "xaxis": {
         "gridcolor": "#E1E5ED",
         "showgrid": true,
         "tickfont": {
          "color": "#4D5663"
         },
         "title": {
          "font": {
           "color": "#4D5663"
          },
          "text": ""
         },
         "zerolinecolor": "#E1E5ED"
        },
        "yaxis": {
         "gridcolor": "#E1E5ED",
         "showgrid": true,
         "tickfont": {
          "color": "#4D5663"
         },
         "title": {
          "font": {
           "color": "#4D5663"
          },
          "text": ""
         },
         "zerolinecolor": "#E1E5ED"
        }
       }
      },
      "text/html": [
       "<div>\n",
       "        \n",
       "        \n",
       "            <div id=\"cb46fb6f-7bb2-4198-95a9-6335fcb447dd\" class=\"plotly-graph-div\" style=\"height:525px; width:100%;\"></div>\n",
       "            <script type=\"text/javascript\">\n",
       "                require([\"plotly\"], function(Plotly) {\n",
       "                    window.PLOTLYENV=window.PLOTLYENV || {};\n",
       "                    window.PLOTLYENV.BASE_URL='https://plot.ly';\n",
       "                    \n",
       "                if (document.getElementById(\"cb46fb6f-7bb2-4198-95a9-6335fcb447dd\")) {\n",
       "                    Plotly.newPlot(\n",
       "                        'cb46fb6f-7bb2-4198-95a9-6335fcb447dd',\n",
       "                        [{\"colorscale\": [[0.0, \"rgb(165,0,38)\"], [0.1, \"rgb(215,48,39)\"], [0.2, \"rgb(244,109,67)\"], [0.3, \"rgb(253,174,97)\"], [0.4, \"rgb(254,224,144)\"], [0.5, \"rgb(255,255,191)\"], [0.6, \"rgb(224,243,248)\"], [0.7, \"rgb(171,217,233)\"], [0.8, \"rgb(116,173,209)\"], [0.9, \"rgb(69,117,180)\"], [1.0, \"rgb(49,54,149)\"]], \"type\": \"surface\", \"x\": [0, 1, 2, 3, 4], \"y\": [\"x\", \"y\", \"z\"], \"z\": [[1, 2, 3, 4, 5], [10, 20, 30, 40, 50], [5, 4, 3, 2, 1]]}],\n",
       "                        {\"legend\": {\"bgcolor\": \"#F5F6F9\", \"font\": {\"color\": \"#4D5663\"}}, \"paper_bgcolor\": \"#F5F6F9\", \"plot_bgcolor\": \"#F5F6F9\", \"template\": {\"data\": {\"bar\": [{\"error_x\": {\"color\": \"#2a3f5f\"}, \"error_y\": {\"color\": \"#2a3f5f\"}, \"marker\": {\"line\": {\"color\": \"#E5ECF6\", \"width\": 0.5}}, \"type\": \"bar\"}], \"barpolar\": [{\"marker\": {\"line\": {\"color\": \"#E5ECF6\", \"width\": 0.5}}, \"type\": \"barpolar\"}], \"carpet\": [{\"aaxis\": {\"endlinecolor\": \"#2a3f5f\", \"gridcolor\": \"white\", \"linecolor\": \"white\", \"minorgridcolor\": \"white\", \"startlinecolor\": \"#2a3f5f\"}, \"baxis\": {\"endlinecolor\": \"#2a3f5f\", \"gridcolor\": \"white\", \"linecolor\": \"white\", \"minorgridcolor\": \"white\", \"startlinecolor\": \"#2a3f5f\"}, \"type\": \"carpet\"}], \"choropleth\": [{\"colorbar\": {\"outlinewidth\": 0, \"ticks\": \"\"}, \"type\": \"choropleth\"}], \"contour\": [{\"colorbar\": {\"outlinewidth\": 0, \"ticks\": \"\"}, \"colorscale\": [[0.0, \"#0d0887\"], [0.1111111111111111, \"#46039f\"], [0.2222222222222222, \"#7201a8\"], [0.3333333333333333, \"#9c179e\"], [0.4444444444444444, \"#bd3786\"], [0.5555555555555556, \"#d8576b\"], [0.6666666666666666, \"#ed7953\"], [0.7777777777777778, \"#fb9f3a\"], [0.8888888888888888, \"#fdca26\"], [1.0, \"#f0f921\"]], \"type\": \"contour\"}], \"contourcarpet\": [{\"colorbar\": {\"outlinewidth\": 0, \"ticks\": \"\"}, \"type\": \"contourcarpet\"}], \"heatmap\": [{\"colorbar\": {\"outlinewidth\": 0, \"ticks\": \"\"}, \"colorscale\": [[0.0, \"#0d0887\"], [0.1111111111111111, \"#46039f\"], [0.2222222222222222, \"#7201a8\"], [0.3333333333333333, \"#9c179e\"], [0.4444444444444444, \"#bd3786\"], [0.5555555555555556, \"#d8576b\"], [0.6666666666666666, \"#ed7953\"], [0.7777777777777778, \"#fb9f3a\"], [0.8888888888888888, \"#fdca26\"], [1.0, \"#f0f921\"]], \"type\": \"heatmap\"}], \"heatmapgl\": [{\"colorbar\": {\"outlinewidth\": 0, \"ticks\": \"\"}, \"colorscale\": [[0.0, \"#0d0887\"], [0.1111111111111111, \"#46039f\"], [0.2222222222222222, \"#7201a8\"], [0.3333333333333333, \"#9c179e\"], [0.4444444444444444, \"#bd3786\"], [0.5555555555555556, \"#d8576b\"], [0.6666666666666666, \"#ed7953\"], [0.7777777777777778, \"#fb9f3a\"], [0.8888888888888888, \"#fdca26\"], [1.0, \"#f0f921\"]], \"type\": \"heatmapgl\"}], \"histogram\": [{\"marker\": {\"colorbar\": {\"outlinewidth\": 0, \"ticks\": \"\"}}, \"type\": \"histogram\"}], \"histogram2d\": [{\"colorbar\": {\"outlinewidth\": 0, \"ticks\": \"\"}, \"colorscale\": [[0.0, \"#0d0887\"], [0.1111111111111111, \"#46039f\"], [0.2222222222222222, \"#7201a8\"], [0.3333333333333333, \"#9c179e\"], [0.4444444444444444, \"#bd3786\"], [0.5555555555555556, \"#d8576b\"], [0.6666666666666666, \"#ed7953\"], [0.7777777777777778, \"#fb9f3a\"], [0.8888888888888888, \"#fdca26\"], [1.0, \"#f0f921\"]], \"type\": \"histogram2d\"}], \"histogram2dcontour\": [{\"colorbar\": {\"outlinewidth\": 0, \"ticks\": \"\"}, \"colorscale\": [[0.0, \"#0d0887\"], [0.1111111111111111, \"#46039f\"], [0.2222222222222222, \"#7201a8\"], [0.3333333333333333, \"#9c179e\"], [0.4444444444444444, \"#bd3786\"], [0.5555555555555556, \"#d8576b\"], [0.6666666666666666, \"#ed7953\"], [0.7777777777777778, \"#fb9f3a\"], [0.8888888888888888, \"#fdca26\"], [1.0, \"#f0f921\"]], \"type\": \"histogram2dcontour\"}], \"mesh3d\": [{\"colorbar\": {\"outlinewidth\": 0, \"ticks\": \"\"}, \"type\": \"mesh3d\"}], \"parcoords\": [{\"line\": {\"colorbar\": {\"outlinewidth\": 0, \"ticks\": \"\"}}, \"type\": \"parcoords\"}], \"pie\": [{\"automargin\": true, \"type\": \"pie\"}], \"scatter\": [{\"marker\": {\"colorbar\": {\"outlinewidth\": 0, \"ticks\": \"\"}}, \"type\": \"scatter\"}], \"scatter3d\": [{\"line\": {\"colorbar\": {\"outlinewidth\": 0, \"ticks\": \"\"}}, \"marker\": {\"colorbar\": {\"outlinewidth\": 0, \"ticks\": \"\"}}, \"type\": \"scatter3d\"}], \"scattercarpet\": [{\"marker\": {\"colorbar\": {\"outlinewidth\": 0, \"ticks\": \"\"}}, \"type\": \"scattercarpet\"}], \"scattergeo\": [{\"marker\": {\"colorbar\": {\"outlinewidth\": 0, \"ticks\": \"\"}}, \"type\": \"scattergeo\"}], \"scattergl\": [{\"marker\": {\"colorbar\": {\"outlinewidth\": 0, \"ticks\": \"\"}}, \"type\": \"scattergl\"}], \"scattermapbox\": [{\"marker\": {\"colorbar\": {\"outlinewidth\": 0, \"ticks\": \"\"}}, \"type\": \"scattermapbox\"}], \"scatterpolar\": [{\"marker\": {\"colorbar\": {\"outlinewidth\": 0, \"ticks\": \"\"}}, \"type\": \"scatterpolar\"}], \"scatterpolargl\": [{\"marker\": {\"colorbar\": {\"outlinewidth\": 0, \"ticks\": \"\"}}, \"type\": \"scatterpolargl\"}], \"scatterternary\": [{\"marker\": {\"colorbar\": {\"outlinewidth\": 0, \"ticks\": \"\"}}, \"type\": \"scatterternary\"}], \"surface\": [{\"colorbar\": {\"outlinewidth\": 0, \"ticks\": \"\"}, \"colorscale\": [[0.0, \"#0d0887\"], [0.1111111111111111, \"#46039f\"], [0.2222222222222222, \"#7201a8\"], [0.3333333333333333, \"#9c179e\"], [0.4444444444444444, \"#bd3786\"], [0.5555555555555556, \"#d8576b\"], [0.6666666666666666, \"#ed7953\"], [0.7777777777777778, \"#fb9f3a\"], [0.8888888888888888, \"#fdca26\"], [1.0, \"#f0f921\"]], \"type\": \"surface\"}], \"table\": [{\"cells\": {\"fill\": {\"color\": \"#EBF0F8\"}, \"line\": {\"color\": \"white\"}}, \"header\": {\"fill\": {\"color\": \"#C8D4E3\"}, \"line\": {\"color\": \"white\"}}, \"type\": \"table\"}]}, \"layout\": {\"annotationdefaults\": {\"arrowcolor\": \"#2a3f5f\", \"arrowhead\": 0, \"arrowwidth\": 1}, \"coloraxis\": {\"colorbar\": {\"outlinewidth\": 0, \"ticks\": \"\"}}, \"colorscale\": {\"diverging\": [[0, \"#8e0152\"], [0.1, \"#c51b7d\"], [0.2, \"#de77ae\"], [0.3, \"#f1b6da\"], [0.4, \"#fde0ef\"], [0.5, \"#f7f7f7\"], [0.6, \"#e6f5d0\"], [0.7, \"#b8e186\"], [0.8, \"#7fbc41\"], [0.9, \"#4d9221\"], [1, \"#276419\"]], \"sequential\": [[0.0, \"#0d0887\"], [0.1111111111111111, \"#46039f\"], [0.2222222222222222, \"#7201a8\"], [0.3333333333333333, \"#9c179e\"], [0.4444444444444444, \"#bd3786\"], [0.5555555555555556, \"#d8576b\"], [0.6666666666666666, \"#ed7953\"], [0.7777777777777778, \"#fb9f3a\"], [0.8888888888888888, \"#fdca26\"], [1.0, \"#f0f921\"]], \"sequentialminus\": [[0.0, \"#0d0887\"], [0.1111111111111111, \"#46039f\"], [0.2222222222222222, \"#7201a8\"], [0.3333333333333333, \"#9c179e\"], [0.4444444444444444, \"#bd3786\"], [0.5555555555555556, \"#d8576b\"], [0.6666666666666666, \"#ed7953\"], [0.7777777777777778, \"#fb9f3a\"], [0.8888888888888888, \"#fdca26\"], [1.0, \"#f0f921\"]]}, \"colorway\": [\"#636efa\", \"#EF553B\", \"#00cc96\", \"#ab63fa\", \"#FFA15A\", \"#19d3f3\", \"#FF6692\", \"#B6E880\", \"#FF97FF\", \"#FECB52\"], \"font\": {\"color\": \"#2a3f5f\"}, \"geo\": {\"bgcolor\": \"white\", \"lakecolor\": \"white\", \"landcolor\": \"#E5ECF6\", \"showlakes\": true, \"showland\": true, \"subunitcolor\": \"white\"}, \"hoverlabel\": {\"align\": \"left\"}, \"hovermode\": \"closest\", \"mapbox\": {\"style\": \"light\"}, \"paper_bgcolor\": \"white\", \"plot_bgcolor\": \"#E5ECF6\", \"polar\": {\"angularaxis\": {\"gridcolor\": \"white\", \"linecolor\": \"white\", \"ticks\": \"\"}, \"bgcolor\": \"#E5ECF6\", \"radialaxis\": {\"gridcolor\": \"white\", \"linecolor\": \"white\", \"ticks\": \"\"}}, \"scene\": {\"xaxis\": {\"backgroundcolor\": \"#E5ECF6\", \"gridcolor\": \"white\", \"gridwidth\": 2, \"linecolor\": \"white\", \"showbackground\": true, \"ticks\": \"\", \"zerolinecolor\": \"white\"}, \"yaxis\": {\"backgroundcolor\": \"#E5ECF6\", \"gridcolor\": \"white\", \"gridwidth\": 2, \"linecolor\": \"white\", \"showbackground\": true, \"ticks\": \"\", \"zerolinecolor\": \"white\"}, \"zaxis\": {\"backgroundcolor\": \"#E5ECF6\", \"gridcolor\": \"white\", \"gridwidth\": 2, \"linecolor\": \"white\", \"showbackground\": true, \"ticks\": \"\", \"zerolinecolor\": \"white\"}}, \"shapedefaults\": {\"line\": {\"color\": \"#2a3f5f\"}}, \"ternary\": {\"aaxis\": {\"gridcolor\": \"white\", \"linecolor\": \"white\", \"ticks\": \"\"}, \"baxis\": {\"gridcolor\": \"white\", \"linecolor\": \"white\", \"ticks\": \"\"}, \"bgcolor\": \"#E5ECF6\", \"caxis\": {\"gridcolor\": \"white\", \"linecolor\": \"white\", \"ticks\": \"\"}}, \"title\": {\"x\": 0.05}, \"xaxis\": {\"automargin\": true, \"gridcolor\": \"white\", \"linecolor\": \"white\", \"ticks\": \"\", \"title\": {\"standoff\": 15}, \"zerolinecolor\": \"white\", \"zerolinewidth\": 2}, \"yaxis\": {\"automargin\": true, \"gridcolor\": \"white\", \"linecolor\": \"white\", \"ticks\": \"\", \"title\": {\"standoff\": 15}, \"zerolinecolor\": \"white\", \"zerolinewidth\": 2}}}, \"title\": {\"font\": {\"color\": \"#4D5663\"}}, \"xaxis\": {\"gridcolor\": \"#E1E5ED\", \"showgrid\": true, \"tickfont\": {\"color\": \"#4D5663\"}, \"title\": {\"font\": {\"color\": \"#4D5663\"}, \"text\": \"\"}, \"zerolinecolor\": \"#E1E5ED\"}, \"yaxis\": {\"gridcolor\": \"#E1E5ED\", \"showgrid\": true, \"tickfont\": {\"color\": \"#4D5663\"}, \"title\": {\"font\": {\"color\": \"#4D5663\"}, \"text\": \"\"}, \"zerolinecolor\": \"#E1E5ED\"}},\n",
       "                        {\"showLink\": true, \"linkText\": \"Export to plot.ly\", \"plotlyServerURL\": \"https://plot.ly\", \"responsive\": true}\n",
       "                    ).then(function(){\n",
       "                            \n",
       "var gd = document.getElementById('cb46fb6f-7bb2-4198-95a9-6335fcb447dd');\n",
       "var x = new MutationObserver(function (mutations, observer) {{\n",
       "        var display = window.getComputedStyle(gd).display;\n",
       "        if (!display || display === 'none') {{\n",
       "            console.log([gd, 'removed!']);\n",
       "            Plotly.purge(gd);\n",
       "            observer.disconnect();\n",
       "        }}\n",
       "}});\n",
       "\n",
       "// Listen for the removal of the full notebook cells\n",
       "var notebookContainer = gd.closest('#notebook-container');\n",
       "if (notebookContainer) {{\n",
       "    x.observe(notebookContainer, {childList: true});\n",
       "}}\n",
       "\n",
       "// Listen for the clearing of the current output cell\n",
       "var outputEl = gd.closest('.output');\n",
       "if (outputEl) {{\n",
       "    x.observe(outputEl, {childList: true});\n",
       "}}\n",
       "\n",
       "                        })\n",
       "                };\n",
       "                });\n",
       "            </script>\n",
       "        </div>"
      ]
     },
     "metadata": {},
     "output_type": "display_data"
    }
   ],
   "source": [
    "df3.iplot(kind='surface', colorscale='rdylbu')"
   ]
  },
  {
   "cell_type": "code",
   "execution_count": 33,
   "metadata": {},
   "outputs": [
    {
     "data": {
      "application/vnd.plotly.v1+json": {
       "config": {
        "linkText": "Export to plot.ly",
        "plotlyServerURL": "https://plot.ly",
        "showLink": true
       },
       "data": [
        {
         "line": {
          "color": "rgba(255, 153, 51, 1.0)",
          "dash": "solid",
          "shape": "linear",
          "width": 1.3
         },
         "mode": "lines",
         "name": "A",
         "text": "",
         "type": "scatter",
         "x": [
          0,
          1,
          2,
          3,
          4,
          5,
          6,
          7,
          8,
          9,
          10,
          11,
          12,
          13,
          14,
          15,
          16,
          17,
          18,
          19,
          20,
          21,
          22,
          23,
          24,
          25,
          26,
          27,
          28,
          29,
          30,
          31,
          32,
          33,
          34,
          35,
          36,
          37,
          38,
          39,
          40,
          41,
          42,
          43,
          44,
          45,
          46,
          47,
          48,
          49,
          50,
          51,
          52,
          53,
          54,
          55,
          56,
          57,
          58,
          59,
          60,
          61,
          62,
          63,
          64,
          65,
          66,
          67,
          68,
          69,
          70,
          71,
          72,
          73,
          74,
          75,
          76,
          77,
          78,
          79,
          80,
          81,
          82,
          83,
          84,
          85,
          86,
          87,
          88,
          89,
          90,
          91,
          92,
          93,
          94,
          95,
          96,
          97,
          98,
          99
         ],
         "y": [
          -0.051837791061411176,
          -0.49686287148954067,
          -2.1771515192846906,
          -0.5113732243720404,
          -0.03837284189106989,
          0.3548680089577916,
          -0.9670222154179324,
          0.48967087422011185,
          1.010118843634135,
          1.1767005716127645,
          0.6049739509700985,
          -1.2688805227873958,
          -0.02341822554535787,
          -0.8845292410026588,
          -0.11078185573420099,
          0.4450716121013818,
          -0.6524788440445956,
          0.8362365802443669,
          -0.26480206570836334,
          -0.015521473434741142,
          -0.9070581908107753,
          -0.19848188846188358,
          0.23484988589792208,
          -0.9429068811094353,
          0.33804310467588616,
          0.2231325138137817,
          1.4180751876383473,
          0.27684307950859816,
          -0.7268118558078794,
          -1.8190959116589784,
          0.8863588248415394,
          0.811407224749543,
          0.9168706533314526,
          -0.49255538436951624,
          -0.38855891112932583,
          -0.33060548677620133,
          0.22814018946691325,
          -0.06134433481792067,
          2.2699080261066835,
          -0.648450660547072,
          -0.6676597248888836,
          0.12780912335519987,
          0.26203454175511987,
          -0.5425640188515645,
          -1.7685038013335517,
          0.40968157985444253,
          -0.42445362372076917,
          -1.088382988200841,
          1.23453450356868,
          -0.3638729323339125,
          0.7811986561585942,
          -1.0258459763128092,
          -1.7662105171837867,
          0.41472993026917654,
          -0.9409427214991185,
          -2.224333425583536,
          -0.2431794109095521,
          -0.9395444396754363,
          -0.5689902576839743,
          3.044340783482019,
          1.2505474809367803,
          -1.8363813899795214,
          -1.4820530742319769,
          -0.46642801300752706,
          0.812718554669287,
          0.6645329003944418,
          0.3270216654104052,
          -0.1223759657745449,
          0.09624616022289444,
          -0.22541462588698472,
          -0.2958817575821674,
          0.2871613386480438,
          0.07953086113867225,
          0.36601957350281533,
          1.646247258053811,
          0.40813146514571574,
          0.43032791348249316,
          -0.35118667775584894,
          1.0808974968793563,
          0.4428858638821342,
          -1.276203580800424,
          -0.5670787860121267,
          0.5425648310098887,
          -2.3985130158037213,
          0.02387026311991676,
          -0.1123122571750988,
          -0.778639967616544,
          0.5459580253709689,
          1.4604660678279568,
          0.3965009201697333,
          -0.5651998505477467,
          0.3117696147066201,
          -1.5089493383412824,
          -0.28001165739536366,
          1.3072298277883696,
          -0.7487924987650352,
          -0.48883749025194284,
          -0.09653869536735393,
          0.01895917624825842,
          0.6100637239125053
         ]
        },
        {
         "line": {
          "color": "rgba(55, 128, 191, 1.0)",
          "dash": "solid",
          "shape": "linear",
          "width": 1.3
         },
         "mode": "lines",
         "name": "B",
         "text": "",
         "type": "scatter",
         "x": [
          0,
          1,
          2,
          3,
          4,
          5,
          6,
          7,
          8,
          9,
          10,
          11,
          12,
          13,
          14,
          15,
          16,
          17,
          18,
          19,
          20,
          21,
          22,
          23,
          24,
          25,
          26,
          27,
          28,
          29,
          30,
          31,
          32,
          33,
          34,
          35,
          36,
          37,
          38,
          39,
          40,
          41,
          42,
          43,
          44,
          45,
          46,
          47,
          48,
          49,
          50,
          51,
          52,
          53,
          54,
          55,
          56,
          57,
          58,
          59,
          60,
          61,
          62,
          63,
          64,
          65,
          66,
          67,
          68,
          69,
          70,
          71,
          72,
          73,
          74,
          75,
          76,
          77,
          78,
          79,
          80,
          81,
          82,
          83,
          84,
          85,
          86,
          87,
          88,
          89,
          90,
          91,
          92,
          93,
          94,
          95,
          96,
          97,
          98,
          99
         ],
         "y": [
          0.3695370284703798,
          -0.8743817851595044,
          -1.5751701215297989,
          -0.5285960006848781,
          1.626477455353992,
          -2.459883081251386,
          -0.2917473650965046,
          -0.27854283712680494,
          -0.21414904709360755,
          0.05697064749512811,
          -0.11926176248256731,
          -0.7021821239487716,
          -0.24572150749364016,
          -0.14898474253809174,
          -1.3113443874376083,
          -4.167956106747543,
          0.5272200063944493,
          0.8649922158474757,
          -0.44583230013138686,
          -0.4160049037062795,
          -0.466239445185336,
          0.08377937035475586,
          0.6614591440734874,
          1.12535799467954,
          0.9567317890641305,
          1.8181135552660397,
          -0.927102989747783,
          0.44080180507522854,
          -0.06554376455534469,
          -0.2603983795904401,
          0.6333449797500809,
          -0.10072593183762651,
          -1.1133918555613957,
          -1.129529656932896,
          -0.19799900792328565,
          -0.13847772677187756,
          -0.18071833438394155,
          0.08693506582433717,
          0.4956531660302352,
          0.518581006571991,
          -0.5021690307243035,
          -0.46873614050059736,
          2.8629607999012587,
          1.1628814628174975,
          -0.10637423519170412,
          -0.5365095684859182,
          0.10172889460656297,
          0.8434298624659738,
          0.178773563424261,
          -0.8930770980031411,
          -0.528758606533394,
          -0.2566640539476154,
          -1.288023250707061,
          -0.970954446795933,
          0.6549562426168584,
          -2.3232483033711198,
          -0.11610262914757792,
          0.09858406174514805,
          0.4361663737293656,
          0.6945343333387475,
          -0.16649974364440523,
          0.8223881464101899,
          1.9482584831312117,
          0.29704791128841773,
          0.3237810004606294,
          0.544957091603034,
          -0.17353554497162008,
          -1.065684238826915,
          -0.08021988841387116,
          0.4569936193631879,
          0.6254218330930134,
          -0.08102891382823191,
          -1.0928559466028436,
          -1.3591555442045564,
          0.4577921792340458,
          0.3495884903538427,
          -1.1037616297370296,
          -1.990831617641072,
          0.6455485345946241,
          -1.5268647591648523,
          -0.46605297721767797,
          -0.019275930557890078,
          -0.34203927447449445,
          1.3673189706167137,
          0.4734388491991349,
          1.0693898450217338,
          -1.1866359358774416,
          0.012262267947191194,
          1.5134873033665468,
          1.5976790969792416,
          -0.423613673426834,
          0.06955095640490072,
          -1.1664675783266583,
          -0.6094899292030159,
          -0.7697122722341971,
          -0.011835620658037676,
          -0.6125980696950949,
          0.6171362973467006,
          -1.4793715674364853,
          -1.1455262902983676
         ]
        },
        {
         "connectgaps": false,
         "fill": "tozeroy",
         "line": {
          "color": "green",
          "dash": "solid",
          "shape": "linear",
          "width": 0.5
         },
         "mode": "lines",
         "name": "Spread",
         "showlegend": false,
         "type": "scatter",
         "x": [
          0,
          1,
          2,
          3,
          4,
          5,
          6,
          7,
          8,
          9,
          10,
          11,
          12,
          13,
          14,
          15,
          16,
          17,
          18,
          19,
          20,
          21,
          22,
          23,
          24,
          25,
          26,
          27,
          28,
          29,
          30,
          31,
          32,
          33,
          34,
          35,
          36,
          37,
          38,
          39,
          40,
          41,
          42,
          43,
          44,
          45,
          46,
          47,
          48,
          49,
          50,
          51,
          52,
          53,
          54,
          55,
          56,
          57,
          58,
          59,
          60,
          61,
          62,
          63,
          64,
          65,
          66,
          67,
          68,
          69,
          70,
          71,
          72,
          73,
          74,
          75,
          76,
          77,
          78,
          79,
          80,
          81,
          82,
          83,
          84,
          85,
          86,
          87,
          88,
          89,
          90,
          91,
          92,
          93,
          94,
          95,
          96,
          97,
          98,
          99
         ],
         "xaxis": "x2",
         "y": [
          "",
          0.3775189136699637,
          "",
          0.01722277631283775,
          "",
          2.8147510902091777,
          "",
          0.7682137113469167,
          1.2242678907277427,
          1.1197299241176364,
          0.7242357134526658,
          "",
          0.2223032819482823,
          "",
          1.2005625317034072,
          4.613027718848924,
          "",
          "",
          0.18103023442302352,
          0.4004834302715384,
          "",
          "",
          "",
          "",
          "",
          "",
          2.3451781773861304,
          "",
          "",
          "",
          0.2530138450914585,
          0.9121331565871695,
          2.0302625088928483,
          0.6369742725633798,
          "",
          "",
          0.4088585238508548,
          "",
          1.7742548600764483,
          "",
          "",
          0.5965452638557972,
          "",
          "",
          "",
          0.9461911483403608,
          "",
          "",
          1.055760940144419,
          0.5292041656692286,
          1.3099572626919882,
          "",
          "",
          1.3856843770651095,
          "",
          0.09891487778758368,
          "",
          "",
          "",
          2.349806450143271,
          1.4170472245811854,
          "",
          "",
          "",
          0.4889375542086576,
          0.11957580879140783,
          0.5005572103820253,
          0.9433082730523701,
          0.1764660486367656,
          "",
          "",
          0.3681902524762757,
          1.1723868077415158,
          1.7251751177073718,
          1.1884550788197652,
          0.05854297479187304,
          1.5340895432195227,
          1.639644939885223,
          0.4353489622847322,
          1.9697506230469866,
          "",
          "",
          0.8846041054843832,
          "",
          "",
          "",
          0.4079959682608977,
          0.5336957574237777,
          "",
          "",
          "",
          0.2422186583017194,
          "",
          0.32947827180765227,
          2.076942100022567,
          "",
          0.12376057944315205,
          "",
          1.4983307436847437,
          1.755590014210873
         ],
         "yaxis": "y2"
        },
        {
         "connectgaps": false,
         "fill": "tozeroy",
         "line": {
          "color": "red",
          "dash": "solid",
          "shape": "linear",
          "width": 0.5
         },
         "mode": "lines",
         "name": "Spread",
         "showlegend": false,
         "type": "scatter",
         "x": [
          0,
          1,
          2,
          3,
          4,
          5,
          6,
          7,
          8,
          9,
          10,
          11,
          12,
          13,
          14,
          15,
          16,
          17,
          18,
          19,
          20,
          21,
          22,
          23,
          24,
          25,
          26,
          27,
          28,
          29,
          30,
          31,
          32,
          33,
          34,
          35,
          36,
          37,
          38,
          39,
          40,
          41,
          42,
          43,
          44,
          45,
          46,
          47,
          48,
          49,
          50,
          51,
          52,
          53,
          54,
          55,
          56,
          57,
          58,
          59,
          60,
          61,
          62,
          63,
          64,
          65,
          66,
          67,
          68,
          69,
          70,
          71,
          72,
          73,
          74,
          75,
          76,
          77,
          78,
          79,
          80,
          81,
          82,
          83,
          84,
          85,
          86,
          87,
          88,
          89,
          90,
          91,
          92,
          93,
          94,
          95,
          96,
          97,
          98,
          99
         ],
         "xaxis": "x2",
         "y": [
          -0.42137481953179096,
          "",
          -0.6019813977548918,
          "",
          -1.6648502972450618,
          "",
          -0.6752748503214279,
          "",
          "",
          "",
          "",
          -0.5666983988386243,
          "",
          -0.7355444984645672,
          "",
          "",
          -1.1796988504390449,
          -0.028755635603108787,
          "",
          "",
          -0.4408187456254393,
          -0.28226125881663944,
          -0.4266092581755653,
          -2.068264875788975,
          -0.6186886843882443,
          -1.594981041452258,
          "",
          -0.16395872556663038,
          -0.6612680912525347,
          -1.5586975320685383,
          "",
          "",
          "",
          "",
          -0.1905599032060402,
          -0.19212776000432377,
          "",
          -0.14827940064225784,
          "",
          -1.167031667119063,
          -0.16549069416458007,
          "",
          -2.600926258146139,
          -1.705445481669062,
          -1.6621295661418476,
          "",
          -0.5261825183273321,
          -1.9318128506668146,
          "",
          "",
          "",
          -0.7691819223651938,
          -0.4781872664767257,
          "",
          -1.5958989641159769,
          "",
          -0.12707678176197418,
          -1.0381285014205843,
          -1.0051566314133398,
          "",
          "",
          -2.6587695363897113,
          -3.4303115573631886,
          -0.7634759242959448,
          "",
          "",
          "",
          "",
          "",
          -0.6824082452501726,
          -0.9213035906751808,
          "",
          "",
          "",
          "",
          "",
          "",
          "",
          "",
          "",
          -0.8101506035827459,
          -0.5478028554542366,
          "",
          -3.765831986420435,
          -0.4495685860792182,
          -1.1817021021968326,
          "",
          "",
          -0.05302123553858995,
          -1.2011781768095082,
          -0.1415861771209127,
          "",
          -0.34248176001462416,
          "",
          "",
          -0.7369568781069975,
          "",
          -0.7136749927140545,
          "",
          ""
         ],
         "yaxis": "y2"
        }
       ],
       "layout": {
        "hovermode": "x",
        "legend": {
         "bgcolor": "#F5F6F9",
         "font": {
          "color": "#4D5663"
         }
        },
        "paper_bgcolor": "#F5F6F9",
        "plot_bgcolor": "#F5F6F9",
        "template": {
         "data": {
          "bar": [
           {
            "error_x": {
             "color": "#2a3f5f"
            },
            "error_y": {
             "color": "#2a3f5f"
            },
            "marker": {
             "line": {
              "color": "#E5ECF6",
              "width": 0.5
             }
            },
            "type": "bar"
           }
          ],
          "barpolar": [
           {
            "marker": {
             "line": {
              "color": "#E5ECF6",
              "width": 0.5
             }
            },
            "type": "barpolar"
           }
          ],
          "carpet": [
           {
            "aaxis": {
             "endlinecolor": "#2a3f5f",
             "gridcolor": "white",
             "linecolor": "white",
             "minorgridcolor": "white",
             "startlinecolor": "#2a3f5f"
            },
            "baxis": {
             "endlinecolor": "#2a3f5f",
             "gridcolor": "white",
             "linecolor": "white",
             "minorgridcolor": "white",
             "startlinecolor": "#2a3f5f"
            },
            "type": "carpet"
           }
          ],
          "choropleth": [
           {
            "colorbar": {
             "outlinewidth": 0,
             "ticks": ""
            },
            "type": "choropleth"
           }
          ],
          "contour": [
           {
            "colorbar": {
             "outlinewidth": 0,
             "ticks": ""
            },
            "colorscale": [
             [
              0,
              "#0d0887"
             ],
             [
              0.1111111111111111,
              "#46039f"
             ],
             [
              0.2222222222222222,
              "#7201a8"
             ],
             [
              0.3333333333333333,
              "#9c179e"
             ],
             [
              0.4444444444444444,
              "#bd3786"
             ],
             [
              0.5555555555555556,
              "#d8576b"
             ],
             [
              0.6666666666666666,
              "#ed7953"
             ],
             [
              0.7777777777777778,
              "#fb9f3a"
             ],
             [
              0.8888888888888888,
              "#fdca26"
             ],
             [
              1,
              "#f0f921"
             ]
            ],
            "type": "contour"
           }
          ],
          "contourcarpet": [
           {
            "colorbar": {
             "outlinewidth": 0,
             "ticks": ""
            },
            "type": "contourcarpet"
           }
          ],
          "heatmap": [
           {
            "colorbar": {
             "outlinewidth": 0,
             "ticks": ""
            },
            "colorscale": [
             [
              0,
              "#0d0887"
             ],
             [
              0.1111111111111111,
              "#46039f"
             ],
             [
              0.2222222222222222,
              "#7201a8"
             ],
             [
              0.3333333333333333,
              "#9c179e"
             ],
             [
              0.4444444444444444,
              "#bd3786"
             ],
             [
              0.5555555555555556,
              "#d8576b"
             ],
             [
              0.6666666666666666,
              "#ed7953"
             ],
             [
              0.7777777777777778,
              "#fb9f3a"
             ],
             [
              0.8888888888888888,
              "#fdca26"
             ],
             [
              1,
              "#f0f921"
             ]
            ],
            "type": "heatmap"
           }
          ],
          "heatmapgl": [
           {
            "colorbar": {
             "outlinewidth": 0,
             "ticks": ""
            },
            "colorscale": [
             [
              0,
              "#0d0887"
             ],
             [
              0.1111111111111111,
              "#46039f"
             ],
             [
              0.2222222222222222,
              "#7201a8"
             ],
             [
              0.3333333333333333,
              "#9c179e"
             ],
             [
              0.4444444444444444,
              "#bd3786"
             ],
             [
              0.5555555555555556,
              "#d8576b"
             ],
             [
              0.6666666666666666,
              "#ed7953"
             ],
             [
              0.7777777777777778,
              "#fb9f3a"
             ],
             [
              0.8888888888888888,
              "#fdca26"
             ],
             [
              1,
              "#f0f921"
             ]
            ],
            "type": "heatmapgl"
           }
          ],
          "histogram": [
           {
            "marker": {
             "colorbar": {
              "outlinewidth": 0,
              "ticks": ""
             }
            },
            "type": "histogram"
           }
          ],
          "histogram2d": [
           {
            "colorbar": {
             "outlinewidth": 0,
             "ticks": ""
            },
            "colorscale": [
             [
              0,
              "#0d0887"
             ],
             [
              0.1111111111111111,
              "#46039f"
             ],
             [
              0.2222222222222222,
              "#7201a8"
             ],
             [
              0.3333333333333333,
              "#9c179e"
             ],
             [
              0.4444444444444444,
              "#bd3786"
             ],
             [
              0.5555555555555556,
              "#d8576b"
             ],
             [
              0.6666666666666666,
              "#ed7953"
             ],
             [
              0.7777777777777778,
              "#fb9f3a"
             ],
             [
              0.8888888888888888,
              "#fdca26"
             ],
             [
              1,
              "#f0f921"
             ]
            ],
            "type": "histogram2d"
           }
          ],
          "histogram2dcontour": [
           {
            "colorbar": {
             "outlinewidth": 0,
             "ticks": ""
            },
            "colorscale": [
             [
              0,
              "#0d0887"
             ],
             [
              0.1111111111111111,
              "#46039f"
             ],
             [
              0.2222222222222222,
              "#7201a8"
             ],
             [
              0.3333333333333333,
              "#9c179e"
             ],
             [
              0.4444444444444444,
              "#bd3786"
             ],
             [
              0.5555555555555556,
              "#d8576b"
             ],
             [
              0.6666666666666666,
              "#ed7953"
             ],
             [
              0.7777777777777778,
              "#fb9f3a"
             ],
             [
              0.8888888888888888,
              "#fdca26"
             ],
             [
              1,
              "#f0f921"
             ]
            ],
            "type": "histogram2dcontour"
           }
          ],
          "mesh3d": [
           {
            "colorbar": {
             "outlinewidth": 0,
             "ticks": ""
            },
            "type": "mesh3d"
           }
          ],
          "parcoords": [
           {
            "line": {
             "colorbar": {
              "outlinewidth": 0,
              "ticks": ""
             }
            },
            "type": "parcoords"
           }
          ],
          "pie": [
           {
            "automargin": true,
            "type": "pie"
           }
          ],
          "scatter": [
           {
            "marker": {
             "colorbar": {
              "outlinewidth": 0,
              "ticks": ""
             }
            },
            "type": "scatter"
           }
          ],
          "scatter3d": [
           {
            "line": {
             "colorbar": {
              "outlinewidth": 0,
              "ticks": ""
             }
            },
            "marker": {
             "colorbar": {
              "outlinewidth": 0,
              "ticks": ""
             }
            },
            "type": "scatter3d"
           }
          ],
          "scattercarpet": [
           {
            "marker": {
             "colorbar": {
              "outlinewidth": 0,
              "ticks": ""
             }
            },
            "type": "scattercarpet"
           }
          ],
          "scattergeo": [
           {
            "marker": {
             "colorbar": {
              "outlinewidth": 0,
              "ticks": ""
             }
            },
            "type": "scattergeo"
           }
          ],
          "scattergl": [
           {
            "marker": {
             "colorbar": {
              "outlinewidth": 0,
              "ticks": ""
             }
            },
            "type": "scattergl"
           }
          ],
          "scattermapbox": [
           {
            "marker": {
             "colorbar": {
              "outlinewidth": 0,
              "ticks": ""
             }
            },
            "type": "scattermapbox"
           }
          ],
          "scatterpolar": [
           {
            "marker": {
             "colorbar": {
              "outlinewidth": 0,
              "ticks": ""
             }
            },
            "type": "scatterpolar"
           }
          ],
          "scatterpolargl": [
           {
            "marker": {
             "colorbar": {
              "outlinewidth": 0,
              "ticks": ""
             }
            },
            "type": "scatterpolargl"
           }
          ],
          "scatterternary": [
           {
            "marker": {
             "colorbar": {
              "outlinewidth": 0,
              "ticks": ""
             }
            },
            "type": "scatterternary"
           }
          ],
          "surface": [
           {
            "colorbar": {
             "outlinewidth": 0,
             "ticks": ""
            },
            "colorscale": [
             [
              0,
              "#0d0887"
             ],
             [
              0.1111111111111111,
              "#46039f"
             ],
             [
              0.2222222222222222,
              "#7201a8"
             ],
             [
              0.3333333333333333,
              "#9c179e"
             ],
             [
              0.4444444444444444,
              "#bd3786"
             ],
             [
              0.5555555555555556,
              "#d8576b"
             ],
             [
              0.6666666666666666,
              "#ed7953"
             ],
             [
              0.7777777777777778,
              "#fb9f3a"
             ],
             [
              0.8888888888888888,
              "#fdca26"
             ],
             [
              1,
              "#f0f921"
             ]
            ],
            "type": "surface"
           }
          ],
          "table": [
           {
            "cells": {
             "fill": {
              "color": "#EBF0F8"
             },
             "line": {
              "color": "white"
             }
            },
            "header": {
             "fill": {
              "color": "#C8D4E3"
             },
             "line": {
              "color": "white"
             }
            },
            "type": "table"
           }
          ]
         },
         "layout": {
          "annotationdefaults": {
           "arrowcolor": "#2a3f5f",
           "arrowhead": 0,
           "arrowwidth": 1
          },
          "coloraxis": {
           "colorbar": {
            "outlinewidth": 0,
            "ticks": ""
           }
          },
          "colorscale": {
           "diverging": [
            [
             0,
             "#8e0152"
            ],
            [
             0.1,
             "#c51b7d"
            ],
            [
             0.2,
             "#de77ae"
            ],
            [
             0.3,
             "#f1b6da"
            ],
            [
             0.4,
             "#fde0ef"
            ],
            [
             0.5,
             "#f7f7f7"
            ],
            [
             0.6,
             "#e6f5d0"
            ],
            [
             0.7,
             "#b8e186"
            ],
            [
             0.8,
             "#7fbc41"
            ],
            [
             0.9,
             "#4d9221"
            ],
            [
             1,
             "#276419"
            ]
           ],
           "sequential": [
            [
             0,
             "#0d0887"
            ],
            [
             0.1111111111111111,
             "#46039f"
            ],
            [
             0.2222222222222222,
             "#7201a8"
            ],
            [
             0.3333333333333333,
             "#9c179e"
            ],
            [
             0.4444444444444444,
             "#bd3786"
            ],
            [
             0.5555555555555556,
             "#d8576b"
            ],
            [
             0.6666666666666666,
             "#ed7953"
            ],
            [
             0.7777777777777778,
             "#fb9f3a"
            ],
            [
             0.8888888888888888,
             "#fdca26"
            ],
            [
             1,
             "#f0f921"
            ]
           ],
           "sequentialminus": [
            [
             0,
             "#0d0887"
            ],
            [
             0.1111111111111111,
             "#46039f"
            ],
            [
             0.2222222222222222,
             "#7201a8"
            ],
            [
             0.3333333333333333,
             "#9c179e"
            ],
            [
             0.4444444444444444,
             "#bd3786"
            ],
            [
             0.5555555555555556,
             "#d8576b"
            ],
            [
             0.6666666666666666,
             "#ed7953"
            ],
            [
             0.7777777777777778,
             "#fb9f3a"
            ],
            [
             0.8888888888888888,
             "#fdca26"
            ],
            [
             1,
             "#f0f921"
            ]
           ]
          },
          "colorway": [
           "#636efa",
           "#EF553B",
           "#00cc96",
           "#ab63fa",
           "#FFA15A",
           "#19d3f3",
           "#FF6692",
           "#B6E880",
           "#FF97FF",
           "#FECB52"
          ],
          "font": {
           "color": "#2a3f5f"
          },
          "geo": {
           "bgcolor": "white",
           "lakecolor": "white",
           "landcolor": "#E5ECF6",
           "showlakes": true,
           "showland": true,
           "subunitcolor": "white"
          },
          "hoverlabel": {
           "align": "left"
          },
          "hovermode": "closest",
          "mapbox": {
           "style": "light"
          },
          "paper_bgcolor": "white",
          "plot_bgcolor": "#E5ECF6",
          "polar": {
           "angularaxis": {
            "gridcolor": "white",
            "linecolor": "white",
            "ticks": ""
           },
           "bgcolor": "#E5ECF6",
           "radialaxis": {
            "gridcolor": "white",
            "linecolor": "white",
            "ticks": ""
           }
          },
          "scene": {
           "xaxis": {
            "backgroundcolor": "#E5ECF6",
            "gridcolor": "white",
            "gridwidth": 2,
            "linecolor": "white",
            "showbackground": true,
            "ticks": "",
            "zerolinecolor": "white"
           },
           "yaxis": {
            "backgroundcolor": "#E5ECF6",
            "gridcolor": "white",
            "gridwidth": 2,
            "linecolor": "white",
            "showbackground": true,
            "ticks": "",
            "zerolinecolor": "white"
           },
           "zaxis": {
            "backgroundcolor": "#E5ECF6",
            "gridcolor": "white",
            "gridwidth": 2,
            "linecolor": "white",
            "showbackground": true,
            "ticks": "",
            "zerolinecolor": "white"
           }
          },
          "shapedefaults": {
           "line": {
            "color": "#2a3f5f"
           }
          },
          "ternary": {
           "aaxis": {
            "gridcolor": "white",
            "linecolor": "white",
            "ticks": ""
           },
           "baxis": {
            "gridcolor": "white",
            "linecolor": "white",
            "ticks": ""
           },
           "bgcolor": "#E5ECF6",
           "caxis": {
            "gridcolor": "white",
            "linecolor": "white",
            "ticks": ""
           }
          },
          "title": {
           "x": 0.05
          },
          "xaxis": {
           "automargin": true,
           "gridcolor": "white",
           "linecolor": "white",
           "ticks": "",
           "title": {
            "standoff": 15
           },
           "zerolinecolor": "white",
           "zerolinewidth": 2
          },
          "yaxis": {
           "automargin": true,
           "gridcolor": "white",
           "linecolor": "white",
           "ticks": "",
           "title": {
            "standoff": 15
           },
           "zerolinecolor": "white",
           "zerolinewidth": 2
          }
         }
        },
        "title": {
         "font": {
          "color": "#4D5663"
         }
        },
        "xaxis": {
         "gridcolor": "#E1E5ED",
         "showgrid": true,
         "tickfont": {
          "color": "#4D5663"
         },
         "title": {
          "font": {
           "color": "#4D5663"
          },
          "text": ""
         },
         "zerolinecolor": "#E1E5ED"
        },
        "xaxis2": {
         "anchor": "y2",
         "gridcolor": "#E1E5ED",
         "showgrid": true,
         "showticklabels": false,
         "tickfont": {
          "color": "#4D5663"
         },
         "title": {
          "font": {
           "color": "#4D5663"
          },
          "text": ""
         },
         "zerolinecolor": "#E1E5ED"
        },
        "yaxis": {
         "domain": [
          0.3,
          1
         ],
         "gridcolor": "#E1E5ED",
         "showgrid": true,
         "tickfont": {
          "color": "#4D5663"
         },
         "title": {
          "font": {
           "color": "#4D5663"
          },
          "text": ""
         },
         "zerolinecolor": "#E1E5ED"
        },
        "yaxis2": {
         "domain": [
          0,
          0.25
         ],
         "gridcolor": "#E1E5ED",
         "showgrid": true,
         "tickfont": {
          "color": "#4D5663"
         },
         "title": {
          "font": {
           "color": "#4D5663"
          },
          "text": "Spread"
         },
         "zerolinecolor": "#E1E5ED"
        }
       }
      },
      "text/html": [
       "<div>\n",
       "        \n",
       "        \n",
       "            <div id=\"0f8995f8-1137-4ad1-ad22-dbe8cb88eeeb\" class=\"plotly-graph-div\" style=\"height:525px; width:100%;\"></div>\n",
       "            <script type=\"text/javascript\">\n",
       "                require([\"plotly\"], function(Plotly) {\n",
       "                    window.PLOTLYENV=window.PLOTLYENV || {};\n",
       "                    window.PLOTLYENV.BASE_URL='https://plot.ly';\n",
       "                    \n",
       "                if (document.getElementById(\"0f8995f8-1137-4ad1-ad22-dbe8cb88eeeb\")) {\n",
       "                    Plotly.newPlot(\n",
       "                        '0f8995f8-1137-4ad1-ad22-dbe8cb88eeeb',\n",
       "                        [{\"line\": {\"color\": \"rgba(255, 153, 51, 1.0)\", \"dash\": \"solid\", \"shape\": \"linear\", \"width\": 1.3}, \"mode\": \"lines\", \"name\": \"A\", \"text\": \"\", \"type\": \"scatter\", \"x\": [0, 1, 2, 3, 4, 5, 6, 7, 8, 9, 10, 11, 12, 13, 14, 15, 16, 17, 18, 19, 20, 21, 22, 23, 24, 25, 26, 27, 28, 29, 30, 31, 32, 33, 34, 35, 36, 37, 38, 39, 40, 41, 42, 43, 44, 45, 46, 47, 48, 49, 50, 51, 52, 53, 54, 55, 56, 57, 58, 59, 60, 61, 62, 63, 64, 65, 66, 67, 68, 69, 70, 71, 72, 73, 74, 75, 76, 77, 78, 79, 80, 81, 82, 83, 84, 85, 86, 87, 88, 89, 90, 91, 92, 93, 94, 95, 96, 97, 98, 99], \"y\": [-0.051837791061411176, -0.49686287148954067, -2.1771515192846906, -0.5113732243720404, -0.03837284189106989, 0.3548680089577916, -0.9670222154179324, 0.48967087422011185, 1.010118843634135, 1.1767005716127645, 0.6049739509700985, -1.2688805227873958, -0.02341822554535787, -0.8845292410026588, -0.11078185573420099, 0.4450716121013818, -0.6524788440445956, 0.8362365802443669, -0.26480206570836334, -0.015521473434741142, -0.9070581908107753, -0.19848188846188358, 0.23484988589792208, -0.9429068811094353, 0.33804310467588616, 0.2231325138137817, 1.4180751876383473, 0.27684307950859816, -0.7268118558078794, -1.8190959116589784, 0.8863588248415394, 0.811407224749543, 0.9168706533314526, -0.49255538436951624, -0.38855891112932583, -0.33060548677620133, 0.22814018946691325, -0.06134433481792067, 2.2699080261066835, -0.648450660547072, -0.6676597248888836, 0.12780912335519987, 0.26203454175511987, -0.5425640188515645, -1.7685038013335517, 0.40968157985444253, -0.42445362372076917, -1.088382988200841, 1.23453450356868, -0.3638729323339125, 0.7811986561585942, -1.0258459763128092, -1.7662105171837867, 0.41472993026917654, -0.9409427214991185, -2.224333425583536, -0.2431794109095521, -0.9395444396754363, -0.5689902576839743, 3.044340783482019, 1.2505474809367803, -1.8363813899795214, -1.4820530742319769, -0.46642801300752706, 0.812718554669287, 0.6645329003944418, 0.3270216654104052, -0.1223759657745449, 0.09624616022289444, -0.22541462588698472, -0.2958817575821674, 0.2871613386480438, 0.07953086113867225, 0.36601957350281533, 1.646247258053811, 0.40813146514571574, 0.43032791348249316, -0.35118667775584894, 1.0808974968793563, 0.4428858638821342, -1.276203580800424, -0.5670787860121267, 0.5425648310098887, -2.3985130158037213, 0.02387026311991676, -0.1123122571750988, -0.778639967616544, 0.5459580253709689, 1.4604660678279568, 0.3965009201697333, -0.5651998505477467, 0.3117696147066201, -1.5089493383412824, -0.28001165739536366, 1.3072298277883696, -0.7487924987650352, -0.48883749025194284, -0.09653869536735393, 0.01895917624825842, 0.6100637239125053]}, {\"line\": {\"color\": \"rgba(55, 128, 191, 1.0)\", \"dash\": \"solid\", \"shape\": \"linear\", \"width\": 1.3}, \"mode\": \"lines\", \"name\": \"B\", \"text\": \"\", \"type\": \"scatter\", \"x\": [0, 1, 2, 3, 4, 5, 6, 7, 8, 9, 10, 11, 12, 13, 14, 15, 16, 17, 18, 19, 20, 21, 22, 23, 24, 25, 26, 27, 28, 29, 30, 31, 32, 33, 34, 35, 36, 37, 38, 39, 40, 41, 42, 43, 44, 45, 46, 47, 48, 49, 50, 51, 52, 53, 54, 55, 56, 57, 58, 59, 60, 61, 62, 63, 64, 65, 66, 67, 68, 69, 70, 71, 72, 73, 74, 75, 76, 77, 78, 79, 80, 81, 82, 83, 84, 85, 86, 87, 88, 89, 90, 91, 92, 93, 94, 95, 96, 97, 98, 99], \"y\": [0.3695370284703798, -0.8743817851595044, -1.5751701215297989, -0.5285960006848781, 1.626477455353992, -2.459883081251386, -0.2917473650965046, -0.27854283712680494, -0.21414904709360755, 0.05697064749512811, -0.11926176248256731, -0.7021821239487716, -0.24572150749364016, -0.14898474253809174, -1.3113443874376083, -4.167956106747543, 0.5272200063944493, 0.8649922158474757, -0.44583230013138686, -0.4160049037062795, -0.466239445185336, 0.08377937035475586, 0.6614591440734874, 1.12535799467954, 0.9567317890641305, 1.8181135552660397, -0.927102989747783, 0.44080180507522854, -0.06554376455534469, -0.2603983795904401, 0.6333449797500809, -0.10072593183762651, -1.1133918555613957, -1.129529656932896, -0.19799900792328565, -0.13847772677187756, -0.18071833438394155, 0.08693506582433717, 0.4956531660302352, 0.518581006571991, -0.5021690307243035, -0.46873614050059736, 2.8629607999012587, 1.1628814628174975, -0.10637423519170412, -0.5365095684859182, 0.10172889460656297, 0.8434298624659738, 0.178773563424261, -0.8930770980031411, -0.528758606533394, -0.2566640539476154, -1.288023250707061, -0.970954446795933, 0.6549562426168584, -2.3232483033711198, -0.11610262914757792, 0.09858406174514805, 0.4361663737293656, 0.6945343333387475, -0.16649974364440523, 0.8223881464101899, 1.9482584831312117, 0.29704791128841773, 0.3237810004606294, 0.544957091603034, -0.17353554497162008, -1.065684238826915, -0.08021988841387116, 0.4569936193631879, 0.6254218330930134, -0.08102891382823191, -1.0928559466028436, -1.3591555442045564, 0.4577921792340458, 0.3495884903538427, -1.1037616297370296, -1.990831617641072, 0.6455485345946241, -1.5268647591648523, -0.46605297721767797, -0.019275930557890078, -0.34203927447449445, 1.3673189706167137, 0.4734388491991349, 1.0693898450217338, -1.1866359358774416, 0.012262267947191194, 1.5134873033665468, 1.5976790969792416, -0.423613673426834, 0.06955095640490072, -1.1664675783266583, -0.6094899292030159, -0.7697122722341971, -0.011835620658037676, -0.6125980696950949, 0.6171362973467006, -1.4793715674364853, -1.1455262902983676]}, {\"connectgaps\": false, \"fill\": \"tozeroy\", \"line\": {\"color\": \"green\", \"dash\": \"solid\", \"shape\": \"linear\", \"width\": 0.5}, \"mode\": \"lines\", \"name\": \"Spread\", \"showlegend\": false, \"type\": \"scatter\", \"x\": [0, 1, 2, 3, 4, 5, 6, 7, 8, 9, 10, 11, 12, 13, 14, 15, 16, 17, 18, 19, 20, 21, 22, 23, 24, 25, 26, 27, 28, 29, 30, 31, 32, 33, 34, 35, 36, 37, 38, 39, 40, 41, 42, 43, 44, 45, 46, 47, 48, 49, 50, 51, 52, 53, 54, 55, 56, 57, 58, 59, 60, 61, 62, 63, 64, 65, 66, 67, 68, 69, 70, 71, 72, 73, 74, 75, 76, 77, 78, 79, 80, 81, 82, 83, 84, 85, 86, 87, 88, 89, 90, 91, 92, 93, 94, 95, 96, 97, 98, 99], \"xaxis\": \"x2\", \"y\": [\"\", 0.3775189136699637, \"\", 0.01722277631283775, \"\", 2.8147510902091777, \"\", 0.7682137113469167, 1.2242678907277427, 1.1197299241176364, 0.7242357134526658, \"\", 0.2223032819482823, \"\", 1.2005625317034072, 4.613027718848924, \"\", \"\", 0.18103023442302352, 0.4004834302715384, \"\", \"\", \"\", \"\", \"\", \"\", 2.3451781773861304, \"\", \"\", \"\", 0.2530138450914585, 0.9121331565871695, 2.0302625088928483, 0.6369742725633798, \"\", \"\", 0.4088585238508548, \"\", 1.7742548600764483, \"\", \"\", 0.5965452638557972, \"\", \"\", \"\", 0.9461911483403608, \"\", \"\", 1.055760940144419, 0.5292041656692286, 1.3099572626919882, \"\", \"\", 1.3856843770651095, \"\", 0.09891487778758368, \"\", \"\", \"\", 2.349806450143271, 1.4170472245811854, \"\", \"\", \"\", 0.4889375542086576, 0.11957580879140783, 0.5005572103820253, 0.9433082730523701, 0.1764660486367656, \"\", \"\", 0.3681902524762757, 1.1723868077415158, 1.7251751177073718, 1.1884550788197652, 0.05854297479187304, 1.5340895432195227, 1.639644939885223, 0.4353489622847322, 1.9697506230469866, \"\", \"\", 0.8846041054843832, \"\", \"\", \"\", 0.4079959682608977, 0.5336957574237777, \"\", \"\", \"\", 0.2422186583017194, \"\", 0.32947827180765227, 2.076942100022567, \"\", 0.12376057944315205, \"\", 1.4983307436847437, 1.755590014210873], \"yaxis\": \"y2\"}, {\"connectgaps\": false, \"fill\": \"tozeroy\", \"line\": {\"color\": \"red\", \"dash\": \"solid\", \"shape\": \"linear\", \"width\": 0.5}, \"mode\": \"lines\", \"name\": \"Spread\", \"showlegend\": false, \"type\": \"scatter\", \"x\": [0, 1, 2, 3, 4, 5, 6, 7, 8, 9, 10, 11, 12, 13, 14, 15, 16, 17, 18, 19, 20, 21, 22, 23, 24, 25, 26, 27, 28, 29, 30, 31, 32, 33, 34, 35, 36, 37, 38, 39, 40, 41, 42, 43, 44, 45, 46, 47, 48, 49, 50, 51, 52, 53, 54, 55, 56, 57, 58, 59, 60, 61, 62, 63, 64, 65, 66, 67, 68, 69, 70, 71, 72, 73, 74, 75, 76, 77, 78, 79, 80, 81, 82, 83, 84, 85, 86, 87, 88, 89, 90, 91, 92, 93, 94, 95, 96, 97, 98, 99], \"xaxis\": \"x2\", \"y\": [-0.42137481953179096, \"\", -0.6019813977548918, \"\", -1.6648502972450618, \"\", -0.6752748503214279, \"\", \"\", \"\", \"\", -0.5666983988386243, \"\", -0.7355444984645672, \"\", \"\", -1.1796988504390449, -0.028755635603108787, \"\", \"\", -0.4408187456254393, -0.28226125881663944, -0.4266092581755653, -2.068264875788975, -0.6186886843882443, -1.594981041452258, \"\", -0.16395872556663038, -0.6612680912525347, -1.5586975320685383, \"\", \"\", \"\", \"\", -0.1905599032060402, -0.19212776000432377, \"\", -0.14827940064225784, \"\", -1.167031667119063, -0.16549069416458007, \"\", -2.600926258146139, -1.705445481669062, -1.6621295661418476, \"\", -0.5261825183273321, -1.9318128506668146, \"\", \"\", \"\", -0.7691819223651938, -0.4781872664767257, \"\", -1.5958989641159769, \"\", -0.12707678176197418, -1.0381285014205843, -1.0051566314133398, \"\", \"\", -2.6587695363897113, -3.4303115573631886, -0.7634759242959448, \"\", \"\", \"\", \"\", \"\", -0.6824082452501726, -0.9213035906751808, \"\", \"\", \"\", \"\", \"\", \"\", \"\", \"\", \"\", -0.8101506035827459, -0.5478028554542366, \"\", -3.765831986420435, -0.4495685860792182, -1.1817021021968326, \"\", \"\", -0.05302123553858995, -1.2011781768095082, -0.1415861771209127, \"\", -0.34248176001462416, \"\", \"\", -0.7369568781069975, \"\", -0.7136749927140545, \"\", \"\"], \"yaxis\": \"y2\"}],\n",
       "                        {\"hovermode\": \"x\", \"legend\": {\"bgcolor\": \"#F5F6F9\", \"font\": {\"color\": \"#4D5663\"}}, \"paper_bgcolor\": \"#F5F6F9\", \"plot_bgcolor\": \"#F5F6F9\", \"template\": {\"data\": {\"bar\": [{\"error_x\": {\"color\": \"#2a3f5f\"}, \"error_y\": {\"color\": \"#2a3f5f\"}, \"marker\": {\"line\": {\"color\": \"#E5ECF6\", \"width\": 0.5}}, \"type\": \"bar\"}], \"barpolar\": [{\"marker\": {\"line\": {\"color\": \"#E5ECF6\", \"width\": 0.5}}, \"type\": \"barpolar\"}], \"carpet\": [{\"aaxis\": {\"endlinecolor\": \"#2a3f5f\", \"gridcolor\": \"white\", \"linecolor\": \"white\", \"minorgridcolor\": \"white\", \"startlinecolor\": \"#2a3f5f\"}, \"baxis\": {\"endlinecolor\": \"#2a3f5f\", \"gridcolor\": \"white\", \"linecolor\": \"white\", \"minorgridcolor\": \"white\", \"startlinecolor\": \"#2a3f5f\"}, \"type\": \"carpet\"}], \"choropleth\": [{\"colorbar\": {\"outlinewidth\": 0, \"ticks\": \"\"}, \"type\": \"choropleth\"}], \"contour\": [{\"colorbar\": {\"outlinewidth\": 0, \"ticks\": \"\"}, \"colorscale\": [[0.0, \"#0d0887\"], [0.1111111111111111, \"#46039f\"], [0.2222222222222222, \"#7201a8\"], [0.3333333333333333, \"#9c179e\"], [0.4444444444444444, \"#bd3786\"], [0.5555555555555556, \"#d8576b\"], [0.6666666666666666, \"#ed7953\"], [0.7777777777777778, \"#fb9f3a\"], [0.8888888888888888, \"#fdca26\"], [1.0, \"#f0f921\"]], \"type\": \"contour\"}], \"contourcarpet\": [{\"colorbar\": {\"outlinewidth\": 0, \"ticks\": \"\"}, \"type\": \"contourcarpet\"}], \"heatmap\": [{\"colorbar\": {\"outlinewidth\": 0, \"ticks\": \"\"}, \"colorscale\": [[0.0, \"#0d0887\"], [0.1111111111111111, \"#46039f\"], [0.2222222222222222, \"#7201a8\"], [0.3333333333333333, \"#9c179e\"], [0.4444444444444444, \"#bd3786\"], [0.5555555555555556, \"#d8576b\"], [0.6666666666666666, \"#ed7953\"], [0.7777777777777778, \"#fb9f3a\"], [0.8888888888888888, \"#fdca26\"], [1.0, \"#f0f921\"]], \"type\": \"heatmap\"}], \"heatmapgl\": [{\"colorbar\": {\"outlinewidth\": 0, \"ticks\": \"\"}, \"colorscale\": [[0.0, \"#0d0887\"], [0.1111111111111111, \"#46039f\"], [0.2222222222222222, \"#7201a8\"], [0.3333333333333333, \"#9c179e\"], [0.4444444444444444, \"#bd3786\"], [0.5555555555555556, \"#d8576b\"], [0.6666666666666666, \"#ed7953\"], [0.7777777777777778, \"#fb9f3a\"], [0.8888888888888888, \"#fdca26\"], [1.0, \"#f0f921\"]], \"type\": \"heatmapgl\"}], \"histogram\": [{\"marker\": {\"colorbar\": {\"outlinewidth\": 0, \"ticks\": \"\"}}, \"type\": \"histogram\"}], \"histogram2d\": [{\"colorbar\": {\"outlinewidth\": 0, \"ticks\": \"\"}, \"colorscale\": [[0.0, \"#0d0887\"], [0.1111111111111111, \"#46039f\"], [0.2222222222222222, \"#7201a8\"], [0.3333333333333333, \"#9c179e\"], [0.4444444444444444, \"#bd3786\"], [0.5555555555555556, \"#d8576b\"], [0.6666666666666666, \"#ed7953\"], [0.7777777777777778, \"#fb9f3a\"], [0.8888888888888888, \"#fdca26\"], [1.0, \"#f0f921\"]], \"type\": \"histogram2d\"}], \"histogram2dcontour\": [{\"colorbar\": {\"outlinewidth\": 0, \"ticks\": \"\"}, \"colorscale\": [[0.0, \"#0d0887\"], [0.1111111111111111, \"#46039f\"], [0.2222222222222222, \"#7201a8\"], [0.3333333333333333, \"#9c179e\"], [0.4444444444444444, \"#bd3786\"], [0.5555555555555556, \"#d8576b\"], [0.6666666666666666, \"#ed7953\"], [0.7777777777777778, \"#fb9f3a\"], [0.8888888888888888, \"#fdca26\"], [1.0, \"#f0f921\"]], \"type\": \"histogram2dcontour\"}], \"mesh3d\": [{\"colorbar\": {\"outlinewidth\": 0, \"ticks\": \"\"}, \"type\": \"mesh3d\"}], \"parcoords\": [{\"line\": {\"colorbar\": {\"outlinewidth\": 0, \"ticks\": \"\"}}, \"type\": \"parcoords\"}], \"pie\": [{\"automargin\": true, \"type\": \"pie\"}], \"scatter\": [{\"marker\": {\"colorbar\": {\"outlinewidth\": 0, \"ticks\": \"\"}}, \"type\": \"scatter\"}], \"scatter3d\": [{\"line\": {\"colorbar\": {\"outlinewidth\": 0, \"ticks\": \"\"}}, \"marker\": {\"colorbar\": {\"outlinewidth\": 0, \"ticks\": \"\"}}, \"type\": \"scatter3d\"}], \"scattercarpet\": [{\"marker\": {\"colorbar\": {\"outlinewidth\": 0, \"ticks\": \"\"}}, \"type\": \"scattercarpet\"}], \"scattergeo\": [{\"marker\": {\"colorbar\": {\"outlinewidth\": 0, \"ticks\": \"\"}}, \"type\": \"scattergeo\"}], \"scattergl\": [{\"marker\": {\"colorbar\": {\"outlinewidth\": 0, \"ticks\": \"\"}}, \"type\": \"scattergl\"}], \"scattermapbox\": [{\"marker\": {\"colorbar\": {\"outlinewidth\": 0, \"ticks\": \"\"}}, \"type\": \"scattermapbox\"}], \"scatterpolar\": [{\"marker\": {\"colorbar\": {\"outlinewidth\": 0, \"ticks\": \"\"}}, \"type\": \"scatterpolar\"}], \"scatterpolargl\": [{\"marker\": {\"colorbar\": {\"outlinewidth\": 0, \"ticks\": \"\"}}, \"type\": \"scatterpolargl\"}], \"scatterternary\": [{\"marker\": {\"colorbar\": {\"outlinewidth\": 0, \"ticks\": \"\"}}, \"type\": \"scatterternary\"}], \"surface\": [{\"colorbar\": {\"outlinewidth\": 0, \"ticks\": \"\"}, \"colorscale\": [[0.0, \"#0d0887\"], [0.1111111111111111, \"#46039f\"], [0.2222222222222222, \"#7201a8\"], [0.3333333333333333, \"#9c179e\"], [0.4444444444444444, \"#bd3786\"], [0.5555555555555556, \"#d8576b\"], [0.6666666666666666, \"#ed7953\"], [0.7777777777777778, \"#fb9f3a\"], [0.8888888888888888, \"#fdca26\"], [1.0, \"#f0f921\"]], \"type\": \"surface\"}], \"table\": [{\"cells\": {\"fill\": {\"color\": \"#EBF0F8\"}, \"line\": {\"color\": \"white\"}}, \"header\": {\"fill\": {\"color\": \"#C8D4E3\"}, \"line\": {\"color\": \"white\"}}, \"type\": \"table\"}]}, \"layout\": {\"annotationdefaults\": {\"arrowcolor\": \"#2a3f5f\", \"arrowhead\": 0, \"arrowwidth\": 1}, \"coloraxis\": {\"colorbar\": {\"outlinewidth\": 0, \"ticks\": \"\"}}, \"colorscale\": {\"diverging\": [[0, \"#8e0152\"], [0.1, \"#c51b7d\"], [0.2, \"#de77ae\"], [0.3, \"#f1b6da\"], [0.4, \"#fde0ef\"], [0.5, \"#f7f7f7\"], [0.6, \"#e6f5d0\"], [0.7, \"#b8e186\"], [0.8, \"#7fbc41\"], [0.9, \"#4d9221\"], [1, \"#276419\"]], \"sequential\": [[0.0, \"#0d0887\"], [0.1111111111111111, \"#46039f\"], [0.2222222222222222, \"#7201a8\"], [0.3333333333333333, \"#9c179e\"], [0.4444444444444444, \"#bd3786\"], [0.5555555555555556, \"#d8576b\"], [0.6666666666666666, \"#ed7953\"], [0.7777777777777778, \"#fb9f3a\"], [0.8888888888888888, \"#fdca26\"], [1.0, \"#f0f921\"]], \"sequentialminus\": [[0.0, \"#0d0887\"], [0.1111111111111111, \"#46039f\"], [0.2222222222222222, \"#7201a8\"], [0.3333333333333333, \"#9c179e\"], [0.4444444444444444, \"#bd3786\"], [0.5555555555555556, \"#d8576b\"], [0.6666666666666666, \"#ed7953\"], [0.7777777777777778, \"#fb9f3a\"], [0.8888888888888888, \"#fdca26\"], [1.0, \"#f0f921\"]]}, \"colorway\": [\"#636efa\", \"#EF553B\", \"#00cc96\", \"#ab63fa\", \"#FFA15A\", \"#19d3f3\", \"#FF6692\", \"#B6E880\", \"#FF97FF\", \"#FECB52\"], \"font\": {\"color\": \"#2a3f5f\"}, \"geo\": {\"bgcolor\": \"white\", \"lakecolor\": \"white\", \"landcolor\": \"#E5ECF6\", \"showlakes\": true, \"showland\": true, \"subunitcolor\": \"white\"}, \"hoverlabel\": {\"align\": \"left\"}, \"hovermode\": \"closest\", \"mapbox\": {\"style\": \"light\"}, \"paper_bgcolor\": \"white\", \"plot_bgcolor\": \"#E5ECF6\", \"polar\": {\"angularaxis\": {\"gridcolor\": \"white\", \"linecolor\": \"white\", \"ticks\": \"\"}, \"bgcolor\": \"#E5ECF6\", \"radialaxis\": {\"gridcolor\": \"white\", \"linecolor\": \"white\", \"ticks\": \"\"}}, \"scene\": {\"xaxis\": {\"backgroundcolor\": \"#E5ECF6\", \"gridcolor\": \"white\", \"gridwidth\": 2, \"linecolor\": \"white\", \"showbackground\": true, \"ticks\": \"\", \"zerolinecolor\": \"white\"}, \"yaxis\": {\"backgroundcolor\": \"#E5ECF6\", \"gridcolor\": \"white\", \"gridwidth\": 2, \"linecolor\": \"white\", \"showbackground\": true, \"ticks\": \"\", \"zerolinecolor\": \"white\"}, \"zaxis\": {\"backgroundcolor\": \"#E5ECF6\", \"gridcolor\": \"white\", \"gridwidth\": 2, \"linecolor\": \"white\", \"showbackground\": true, \"ticks\": \"\", \"zerolinecolor\": \"white\"}}, \"shapedefaults\": {\"line\": {\"color\": \"#2a3f5f\"}}, \"ternary\": {\"aaxis\": {\"gridcolor\": \"white\", \"linecolor\": \"white\", \"ticks\": \"\"}, \"baxis\": {\"gridcolor\": \"white\", \"linecolor\": \"white\", \"ticks\": \"\"}, \"bgcolor\": \"#E5ECF6\", \"caxis\": {\"gridcolor\": \"white\", \"linecolor\": \"white\", \"ticks\": \"\"}}, \"title\": {\"x\": 0.05}, \"xaxis\": {\"automargin\": true, \"gridcolor\": \"white\", \"linecolor\": \"white\", \"ticks\": \"\", \"title\": {\"standoff\": 15}, \"zerolinecolor\": \"white\", \"zerolinewidth\": 2}, \"yaxis\": {\"automargin\": true, \"gridcolor\": \"white\", \"linecolor\": \"white\", \"ticks\": \"\", \"title\": {\"standoff\": 15}, \"zerolinecolor\": \"white\", \"zerolinewidth\": 2}}}, \"title\": {\"font\": {\"color\": \"#4D5663\"}}, \"xaxis\": {\"gridcolor\": \"#E1E5ED\", \"showgrid\": true, \"tickfont\": {\"color\": \"#4D5663\"}, \"title\": {\"font\": {\"color\": \"#4D5663\"}, \"text\": \"\"}, \"zerolinecolor\": \"#E1E5ED\"}, \"xaxis2\": {\"anchor\": \"y2\", \"gridcolor\": \"#E1E5ED\", \"showgrid\": true, \"showticklabels\": false, \"tickfont\": {\"color\": \"#4D5663\"}, \"title\": {\"font\": {\"color\": \"#4D5663\"}, \"text\": \"\"}, \"zerolinecolor\": \"#E1E5ED\"}, \"yaxis\": {\"domain\": [0.3, 1], \"gridcolor\": \"#E1E5ED\", \"showgrid\": true, \"tickfont\": {\"color\": \"#4D5663\"}, \"title\": {\"font\": {\"color\": \"#4D5663\"}, \"text\": \"\"}, \"zerolinecolor\": \"#E1E5ED\"}, \"yaxis2\": {\"domain\": [0, 0.25], \"gridcolor\": \"#E1E5ED\", \"showgrid\": true, \"tickfont\": {\"color\": \"#4D5663\"}, \"title\": {\"font\": {\"color\": \"#4D5663\"}, \"text\": \"Spread\"}, \"zerolinecolor\": \"#E1E5ED\"}},\n",
       "                        {\"showLink\": true, \"linkText\": \"Export to plot.ly\", \"plotlyServerURL\": \"https://plot.ly\", \"responsive\": true}\n",
       "                    ).then(function(){\n",
       "                            \n",
       "var gd = document.getElementById('0f8995f8-1137-4ad1-ad22-dbe8cb88eeeb');\n",
       "var x = new MutationObserver(function (mutations, observer) {{\n",
       "        var display = window.getComputedStyle(gd).display;\n",
       "        if (!display || display === 'none') {{\n",
       "            console.log([gd, 'removed!']);\n",
       "            Plotly.purge(gd);\n",
       "            observer.disconnect();\n",
       "        }}\n",
       "}});\n",
       "\n",
       "// Listen for the removal of the full notebook cells\n",
       "var notebookContainer = gd.closest('#notebook-container');\n",
       "if (notebookContainer) {{\n",
       "    x.observe(notebookContainer, {childList: true});\n",
       "}}\n",
       "\n",
       "// Listen for the clearing of the current output cell\n",
       "var outputEl = gd.closest('.output');\n",
       "if (outputEl) {{\n",
       "    x.observe(outputEl, {childList: true});\n",
       "}}\n",
       "\n",
       "                        })\n",
       "                };\n",
       "                });\n",
       "            </script>\n",
       "        </div>"
      ]
     },
     "metadata": {},
     "output_type": "display_data"
    }
   ],
   "source": [
    "df[['A', 'B']].iplot(kind='spread');"
   ]
  },
  {
   "cell_type": "code",
   "execution_count": 37,
   "metadata": {},
   "outputs": [
    {
     "data": {
      "application/vnd.plotly.v1+json": {
       "config": {
        "linkText": "Export to plot.ly",
        "plotlyServerURL": "https://plot.ly",
        "showLink": true
       },
       "data": [
        {
         "histfunc": "count",
         "histnorm": "",
         "marker": {
          "color": "rgba(255, 153, 51, 1.0)",
          "line": {
           "color": "#4D5663",
           "width": 1.3
          }
         },
         "name": "A",
         "nbinsx": 50,
         "opacity": 0.8,
         "orientation": "v",
         "type": "histogram",
         "x": [
          -0.051837791061411176,
          -0.49686287148954067,
          -2.1771515192846906,
          -0.5113732243720404,
          -0.03837284189106989,
          0.3548680089577916,
          -0.9670222154179324,
          0.48967087422011185,
          1.010118843634135,
          1.1767005716127645,
          0.6049739509700985,
          -1.2688805227873958,
          -0.02341822554535787,
          -0.8845292410026588,
          -0.11078185573420099,
          0.4450716121013818,
          -0.6524788440445956,
          0.8362365802443669,
          -0.26480206570836334,
          -0.015521473434741142,
          -0.9070581908107753,
          -0.19848188846188358,
          0.23484988589792208,
          -0.9429068811094353,
          0.33804310467588616,
          0.2231325138137817,
          1.4180751876383473,
          0.27684307950859816,
          -0.7268118558078794,
          -1.8190959116589784,
          0.8863588248415394,
          0.811407224749543,
          0.9168706533314526,
          -0.49255538436951624,
          -0.38855891112932583,
          -0.33060548677620133,
          0.22814018946691325,
          -0.06134433481792067,
          2.2699080261066835,
          -0.648450660547072,
          -0.6676597248888836,
          0.12780912335519987,
          0.26203454175511987,
          -0.5425640188515645,
          -1.7685038013335517,
          0.40968157985444253,
          -0.42445362372076917,
          -1.088382988200841,
          1.23453450356868,
          -0.3638729323339125,
          0.7811986561585942,
          -1.0258459763128092,
          -1.7662105171837867,
          0.41472993026917654,
          -0.9409427214991185,
          -2.224333425583536,
          -0.2431794109095521,
          -0.9395444396754363,
          -0.5689902576839743,
          3.044340783482019,
          1.2505474809367803,
          -1.8363813899795214,
          -1.4820530742319769,
          -0.46642801300752706,
          0.812718554669287,
          0.6645329003944418,
          0.3270216654104052,
          -0.1223759657745449,
          0.09624616022289444,
          -0.22541462588698472,
          -0.2958817575821674,
          0.2871613386480438,
          0.07953086113867225,
          0.36601957350281533,
          1.646247258053811,
          0.40813146514571574,
          0.43032791348249316,
          -0.35118667775584894,
          1.0808974968793563,
          0.4428858638821342,
          -1.276203580800424,
          -0.5670787860121267,
          0.5425648310098887,
          -2.3985130158037213,
          0.02387026311991676,
          -0.1123122571750988,
          -0.778639967616544,
          0.5459580253709689,
          1.4604660678279568,
          0.3965009201697333,
          -0.5651998505477467,
          0.3117696147066201,
          -1.5089493383412824,
          -0.28001165739536366,
          1.3072298277883696,
          -0.7487924987650352,
          -0.48883749025194284,
          -0.09653869536735393,
          0.01895917624825842,
          0.6100637239125053
         ]
        }
       ],
       "layout": {
        "barmode": "overlay",
        "legend": {
         "bgcolor": "#F5F6F9",
         "font": {
          "color": "#4D5663"
         }
        },
        "paper_bgcolor": "#F5F6F9",
        "plot_bgcolor": "#F5F6F9",
        "template": {
         "data": {
          "bar": [
           {
            "error_x": {
             "color": "#2a3f5f"
            },
            "error_y": {
             "color": "#2a3f5f"
            },
            "marker": {
             "line": {
              "color": "#E5ECF6",
              "width": 0.5
             }
            },
            "type": "bar"
           }
          ],
          "barpolar": [
           {
            "marker": {
             "line": {
              "color": "#E5ECF6",
              "width": 0.5
             }
            },
            "type": "barpolar"
           }
          ],
          "carpet": [
           {
            "aaxis": {
             "endlinecolor": "#2a3f5f",
             "gridcolor": "white",
             "linecolor": "white",
             "minorgridcolor": "white",
             "startlinecolor": "#2a3f5f"
            },
            "baxis": {
             "endlinecolor": "#2a3f5f",
             "gridcolor": "white",
             "linecolor": "white",
             "minorgridcolor": "white",
             "startlinecolor": "#2a3f5f"
            },
            "type": "carpet"
           }
          ],
          "choropleth": [
           {
            "colorbar": {
             "outlinewidth": 0,
             "ticks": ""
            },
            "type": "choropleth"
           }
          ],
          "contour": [
           {
            "colorbar": {
             "outlinewidth": 0,
             "ticks": ""
            },
            "colorscale": [
             [
              0,
              "#0d0887"
             ],
             [
              0.1111111111111111,
              "#46039f"
             ],
             [
              0.2222222222222222,
              "#7201a8"
             ],
             [
              0.3333333333333333,
              "#9c179e"
             ],
             [
              0.4444444444444444,
              "#bd3786"
             ],
             [
              0.5555555555555556,
              "#d8576b"
             ],
             [
              0.6666666666666666,
              "#ed7953"
             ],
             [
              0.7777777777777778,
              "#fb9f3a"
             ],
             [
              0.8888888888888888,
              "#fdca26"
             ],
             [
              1,
              "#f0f921"
             ]
            ],
            "type": "contour"
           }
          ],
          "contourcarpet": [
           {
            "colorbar": {
             "outlinewidth": 0,
             "ticks": ""
            },
            "type": "contourcarpet"
           }
          ],
          "heatmap": [
           {
            "colorbar": {
             "outlinewidth": 0,
             "ticks": ""
            },
            "colorscale": [
             [
              0,
              "#0d0887"
             ],
             [
              0.1111111111111111,
              "#46039f"
             ],
             [
              0.2222222222222222,
              "#7201a8"
             ],
             [
              0.3333333333333333,
              "#9c179e"
             ],
             [
              0.4444444444444444,
              "#bd3786"
             ],
             [
              0.5555555555555556,
              "#d8576b"
             ],
             [
              0.6666666666666666,
              "#ed7953"
             ],
             [
              0.7777777777777778,
              "#fb9f3a"
             ],
             [
              0.8888888888888888,
              "#fdca26"
             ],
             [
              1,
              "#f0f921"
             ]
            ],
            "type": "heatmap"
           }
          ],
          "heatmapgl": [
           {
            "colorbar": {
             "outlinewidth": 0,
             "ticks": ""
            },
            "colorscale": [
             [
              0,
              "#0d0887"
             ],
             [
              0.1111111111111111,
              "#46039f"
             ],
             [
              0.2222222222222222,
              "#7201a8"
             ],
             [
              0.3333333333333333,
              "#9c179e"
             ],
             [
              0.4444444444444444,
              "#bd3786"
             ],
             [
              0.5555555555555556,
              "#d8576b"
             ],
             [
              0.6666666666666666,
              "#ed7953"
             ],
             [
              0.7777777777777778,
              "#fb9f3a"
             ],
             [
              0.8888888888888888,
              "#fdca26"
             ],
             [
              1,
              "#f0f921"
             ]
            ],
            "type": "heatmapgl"
           }
          ],
          "histogram": [
           {
            "marker": {
             "colorbar": {
              "outlinewidth": 0,
              "ticks": ""
             }
            },
            "type": "histogram"
           }
          ],
          "histogram2d": [
           {
            "colorbar": {
             "outlinewidth": 0,
             "ticks": ""
            },
            "colorscale": [
             [
              0,
              "#0d0887"
             ],
             [
              0.1111111111111111,
              "#46039f"
             ],
             [
              0.2222222222222222,
              "#7201a8"
             ],
             [
              0.3333333333333333,
              "#9c179e"
             ],
             [
              0.4444444444444444,
              "#bd3786"
             ],
             [
              0.5555555555555556,
              "#d8576b"
             ],
             [
              0.6666666666666666,
              "#ed7953"
             ],
             [
              0.7777777777777778,
              "#fb9f3a"
             ],
             [
              0.8888888888888888,
              "#fdca26"
             ],
             [
              1,
              "#f0f921"
             ]
            ],
            "type": "histogram2d"
           }
          ],
          "histogram2dcontour": [
           {
            "colorbar": {
             "outlinewidth": 0,
             "ticks": ""
            },
            "colorscale": [
             [
              0,
              "#0d0887"
             ],
             [
              0.1111111111111111,
              "#46039f"
             ],
             [
              0.2222222222222222,
              "#7201a8"
             ],
             [
              0.3333333333333333,
              "#9c179e"
             ],
             [
              0.4444444444444444,
              "#bd3786"
             ],
             [
              0.5555555555555556,
              "#d8576b"
             ],
             [
              0.6666666666666666,
              "#ed7953"
             ],
             [
              0.7777777777777778,
              "#fb9f3a"
             ],
             [
              0.8888888888888888,
              "#fdca26"
             ],
             [
              1,
              "#f0f921"
             ]
            ],
            "type": "histogram2dcontour"
           }
          ],
          "mesh3d": [
           {
            "colorbar": {
             "outlinewidth": 0,
             "ticks": ""
            },
            "type": "mesh3d"
           }
          ],
          "parcoords": [
           {
            "line": {
             "colorbar": {
              "outlinewidth": 0,
              "ticks": ""
             }
            },
            "type": "parcoords"
           }
          ],
          "pie": [
           {
            "automargin": true,
            "type": "pie"
           }
          ],
          "scatter": [
           {
            "marker": {
             "colorbar": {
              "outlinewidth": 0,
              "ticks": ""
             }
            },
            "type": "scatter"
           }
          ],
          "scatter3d": [
           {
            "line": {
             "colorbar": {
              "outlinewidth": 0,
              "ticks": ""
             }
            },
            "marker": {
             "colorbar": {
              "outlinewidth": 0,
              "ticks": ""
             }
            },
            "type": "scatter3d"
           }
          ],
          "scattercarpet": [
           {
            "marker": {
             "colorbar": {
              "outlinewidth": 0,
              "ticks": ""
             }
            },
            "type": "scattercarpet"
           }
          ],
          "scattergeo": [
           {
            "marker": {
             "colorbar": {
              "outlinewidth": 0,
              "ticks": ""
             }
            },
            "type": "scattergeo"
           }
          ],
          "scattergl": [
           {
            "marker": {
             "colorbar": {
              "outlinewidth": 0,
              "ticks": ""
             }
            },
            "type": "scattergl"
           }
          ],
          "scattermapbox": [
           {
            "marker": {
             "colorbar": {
              "outlinewidth": 0,
              "ticks": ""
             }
            },
            "type": "scattermapbox"
           }
          ],
          "scatterpolar": [
           {
            "marker": {
             "colorbar": {
              "outlinewidth": 0,
              "ticks": ""
             }
            },
            "type": "scatterpolar"
           }
          ],
          "scatterpolargl": [
           {
            "marker": {
             "colorbar": {
              "outlinewidth": 0,
              "ticks": ""
             }
            },
            "type": "scatterpolargl"
           }
          ],
          "scatterternary": [
           {
            "marker": {
             "colorbar": {
              "outlinewidth": 0,
              "ticks": ""
             }
            },
            "type": "scatterternary"
           }
          ],
          "surface": [
           {
            "colorbar": {
             "outlinewidth": 0,
             "ticks": ""
            },
            "colorscale": [
             [
              0,
              "#0d0887"
             ],
             [
              0.1111111111111111,
              "#46039f"
             ],
             [
              0.2222222222222222,
              "#7201a8"
             ],
             [
              0.3333333333333333,
              "#9c179e"
             ],
             [
              0.4444444444444444,
              "#bd3786"
             ],
             [
              0.5555555555555556,
              "#d8576b"
             ],
             [
              0.6666666666666666,
              "#ed7953"
             ],
             [
              0.7777777777777778,
              "#fb9f3a"
             ],
             [
              0.8888888888888888,
              "#fdca26"
             ],
             [
              1,
              "#f0f921"
             ]
            ],
            "type": "surface"
           }
          ],
          "table": [
           {
            "cells": {
             "fill": {
              "color": "#EBF0F8"
             },
             "line": {
              "color": "white"
             }
            },
            "header": {
             "fill": {
              "color": "#C8D4E3"
             },
             "line": {
              "color": "white"
             }
            },
            "type": "table"
           }
          ]
         },
         "layout": {
          "annotationdefaults": {
           "arrowcolor": "#2a3f5f",
           "arrowhead": 0,
           "arrowwidth": 1
          },
          "coloraxis": {
           "colorbar": {
            "outlinewidth": 0,
            "ticks": ""
           }
          },
          "colorscale": {
           "diverging": [
            [
             0,
             "#8e0152"
            ],
            [
             0.1,
             "#c51b7d"
            ],
            [
             0.2,
             "#de77ae"
            ],
            [
             0.3,
             "#f1b6da"
            ],
            [
             0.4,
             "#fde0ef"
            ],
            [
             0.5,
             "#f7f7f7"
            ],
            [
             0.6,
             "#e6f5d0"
            ],
            [
             0.7,
             "#b8e186"
            ],
            [
             0.8,
             "#7fbc41"
            ],
            [
             0.9,
             "#4d9221"
            ],
            [
             1,
             "#276419"
            ]
           ],
           "sequential": [
            [
             0,
             "#0d0887"
            ],
            [
             0.1111111111111111,
             "#46039f"
            ],
            [
             0.2222222222222222,
             "#7201a8"
            ],
            [
             0.3333333333333333,
             "#9c179e"
            ],
            [
             0.4444444444444444,
             "#bd3786"
            ],
            [
             0.5555555555555556,
             "#d8576b"
            ],
            [
             0.6666666666666666,
             "#ed7953"
            ],
            [
             0.7777777777777778,
             "#fb9f3a"
            ],
            [
             0.8888888888888888,
             "#fdca26"
            ],
            [
             1,
             "#f0f921"
            ]
           ],
           "sequentialminus": [
            [
             0,
             "#0d0887"
            ],
            [
             0.1111111111111111,
             "#46039f"
            ],
            [
             0.2222222222222222,
             "#7201a8"
            ],
            [
             0.3333333333333333,
             "#9c179e"
            ],
            [
             0.4444444444444444,
             "#bd3786"
            ],
            [
             0.5555555555555556,
             "#d8576b"
            ],
            [
             0.6666666666666666,
             "#ed7953"
            ],
            [
             0.7777777777777778,
             "#fb9f3a"
            ],
            [
             0.8888888888888888,
             "#fdca26"
            ],
            [
             1,
             "#f0f921"
            ]
           ]
          },
          "colorway": [
           "#636efa",
           "#EF553B",
           "#00cc96",
           "#ab63fa",
           "#FFA15A",
           "#19d3f3",
           "#FF6692",
           "#B6E880",
           "#FF97FF",
           "#FECB52"
          ],
          "font": {
           "color": "#2a3f5f"
          },
          "geo": {
           "bgcolor": "white",
           "lakecolor": "white",
           "landcolor": "#E5ECF6",
           "showlakes": true,
           "showland": true,
           "subunitcolor": "white"
          },
          "hoverlabel": {
           "align": "left"
          },
          "hovermode": "closest",
          "mapbox": {
           "style": "light"
          },
          "paper_bgcolor": "white",
          "plot_bgcolor": "#E5ECF6",
          "polar": {
           "angularaxis": {
            "gridcolor": "white",
            "linecolor": "white",
            "ticks": ""
           },
           "bgcolor": "#E5ECF6",
           "radialaxis": {
            "gridcolor": "white",
            "linecolor": "white",
            "ticks": ""
           }
          },
          "scene": {
           "xaxis": {
            "backgroundcolor": "#E5ECF6",
            "gridcolor": "white",
            "gridwidth": 2,
            "linecolor": "white",
            "showbackground": true,
            "ticks": "",
            "zerolinecolor": "white"
           },
           "yaxis": {
            "backgroundcolor": "#E5ECF6",
            "gridcolor": "white",
            "gridwidth": 2,
            "linecolor": "white",
            "showbackground": true,
            "ticks": "",
            "zerolinecolor": "white"
           },
           "zaxis": {
            "backgroundcolor": "#E5ECF6",
            "gridcolor": "white",
            "gridwidth": 2,
            "linecolor": "white",
            "showbackground": true,
            "ticks": "",
            "zerolinecolor": "white"
           }
          },
          "shapedefaults": {
           "line": {
            "color": "#2a3f5f"
           }
          },
          "ternary": {
           "aaxis": {
            "gridcolor": "white",
            "linecolor": "white",
            "ticks": ""
           },
           "baxis": {
            "gridcolor": "white",
            "linecolor": "white",
            "ticks": ""
           },
           "bgcolor": "#E5ECF6",
           "caxis": {
            "gridcolor": "white",
            "linecolor": "white",
            "ticks": ""
           }
          },
          "title": {
           "x": 0.05
          },
          "xaxis": {
           "automargin": true,
           "gridcolor": "white",
           "linecolor": "white",
           "ticks": "",
           "title": {
            "standoff": 15
           },
           "zerolinecolor": "white",
           "zerolinewidth": 2
          },
          "yaxis": {
           "automargin": true,
           "gridcolor": "white",
           "linecolor": "white",
           "ticks": "",
           "title": {
            "standoff": 15
           },
           "zerolinecolor": "white",
           "zerolinewidth": 2
          }
         }
        },
        "title": {
         "font": {
          "color": "#4D5663"
         }
        },
        "xaxis": {
         "gridcolor": "#E1E5ED",
         "showgrid": true,
         "tickfont": {
          "color": "#4D5663"
         },
         "title": {
          "font": {
           "color": "#4D5663"
          },
          "text": ""
         },
         "zerolinecolor": "#E1E5ED"
        },
        "yaxis": {
         "gridcolor": "#E1E5ED",
         "showgrid": true,
         "tickfont": {
          "color": "#4D5663"
         },
         "title": {
          "font": {
           "color": "#4D5663"
          },
          "text": ""
         },
         "zerolinecolor": "#E1E5ED"
        }
       }
      },
      "text/html": [
       "<div>\n",
       "        \n",
       "        \n",
       "            <div id=\"0f81dde9-772c-4531-9042-70b5027c82bd\" class=\"plotly-graph-div\" style=\"height:525px; width:100%;\"></div>\n",
       "            <script type=\"text/javascript\">\n",
       "                require([\"plotly\"], function(Plotly) {\n",
       "                    window.PLOTLYENV=window.PLOTLYENV || {};\n",
       "                    window.PLOTLYENV.BASE_URL='https://plot.ly';\n",
       "                    \n",
       "                if (document.getElementById(\"0f81dde9-772c-4531-9042-70b5027c82bd\")) {\n",
       "                    Plotly.newPlot(\n",
       "                        '0f81dde9-772c-4531-9042-70b5027c82bd',\n",
       "                        [{\"histfunc\": \"count\", \"histnorm\": \"\", \"marker\": {\"color\": \"rgba(255, 153, 51, 1.0)\", \"line\": {\"color\": \"#4D5663\", \"width\": 1.3}}, \"name\": \"A\", \"nbinsx\": 50, \"opacity\": 0.8, \"orientation\": \"v\", \"type\": \"histogram\", \"x\": [-0.051837791061411176, -0.49686287148954067, -2.1771515192846906, -0.5113732243720404, -0.03837284189106989, 0.3548680089577916, -0.9670222154179324, 0.48967087422011185, 1.010118843634135, 1.1767005716127645, 0.6049739509700985, -1.2688805227873958, -0.02341822554535787, -0.8845292410026588, -0.11078185573420099, 0.4450716121013818, -0.6524788440445956, 0.8362365802443669, -0.26480206570836334, -0.015521473434741142, -0.9070581908107753, -0.19848188846188358, 0.23484988589792208, -0.9429068811094353, 0.33804310467588616, 0.2231325138137817, 1.4180751876383473, 0.27684307950859816, -0.7268118558078794, -1.8190959116589784, 0.8863588248415394, 0.811407224749543, 0.9168706533314526, -0.49255538436951624, -0.38855891112932583, -0.33060548677620133, 0.22814018946691325, -0.06134433481792067, 2.2699080261066835, -0.648450660547072, -0.6676597248888836, 0.12780912335519987, 0.26203454175511987, -0.5425640188515645, -1.7685038013335517, 0.40968157985444253, -0.42445362372076917, -1.088382988200841, 1.23453450356868, -0.3638729323339125, 0.7811986561585942, -1.0258459763128092, -1.7662105171837867, 0.41472993026917654, -0.9409427214991185, -2.224333425583536, -0.2431794109095521, -0.9395444396754363, -0.5689902576839743, 3.044340783482019, 1.2505474809367803, -1.8363813899795214, -1.4820530742319769, -0.46642801300752706, 0.812718554669287, 0.6645329003944418, 0.3270216654104052, -0.1223759657745449, 0.09624616022289444, -0.22541462588698472, -0.2958817575821674, 0.2871613386480438, 0.07953086113867225, 0.36601957350281533, 1.646247258053811, 0.40813146514571574, 0.43032791348249316, -0.35118667775584894, 1.0808974968793563, 0.4428858638821342, -1.276203580800424, -0.5670787860121267, 0.5425648310098887, -2.3985130158037213, 0.02387026311991676, -0.1123122571750988, -0.778639967616544, 0.5459580253709689, 1.4604660678279568, 0.3965009201697333, -0.5651998505477467, 0.3117696147066201, -1.5089493383412824, -0.28001165739536366, 1.3072298277883696, -0.7487924987650352, -0.48883749025194284, -0.09653869536735393, 0.01895917624825842, 0.6100637239125053]}],\n",
       "                        {\"barmode\": \"overlay\", \"legend\": {\"bgcolor\": \"#F5F6F9\", \"font\": {\"color\": \"#4D5663\"}}, \"paper_bgcolor\": \"#F5F6F9\", \"plot_bgcolor\": \"#F5F6F9\", \"template\": {\"data\": {\"bar\": [{\"error_x\": {\"color\": \"#2a3f5f\"}, \"error_y\": {\"color\": \"#2a3f5f\"}, \"marker\": {\"line\": {\"color\": \"#E5ECF6\", \"width\": 0.5}}, \"type\": \"bar\"}], \"barpolar\": [{\"marker\": {\"line\": {\"color\": \"#E5ECF6\", \"width\": 0.5}}, \"type\": \"barpolar\"}], \"carpet\": [{\"aaxis\": {\"endlinecolor\": \"#2a3f5f\", \"gridcolor\": \"white\", \"linecolor\": \"white\", \"minorgridcolor\": \"white\", \"startlinecolor\": \"#2a3f5f\"}, \"baxis\": {\"endlinecolor\": \"#2a3f5f\", \"gridcolor\": \"white\", \"linecolor\": \"white\", \"minorgridcolor\": \"white\", \"startlinecolor\": \"#2a3f5f\"}, \"type\": \"carpet\"}], \"choropleth\": [{\"colorbar\": {\"outlinewidth\": 0, \"ticks\": \"\"}, \"type\": \"choropleth\"}], \"contour\": [{\"colorbar\": {\"outlinewidth\": 0, \"ticks\": \"\"}, \"colorscale\": [[0.0, \"#0d0887\"], [0.1111111111111111, \"#46039f\"], [0.2222222222222222, \"#7201a8\"], [0.3333333333333333, \"#9c179e\"], [0.4444444444444444, \"#bd3786\"], [0.5555555555555556, \"#d8576b\"], [0.6666666666666666, \"#ed7953\"], [0.7777777777777778, \"#fb9f3a\"], [0.8888888888888888, \"#fdca26\"], [1.0, \"#f0f921\"]], \"type\": \"contour\"}], \"contourcarpet\": [{\"colorbar\": {\"outlinewidth\": 0, \"ticks\": \"\"}, \"type\": \"contourcarpet\"}], \"heatmap\": [{\"colorbar\": {\"outlinewidth\": 0, \"ticks\": \"\"}, \"colorscale\": [[0.0, \"#0d0887\"], [0.1111111111111111, \"#46039f\"], [0.2222222222222222, \"#7201a8\"], [0.3333333333333333, \"#9c179e\"], [0.4444444444444444, \"#bd3786\"], [0.5555555555555556, \"#d8576b\"], [0.6666666666666666, \"#ed7953\"], [0.7777777777777778, \"#fb9f3a\"], [0.8888888888888888, \"#fdca26\"], [1.0, \"#f0f921\"]], \"type\": \"heatmap\"}], \"heatmapgl\": [{\"colorbar\": {\"outlinewidth\": 0, \"ticks\": \"\"}, \"colorscale\": [[0.0, \"#0d0887\"], [0.1111111111111111, \"#46039f\"], [0.2222222222222222, \"#7201a8\"], [0.3333333333333333, \"#9c179e\"], [0.4444444444444444, \"#bd3786\"], [0.5555555555555556, \"#d8576b\"], [0.6666666666666666, \"#ed7953\"], [0.7777777777777778, \"#fb9f3a\"], [0.8888888888888888, \"#fdca26\"], [1.0, \"#f0f921\"]], \"type\": \"heatmapgl\"}], \"histogram\": [{\"marker\": {\"colorbar\": {\"outlinewidth\": 0, \"ticks\": \"\"}}, \"type\": \"histogram\"}], \"histogram2d\": [{\"colorbar\": {\"outlinewidth\": 0, \"ticks\": \"\"}, \"colorscale\": [[0.0, \"#0d0887\"], [0.1111111111111111, \"#46039f\"], [0.2222222222222222, \"#7201a8\"], [0.3333333333333333, \"#9c179e\"], [0.4444444444444444, \"#bd3786\"], [0.5555555555555556, \"#d8576b\"], [0.6666666666666666, \"#ed7953\"], [0.7777777777777778, \"#fb9f3a\"], [0.8888888888888888, \"#fdca26\"], [1.0, \"#f0f921\"]], \"type\": \"histogram2d\"}], \"histogram2dcontour\": [{\"colorbar\": {\"outlinewidth\": 0, \"ticks\": \"\"}, \"colorscale\": [[0.0, \"#0d0887\"], [0.1111111111111111, \"#46039f\"], [0.2222222222222222, \"#7201a8\"], [0.3333333333333333, \"#9c179e\"], [0.4444444444444444, \"#bd3786\"], [0.5555555555555556, \"#d8576b\"], [0.6666666666666666, \"#ed7953\"], [0.7777777777777778, \"#fb9f3a\"], [0.8888888888888888, \"#fdca26\"], [1.0, \"#f0f921\"]], \"type\": \"histogram2dcontour\"}], \"mesh3d\": [{\"colorbar\": {\"outlinewidth\": 0, \"ticks\": \"\"}, \"type\": \"mesh3d\"}], \"parcoords\": [{\"line\": {\"colorbar\": {\"outlinewidth\": 0, \"ticks\": \"\"}}, \"type\": \"parcoords\"}], \"pie\": [{\"automargin\": true, \"type\": \"pie\"}], \"scatter\": [{\"marker\": {\"colorbar\": {\"outlinewidth\": 0, \"ticks\": \"\"}}, \"type\": \"scatter\"}], \"scatter3d\": [{\"line\": {\"colorbar\": {\"outlinewidth\": 0, \"ticks\": \"\"}}, \"marker\": {\"colorbar\": {\"outlinewidth\": 0, \"ticks\": \"\"}}, \"type\": \"scatter3d\"}], \"scattercarpet\": [{\"marker\": {\"colorbar\": {\"outlinewidth\": 0, \"ticks\": \"\"}}, \"type\": \"scattercarpet\"}], \"scattergeo\": [{\"marker\": {\"colorbar\": {\"outlinewidth\": 0, \"ticks\": \"\"}}, \"type\": \"scattergeo\"}], \"scattergl\": [{\"marker\": {\"colorbar\": {\"outlinewidth\": 0, \"ticks\": \"\"}}, \"type\": \"scattergl\"}], \"scattermapbox\": [{\"marker\": {\"colorbar\": {\"outlinewidth\": 0, \"ticks\": \"\"}}, \"type\": \"scattermapbox\"}], \"scatterpolar\": [{\"marker\": {\"colorbar\": {\"outlinewidth\": 0, \"ticks\": \"\"}}, \"type\": \"scatterpolar\"}], \"scatterpolargl\": [{\"marker\": {\"colorbar\": {\"outlinewidth\": 0, \"ticks\": \"\"}}, \"type\": \"scatterpolargl\"}], \"scatterternary\": [{\"marker\": {\"colorbar\": {\"outlinewidth\": 0, \"ticks\": \"\"}}, \"type\": \"scatterternary\"}], \"surface\": [{\"colorbar\": {\"outlinewidth\": 0, \"ticks\": \"\"}, \"colorscale\": [[0.0, \"#0d0887\"], [0.1111111111111111, \"#46039f\"], [0.2222222222222222, \"#7201a8\"], [0.3333333333333333, \"#9c179e\"], [0.4444444444444444, \"#bd3786\"], [0.5555555555555556, \"#d8576b\"], [0.6666666666666666, \"#ed7953\"], [0.7777777777777778, \"#fb9f3a\"], [0.8888888888888888, \"#fdca26\"], [1.0, \"#f0f921\"]], \"type\": \"surface\"}], \"table\": [{\"cells\": {\"fill\": {\"color\": \"#EBF0F8\"}, \"line\": {\"color\": \"white\"}}, \"header\": {\"fill\": {\"color\": \"#C8D4E3\"}, \"line\": {\"color\": \"white\"}}, \"type\": \"table\"}]}, \"layout\": {\"annotationdefaults\": {\"arrowcolor\": \"#2a3f5f\", \"arrowhead\": 0, \"arrowwidth\": 1}, \"coloraxis\": {\"colorbar\": {\"outlinewidth\": 0, \"ticks\": \"\"}}, \"colorscale\": {\"diverging\": [[0, \"#8e0152\"], [0.1, \"#c51b7d\"], [0.2, \"#de77ae\"], [0.3, \"#f1b6da\"], [0.4, \"#fde0ef\"], [0.5, \"#f7f7f7\"], [0.6, \"#e6f5d0\"], [0.7, \"#b8e186\"], [0.8, \"#7fbc41\"], [0.9, \"#4d9221\"], [1, \"#276419\"]], \"sequential\": [[0.0, \"#0d0887\"], [0.1111111111111111, \"#46039f\"], [0.2222222222222222, \"#7201a8\"], [0.3333333333333333, \"#9c179e\"], [0.4444444444444444, \"#bd3786\"], [0.5555555555555556, \"#d8576b\"], [0.6666666666666666, \"#ed7953\"], [0.7777777777777778, \"#fb9f3a\"], [0.8888888888888888, \"#fdca26\"], [1.0, \"#f0f921\"]], \"sequentialminus\": [[0.0, \"#0d0887\"], [0.1111111111111111, \"#46039f\"], [0.2222222222222222, \"#7201a8\"], [0.3333333333333333, \"#9c179e\"], [0.4444444444444444, \"#bd3786\"], [0.5555555555555556, \"#d8576b\"], [0.6666666666666666, \"#ed7953\"], [0.7777777777777778, \"#fb9f3a\"], [0.8888888888888888, \"#fdca26\"], [1.0, \"#f0f921\"]]}, \"colorway\": [\"#636efa\", \"#EF553B\", \"#00cc96\", \"#ab63fa\", \"#FFA15A\", \"#19d3f3\", \"#FF6692\", \"#B6E880\", \"#FF97FF\", \"#FECB52\"], \"font\": {\"color\": \"#2a3f5f\"}, \"geo\": {\"bgcolor\": \"white\", \"lakecolor\": \"white\", \"landcolor\": \"#E5ECF6\", \"showlakes\": true, \"showland\": true, \"subunitcolor\": \"white\"}, \"hoverlabel\": {\"align\": \"left\"}, \"hovermode\": \"closest\", \"mapbox\": {\"style\": \"light\"}, \"paper_bgcolor\": \"white\", \"plot_bgcolor\": \"#E5ECF6\", \"polar\": {\"angularaxis\": {\"gridcolor\": \"white\", \"linecolor\": \"white\", \"ticks\": \"\"}, \"bgcolor\": \"#E5ECF6\", \"radialaxis\": {\"gridcolor\": \"white\", \"linecolor\": \"white\", \"ticks\": \"\"}}, \"scene\": {\"xaxis\": {\"backgroundcolor\": \"#E5ECF6\", \"gridcolor\": \"white\", \"gridwidth\": 2, \"linecolor\": \"white\", \"showbackground\": true, \"ticks\": \"\", \"zerolinecolor\": \"white\"}, \"yaxis\": {\"backgroundcolor\": \"#E5ECF6\", \"gridcolor\": \"white\", \"gridwidth\": 2, \"linecolor\": \"white\", \"showbackground\": true, \"ticks\": \"\", \"zerolinecolor\": \"white\"}, \"zaxis\": {\"backgroundcolor\": \"#E5ECF6\", \"gridcolor\": \"white\", \"gridwidth\": 2, \"linecolor\": \"white\", \"showbackground\": true, \"ticks\": \"\", \"zerolinecolor\": \"white\"}}, \"shapedefaults\": {\"line\": {\"color\": \"#2a3f5f\"}}, \"ternary\": {\"aaxis\": {\"gridcolor\": \"white\", \"linecolor\": \"white\", \"ticks\": \"\"}, \"baxis\": {\"gridcolor\": \"white\", \"linecolor\": \"white\", \"ticks\": \"\"}, \"bgcolor\": \"#E5ECF6\", \"caxis\": {\"gridcolor\": \"white\", \"linecolor\": \"white\", \"ticks\": \"\"}}, \"title\": {\"x\": 0.05}, \"xaxis\": {\"automargin\": true, \"gridcolor\": \"white\", \"linecolor\": \"white\", \"ticks\": \"\", \"title\": {\"standoff\": 15}, \"zerolinecolor\": \"white\", \"zerolinewidth\": 2}, \"yaxis\": {\"automargin\": true, \"gridcolor\": \"white\", \"linecolor\": \"white\", \"ticks\": \"\", \"title\": {\"standoff\": 15}, \"zerolinecolor\": \"white\", \"zerolinewidth\": 2}}}, \"title\": {\"font\": {\"color\": \"#4D5663\"}}, \"xaxis\": {\"gridcolor\": \"#E1E5ED\", \"showgrid\": true, \"tickfont\": {\"color\": \"#4D5663\"}, \"title\": {\"font\": {\"color\": \"#4D5663\"}, \"text\": \"\"}, \"zerolinecolor\": \"#E1E5ED\"}, \"yaxis\": {\"gridcolor\": \"#E1E5ED\", \"showgrid\": true, \"tickfont\": {\"color\": \"#4D5663\"}, \"title\": {\"font\": {\"color\": \"#4D5663\"}, \"text\": \"\"}, \"zerolinecolor\": \"#E1E5ED\"}},\n",
       "                        {\"showLink\": true, \"linkText\": \"Export to plot.ly\", \"plotlyServerURL\": \"https://plot.ly\", \"responsive\": true}\n",
       "                    ).then(function(){\n",
       "                            \n",
       "var gd = document.getElementById('0f81dde9-772c-4531-9042-70b5027c82bd');\n",
       "var x = new MutationObserver(function (mutations, observer) {{\n",
       "        var display = window.getComputedStyle(gd).display;\n",
       "        if (!display || display === 'none') {{\n",
       "            console.log([gd, 'removed!']);\n",
       "            Plotly.purge(gd);\n",
       "            observer.disconnect();\n",
       "        }}\n",
       "}});\n",
       "\n",
       "// Listen for the removal of the full notebook cells\n",
       "var notebookContainer = gd.closest('#notebook-container');\n",
       "if (notebookContainer) {{\n",
       "    x.observe(notebookContainer, {childList: true});\n",
       "}}\n",
       "\n",
       "// Listen for the clearing of the current output cell\n",
       "var outputEl = gd.closest('.output');\n",
       "if (outputEl) {{\n",
       "    x.observe(outputEl, {childList: true});\n",
       "}}\n",
       "\n",
       "                        })\n",
       "                };\n",
       "                });\n",
       "            </script>\n",
       "        </div>"
      ]
     },
     "metadata": {},
     "output_type": "display_data"
    }
   ],
   "source": [
    "df['A'].iplot(kind='hist', bins=50)"
   ]
  },
  {
   "cell_type": "code",
   "execution_count": 38,
   "metadata": {},
   "outputs": [
    {
     "data": {
      "application/vnd.plotly.v1+json": {
       "config": {
        "linkText": "Export to plot.ly",
        "plotlyServerURL": "https://plot.ly",
        "showLink": true
       },
       "data": [
        {
         "marker": {
          "color": [
           "rgb(255, 153, 51)",
           "rgb(55, 128, 191)",
           "rgb(50, 171, 96)",
           "rgb(128, 0, 128)",
           "rgb(219, 64, 82)",
           "rgb(0, 128, 128)",
           "rgb(255, 255, 51)",
           "rgb(128, 128, 0)",
           "rgb(251, 128, 114)",
           "rgb(128, 177, 211)"
          ],
          "line": {
           "width": 1.3
          },
          "size": [
           57,
           90,
           93,
           90,
           76,
           57,
           78,
           74,
           98,
           73,
           68,
           25,
           52,
           94,
           77,
           95,
           69,
           56,
           60,
           56,
           88,
           76,
           100,
           62,
           88,
           97,
           82,
           79,
           71,
           110,
           81,
           43,
           56,
           79,
           82,
           55,
           85,
           83,
           31,
           68,
           79,
           86,
           110,
           25,
           112,
           90,
           80,
           82,
           89,
           74,
           73,
           82,
           108,
           96,
           50,
           84,
           67,
           58,
           63,
           93,
           73,
           32,
           85,
           91,
           65,
           102,
           73,
           77,
           62,
           48,
           79,
           89,
           83,
           65,
           37,
           64,
           89,
           96,
           56,
           12,
           93,
           66,
           53,
           104,
           43,
           73,
           42,
           43,
           73,
           53,
           91,
           67,
           60,
           65,
           68,
           53,
           87,
           86,
           56,
           84
          ],
          "symbol": "circle"
         },
         "mode": "markers",
         "text": "",
         "type": "scatter",
         "x": [
          -0.051837791061411176,
          -0.49686287148954067,
          -2.1771515192846906,
          -0.5113732243720404,
          -0.03837284189106989,
          0.3548680089577916,
          -0.9670222154179324,
          0.48967087422011185,
          1.010118843634135,
          1.1767005716127645,
          0.6049739509700985,
          -1.2688805227873958,
          -0.02341822554535787,
          -0.8845292410026588,
          -0.11078185573420099,
          0.4450716121013818,
          -0.6524788440445956,
          0.8362365802443669,
          -0.26480206570836334,
          -0.015521473434741142,
          -0.9070581908107753,
          -0.19848188846188358,
          0.23484988589792208,
          -0.9429068811094353,
          0.33804310467588616,
          0.2231325138137817,
          1.4180751876383473,
          0.27684307950859816,
          -0.7268118558078794,
          -1.8190959116589784,
          0.8863588248415394,
          0.811407224749543,
          0.9168706533314526,
          -0.49255538436951624,
          -0.38855891112932583,
          -0.33060548677620133,
          0.22814018946691325,
          -0.06134433481792067,
          2.2699080261066835,
          -0.648450660547072,
          -0.6676597248888836,
          0.12780912335519987,
          0.26203454175511987,
          -0.5425640188515645,
          -1.7685038013335517,
          0.40968157985444253,
          -0.42445362372076917,
          -1.088382988200841,
          1.23453450356868,
          -0.3638729323339125,
          0.7811986561585942,
          -1.0258459763128092,
          -1.7662105171837867,
          0.41472993026917654,
          -0.9409427214991185,
          -2.224333425583536,
          -0.2431794109095521,
          -0.9395444396754363,
          -0.5689902576839743,
          3.044340783482019,
          1.2505474809367803,
          -1.8363813899795214,
          -1.4820530742319769,
          -0.46642801300752706,
          0.812718554669287,
          0.6645329003944418,
          0.3270216654104052,
          -0.1223759657745449,
          0.09624616022289444,
          -0.22541462588698472,
          -0.2958817575821674,
          0.2871613386480438,
          0.07953086113867225,
          0.36601957350281533,
          1.646247258053811,
          0.40813146514571574,
          0.43032791348249316,
          -0.35118667775584894,
          1.0808974968793563,
          0.4428858638821342,
          -1.276203580800424,
          -0.5670787860121267,
          0.5425648310098887,
          -2.3985130158037213,
          0.02387026311991676,
          -0.1123122571750988,
          -0.778639967616544,
          0.5459580253709689,
          1.4604660678279568,
          0.3965009201697333,
          -0.5651998505477467,
          0.3117696147066201,
          -1.5089493383412824,
          -0.28001165739536366,
          1.3072298277883696,
          -0.7487924987650352,
          -0.48883749025194284,
          -0.09653869536735393,
          0.01895917624825842,
          0.6100637239125053
         ],
         "y": [
          0.3695370284703798,
          -0.8743817851595044,
          -1.5751701215297989,
          -0.5285960006848781,
          1.626477455353992,
          -2.459883081251386,
          -0.2917473650965046,
          -0.27854283712680494,
          -0.21414904709360755,
          0.05697064749512811,
          -0.11926176248256731,
          -0.7021821239487716,
          -0.24572150749364016,
          -0.14898474253809174,
          -1.3113443874376083,
          -4.167956106747543,
          0.5272200063944493,
          0.8649922158474757,
          -0.44583230013138686,
          -0.4160049037062795,
          -0.466239445185336,
          0.08377937035475586,
          0.6614591440734874,
          1.12535799467954,
          0.9567317890641305,
          1.8181135552660397,
          -0.927102989747783,
          0.44080180507522854,
          -0.06554376455534469,
          -0.2603983795904401,
          0.6333449797500809,
          -0.10072593183762651,
          -1.1133918555613957,
          -1.129529656932896,
          -0.19799900792328565,
          -0.13847772677187756,
          -0.18071833438394155,
          0.08693506582433717,
          0.4956531660302352,
          0.518581006571991,
          -0.5021690307243035,
          -0.46873614050059736,
          2.8629607999012587,
          1.1628814628174975,
          -0.10637423519170412,
          -0.5365095684859182,
          0.10172889460656297,
          0.8434298624659738,
          0.178773563424261,
          -0.8930770980031411,
          -0.528758606533394,
          -0.2566640539476154,
          -1.288023250707061,
          -0.970954446795933,
          0.6549562426168584,
          -2.3232483033711198,
          -0.11610262914757792,
          0.09858406174514805,
          0.4361663737293656,
          0.6945343333387475,
          -0.16649974364440523,
          0.8223881464101899,
          1.9482584831312117,
          0.29704791128841773,
          0.3237810004606294,
          0.544957091603034,
          -0.17353554497162008,
          -1.065684238826915,
          -0.08021988841387116,
          0.4569936193631879,
          0.6254218330930134,
          -0.08102891382823191,
          -1.0928559466028436,
          -1.3591555442045564,
          0.4577921792340458,
          0.3495884903538427,
          -1.1037616297370296,
          -1.990831617641072,
          0.6455485345946241,
          -1.5268647591648523,
          -0.46605297721767797,
          -0.019275930557890078,
          -0.34203927447449445,
          1.3673189706167137,
          0.4734388491991349,
          1.0693898450217338,
          -1.1866359358774416,
          0.012262267947191194,
          1.5134873033665468,
          1.5976790969792416,
          -0.423613673426834,
          0.06955095640490072,
          -1.1664675783266583,
          -0.6094899292030159,
          -0.7697122722341971,
          -0.011835620658037676,
          -0.6125980696950949,
          0.6171362973467006,
          -1.4793715674364853,
          -1.1455262902983676
         ]
        }
       ],
       "layout": {
        "legend": {
         "bgcolor": "#F5F6F9",
         "font": {
          "color": "#4D5663"
         }
        },
        "paper_bgcolor": "#F5F6F9",
        "plot_bgcolor": "#F5F6F9",
        "template": {
         "data": {
          "bar": [
           {
            "error_x": {
             "color": "#2a3f5f"
            },
            "error_y": {
             "color": "#2a3f5f"
            },
            "marker": {
             "line": {
              "color": "#E5ECF6",
              "width": 0.5
             }
            },
            "type": "bar"
           }
          ],
          "barpolar": [
           {
            "marker": {
             "line": {
              "color": "#E5ECF6",
              "width": 0.5
             }
            },
            "type": "barpolar"
           }
          ],
          "carpet": [
           {
            "aaxis": {
             "endlinecolor": "#2a3f5f",
             "gridcolor": "white",
             "linecolor": "white",
             "minorgridcolor": "white",
             "startlinecolor": "#2a3f5f"
            },
            "baxis": {
             "endlinecolor": "#2a3f5f",
             "gridcolor": "white",
             "linecolor": "white",
             "minorgridcolor": "white",
             "startlinecolor": "#2a3f5f"
            },
            "type": "carpet"
           }
          ],
          "choropleth": [
           {
            "colorbar": {
             "outlinewidth": 0,
             "ticks": ""
            },
            "type": "choropleth"
           }
          ],
          "contour": [
           {
            "colorbar": {
             "outlinewidth": 0,
             "ticks": ""
            },
            "colorscale": [
             [
              0,
              "#0d0887"
             ],
             [
              0.1111111111111111,
              "#46039f"
             ],
             [
              0.2222222222222222,
              "#7201a8"
             ],
             [
              0.3333333333333333,
              "#9c179e"
             ],
             [
              0.4444444444444444,
              "#bd3786"
             ],
             [
              0.5555555555555556,
              "#d8576b"
             ],
             [
              0.6666666666666666,
              "#ed7953"
             ],
             [
              0.7777777777777778,
              "#fb9f3a"
             ],
             [
              0.8888888888888888,
              "#fdca26"
             ],
             [
              1,
              "#f0f921"
             ]
            ],
            "type": "contour"
           }
          ],
          "contourcarpet": [
           {
            "colorbar": {
             "outlinewidth": 0,
             "ticks": ""
            },
            "type": "contourcarpet"
           }
          ],
          "heatmap": [
           {
            "colorbar": {
             "outlinewidth": 0,
             "ticks": ""
            },
            "colorscale": [
             [
              0,
              "#0d0887"
             ],
             [
              0.1111111111111111,
              "#46039f"
             ],
             [
              0.2222222222222222,
              "#7201a8"
             ],
             [
              0.3333333333333333,
              "#9c179e"
             ],
             [
              0.4444444444444444,
              "#bd3786"
             ],
             [
              0.5555555555555556,
              "#d8576b"
             ],
             [
              0.6666666666666666,
              "#ed7953"
             ],
             [
              0.7777777777777778,
              "#fb9f3a"
             ],
             [
              0.8888888888888888,
              "#fdca26"
             ],
             [
              1,
              "#f0f921"
             ]
            ],
            "type": "heatmap"
           }
          ],
          "heatmapgl": [
           {
            "colorbar": {
             "outlinewidth": 0,
             "ticks": ""
            },
            "colorscale": [
             [
              0,
              "#0d0887"
             ],
             [
              0.1111111111111111,
              "#46039f"
             ],
             [
              0.2222222222222222,
              "#7201a8"
             ],
             [
              0.3333333333333333,
              "#9c179e"
             ],
             [
              0.4444444444444444,
              "#bd3786"
             ],
             [
              0.5555555555555556,
              "#d8576b"
             ],
             [
              0.6666666666666666,
              "#ed7953"
             ],
             [
              0.7777777777777778,
              "#fb9f3a"
             ],
             [
              0.8888888888888888,
              "#fdca26"
             ],
             [
              1,
              "#f0f921"
             ]
            ],
            "type": "heatmapgl"
           }
          ],
          "histogram": [
           {
            "marker": {
             "colorbar": {
              "outlinewidth": 0,
              "ticks": ""
             }
            },
            "type": "histogram"
           }
          ],
          "histogram2d": [
           {
            "colorbar": {
             "outlinewidth": 0,
             "ticks": ""
            },
            "colorscale": [
             [
              0,
              "#0d0887"
             ],
             [
              0.1111111111111111,
              "#46039f"
             ],
             [
              0.2222222222222222,
              "#7201a8"
             ],
             [
              0.3333333333333333,
              "#9c179e"
             ],
             [
              0.4444444444444444,
              "#bd3786"
             ],
             [
              0.5555555555555556,
              "#d8576b"
             ],
             [
              0.6666666666666666,
              "#ed7953"
             ],
             [
              0.7777777777777778,
              "#fb9f3a"
             ],
             [
              0.8888888888888888,
              "#fdca26"
             ],
             [
              1,
              "#f0f921"
             ]
            ],
            "type": "histogram2d"
           }
          ],
          "histogram2dcontour": [
           {
            "colorbar": {
             "outlinewidth": 0,
             "ticks": ""
            },
            "colorscale": [
             [
              0,
              "#0d0887"
             ],
             [
              0.1111111111111111,
              "#46039f"
             ],
             [
              0.2222222222222222,
              "#7201a8"
             ],
             [
              0.3333333333333333,
              "#9c179e"
             ],
             [
              0.4444444444444444,
              "#bd3786"
             ],
             [
              0.5555555555555556,
              "#d8576b"
             ],
             [
              0.6666666666666666,
              "#ed7953"
             ],
             [
              0.7777777777777778,
              "#fb9f3a"
             ],
             [
              0.8888888888888888,
              "#fdca26"
             ],
             [
              1,
              "#f0f921"
             ]
            ],
            "type": "histogram2dcontour"
           }
          ],
          "mesh3d": [
           {
            "colorbar": {
             "outlinewidth": 0,
             "ticks": ""
            },
            "type": "mesh3d"
           }
          ],
          "parcoords": [
           {
            "line": {
             "colorbar": {
              "outlinewidth": 0,
              "ticks": ""
             }
            },
            "type": "parcoords"
           }
          ],
          "pie": [
           {
            "automargin": true,
            "type": "pie"
           }
          ],
          "scatter": [
           {
            "marker": {
             "colorbar": {
              "outlinewidth": 0,
              "ticks": ""
             }
            },
            "type": "scatter"
           }
          ],
          "scatter3d": [
           {
            "line": {
             "colorbar": {
              "outlinewidth": 0,
              "ticks": ""
             }
            },
            "marker": {
             "colorbar": {
              "outlinewidth": 0,
              "ticks": ""
             }
            },
            "type": "scatter3d"
           }
          ],
          "scattercarpet": [
           {
            "marker": {
             "colorbar": {
              "outlinewidth": 0,
              "ticks": ""
             }
            },
            "type": "scattercarpet"
           }
          ],
          "scattergeo": [
           {
            "marker": {
             "colorbar": {
              "outlinewidth": 0,
              "ticks": ""
             }
            },
            "type": "scattergeo"
           }
          ],
          "scattergl": [
           {
            "marker": {
             "colorbar": {
              "outlinewidth": 0,
              "ticks": ""
             }
            },
            "type": "scattergl"
           }
          ],
          "scattermapbox": [
           {
            "marker": {
             "colorbar": {
              "outlinewidth": 0,
              "ticks": ""
             }
            },
            "type": "scattermapbox"
           }
          ],
          "scatterpolar": [
           {
            "marker": {
             "colorbar": {
              "outlinewidth": 0,
              "ticks": ""
             }
            },
            "type": "scatterpolar"
           }
          ],
          "scatterpolargl": [
           {
            "marker": {
             "colorbar": {
              "outlinewidth": 0,
              "ticks": ""
             }
            },
            "type": "scatterpolargl"
           }
          ],
          "scatterternary": [
           {
            "marker": {
             "colorbar": {
              "outlinewidth": 0,
              "ticks": ""
             }
            },
            "type": "scatterternary"
           }
          ],
          "surface": [
           {
            "colorbar": {
             "outlinewidth": 0,
             "ticks": ""
            },
            "colorscale": [
             [
              0,
              "#0d0887"
             ],
             [
              0.1111111111111111,
              "#46039f"
             ],
             [
              0.2222222222222222,
              "#7201a8"
             ],
             [
              0.3333333333333333,
              "#9c179e"
             ],
             [
              0.4444444444444444,
              "#bd3786"
             ],
             [
              0.5555555555555556,
              "#d8576b"
             ],
             [
              0.6666666666666666,
              "#ed7953"
             ],
             [
              0.7777777777777778,
              "#fb9f3a"
             ],
             [
              0.8888888888888888,
              "#fdca26"
             ],
             [
              1,
              "#f0f921"
             ]
            ],
            "type": "surface"
           }
          ],
          "table": [
           {
            "cells": {
             "fill": {
              "color": "#EBF0F8"
             },
             "line": {
              "color": "white"
             }
            },
            "header": {
             "fill": {
              "color": "#C8D4E3"
             },
             "line": {
              "color": "white"
             }
            },
            "type": "table"
           }
          ]
         },
         "layout": {
          "annotationdefaults": {
           "arrowcolor": "#2a3f5f",
           "arrowhead": 0,
           "arrowwidth": 1
          },
          "coloraxis": {
           "colorbar": {
            "outlinewidth": 0,
            "ticks": ""
           }
          },
          "colorscale": {
           "diverging": [
            [
             0,
             "#8e0152"
            ],
            [
             0.1,
             "#c51b7d"
            ],
            [
             0.2,
             "#de77ae"
            ],
            [
             0.3,
             "#f1b6da"
            ],
            [
             0.4,
             "#fde0ef"
            ],
            [
             0.5,
             "#f7f7f7"
            ],
            [
             0.6,
             "#e6f5d0"
            ],
            [
             0.7,
             "#b8e186"
            ],
            [
             0.8,
             "#7fbc41"
            ],
            [
             0.9,
             "#4d9221"
            ],
            [
             1,
             "#276419"
            ]
           ],
           "sequential": [
            [
             0,
             "#0d0887"
            ],
            [
             0.1111111111111111,
             "#46039f"
            ],
            [
             0.2222222222222222,
             "#7201a8"
            ],
            [
             0.3333333333333333,
             "#9c179e"
            ],
            [
             0.4444444444444444,
             "#bd3786"
            ],
            [
             0.5555555555555556,
             "#d8576b"
            ],
            [
             0.6666666666666666,
             "#ed7953"
            ],
            [
             0.7777777777777778,
             "#fb9f3a"
            ],
            [
             0.8888888888888888,
             "#fdca26"
            ],
            [
             1,
             "#f0f921"
            ]
           ],
           "sequentialminus": [
            [
             0,
             "#0d0887"
            ],
            [
             0.1111111111111111,
             "#46039f"
            ],
            [
             0.2222222222222222,
             "#7201a8"
            ],
            [
             0.3333333333333333,
             "#9c179e"
            ],
            [
             0.4444444444444444,
             "#bd3786"
            ],
            [
             0.5555555555555556,
             "#d8576b"
            ],
            [
             0.6666666666666666,
             "#ed7953"
            ],
            [
             0.7777777777777778,
             "#fb9f3a"
            ],
            [
             0.8888888888888888,
             "#fdca26"
            ],
            [
             1,
             "#f0f921"
            ]
           ]
          },
          "colorway": [
           "#636efa",
           "#EF553B",
           "#00cc96",
           "#ab63fa",
           "#FFA15A",
           "#19d3f3",
           "#FF6692",
           "#B6E880",
           "#FF97FF",
           "#FECB52"
          ],
          "font": {
           "color": "#2a3f5f"
          },
          "geo": {
           "bgcolor": "white",
           "lakecolor": "white",
           "landcolor": "#E5ECF6",
           "showlakes": true,
           "showland": true,
           "subunitcolor": "white"
          },
          "hoverlabel": {
           "align": "left"
          },
          "hovermode": "closest",
          "mapbox": {
           "style": "light"
          },
          "paper_bgcolor": "white",
          "plot_bgcolor": "#E5ECF6",
          "polar": {
           "angularaxis": {
            "gridcolor": "white",
            "linecolor": "white",
            "ticks": ""
           },
           "bgcolor": "#E5ECF6",
           "radialaxis": {
            "gridcolor": "white",
            "linecolor": "white",
            "ticks": ""
           }
          },
          "scene": {
           "xaxis": {
            "backgroundcolor": "#E5ECF6",
            "gridcolor": "white",
            "gridwidth": 2,
            "linecolor": "white",
            "showbackground": true,
            "ticks": "",
            "zerolinecolor": "white"
           },
           "yaxis": {
            "backgroundcolor": "#E5ECF6",
            "gridcolor": "white",
            "gridwidth": 2,
            "linecolor": "white",
            "showbackground": true,
            "ticks": "",
            "zerolinecolor": "white"
           },
           "zaxis": {
            "backgroundcolor": "#E5ECF6",
            "gridcolor": "white",
            "gridwidth": 2,
            "linecolor": "white",
            "showbackground": true,
            "ticks": "",
            "zerolinecolor": "white"
           }
          },
          "shapedefaults": {
           "line": {
            "color": "#2a3f5f"
           }
          },
          "ternary": {
           "aaxis": {
            "gridcolor": "white",
            "linecolor": "white",
            "ticks": ""
           },
           "baxis": {
            "gridcolor": "white",
            "linecolor": "white",
            "ticks": ""
           },
           "bgcolor": "#E5ECF6",
           "caxis": {
            "gridcolor": "white",
            "linecolor": "white",
            "ticks": ""
           }
          },
          "title": {
           "x": 0.05
          },
          "xaxis": {
           "automargin": true,
           "gridcolor": "white",
           "linecolor": "white",
           "ticks": "",
           "title": {
            "standoff": 15
           },
           "zerolinecolor": "white",
           "zerolinewidth": 2
          },
          "yaxis": {
           "automargin": true,
           "gridcolor": "white",
           "linecolor": "white",
           "ticks": "",
           "title": {
            "standoff": 15
           },
           "zerolinecolor": "white",
           "zerolinewidth": 2
          }
         }
        },
        "title": {
         "font": {
          "color": "#4D5663"
         }
        },
        "xaxis": {
         "gridcolor": "#E1E5ED",
         "showgrid": true,
         "tickfont": {
          "color": "#4D5663"
         },
         "title": {
          "font": {
           "color": "#4D5663"
          },
          "text": ""
         },
         "zerolinecolor": "#E1E5ED"
        },
        "yaxis": {
         "gridcolor": "#E1E5ED",
         "showgrid": true,
         "tickfont": {
          "color": "#4D5663"
         },
         "title": {
          "font": {
           "color": "#4D5663"
          },
          "text": ""
         },
         "zerolinecolor": "#E1E5ED"
        }
       }
      },
      "text/html": [
       "<div>\n",
       "        \n",
       "        \n",
       "            <div id=\"e4ac3e19-9746-419b-8f52-b53761564a9b\" class=\"plotly-graph-div\" style=\"height:525px; width:100%;\"></div>\n",
       "            <script type=\"text/javascript\">\n",
       "                require([\"plotly\"], function(Plotly) {\n",
       "                    window.PLOTLYENV=window.PLOTLYENV || {};\n",
       "                    window.PLOTLYENV.BASE_URL='https://plot.ly';\n",
       "                    \n",
       "                if (document.getElementById(\"e4ac3e19-9746-419b-8f52-b53761564a9b\")) {\n",
       "                    Plotly.newPlot(\n",
       "                        'e4ac3e19-9746-419b-8f52-b53761564a9b',\n",
       "                        [{\"marker\": {\"color\": [\"rgb(255, 153, 51)\", \"rgb(55, 128, 191)\", \"rgb(50, 171, 96)\", \"rgb(128, 0, 128)\", \"rgb(219, 64, 82)\", \"rgb(0, 128, 128)\", \"rgb(255, 255, 51)\", \"rgb(128, 128, 0)\", \"rgb(251, 128, 114)\", \"rgb(128, 177, 211)\"], \"line\": {\"width\": 1.3}, \"size\": [57, 90, 93, 90, 76, 57, 78, 74, 98, 73, 68, 25, 52, 94, 77, 95, 69, 56, 60, 56, 88, 76, 100, 62, 88, 97, 82, 79, 71, 110, 81, 43, 56, 79, 82, 55, 85, 83, 31, 68, 79, 86, 110, 25, 112, 90, 80, 82, 89, 74, 73, 82, 108, 96, 50, 84, 67, 58, 63, 93, 73, 32, 85, 91, 65, 102, 73, 77, 62, 48, 79, 89, 83, 65, 37, 64, 89, 96, 56, 12, 93, 66, 53, 104, 43, 73, 42, 43, 73, 53, 91, 67, 60, 65, 68, 53, 87, 86, 56, 84], \"symbol\": \"circle\"}, \"mode\": \"markers\", \"text\": \"\", \"type\": \"scatter\", \"x\": [-0.051837791061411176, -0.49686287148954067, -2.1771515192846906, -0.5113732243720404, -0.03837284189106989, 0.3548680089577916, -0.9670222154179324, 0.48967087422011185, 1.010118843634135, 1.1767005716127645, 0.6049739509700985, -1.2688805227873958, -0.02341822554535787, -0.8845292410026588, -0.11078185573420099, 0.4450716121013818, -0.6524788440445956, 0.8362365802443669, -0.26480206570836334, -0.015521473434741142, -0.9070581908107753, -0.19848188846188358, 0.23484988589792208, -0.9429068811094353, 0.33804310467588616, 0.2231325138137817, 1.4180751876383473, 0.27684307950859816, -0.7268118558078794, -1.8190959116589784, 0.8863588248415394, 0.811407224749543, 0.9168706533314526, -0.49255538436951624, -0.38855891112932583, -0.33060548677620133, 0.22814018946691325, -0.06134433481792067, 2.2699080261066835, -0.648450660547072, -0.6676597248888836, 0.12780912335519987, 0.26203454175511987, -0.5425640188515645, -1.7685038013335517, 0.40968157985444253, -0.42445362372076917, -1.088382988200841, 1.23453450356868, -0.3638729323339125, 0.7811986561585942, -1.0258459763128092, -1.7662105171837867, 0.41472993026917654, -0.9409427214991185, -2.224333425583536, -0.2431794109095521, -0.9395444396754363, -0.5689902576839743, 3.044340783482019, 1.2505474809367803, -1.8363813899795214, -1.4820530742319769, -0.46642801300752706, 0.812718554669287, 0.6645329003944418, 0.3270216654104052, -0.1223759657745449, 0.09624616022289444, -0.22541462588698472, -0.2958817575821674, 0.2871613386480438, 0.07953086113867225, 0.36601957350281533, 1.646247258053811, 0.40813146514571574, 0.43032791348249316, -0.35118667775584894, 1.0808974968793563, 0.4428858638821342, -1.276203580800424, -0.5670787860121267, 0.5425648310098887, -2.3985130158037213, 0.02387026311991676, -0.1123122571750988, -0.778639967616544, 0.5459580253709689, 1.4604660678279568, 0.3965009201697333, -0.5651998505477467, 0.3117696147066201, -1.5089493383412824, -0.28001165739536366, 1.3072298277883696, -0.7487924987650352, -0.48883749025194284, -0.09653869536735393, 0.01895917624825842, 0.6100637239125053], \"y\": [0.3695370284703798, -0.8743817851595044, -1.5751701215297989, -0.5285960006848781, 1.626477455353992, -2.459883081251386, -0.2917473650965046, -0.27854283712680494, -0.21414904709360755, 0.05697064749512811, -0.11926176248256731, -0.7021821239487716, -0.24572150749364016, -0.14898474253809174, -1.3113443874376083, -4.167956106747543, 0.5272200063944493, 0.8649922158474757, -0.44583230013138686, -0.4160049037062795, -0.466239445185336, 0.08377937035475586, 0.6614591440734874, 1.12535799467954, 0.9567317890641305, 1.8181135552660397, -0.927102989747783, 0.44080180507522854, -0.06554376455534469, -0.2603983795904401, 0.6333449797500809, -0.10072593183762651, -1.1133918555613957, -1.129529656932896, -0.19799900792328565, -0.13847772677187756, -0.18071833438394155, 0.08693506582433717, 0.4956531660302352, 0.518581006571991, -0.5021690307243035, -0.46873614050059736, 2.8629607999012587, 1.1628814628174975, -0.10637423519170412, -0.5365095684859182, 0.10172889460656297, 0.8434298624659738, 0.178773563424261, -0.8930770980031411, -0.528758606533394, -0.2566640539476154, -1.288023250707061, -0.970954446795933, 0.6549562426168584, -2.3232483033711198, -0.11610262914757792, 0.09858406174514805, 0.4361663737293656, 0.6945343333387475, -0.16649974364440523, 0.8223881464101899, 1.9482584831312117, 0.29704791128841773, 0.3237810004606294, 0.544957091603034, -0.17353554497162008, -1.065684238826915, -0.08021988841387116, 0.4569936193631879, 0.6254218330930134, -0.08102891382823191, -1.0928559466028436, -1.3591555442045564, 0.4577921792340458, 0.3495884903538427, -1.1037616297370296, -1.990831617641072, 0.6455485345946241, -1.5268647591648523, -0.46605297721767797, -0.019275930557890078, -0.34203927447449445, 1.3673189706167137, 0.4734388491991349, 1.0693898450217338, -1.1866359358774416, 0.012262267947191194, 1.5134873033665468, 1.5976790969792416, -0.423613673426834, 0.06955095640490072, -1.1664675783266583, -0.6094899292030159, -0.7697122722341971, -0.011835620658037676, -0.6125980696950949, 0.6171362973467006, -1.4793715674364853, -1.1455262902983676]}],\n",
       "                        {\"legend\": {\"bgcolor\": \"#F5F6F9\", \"font\": {\"color\": \"#4D5663\"}}, \"paper_bgcolor\": \"#F5F6F9\", \"plot_bgcolor\": \"#F5F6F9\", \"template\": {\"data\": {\"bar\": [{\"error_x\": {\"color\": \"#2a3f5f\"}, \"error_y\": {\"color\": \"#2a3f5f\"}, \"marker\": {\"line\": {\"color\": \"#E5ECF6\", \"width\": 0.5}}, \"type\": \"bar\"}], \"barpolar\": [{\"marker\": {\"line\": {\"color\": \"#E5ECF6\", \"width\": 0.5}}, \"type\": \"barpolar\"}], \"carpet\": [{\"aaxis\": {\"endlinecolor\": \"#2a3f5f\", \"gridcolor\": \"white\", \"linecolor\": \"white\", \"minorgridcolor\": \"white\", \"startlinecolor\": \"#2a3f5f\"}, \"baxis\": {\"endlinecolor\": \"#2a3f5f\", \"gridcolor\": \"white\", \"linecolor\": \"white\", \"minorgridcolor\": \"white\", \"startlinecolor\": \"#2a3f5f\"}, \"type\": \"carpet\"}], \"choropleth\": [{\"colorbar\": {\"outlinewidth\": 0, \"ticks\": \"\"}, \"type\": \"choropleth\"}], \"contour\": [{\"colorbar\": {\"outlinewidth\": 0, \"ticks\": \"\"}, \"colorscale\": [[0.0, \"#0d0887\"], [0.1111111111111111, \"#46039f\"], [0.2222222222222222, \"#7201a8\"], [0.3333333333333333, \"#9c179e\"], [0.4444444444444444, \"#bd3786\"], [0.5555555555555556, \"#d8576b\"], [0.6666666666666666, \"#ed7953\"], [0.7777777777777778, \"#fb9f3a\"], [0.8888888888888888, \"#fdca26\"], [1.0, \"#f0f921\"]], \"type\": \"contour\"}], \"contourcarpet\": [{\"colorbar\": {\"outlinewidth\": 0, \"ticks\": \"\"}, \"type\": \"contourcarpet\"}], \"heatmap\": [{\"colorbar\": {\"outlinewidth\": 0, \"ticks\": \"\"}, \"colorscale\": [[0.0, \"#0d0887\"], [0.1111111111111111, \"#46039f\"], [0.2222222222222222, \"#7201a8\"], [0.3333333333333333, \"#9c179e\"], [0.4444444444444444, \"#bd3786\"], [0.5555555555555556, \"#d8576b\"], [0.6666666666666666, \"#ed7953\"], [0.7777777777777778, \"#fb9f3a\"], [0.8888888888888888, \"#fdca26\"], [1.0, \"#f0f921\"]], \"type\": \"heatmap\"}], \"heatmapgl\": [{\"colorbar\": {\"outlinewidth\": 0, \"ticks\": \"\"}, \"colorscale\": [[0.0, \"#0d0887\"], [0.1111111111111111, \"#46039f\"], [0.2222222222222222, \"#7201a8\"], [0.3333333333333333, \"#9c179e\"], [0.4444444444444444, \"#bd3786\"], [0.5555555555555556, \"#d8576b\"], [0.6666666666666666, \"#ed7953\"], [0.7777777777777778, \"#fb9f3a\"], [0.8888888888888888, \"#fdca26\"], [1.0, \"#f0f921\"]], \"type\": \"heatmapgl\"}], \"histogram\": [{\"marker\": {\"colorbar\": {\"outlinewidth\": 0, \"ticks\": \"\"}}, \"type\": \"histogram\"}], \"histogram2d\": [{\"colorbar\": {\"outlinewidth\": 0, \"ticks\": \"\"}, \"colorscale\": [[0.0, \"#0d0887\"], [0.1111111111111111, \"#46039f\"], [0.2222222222222222, \"#7201a8\"], [0.3333333333333333, \"#9c179e\"], [0.4444444444444444, \"#bd3786\"], [0.5555555555555556, \"#d8576b\"], [0.6666666666666666, \"#ed7953\"], [0.7777777777777778, \"#fb9f3a\"], [0.8888888888888888, \"#fdca26\"], [1.0, \"#f0f921\"]], \"type\": \"histogram2d\"}], \"histogram2dcontour\": [{\"colorbar\": {\"outlinewidth\": 0, \"ticks\": \"\"}, \"colorscale\": [[0.0, \"#0d0887\"], [0.1111111111111111, \"#46039f\"], [0.2222222222222222, \"#7201a8\"], [0.3333333333333333, \"#9c179e\"], [0.4444444444444444, \"#bd3786\"], [0.5555555555555556, \"#d8576b\"], [0.6666666666666666, \"#ed7953\"], [0.7777777777777778, \"#fb9f3a\"], [0.8888888888888888, \"#fdca26\"], [1.0, \"#f0f921\"]], \"type\": \"histogram2dcontour\"}], \"mesh3d\": [{\"colorbar\": {\"outlinewidth\": 0, \"ticks\": \"\"}, \"type\": \"mesh3d\"}], \"parcoords\": [{\"line\": {\"colorbar\": {\"outlinewidth\": 0, \"ticks\": \"\"}}, \"type\": \"parcoords\"}], \"pie\": [{\"automargin\": true, \"type\": \"pie\"}], \"scatter\": [{\"marker\": {\"colorbar\": {\"outlinewidth\": 0, \"ticks\": \"\"}}, \"type\": \"scatter\"}], \"scatter3d\": [{\"line\": {\"colorbar\": {\"outlinewidth\": 0, \"ticks\": \"\"}}, \"marker\": {\"colorbar\": {\"outlinewidth\": 0, \"ticks\": \"\"}}, \"type\": \"scatter3d\"}], \"scattercarpet\": [{\"marker\": {\"colorbar\": {\"outlinewidth\": 0, \"ticks\": \"\"}}, \"type\": \"scattercarpet\"}], \"scattergeo\": [{\"marker\": {\"colorbar\": {\"outlinewidth\": 0, \"ticks\": \"\"}}, \"type\": \"scattergeo\"}], \"scattergl\": [{\"marker\": {\"colorbar\": {\"outlinewidth\": 0, \"ticks\": \"\"}}, \"type\": \"scattergl\"}], \"scattermapbox\": [{\"marker\": {\"colorbar\": {\"outlinewidth\": 0, \"ticks\": \"\"}}, \"type\": \"scattermapbox\"}], \"scatterpolar\": [{\"marker\": {\"colorbar\": {\"outlinewidth\": 0, \"ticks\": \"\"}}, \"type\": \"scatterpolar\"}], \"scatterpolargl\": [{\"marker\": {\"colorbar\": {\"outlinewidth\": 0, \"ticks\": \"\"}}, \"type\": \"scatterpolargl\"}], \"scatterternary\": [{\"marker\": {\"colorbar\": {\"outlinewidth\": 0, \"ticks\": \"\"}}, \"type\": \"scatterternary\"}], \"surface\": [{\"colorbar\": {\"outlinewidth\": 0, \"ticks\": \"\"}, \"colorscale\": [[0.0, \"#0d0887\"], [0.1111111111111111, \"#46039f\"], [0.2222222222222222, \"#7201a8\"], [0.3333333333333333, \"#9c179e\"], [0.4444444444444444, \"#bd3786\"], [0.5555555555555556, \"#d8576b\"], [0.6666666666666666, \"#ed7953\"], [0.7777777777777778, \"#fb9f3a\"], [0.8888888888888888, \"#fdca26\"], [1.0, \"#f0f921\"]], \"type\": \"surface\"}], \"table\": [{\"cells\": {\"fill\": {\"color\": \"#EBF0F8\"}, \"line\": {\"color\": \"white\"}}, \"header\": {\"fill\": {\"color\": \"#C8D4E3\"}, \"line\": {\"color\": \"white\"}}, \"type\": \"table\"}]}, \"layout\": {\"annotationdefaults\": {\"arrowcolor\": \"#2a3f5f\", \"arrowhead\": 0, \"arrowwidth\": 1}, \"coloraxis\": {\"colorbar\": {\"outlinewidth\": 0, \"ticks\": \"\"}}, \"colorscale\": {\"diverging\": [[0, \"#8e0152\"], [0.1, \"#c51b7d\"], [0.2, \"#de77ae\"], [0.3, \"#f1b6da\"], [0.4, \"#fde0ef\"], [0.5, \"#f7f7f7\"], [0.6, \"#e6f5d0\"], [0.7, \"#b8e186\"], [0.8, \"#7fbc41\"], [0.9, \"#4d9221\"], [1, \"#276419\"]], \"sequential\": [[0.0, \"#0d0887\"], [0.1111111111111111, \"#46039f\"], [0.2222222222222222, \"#7201a8\"], [0.3333333333333333, \"#9c179e\"], [0.4444444444444444, \"#bd3786\"], [0.5555555555555556, \"#d8576b\"], [0.6666666666666666, \"#ed7953\"], [0.7777777777777778, \"#fb9f3a\"], [0.8888888888888888, \"#fdca26\"], [1.0, \"#f0f921\"]], \"sequentialminus\": [[0.0, \"#0d0887\"], [0.1111111111111111, \"#46039f\"], [0.2222222222222222, \"#7201a8\"], [0.3333333333333333, \"#9c179e\"], [0.4444444444444444, \"#bd3786\"], [0.5555555555555556, \"#d8576b\"], [0.6666666666666666, \"#ed7953\"], [0.7777777777777778, \"#fb9f3a\"], [0.8888888888888888, \"#fdca26\"], [1.0, \"#f0f921\"]]}, \"colorway\": [\"#636efa\", \"#EF553B\", \"#00cc96\", \"#ab63fa\", \"#FFA15A\", \"#19d3f3\", \"#FF6692\", \"#B6E880\", \"#FF97FF\", \"#FECB52\"], \"font\": {\"color\": \"#2a3f5f\"}, \"geo\": {\"bgcolor\": \"white\", \"lakecolor\": \"white\", \"landcolor\": \"#E5ECF6\", \"showlakes\": true, \"showland\": true, \"subunitcolor\": \"white\"}, \"hoverlabel\": {\"align\": \"left\"}, \"hovermode\": \"closest\", \"mapbox\": {\"style\": \"light\"}, \"paper_bgcolor\": \"white\", \"plot_bgcolor\": \"#E5ECF6\", \"polar\": {\"angularaxis\": {\"gridcolor\": \"white\", \"linecolor\": \"white\", \"ticks\": \"\"}, \"bgcolor\": \"#E5ECF6\", \"radialaxis\": {\"gridcolor\": \"white\", \"linecolor\": \"white\", \"ticks\": \"\"}}, \"scene\": {\"xaxis\": {\"backgroundcolor\": \"#E5ECF6\", \"gridcolor\": \"white\", \"gridwidth\": 2, \"linecolor\": \"white\", \"showbackground\": true, \"ticks\": \"\", \"zerolinecolor\": \"white\"}, \"yaxis\": {\"backgroundcolor\": \"#E5ECF6\", \"gridcolor\": \"white\", \"gridwidth\": 2, \"linecolor\": \"white\", \"showbackground\": true, \"ticks\": \"\", \"zerolinecolor\": \"white\"}, \"zaxis\": {\"backgroundcolor\": \"#E5ECF6\", \"gridcolor\": \"white\", \"gridwidth\": 2, \"linecolor\": \"white\", \"showbackground\": true, \"ticks\": \"\", \"zerolinecolor\": \"white\"}}, \"shapedefaults\": {\"line\": {\"color\": \"#2a3f5f\"}}, \"ternary\": {\"aaxis\": {\"gridcolor\": \"white\", \"linecolor\": \"white\", \"ticks\": \"\"}, \"baxis\": {\"gridcolor\": \"white\", \"linecolor\": \"white\", \"ticks\": \"\"}, \"bgcolor\": \"#E5ECF6\", \"caxis\": {\"gridcolor\": \"white\", \"linecolor\": \"white\", \"ticks\": \"\"}}, \"title\": {\"x\": 0.05}, \"xaxis\": {\"automargin\": true, \"gridcolor\": \"white\", \"linecolor\": \"white\", \"ticks\": \"\", \"title\": {\"standoff\": 15}, \"zerolinecolor\": \"white\", \"zerolinewidth\": 2}, \"yaxis\": {\"automargin\": true, \"gridcolor\": \"white\", \"linecolor\": \"white\", \"ticks\": \"\", \"title\": {\"standoff\": 15}, \"zerolinecolor\": \"white\", \"zerolinewidth\": 2}}}, \"title\": {\"font\": {\"color\": \"#4D5663\"}}, \"xaxis\": {\"gridcolor\": \"#E1E5ED\", \"showgrid\": true, \"tickfont\": {\"color\": \"#4D5663\"}, \"title\": {\"font\": {\"color\": \"#4D5663\"}, \"text\": \"\"}, \"zerolinecolor\": \"#E1E5ED\"}, \"yaxis\": {\"gridcolor\": \"#E1E5ED\", \"showgrid\": true, \"tickfont\": {\"color\": \"#4D5663\"}, \"title\": {\"font\": {\"color\": \"#4D5663\"}, \"text\": \"\"}, \"zerolinecolor\": \"#E1E5ED\"}},\n",
       "                        {\"showLink\": true, \"linkText\": \"Export to plot.ly\", \"plotlyServerURL\": \"https://plot.ly\", \"responsive\": true}\n",
       "                    ).then(function(){\n",
       "                            \n",
       "var gd = document.getElementById('e4ac3e19-9746-419b-8f52-b53761564a9b');\n",
       "var x = new MutationObserver(function (mutations, observer) {{\n",
       "        var display = window.getComputedStyle(gd).display;\n",
       "        if (!display || display === 'none') {{\n",
       "            console.log([gd, 'removed!']);\n",
       "            Plotly.purge(gd);\n",
       "            observer.disconnect();\n",
       "        }}\n",
       "}});\n",
       "\n",
       "// Listen for the removal of the full notebook cells\n",
       "var notebookContainer = gd.closest('#notebook-container');\n",
       "if (notebookContainer) {{\n",
       "    x.observe(notebookContainer, {childList: true});\n",
       "}}\n",
       "\n",
       "// Listen for the clearing of the current output cell\n",
       "var outputEl = gd.closest('.output');\n",
       "if (outputEl) {{\n",
       "    x.observe(outputEl, {childList: true});\n",
       "}}\n",
       "\n",
       "                        })\n",
       "                };\n",
       "                });\n",
       "            </script>\n",
       "        </div>"
      ]
     },
     "metadata": {},
     "output_type": "display_data"
    }
   ],
   "source": [
    "df.iplot(kind='bubble', x='A', y='B', size='C')"
   ]
  },
  {
   "cell_type": "code",
   "execution_count": 39,
   "metadata": {},
   "outputs": [
    {
     "data": {
      "application/vnd.plotly.v1+json": {
       "config": {
        "linkText": "Export to plot.ly",
        "plotlyServerURL": "https://plot.ly",
        "showLink": true
       },
       "data": [
        {
         "histfunc": "count",
         "histnorm": "",
         "marker": {
          "color": "rgba(255, 153, 51, 1.0)",
          "line": {
           "color": "#4D5663",
           "width": 1.3
          }
         },
         "name": "A",
         "nbinsx": 10,
         "opacity": 0.8,
         "orientation": "v",
         "type": "histogram",
         "x": [
          -0.051837791061411176,
          -0.49686287148954067,
          -2.1771515192846906,
          -0.5113732243720404,
          -0.03837284189106989,
          0.3548680089577916,
          -0.9670222154179324,
          0.48967087422011185,
          1.010118843634135,
          1.1767005716127645,
          0.6049739509700985,
          -1.2688805227873958,
          -0.02341822554535787,
          -0.8845292410026588,
          -0.11078185573420099,
          0.4450716121013818,
          -0.6524788440445956,
          0.8362365802443669,
          -0.26480206570836334,
          -0.015521473434741142,
          -0.9070581908107753,
          -0.19848188846188358,
          0.23484988589792208,
          -0.9429068811094353,
          0.33804310467588616,
          0.2231325138137817,
          1.4180751876383473,
          0.27684307950859816,
          -0.7268118558078794,
          -1.8190959116589784,
          0.8863588248415394,
          0.811407224749543,
          0.9168706533314526,
          -0.49255538436951624,
          -0.38855891112932583,
          -0.33060548677620133,
          0.22814018946691325,
          -0.06134433481792067,
          2.2699080261066835,
          -0.648450660547072,
          -0.6676597248888836,
          0.12780912335519987,
          0.26203454175511987,
          -0.5425640188515645,
          -1.7685038013335517,
          0.40968157985444253,
          -0.42445362372076917,
          -1.088382988200841,
          1.23453450356868,
          -0.3638729323339125,
          0.7811986561585942,
          -1.0258459763128092,
          -1.7662105171837867,
          0.41472993026917654,
          -0.9409427214991185,
          -2.224333425583536,
          -0.2431794109095521,
          -0.9395444396754363,
          -0.5689902576839743,
          3.044340783482019,
          1.2505474809367803,
          -1.8363813899795214,
          -1.4820530742319769,
          -0.46642801300752706,
          0.812718554669287,
          0.6645329003944418,
          0.3270216654104052,
          -0.1223759657745449,
          0.09624616022289444,
          -0.22541462588698472,
          -0.2958817575821674,
          0.2871613386480438,
          0.07953086113867225,
          0.36601957350281533,
          1.646247258053811,
          0.40813146514571574,
          0.43032791348249316,
          -0.35118667775584894,
          1.0808974968793563,
          0.4428858638821342,
          -1.276203580800424,
          -0.5670787860121267,
          0.5425648310098887,
          -2.3985130158037213,
          0.02387026311991676,
          -0.1123122571750988,
          -0.778639967616544,
          0.5459580253709689,
          1.4604660678279568,
          0.3965009201697333,
          -0.5651998505477467,
          0.3117696147066201,
          -1.5089493383412824,
          -0.28001165739536366,
          1.3072298277883696,
          -0.7487924987650352,
          -0.48883749025194284,
          -0.09653869536735393,
          0.01895917624825842,
          0.6100637239125053
         ],
         "xaxis": "x",
         "yaxis": "y"
        },
        {
         "line": {
          "color": "rgba(128, 128, 128, 1.0)",
          "dash": "solid",
          "shape": "linear",
          "width": 1.3
         },
         "marker": {
          "size": 2,
          "symbol": "circle"
         },
         "mode": "markers",
         "name": "A",
         "text": "",
         "type": "scatter",
         "x": [
          0.3695370284703798,
          -0.8743817851595044,
          -1.5751701215297989,
          -0.5285960006848781,
          1.626477455353992,
          -2.459883081251386,
          -0.2917473650965046,
          -0.27854283712680494,
          -0.21414904709360755,
          0.05697064749512811,
          -0.11926176248256731,
          -0.7021821239487716,
          -0.24572150749364016,
          -0.14898474253809174,
          -1.3113443874376083,
          -4.167956106747543,
          0.5272200063944493,
          0.8649922158474757,
          -0.44583230013138686,
          -0.4160049037062795,
          -0.466239445185336,
          0.08377937035475586,
          0.6614591440734874,
          1.12535799467954,
          0.9567317890641305,
          1.8181135552660397,
          -0.927102989747783,
          0.44080180507522854,
          -0.06554376455534469,
          -0.2603983795904401,
          0.6333449797500809,
          -0.10072593183762651,
          -1.1133918555613957,
          -1.129529656932896,
          -0.19799900792328565,
          -0.13847772677187756,
          -0.18071833438394155,
          0.08693506582433717,
          0.4956531660302352,
          0.518581006571991,
          -0.5021690307243035,
          -0.46873614050059736,
          2.8629607999012587,
          1.1628814628174975,
          -0.10637423519170412,
          -0.5365095684859182,
          0.10172889460656297,
          0.8434298624659738,
          0.178773563424261,
          -0.8930770980031411,
          -0.528758606533394,
          -0.2566640539476154,
          -1.288023250707061,
          -0.970954446795933,
          0.6549562426168584,
          -2.3232483033711198,
          -0.11610262914757792,
          0.09858406174514805,
          0.4361663737293656,
          0.6945343333387475,
          -0.16649974364440523,
          0.8223881464101899,
          1.9482584831312117,
          0.29704791128841773,
          0.3237810004606294,
          0.544957091603034,
          -0.17353554497162008,
          -1.065684238826915,
          -0.08021988841387116,
          0.4569936193631879,
          0.6254218330930134,
          -0.08102891382823191,
          -1.0928559466028436,
          -1.3591555442045564,
          0.4577921792340458,
          0.3495884903538427,
          -1.1037616297370296,
          -1.990831617641072,
          0.6455485345946241,
          -1.5268647591648523,
          -0.46605297721767797,
          -0.019275930557890078,
          -0.34203927447449445,
          1.3673189706167137,
          0.4734388491991349,
          1.0693898450217338,
          -1.1866359358774416,
          0.012262267947191194,
          1.5134873033665468,
          1.5976790969792416,
          -0.423613673426834,
          0.06955095640490072,
          -1.1664675783266583,
          -0.6094899292030159,
          -0.7697122722341971,
          -0.011835620658037676,
          -0.6125980696950949,
          0.6171362973467006,
          -1.4793715674364853,
          -1.1455262902983676
         ],
         "xaxis": "x2",
         "y": [
          -0.051837791061411176,
          -0.49686287148954067,
          -2.1771515192846906,
          -0.5113732243720404,
          -0.03837284189106989,
          0.3548680089577916,
          -0.9670222154179324,
          0.48967087422011185,
          1.010118843634135,
          1.1767005716127645,
          0.6049739509700985,
          -1.2688805227873958,
          -0.02341822554535787,
          -0.8845292410026588,
          -0.11078185573420099,
          0.4450716121013818,
          -0.6524788440445956,
          0.8362365802443669,
          -0.26480206570836334,
          -0.015521473434741142,
          -0.9070581908107753,
          -0.19848188846188358,
          0.23484988589792208,
          -0.9429068811094353,
          0.33804310467588616,
          0.2231325138137817,
          1.4180751876383473,
          0.27684307950859816,
          -0.7268118558078794,
          -1.8190959116589784,
          0.8863588248415394,
          0.811407224749543,
          0.9168706533314526,
          -0.49255538436951624,
          -0.38855891112932583,
          -0.33060548677620133,
          0.22814018946691325,
          -0.06134433481792067,
          2.2699080261066835,
          -0.648450660547072,
          -0.6676597248888836,
          0.12780912335519987,
          0.26203454175511987,
          -0.5425640188515645,
          -1.7685038013335517,
          0.40968157985444253,
          -0.42445362372076917,
          -1.088382988200841,
          1.23453450356868,
          -0.3638729323339125,
          0.7811986561585942,
          -1.0258459763128092,
          -1.7662105171837867,
          0.41472993026917654,
          -0.9409427214991185,
          -2.224333425583536,
          -0.2431794109095521,
          -0.9395444396754363,
          -0.5689902576839743,
          3.044340783482019,
          1.2505474809367803,
          -1.8363813899795214,
          -1.4820530742319769,
          -0.46642801300752706,
          0.812718554669287,
          0.6645329003944418,
          0.3270216654104052,
          -0.1223759657745449,
          0.09624616022289444,
          -0.22541462588698472,
          -0.2958817575821674,
          0.2871613386480438,
          0.07953086113867225,
          0.36601957350281533,
          1.646247258053811,
          0.40813146514571574,
          0.43032791348249316,
          -0.35118667775584894,
          1.0808974968793563,
          0.4428858638821342,
          -1.276203580800424,
          -0.5670787860121267,
          0.5425648310098887,
          -2.3985130158037213,
          0.02387026311991676,
          -0.1123122571750988,
          -0.778639967616544,
          0.5459580253709689,
          1.4604660678279568,
          0.3965009201697333,
          -0.5651998505477467,
          0.3117696147066201,
          -1.5089493383412824,
          -0.28001165739536366,
          1.3072298277883696,
          -0.7487924987650352,
          -0.48883749025194284,
          -0.09653869536735393,
          0.01895917624825842,
          0.6100637239125053
         ],
         "yaxis": "y2"
        },
        {
         "line": {
          "color": "rgba(128, 128, 128, 1.0)",
          "dash": "solid",
          "shape": "linear",
          "width": 1.3
         },
         "marker": {
          "size": 2,
          "symbol": "circle"
         },
         "mode": "markers",
         "name": "A",
         "text": "",
         "type": "scatter",
         "x": [
          -0.8154929365890754,
          0.6792826710933785,
          0.824703082888759,
          0.7075762470179497,
          0.07365396278792792,
          -0.8105705063983373,
          0.13334782373413395,
          -0.02443113381127301,
          1.0536217164839008,
          -0.08342677773846315,
          -0.298493431665501,
          -2.2784790679135716,
          -1.033862408480082,
          0.8642419401735617,
          0.10085264050538734,
          0.9410010976361294,
          -0.2674685056250175,
          -0.8642828255005719,
          -0.69632068563847,
          -0.8664922439507659,
          0.6293027737635437,
          0.06050408243705343,
          1.1593542458650372,
          -0.5899162141516092,
          0.626324691115494,
          1.032168396778142,
          0.33754734882931714,
          0.18713337526897916,
          -0.17343679502919768,
          1.6286878922994552,
          0.28899545345282185,
          -1.4448313139698175,
          -0.8388221697622474,
          0.17907157837101717,
          0.32931330254002256,
          -0.9250137613019447,
          0.4935716283948479,
          0.394160237456869,
          -2.013902701361426,
          -0.2940243829919321,
          0.21586676849098707,
          0.5298064552415997,
          1.614518034961775,
          -2.270101038469866,
          1.6886601157977816,
          0.6881533447454158,
          0.25174345012722577,
          0.3378213355528154,
          0.6705698060137221,
          -0.031948036708369106,
          -0.08220382176457258,
          0.3125795749433185,
          1.5272691242267729,
          0.9718481567175451,
          -1.1274261759202133,
          0.4421452144984506,
          -0.35499216986570375,
          -0.7814438069631231,
          -0.5598770139976932,
          0.8165428868962974,
          -0.10292551612671881,
          -1.9599786743326544,
          0.47510296837616367,
          0.7328407303431982,
          -0.46872720075476854,
          1.262190459516613,
          -0.05833540902356298,
          0.11052859576117118,
          -0.5884698688701494,
          -1.2483083327623725,
          0.2066697543893116,
          0.6719817769679528,
          0.39567931062804224,
          -0.4306543072032271,
          -1.7546189253573135,
          -0.47332649862861675,
          0.6426916085977166,
          0.9633850723074893,
          -0.8770555093850285,
          -2.905161987160775,
          0.8482874475301787,
          -0.42270655290951586,
          -0.9953775484525826,
          1.3213317263108992,
          -1.4492254391520913,
          -0.09570604420631665,
          -1.4866448108202428,
          -1.4453918207614649,
          -0.07423117728993073,
          -0.9995823360214144,
          0.7388765575959787,
          -0.37297370367235766,
          -0.6659108390811059,
          -0.4651095380198942,
          -0.3160081273844198,
          -0.9815681676930179,
          0.5435691970650005,
          0.4969979391842474,
          -0.8672665672491162,
          0.44019907878237374
         ],
         "xaxis": "x3",
         "y": [
          -0.051837791061411176,
          -0.49686287148954067,
          -2.1771515192846906,
          -0.5113732243720404,
          -0.03837284189106989,
          0.3548680089577916,
          -0.9670222154179324,
          0.48967087422011185,
          1.010118843634135,
          1.1767005716127645,
          0.6049739509700985,
          -1.2688805227873958,
          -0.02341822554535787,
          -0.8845292410026588,
          -0.11078185573420099,
          0.4450716121013818,
          -0.6524788440445956,
          0.8362365802443669,
          -0.26480206570836334,
          -0.015521473434741142,
          -0.9070581908107753,
          -0.19848188846188358,
          0.23484988589792208,
          -0.9429068811094353,
          0.33804310467588616,
          0.2231325138137817,
          1.4180751876383473,
          0.27684307950859816,
          -0.7268118558078794,
          -1.8190959116589784,
          0.8863588248415394,
          0.811407224749543,
          0.9168706533314526,
          -0.49255538436951624,
          -0.38855891112932583,
          -0.33060548677620133,
          0.22814018946691325,
          -0.06134433481792067,
          2.2699080261066835,
          -0.648450660547072,
          -0.6676597248888836,
          0.12780912335519987,
          0.26203454175511987,
          -0.5425640188515645,
          -1.7685038013335517,
          0.40968157985444253,
          -0.42445362372076917,
          -1.088382988200841,
          1.23453450356868,
          -0.3638729323339125,
          0.7811986561585942,
          -1.0258459763128092,
          -1.7662105171837867,
          0.41472993026917654,
          -0.9409427214991185,
          -2.224333425583536,
          -0.2431794109095521,
          -0.9395444396754363,
          -0.5689902576839743,
          3.044340783482019,
          1.2505474809367803,
          -1.8363813899795214,
          -1.4820530742319769,
          -0.46642801300752706,
          0.812718554669287,
          0.6645329003944418,
          0.3270216654104052,
          -0.1223759657745449,
          0.09624616022289444,
          -0.22541462588698472,
          -0.2958817575821674,
          0.2871613386480438,
          0.07953086113867225,
          0.36601957350281533,
          1.646247258053811,
          0.40813146514571574,
          0.43032791348249316,
          -0.35118667775584894,
          1.0808974968793563,
          0.4428858638821342,
          -1.276203580800424,
          -0.5670787860121267,
          0.5425648310098887,
          -2.3985130158037213,
          0.02387026311991676,
          -0.1123122571750988,
          -0.778639967616544,
          0.5459580253709689,
          1.4604660678279568,
          0.3965009201697333,
          -0.5651998505477467,
          0.3117696147066201,
          -1.5089493383412824,
          -0.28001165739536366,
          1.3072298277883696,
          -0.7487924987650352,
          -0.48883749025194284,
          -0.09653869536735393,
          0.01895917624825842,
          0.6100637239125053
         ],
         "yaxis": "y3"
        },
        {
         "line": {
          "color": "rgba(128, 128, 128, 1.0)",
          "dash": "solid",
          "shape": "linear",
          "width": 1.3
         },
         "marker": {
          "size": 2,
          "symbol": "circle"
         },
         "mode": "markers",
         "name": "A",
         "text": "",
         "type": "scatter",
         "x": [
          1.2822550062316957,
          0.40055323573444107,
          1.787307135006294,
          1.7221907799186702,
          -0.33012384630410374,
          0.5015771873657603,
          -0.2473547725963533,
          -0.0640547215064039,
          -1.2688345257971019,
          0.7944394500612837,
          -0.3464648964452649,
          0.3724309331099352,
          0.4334063357163549,
          -0.7803152729518554,
          -0.15256826965799988,
          0.9860346107050248,
          -0.013657624655136605,
          -0.4302458835164767,
          0.08742528916803126,
          0.519209084088822,
          0.6982718270826062,
          -0.19695824668480003,
          0.7343656222610719,
          0.9842019036477565,
          0.5451772059859311,
          -0.24858903661320736,
          -0.7824188710943614,
          1.1640797041445852,
          0.15329927658788975,
          -0.09114867065191426,
          0.5534416427041143,
          0.6946738238910318,
          0.20194117504756964,
          -0.35896270465549474,
          1.0906445557163424,
          -0.2824539228891635,
          1.1233705548985673,
          0.9589648047845943,
          0.2754236452464434,
          -1.0603397442196445,
          -0.2256360884092571,
          0.8603631910291578,
          0.1747665131819617,
          0.8597007906478508,
          -0.4947516166827669,
          1.24843889390558,
          0.5676592941056465,
          -0.5409291274871663,
          -0.043153913618455345,
          1.5573689209796098,
          -0.7637023855934686,
          0.7268950799090498,
          -0.48806830712512594,
          0.3432994768634184,
          -0.6239399075477323,
          -0.8508008791939529,
          -0.5373137821388475,
          0.41568614809700694,
          -1.0649642415638567,
          0.14383644256798317,
          -1.8054575468622778,
          0.7519404686581771,
          -0.4669308726577494,
          2.2686409521408586,
          1.9162386285954347,
          -0.5210201624771259,
          -2.2616201473779607,
          -0.3441027012451506,
          -1.403557990210369,
          -0.09748187365174565,
          0.30996784622566304,
          -0.30719849294978363,
          -0.5164850226458253,
          2.069020581536834,
          -0.3683269178730194,
          -0.16538567091528325,
          -1.3502023312974114,
          0.03029806499858065,
          -0.2854438445079592,
          -0.33348005450209356,
          -0.8087196832418141,
          2.7578216244376583,
          1.3775591992462703,
          1.1445203631577308,
          -1.1319746537803164,
          1.2151819805491515,
          -1.0214125872731903,
          0.542764965117343,
          0.8186438869989077,
          1.9598102601770646,
          1.5098606557031709,
          1.3644224942264092,
          -0.4907462799383518,
          0.7910265512352088,
          0.5886869733598117,
          -1.0582675744202503,
          1.3505249560880823,
          0.7928774939813371,
          0.5393622371005773,
          -1.4353470328033175
         ],
         "xaxis": "x4",
         "y": [
          -0.051837791061411176,
          -0.49686287148954067,
          -2.1771515192846906,
          -0.5113732243720404,
          -0.03837284189106989,
          0.3548680089577916,
          -0.9670222154179324,
          0.48967087422011185,
          1.010118843634135,
          1.1767005716127645,
          0.6049739509700985,
          -1.2688805227873958,
          -0.02341822554535787,
          -0.8845292410026588,
          -0.11078185573420099,
          0.4450716121013818,
          -0.6524788440445956,
          0.8362365802443669,
          -0.26480206570836334,
          -0.015521473434741142,
          -0.9070581908107753,
          -0.19848188846188358,
          0.23484988589792208,
          -0.9429068811094353,
          0.33804310467588616,
          0.2231325138137817,
          1.4180751876383473,
          0.27684307950859816,
          -0.7268118558078794,
          -1.8190959116589784,
          0.8863588248415394,
          0.811407224749543,
          0.9168706533314526,
          -0.49255538436951624,
          -0.38855891112932583,
          -0.33060548677620133,
          0.22814018946691325,
          -0.06134433481792067,
          2.2699080261066835,
          -0.648450660547072,
          -0.6676597248888836,
          0.12780912335519987,
          0.26203454175511987,
          -0.5425640188515645,
          -1.7685038013335517,
          0.40968157985444253,
          -0.42445362372076917,
          -1.088382988200841,
          1.23453450356868,
          -0.3638729323339125,
          0.7811986561585942,
          -1.0258459763128092,
          -1.7662105171837867,
          0.41472993026917654,
          -0.9409427214991185,
          -2.224333425583536,
          -0.2431794109095521,
          -0.9395444396754363,
          -0.5689902576839743,
          3.044340783482019,
          1.2505474809367803,
          -1.8363813899795214,
          -1.4820530742319769,
          -0.46642801300752706,
          0.812718554669287,
          0.6645329003944418,
          0.3270216654104052,
          -0.1223759657745449,
          0.09624616022289444,
          -0.22541462588698472,
          -0.2958817575821674,
          0.2871613386480438,
          0.07953086113867225,
          0.36601957350281533,
          1.646247258053811,
          0.40813146514571574,
          0.43032791348249316,
          -0.35118667775584894,
          1.0808974968793563,
          0.4428858638821342,
          -1.276203580800424,
          -0.5670787860121267,
          0.5425648310098887,
          -2.3985130158037213,
          0.02387026311991676,
          -0.1123122571750988,
          -0.778639967616544,
          0.5459580253709689,
          1.4604660678279568,
          0.3965009201697333,
          -0.5651998505477467,
          0.3117696147066201,
          -1.5089493383412824,
          -0.28001165739536366,
          1.3072298277883696,
          -0.7487924987650352,
          -0.48883749025194284,
          -0.09653869536735393,
          0.01895917624825842,
          0.6100637239125053
         ],
         "yaxis": "y4"
        },
        {
         "line": {
          "color": "rgba(128, 128, 128, 1.0)",
          "dash": "solid",
          "shape": "linear",
          "width": 1.3
         },
         "marker": {
          "size": 2,
          "symbol": "circle"
         },
         "mode": "markers",
         "name": "B",
         "text": "",
         "type": "scatter",
         "x": [
          -0.051837791061411176,
          -0.49686287148954067,
          -2.1771515192846906,
          -0.5113732243720404,
          -0.03837284189106989,
          0.3548680089577916,
          -0.9670222154179324,
          0.48967087422011185,
          1.010118843634135,
          1.1767005716127645,
          0.6049739509700985,
          -1.2688805227873958,
          -0.02341822554535787,
          -0.8845292410026588,
          -0.11078185573420099,
          0.4450716121013818,
          -0.6524788440445956,
          0.8362365802443669,
          -0.26480206570836334,
          -0.015521473434741142,
          -0.9070581908107753,
          -0.19848188846188358,
          0.23484988589792208,
          -0.9429068811094353,
          0.33804310467588616,
          0.2231325138137817,
          1.4180751876383473,
          0.27684307950859816,
          -0.7268118558078794,
          -1.8190959116589784,
          0.8863588248415394,
          0.811407224749543,
          0.9168706533314526,
          -0.49255538436951624,
          -0.38855891112932583,
          -0.33060548677620133,
          0.22814018946691325,
          -0.06134433481792067,
          2.2699080261066835,
          -0.648450660547072,
          -0.6676597248888836,
          0.12780912335519987,
          0.26203454175511987,
          -0.5425640188515645,
          -1.7685038013335517,
          0.40968157985444253,
          -0.42445362372076917,
          -1.088382988200841,
          1.23453450356868,
          -0.3638729323339125,
          0.7811986561585942,
          -1.0258459763128092,
          -1.7662105171837867,
          0.41472993026917654,
          -0.9409427214991185,
          -2.224333425583536,
          -0.2431794109095521,
          -0.9395444396754363,
          -0.5689902576839743,
          3.044340783482019,
          1.2505474809367803,
          -1.8363813899795214,
          -1.4820530742319769,
          -0.46642801300752706,
          0.812718554669287,
          0.6645329003944418,
          0.3270216654104052,
          -0.1223759657745449,
          0.09624616022289444,
          -0.22541462588698472,
          -0.2958817575821674,
          0.2871613386480438,
          0.07953086113867225,
          0.36601957350281533,
          1.646247258053811,
          0.40813146514571574,
          0.43032791348249316,
          -0.35118667775584894,
          1.0808974968793563,
          0.4428858638821342,
          -1.276203580800424,
          -0.5670787860121267,
          0.5425648310098887,
          -2.3985130158037213,
          0.02387026311991676,
          -0.1123122571750988,
          -0.778639967616544,
          0.5459580253709689,
          1.4604660678279568,
          0.3965009201697333,
          -0.5651998505477467,
          0.3117696147066201,
          -1.5089493383412824,
          -0.28001165739536366,
          1.3072298277883696,
          -0.7487924987650352,
          -0.48883749025194284,
          -0.09653869536735393,
          0.01895917624825842,
          0.6100637239125053
         ],
         "xaxis": "x5",
         "y": [
          0.3695370284703798,
          -0.8743817851595044,
          -1.5751701215297989,
          -0.5285960006848781,
          1.626477455353992,
          -2.459883081251386,
          -0.2917473650965046,
          -0.27854283712680494,
          -0.21414904709360755,
          0.05697064749512811,
          -0.11926176248256731,
          -0.7021821239487716,
          -0.24572150749364016,
          -0.14898474253809174,
          -1.3113443874376083,
          -4.167956106747543,
          0.5272200063944493,
          0.8649922158474757,
          -0.44583230013138686,
          -0.4160049037062795,
          -0.466239445185336,
          0.08377937035475586,
          0.6614591440734874,
          1.12535799467954,
          0.9567317890641305,
          1.8181135552660397,
          -0.927102989747783,
          0.44080180507522854,
          -0.06554376455534469,
          -0.2603983795904401,
          0.6333449797500809,
          -0.10072593183762651,
          -1.1133918555613957,
          -1.129529656932896,
          -0.19799900792328565,
          -0.13847772677187756,
          -0.18071833438394155,
          0.08693506582433717,
          0.4956531660302352,
          0.518581006571991,
          -0.5021690307243035,
          -0.46873614050059736,
          2.8629607999012587,
          1.1628814628174975,
          -0.10637423519170412,
          -0.5365095684859182,
          0.10172889460656297,
          0.8434298624659738,
          0.178773563424261,
          -0.8930770980031411,
          -0.528758606533394,
          -0.2566640539476154,
          -1.288023250707061,
          -0.970954446795933,
          0.6549562426168584,
          -2.3232483033711198,
          -0.11610262914757792,
          0.09858406174514805,
          0.4361663737293656,
          0.6945343333387475,
          -0.16649974364440523,
          0.8223881464101899,
          1.9482584831312117,
          0.29704791128841773,
          0.3237810004606294,
          0.544957091603034,
          -0.17353554497162008,
          -1.065684238826915,
          -0.08021988841387116,
          0.4569936193631879,
          0.6254218330930134,
          -0.08102891382823191,
          -1.0928559466028436,
          -1.3591555442045564,
          0.4577921792340458,
          0.3495884903538427,
          -1.1037616297370296,
          -1.990831617641072,
          0.6455485345946241,
          -1.5268647591648523,
          -0.46605297721767797,
          -0.019275930557890078,
          -0.34203927447449445,
          1.3673189706167137,
          0.4734388491991349,
          1.0693898450217338,
          -1.1866359358774416,
          0.012262267947191194,
          1.5134873033665468,
          1.5976790969792416,
          -0.423613673426834,
          0.06955095640490072,
          -1.1664675783266583,
          -0.6094899292030159,
          -0.7697122722341971,
          -0.011835620658037676,
          -0.6125980696950949,
          0.6171362973467006,
          -1.4793715674364853,
          -1.1455262902983676
         ],
         "yaxis": "y5"
        },
        {
         "histfunc": "count",
         "histnorm": "",
         "marker": {
          "color": "rgba(55, 128, 191, 1.0)",
          "line": {
           "color": "#4D5663",
           "width": 1.3
          }
         },
         "name": "B",
         "nbinsx": 10,
         "opacity": 0.8,
         "orientation": "v",
         "type": "histogram",
         "x": [
          0.3695370284703798,
          -0.8743817851595044,
          -1.5751701215297989,
          -0.5285960006848781,
          1.626477455353992,
          -2.459883081251386,
          -0.2917473650965046,
          -0.27854283712680494,
          -0.21414904709360755,
          0.05697064749512811,
          -0.11926176248256731,
          -0.7021821239487716,
          -0.24572150749364016,
          -0.14898474253809174,
          -1.3113443874376083,
          -4.167956106747543,
          0.5272200063944493,
          0.8649922158474757,
          -0.44583230013138686,
          -0.4160049037062795,
          -0.466239445185336,
          0.08377937035475586,
          0.6614591440734874,
          1.12535799467954,
          0.9567317890641305,
          1.8181135552660397,
          -0.927102989747783,
          0.44080180507522854,
          -0.06554376455534469,
          -0.2603983795904401,
          0.6333449797500809,
          -0.10072593183762651,
          -1.1133918555613957,
          -1.129529656932896,
          -0.19799900792328565,
          -0.13847772677187756,
          -0.18071833438394155,
          0.08693506582433717,
          0.4956531660302352,
          0.518581006571991,
          -0.5021690307243035,
          -0.46873614050059736,
          2.8629607999012587,
          1.1628814628174975,
          -0.10637423519170412,
          -0.5365095684859182,
          0.10172889460656297,
          0.8434298624659738,
          0.178773563424261,
          -0.8930770980031411,
          -0.528758606533394,
          -0.2566640539476154,
          -1.288023250707061,
          -0.970954446795933,
          0.6549562426168584,
          -2.3232483033711198,
          -0.11610262914757792,
          0.09858406174514805,
          0.4361663737293656,
          0.6945343333387475,
          -0.16649974364440523,
          0.8223881464101899,
          1.9482584831312117,
          0.29704791128841773,
          0.3237810004606294,
          0.544957091603034,
          -0.17353554497162008,
          -1.065684238826915,
          -0.08021988841387116,
          0.4569936193631879,
          0.6254218330930134,
          -0.08102891382823191,
          -1.0928559466028436,
          -1.3591555442045564,
          0.4577921792340458,
          0.3495884903538427,
          -1.1037616297370296,
          -1.990831617641072,
          0.6455485345946241,
          -1.5268647591648523,
          -0.46605297721767797,
          -0.019275930557890078,
          -0.34203927447449445,
          1.3673189706167137,
          0.4734388491991349,
          1.0693898450217338,
          -1.1866359358774416,
          0.012262267947191194,
          1.5134873033665468,
          1.5976790969792416,
          -0.423613673426834,
          0.06955095640490072,
          -1.1664675783266583,
          -0.6094899292030159,
          -0.7697122722341971,
          -0.011835620658037676,
          -0.6125980696950949,
          0.6171362973467006,
          -1.4793715674364853,
          -1.1455262902983676
         ],
         "xaxis": "x6",
         "yaxis": "y6"
        },
        {
         "line": {
          "color": "rgba(128, 128, 128, 1.0)",
          "dash": "solid",
          "shape": "linear",
          "width": 1.3
         },
         "marker": {
          "size": 2,
          "symbol": "circle"
         },
         "mode": "markers",
         "name": "B",
         "text": "",
         "type": "scatter",
         "x": [
          -0.8154929365890754,
          0.6792826710933785,
          0.824703082888759,
          0.7075762470179497,
          0.07365396278792792,
          -0.8105705063983373,
          0.13334782373413395,
          -0.02443113381127301,
          1.0536217164839008,
          -0.08342677773846315,
          -0.298493431665501,
          -2.2784790679135716,
          -1.033862408480082,
          0.8642419401735617,
          0.10085264050538734,
          0.9410010976361294,
          -0.2674685056250175,
          -0.8642828255005719,
          -0.69632068563847,
          -0.8664922439507659,
          0.6293027737635437,
          0.06050408243705343,
          1.1593542458650372,
          -0.5899162141516092,
          0.626324691115494,
          1.032168396778142,
          0.33754734882931714,
          0.18713337526897916,
          -0.17343679502919768,
          1.6286878922994552,
          0.28899545345282185,
          -1.4448313139698175,
          -0.8388221697622474,
          0.17907157837101717,
          0.32931330254002256,
          -0.9250137613019447,
          0.4935716283948479,
          0.394160237456869,
          -2.013902701361426,
          -0.2940243829919321,
          0.21586676849098707,
          0.5298064552415997,
          1.614518034961775,
          -2.270101038469866,
          1.6886601157977816,
          0.6881533447454158,
          0.25174345012722577,
          0.3378213355528154,
          0.6705698060137221,
          -0.031948036708369106,
          -0.08220382176457258,
          0.3125795749433185,
          1.5272691242267729,
          0.9718481567175451,
          -1.1274261759202133,
          0.4421452144984506,
          -0.35499216986570375,
          -0.7814438069631231,
          -0.5598770139976932,
          0.8165428868962974,
          -0.10292551612671881,
          -1.9599786743326544,
          0.47510296837616367,
          0.7328407303431982,
          -0.46872720075476854,
          1.262190459516613,
          -0.05833540902356298,
          0.11052859576117118,
          -0.5884698688701494,
          -1.2483083327623725,
          0.2066697543893116,
          0.6719817769679528,
          0.39567931062804224,
          -0.4306543072032271,
          -1.7546189253573135,
          -0.47332649862861675,
          0.6426916085977166,
          0.9633850723074893,
          -0.8770555093850285,
          -2.905161987160775,
          0.8482874475301787,
          -0.42270655290951586,
          -0.9953775484525826,
          1.3213317263108992,
          -1.4492254391520913,
          -0.09570604420631665,
          -1.4866448108202428,
          -1.4453918207614649,
          -0.07423117728993073,
          -0.9995823360214144,
          0.7388765575959787,
          -0.37297370367235766,
          -0.6659108390811059,
          -0.4651095380198942,
          -0.3160081273844198,
          -0.9815681676930179,
          0.5435691970650005,
          0.4969979391842474,
          -0.8672665672491162,
          0.44019907878237374
         ],
         "xaxis": "x7",
         "y": [
          0.3695370284703798,
          -0.8743817851595044,
          -1.5751701215297989,
          -0.5285960006848781,
          1.626477455353992,
          -2.459883081251386,
          -0.2917473650965046,
          -0.27854283712680494,
          -0.21414904709360755,
          0.05697064749512811,
          -0.11926176248256731,
          -0.7021821239487716,
          -0.24572150749364016,
          -0.14898474253809174,
          -1.3113443874376083,
          -4.167956106747543,
          0.5272200063944493,
          0.8649922158474757,
          -0.44583230013138686,
          -0.4160049037062795,
          -0.466239445185336,
          0.08377937035475586,
          0.6614591440734874,
          1.12535799467954,
          0.9567317890641305,
          1.8181135552660397,
          -0.927102989747783,
          0.44080180507522854,
          -0.06554376455534469,
          -0.2603983795904401,
          0.6333449797500809,
          -0.10072593183762651,
          -1.1133918555613957,
          -1.129529656932896,
          -0.19799900792328565,
          -0.13847772677187756,
          -0.18071833438394155,
          0.08693506582433717,
          0.4956531660302352,
          0.518581006571991,
          -0.5021690307243035,
          -0.46873614050059736,
          2.8629607999012587,
          1.1628814628174975,
          -0.10637423519170412,
          -0.5365095684859182,
          0.10172889460656297,
          0.8434298624659738,
          0.178773563424261,
          -0.8930770980031411,
          -0.528758606533394,
          -0.2566640539476154,
          -1.288023250707061,
          -0.970954446795933,
          0.6549562426168584,
          -2.3232483033711198,
          -0.11610262914757792,
          0.09858406174514805,
          0.4361663737293656,
          0.6945343333387475,
          -0.16649974364440523,
          0.8223881464101899,
          1.9482584831312117,
          0.29704791128841773,
          0.3237810004606294,
          0.544957091603034,
          -0.17353554497162008,
          -1.065684238826915,
          -0.08021988841387116,
          0.4569936193631879,
          0.6254218330930134,
          -0.08102891382823191,
          -1.0928559466028436,
          -1.3591555442045564,
          0.4577921792340458,
          0.3495884903538427,
          -1.1037616297370296,
          -1.990831617641072,
          0.6455485345946241,
          -1.5268647591648523,
          -0.46605297721767797,
          -0.019275930557890078,
          -0.34203927447449445,
          1.3673189706167137,
          0.4734388491991349,
          1.0693898450217338,
          -1.1866359358774416,
          0.012262267947191194,
          1.5134873033665468,
          1.5976790969792416,
          -0.423613673426834,
          0.06955095640490072,
          -1.1664675783266583,
          -0.6094899292030159,
          -0.7697122722341971,
          -0.011835620658037676,
          -0.6125980696950949,
          0.6171362973467006,
          -1.4793715674364853,
          -1.1455262902983676
         ],
         "yaxis": "y7"
        },
        {
         "line": {
          "color": "rgba(128, 128, 128, 1.0)",
          "dash": "solid",
          "shape": "linear",
          "width": 1.3
         },
         "marker": {
          "size": 2,
          "symbol": "circle"
         },
         "mode": "markers",
         "name": "B",
         "text": "",
         "type": "scatter",
         "x": [
          1.2822550062316957,
          0.40055323573444107,
          1.787307135006294,
          1.7221907799186702,
          -0.33012384630410374,
          0.5015771873657603,
          -0.2473547725963533,
          -0.0640547215064039,
          -1.2688345257971019,
          0.7944394500612837,
          -0.3464648964452649,
          0.3724309331099352,
          0.4334063357163549,
          -0.7803152729518554,
          -0.15256826965799988,
          0.9860346107050248,
          -0.013657624655136605,
          -0.4302458835164767,
          0.08742528916803126,
          0.519209084088822,
          0.6982718270826062,
          -0.19695824668480003,
          0.7343656222610719,
          0.9842019036477565,
          0.5451772059859311,
          -0.24858903661320736,
          -0.7824188710943614,
          1.1640797041445852,
          0.15329927658788975,
          -0.09114867065191426,
          0.5534416427041143,
          0.6946738238910318,
          0.20194117504756964,
          -0.35896270465549474,
          1.0906445557163424,
          -0.2824539228891635,
          1.1233705548985673,
          0.9589648047845943,
          0.2754236452464434,
          -1.0603397442196445,
          -0.2256360884092571,
          0.8603631910291578,
          0.1747665131819617,
          0.8597007906478508,
          -0.4947516166827669,
          1.24843889390558,
          0.5676592941056465,
          -0.5409291274871663,
          -0.043153913618455345,
          1.5573689209796098,
          -0.7637023855934686,
          0.7268950799090498,
          -0.48806830712512594,
          0.3432994768634184,
          -0.6239399075477323,
          -0.8508008791939529,
          -0.5373137821388475,
          0.41568614809700694,
          -1.0649642415638567,
          0.14383644256798317,
          -1.8054575468622778,
          0.7519404686581771,
          -0.4669308726577494,
          2.2686409521408586,
          1.9162386285954347,
          -0.5210201624771259,
          -2.2616201473779607,
          -0.3441027012451506,
          -1.403557990210369,
          -0.09748187365174565,
          0.30996784622566304,
          -0.30719849294978363,
          -0.5164850226458253,
          2.069020581536834,
          -0.3683269178730194,
          -0.16538567091528325,
          -1.3502023312974114,
          0.03029806499858065,
          -0.2854438445079592,
          -0.33348005450209356,
          -0.8087196832418141,
          2.7578216244376583,
          1.3775591992462703,
          1.1445203631577308,
          -1.1319746537803164,
          1.2151819805491515,
          -1.0214125872731903,
          0.542764965117343,
          0.8186438869989077,
          1.9598102601770646,
          1.5098606557031709,
          1.3644224942264092,
          -0.4907462799383518,
          0.7910265512352088,
          0.5886869733598117,
          -1.0582675744202503,
          1.3505249560880823,
          0.7928774939813371,
          0.5393622371005773,
          -1.4353470328033175
         ],
         "xaxis": "x8",
         "y": [
          0.3695370284703798,
          -0.8743817851595044,
          -1.5751701215297989,
          -0.5285960006848781,
          1.626477455353992,
          -2.459883081251386,
          -0.2917473650965046,
          -0.27854283712680494,
          -0.21414904709360755,
          0.05697064749512811,
          -0.11926176248256731,
          -0.7021821239487716,
          -0.24572150749364016,
          -0.14898474253809174,
          -1.3113443874376083,
          -4.167956106747543,
          0.5272200063944493,
          0.8649922158474757,
          -0.44583230013138686,
          -0.4160049037062795,
          -0.466239445185336,
          0.08377937035475586,
          0.6614591440734874,
          1.12535799467954,
          0.9567317890641305,
          1.8181135552660397,
          -0.927102989747783,
          0.44080180507522854,
          -0.06554376455534469,
          -0.2603983795904401,
          0.6333449797500809,
          -0.10072593183762651,
          -1.1133918555613957,
          -1.129529656932896,
          -0.19799900792328565,
          -0.13847772677187756,
          -0.18071833438394155,
          0.08693506582433717,
          0.4956531660302352,
          0.518581006571991,
          -0.5021690307243035,
          -0.46873614050059736,
          2.8629607999012587,
          1.1628814628174975,
          -0.10637423519170412,
          -0.5365095684859182,
          0.10172889460656297,
          0.8434298624659738,
          0.178773563424261,
          -0.8930770980031411,
          -0.528758606533394,
          -0.2566640539476154,
          -1.288023250707061,
          -0.970954446795933,
          0.6549562426168584,
          -2.3232483033711198,
          -0.11610262914757792,
          0.09858406174514805,
          0.4361663737293656,
          0.6945343333387475,
          -0.16649974364440523,
          0.8223881464101899,
          1.9482584831312117,
          0.29704791128841773,
          0.3237810004606294,
          0.544957091603034,
          -0.17353554497162008,
          -1.065684238826915,
          -0.08021988841387116,
          0.4569936193631879,
          0.6254218330930134,
          -0.08102891382823191,
          -1.0928559466028436,
          -1.3591555442045564,
          0.4577921792340458,
          0.3495884903538427,
          -1.1037616297370296,
          -1.990831617641072,
          0.6455485345946241,
          -1.5268647591648523,
          -0.46605297721767797,
          -0.019275930557890078,
          -0.34203927447449445,
          1.3673189706167137,
          0.4734388491991349,
          1.0693898450217338,
          -1.1866359358774416,
          0.012262267947191194,
          1.5134873033665468,
          1.5976790969792416,
          -0.423613673426834,
          0.06955095640490072,
          -1.1664675783266583,
          -0.6094899292030159,
          -0.7697122722341971,
          -0.011835620658037676,
          -0.6125980696950949,
          0.6171362973467006,
          -1.4793715674364853,
          -1.1455262902983676
         ],
         "yaxis": "y8"
        },
        {
         "line": {
          "color": "rgba(128, 128, 128, 1.0)",
          "dash": "solid",
          "shape": "linear",
          "width": 1.3
         },
         "marker": {
          "size": 2,
          "symbol": "circle"
         },
         "mode": "markers",
         "name": "C",
         "text": "",
         "type": "scatter",
         "x": [
          -0.051837791061411176,
          -0.49686287148954067,
          -2.1771515192846906,
          -0.5113732243720404,
          -0.03837284189106989,
          0.3548680089577916,
          -0.9670222154179324,
          0.48967087422011185,
          1.010118843634135,
          1.1767005716127645,
          0.6049739509700985,
          -1.2688805227873958,
          -0.02341822554535787,
          -0.8845292410026588,
          -0.11078185573420099,
          0.4450716121013818,
          -0.6524788440445956,
          0.8362365802443669,
          -0.26480206570836334,
          -0.015521473434741142,
          -0.9070581908107753,
          -0.19848188846188358,
          0.23484988589792208,
          -0.9429068811094353,
          0.33804310467588616,
          0.2231325138137817,
          1.4180751876383473,
          0.27684307950859816,
          -0.7268118558078794,
          -1.8190959116589784,
          0.8863588248415394,
          0.811407224749543,
          0.9168706533314526,
          -0.49255538436951624,
          -0.38855891112932583,
          -0.33060548677620133,
          0.22814018946691325,
          -0.06134433481792067,
          2.2699080261066835,
          -0.648450660547072,
          -0.6676597248888836,
          0.12780912335519987,
          0.26203454175511987,
          -0.5425640188515645,
          -1.7685038013335517,
          0.40968157985444253,
          -0.42445362372076917,
          -1.088382988200841,
          1.23453450356868,
          -0.3638729323339125,
          0.7811986561585942,
          -1.0258459763128092,
          -1.7662105171837867,
          0.41472993026917654,
          -0.9409427214991185,
          -2.224333425583536,
          -0.2431794109095521,
          -0.9395444396754363,
          -0.5689902576839743,
          3.044340783482019,
          1.2505474809367803,
          -1.8363813899795214,
          -1.4820530742319769,
          -0.46642801300752706,
          0.812718554669287,
          0.6645329003944418,
          0.3270216654104052,
          -0.1223759657745449,
          0.09624616022289444,
          -0.22541462588698472,
          -0.2958817575821674,
          0.2871613386480438,
          0.07953086113867225,
          0.36601957350281533,
          1.646247258053811,
          0.40813146514571574,
          0.43032791348249316,
          -0.35118667775584894,
          1.0808974968793563,
          0.4428858638821342,
          -1.276203580800424,
          -0.5670787860121267,
          0.5425648310098887,
          -2.3985130158037213,
          0.02387026311991676,
          -0.1123122571750988,
          -0.778639967616544,
          0.5459580253709689,
          1.4604660678279568,
          0.3965009201697333,
          -0.5651998505477467,
          0.3117696147066201,
          -1.5089493383412824,
          -0.28001165739536366,
          1.3072298277883696,
          -0.7487924987650352,
          -0.48883749025194284,
          -0.09653869536735393,
          0.01895917624825842,
          0.6100637239125053
         ],
         "xaxis": "x9",
         "y": [
          -0.8154929365890754,
          0.6792826710933785,
          0.824703082888759,
          0.7075762470179497,
          0.07365396278792792,
          -0.8105705063983373,
          0.13334782373413395,
          -0.02443113381127301,
          1.0536217164839008,
          -0.08342677773846315,
          -0.298493431665501,
          -2.2784790679135716,
          -1.033862408480082,
          0.8642419401735617,
          0.10085264050538734,
          0.9410010976361294,
          -0.2674685056250175,
          -0.8642828255005719,
          -0.69632068563847,
          -0.8664922439507659,
          0.6293027737635437,
          0.06050408243705343,
          1.1593542458650372,
          -0.5899162141516092,
          0.626324691115494,
          1.032168396778142,
          0.33754734882931714,
          0.18713337526897916,
          -0.17343679502919768,
          1.6286878922994552,
          0.28899545345282185,
          -1.4448313139698175,
          -0.8388221697622474,
          0.17907157837101717,
          0.32931330254002256,
          -0.9250137613019447,
          0.4935716283948479,
          0.394160237456869,
          -2.013902701361426,
          -0.2940243829919321,
          0.21586676849098707,
          0.5298064552415997,
          1.614518034961775,
          -2.270101038469866,
          1.6886601157977816,
          0.6881533447454158,
          0.25174345012722577,
          0.3378213355528154,
          0.6705698060137221,
          -0.031948036708369106,
          -0.08220382176457258,
          0.3125795749433185,
          1.5272691242267729,
          0.9718481567175451,
          -1.1274261759202133,
          0.4421452144984506,
          -0.35499216986570375,
          -0.7814438069631231,
          -0.5598770139976932,
          0.8165428868962974,
          -0.10292551612671881,
          -1.9599786743326544,
          0.47510296837616367,
          0.7328407303431982,
          -0.46872720075476854,
          1.262190459516613,
          -0.05833540902356298,
          0.11052859576117118,
          -0.5884698688701494,
          -1.2483083327623725,
          0.2066697543893116,
          0.6719817769679528,
          0.39567931062804224,
          -0.4306543072032271,
          -1.7546189253573135,
          -0.47332649862861675,
          0.6426916085977166,
          0.9633850723074893,
          -0.8770555093850285,
          -2.905161987160775,
          0.8482874475301787,
          -0.42270655290951586,
          -0.9953775484525826,
          1.3213317263108992,
          -1.4492254391520913,
          -0.09570604420631665,
          -1.4866448108202428,
          -1.4453918207614649,
          -0.07423117728993073,
          -0.9995823360214144,
          0.7388765575959787,
          -0.37297370367235766,
          -0.6659108390811059,
          -0.4651095380198942,
          -0.3160081273844198,
          -0.9815681676930179,
          0.5435691970650005,
          0.4969979391842474,
          -0.8672665672491162,
          0.44019907878237374
         ],
         "yaxis": "y9"
        },
        {
         "line": {
          "color": "rgba(128, 128, 128, 1.0)",
          "dash": "solid",
          "shape": "linear",
          "width": 1.3
         },
         "marker": {
          "size": 2,
          "symbol": "circle"
         },
         "mode": "markers",
         "name": "C",
         "text": "",
         "type": "scatter",
         "x": [
          0.3695370284703798,
          -0.8743817851595044,
          -1.5751701215297989,
          -0.5285960006848781,
          1.626477455353992,
          -2.459883081251386,
          -0.2917473650965046,
          -0.27854283712680494,
          -0.21414904709360755,
          0.05697064749512811,
          -0.11926176248256731,
          -0.7021821239487716,
          -0.24572150749364016,
          -0.14898474253809174,
          -1.3113443874376083,
          -4.167956106747543,
          0.5272200063944493,
          0.8649922158474757,
          -0.44583230013138686,
          -0.4160049037062795,
          -0.466239445185336,
          0.08377937035475586,
          0.6614591440734874,
          1.12535799467954,
          0.9567317890641305,
          1.8181135552660397,
          -0.927102989747783,
          0.44080180507522854,
          -0.06554376455534469,
          -0.2603983795904401,
          0.6333449797500809,
          -0.10072593183762651,
          -1.1133918555613957,
          -1.129529656932896,
          -0.19799900792328565,
          -0.13847772677187756,
          -0.18071833438394155,
          0.08693506582433717,
          0.4956531660302352,
          0.518581006571991,
          -0.5021690307243035,
          -0.46873614050059736,
          2.8629607999012587,
          1.1628814628174975,
          -0.10637423519170412,
          -0.5365095684859182,
          0.10172889460656297,
          0.8434298624659738,
          0.178773563424261,
          -0.8930770980031411,
          -0.528758606533394,
          -0.2566640539476154,
          -1.288023250707061,
          -0.970954446795933,
          0.6549562426168584,
          -2.3232483033711198,
          -0.11610262914757792,
          0.09858406174514805,
          0.4361663737293656,
          0.6945343333387475,
          -0.16649974364440523,
          0.8223881464101899,
          1.9482584831312117,
          0.29704791128841773,
          0.3237810004606294,
          0.544957091603034,
          -0.17353554497162008,
          -1.065684238826915,
          -0.08021988841387116,
          0.4569936193631879,
          0.6254218330930134,
          -0.08102891382823191,
          -1.0928559466028436,
          -1.3591555442045564,
          0.4577921792340458,
          0.3495884903538427,
          -1.1037616297370296,
          -1.990831617641072,
          0.6455485345946241,
          -1.5268647591648523,
          -0.46605297721767797,
          -0.019275930557890078,
          -0.34203927447449445,
          1.3673189706167137,
          0.4734388491991349,
          1.0693898450217338,
          -1.1866359358774416,
          0.012262267947191194,
          1.5134873033665468,
          1.5976790969792416,
          -0.423613673426834,
          0.06955095640490072,
          -1.1664675783266583,
          -0.6094899292030159,
          -0.7697122722341971,
          -0.011835620658037676,
          -0.6125980696950949,
          0.6171362973467006,
          -1.4793715674364853,
          -1.1455262902983676
         ],
         "xaxis": "x10",
         "y": [
          -0.8154929365890754,
          0.6792826710933785,
          0.824703082888759,
          0.7075762470179497,
          0.07365396278792792,
          -0.8105705063983373,
          0.13334782373413395,
          -0.02443113381127301,
          1.0536217164839008,
          -0.08342677773846315,
          -0.298493431665501,
          -2.2784790679135716,
          -1.033862408480082,
          0.8642419401735617,
          0.10085264050538734,
          0.9410010976361294,
          -0.2674685056250175,
          -0.8642828255005719,
          -0.69632068563847,
          -0.8664922439507659,
          0.6293027737635437,
          0.06050408243705343,
          1.1593542458650372,
          -0.5899162141516092,
          0.626324691115494,
          1.032168396778142,
          0.33754734882931714,
          0.18713337526897916,
          -0.17343679502919768,
          1.6286878922994552,
          0.28899545345282185,
          -1.4448313139698175,
          -0.8388221697622474,
          0.17907157837101717,
          0.32931330254002256,
          -0.9250137613019447,
          0.4935716283948479,
          0.394160237456869,
          -2.013902701361426,
          -0.2940243829919321,
          0.21586676849098707,
          0.5298064552415997,
          1.614518034961775,
          -2.270101038469866,
          1.6886601157977816,
          0.6881533447454158,
          0.25174345012722577,
          0.3378213355528154,
          0.6705698060137221,
          -0.031948036708369106,
          -0.08220382176457258,
          0.3125795749433185,
          1.5272691242267729,
          0.9718481567175451,
          -1.1274261759202133,
          0.4421452144984506,
          -0.35499216986570375,
          -0.7814438069631231,
          -0.5598770139976932,
          0.8165428868962974,
          -0.10292551612671881,
          -1.9599786743326544,
          0.47510296837616367,
          0.7328407303431982,
          -0.46872720075476854,
          1.262190459516613,
          -0.05833540902356298,
          0.11052859576117118,
          -0.5884698688701494,
          -1.2483083327623725,
          0.2066697543893116,
          0.6719817769679528,
          0.39567931062804224,
          -0.4306543072032271,
          -1.7546189253573135,
          -0.47332649862861675,
          0.6426916085977166,
          0.9633850723074893,
          -0.8770555093850285,
          -2.905161987160775,
          0.8482874475301787,
          -0.42270655290951586,
          -0.9953775484525826,
          1.3213317263108992,
          -1.4492254391520913,
          -0.09570604420631665,
          -1.4866448108202428,
          -1.4453918207614649,
          -0.07423117728993073,
          -0.9995823360214144,
          0.7388765575959787,
          -0.37297370367235766,
          -0.6659108390811059,
          -0.4651095380198942,
          -0.3160081273844198,
          -0.9815681676930179,
          0.5435691970650005,
          0.4969979391842474,
          -0.8672665672491162,
          0.44019907878237374
         ],
         "yaxis": "y10"
        },
        {
         "histfunc": "count",
         "histnorm": "",
         "marker": {
          "color": "rgba(50, 171, 96, 1.0)",
          "line": {
           "color": "#4D5663",
           "width": 1.3
          }
         },
         "name": "C",
         "nbinsx": 10,
         "opacity": 0.8,
         "orientation": "v",
         "type": "histogram",
         "x": [
          -0.8154929365890754,
          0.6792826710933785,
          0.824703082888759,
          0.7075762470179497,
          0.07365396278792792,
          -0.8105705063983373,
          0.13334782373413395,
          -0.02443113381127301,
          1.0536217164839008,
          -0.08342677773846315,
          -0.298493431665501,
          -2.2784790679135716,
          -1.033862408480082,
          0.8642419401735617,
          0.10085264050538734,
          0.9410010976361294,
          -0.2674685056250175,
          -0.8642828255005719,
          -0.69632068563847,
          -0.8664922439507659,
          0.6293027737635437,
          0.06050408243705343,
          1.1593542458650372,
          -0.5899162141516092,
          0.626324691115494,
          1.032168396778142,
          0.33754734882931714,
          0.18713337526897916,
          -0.17343679502919768,
          1.6286878922994552,
          0.28899545345282185,
          -1.4448313139698175,
          -0.8388221697622474,
          0.17907157837101717,
          0.32931330254002256,
          -0.9250137613019447,
          0.4935716283948479,
          0.394160237456869,
          -2.013902701361426,
          -0.2940243829919321,
          0.21586676849098707,
          0.5298064552415997,
          1.614518034961775,
          -2.270101038469866,
          1.6886601157977816,
          0.6881533447454158,
          0.25174345012722577,
          0.3378213355528154,
          0.6705698060137221,
          -0.031948036708369106,
          -0.08220382176457258,
          0.3125795749433185,
          1.5272691242267729,
          0.9718481567175451,
          -1.1274261759202133,
          0.4421452144984506,
          -0.35499216986570375,
          -0.7814438069631231,
          -0.5598770139976932,
          0.8165428868962974,
          -0.10292551612671881,
          -1.9599786743326544,
          0.47510296837616367,
          0.7328407303431982,
          -0.46872720075476854,
          1.262190459516613,
          -0.05833540902356298,
          0.11052859576117118,
          -0.5884698688701494,
          -1.2483083327623725,
          0.2066697543893116,
          0.6719817769679528,
          0.39567931062804224,
          -0.4306543072032271,
          -1.7546189253573135,
          -0.47332649862861675,
          0.6426916085977166,
          0.9633850723074893,
          -0.8770555093850285,
          -2.905161987160775,
          0.8482874475301787,
          -0.42270655290951586,
          -0.9953775484525826,
          1.3213317263108992,
          -1.4492254391520913,
          -0.09570604420631665,
          -1.4866448108202428,
          -1.4453918207614649,
          -0.07423117728993073,
          -0.9995823360214144,
          0.7388765575959787,
          -0.37297370367235766,
          -0.6659108390811059,
          -0.4651095380198942,
          -0.3160081273844198,
          -0.9815681676930179,
          0.5435691970650005,
          0.4969979391842474,
          -0.8672665672491162,
          0.44019907878237374
         ],
         "xaxis": "x11",
         "yaxis": "y11"
        },
        {
         "line": {
          "color": "rgba(128, 128, 128, 1.0)",
          "dash": "solid",
          "shape": "linear",
          "width": 1.3
         },
         "marker": {
          "size": 2,
          "symbol": "circle"
         },
         "mode": "markers",
         "name": "C",
         "text": "",
         "type": "scatter",
         "x": [
          1.2822550062316957,
          0.40055323573444107,
          1.787307135006294,
          1.7221907799186702,
          -0.33012384630410374,
          0.5015771873657603,
          -0.2473547725963533,
          -0.0640547215064039,
          -1.2688345257971019,
          0.7944394500612837,
          -0.3464648964452649,
          0.3724309331099352,
          0.4334063357163549,
          -0.7803152729518554,
          -0.15256826965799988,
          0.9860346107050248,
          -0.013657624655136605,
          -0.4302458835164767,
          0.08742528916803126,
          0.519209084088822,
          0.6982718270826062,
          -0.19695824668480003,
          0.7343656222610719,
          0.9842019036477565,
          0.5451772059859311,
          -0.24858903661320736,
          -0.7824188710943614,
          1.1640797041445852,
          0.15329927658788975,
          -0.09114867065191426,
          0.5534416427041143,
          0.6946738238910318,
          0.20194117504756964,
          -0.35896270465549474,
          1.0906445557163424,
          -0.2824539228891635,
          1.1233705548985673,
          0.9589648047845943,
          0.2754236452464434,
          -1.0603397442196445,
          -0.2256360884092571,
          0.8603631910291578,
          0.1747665131819617,
          0.8597007906478508,
          -0.4947516166827669,
          1.24843889390558,
          0.5676592941056465,
          -0.5409291274871663,
          -0.043153913618455345,
          1.5573689209796098,
          -0.7637023855934686,
          0.7268950799090498,
          -0.48806830712512594,
          0.3432994768634184,
          -0.6239399075477323,
          -0.8508008791939529,
          -0.5373137821388475,
          0.41568614809700694,
          -1.0649642415638567,
          0.14383644256798317,
          -1.8054575468622778,
          0.7519404686581771,
          -0.4669308726577494,
          2.2686409521408586,
          1.9162386285954347,
          -0.5210201624771259,
          -2.2616201473779607,
          -0.3441027012451506,
          -1.403557990210369,
          -0.09748187365174565,
          0.30996784622566304,
          -0.30719849294978363,
          -0.5164850226458253,
          2.069020581536834,
          -0.3683269178730194,
          -0.16538567091528325,
          -1.3502023312974114,
          0.03029806499858065,
          -0.2854438445079592,
          -0.33348005450209356,
          -0.8087196832418141,
          2.7578216244376583,
          1.3775591992462703,
          1.1445203631577308,
          -1.1319746537803164,
          1.2151819805491515,
          -1.0214125872731903,
          0.542764965117343,
          0.8186438869989077,
          1.9598102601770646,
          1.5098606557031709,
          1.3644224942264092,
          -0.4907462799383518,
          0.7910265512352088,
          0.5886869733598117,
          -1.0582675744202503,
          1.3505249560880823,
          0.7928774939813371,
          0.5393622371005773,
          -1.4353470328033175
         ],
         "xaxis": "x12",
         "y": [
          -0.8154929365890754,
          0.6792826710933785,
          0.824703082888759,
          0.7075762470179497,
          0.07365396278792792,
          -0.8105705063983373,
          0.13334782373413395,
          -0.02443113381127301,
          1.0536217164839008,
          -0.08342677773846315,
          -0.298493431665501,
          -2.2784790679135716,
          -1.033862408480082,
          0.8642419401735617,
          0.10085264050538734,
          0.9410010976361294,
          -0.2674685056250175,
          -0.8642828255005719,
          -0.69632068563847,
          -0.8664922439507659,
          0.6293027737635437,
          0.06050408243705343,
          1.1593542458650372,
          -0.5899162141516092,
          0.626324691115494,
          1.032168396778142,
          0.33754734882931714,
          0.18713337526897916,
          -0.17343679502919768,
          1.6286878922994552,
          0.28899545345282185,
          -1.4448313139698175,
          -0.8388221697622474,
          0.17907157837101717,
          0.32931330254002256,
          -0.9250137613019447,
          0.4935716283948479,
          0.394160237456869,
          -2.013902701361426,
          -0.2940243829919321,
          0.21586676849098707,
          0.5298064552415997,
          1.614518034961775,
          -2.270101038469866,
          1.6886601157977816,
          0.6881533447454158,
          0.25174345012722577,
          0.3378213355528154,
          0.6705698060137221,
          -0.031948036708369106,
          -0.08220382176457258,
          0.3125795749433185,
          1.5272691242267729,
          0.9718481567175451,
          -1.1274261759202133,
          0.4421452144984506,
          -0.35499216986570375,
          -0.7814438069631231,
          -0.5598770139976932,
          0.8165428868962974,
          -0.10292551612671881,
          -1.9599786743326544,
          0.47510296837616367,
          0.7328407303431982,
          -0.46872720075476854,
          1.262190459516613,
          -0.05833540902356298,
          0.11052859576117118,
          -0.5884698688701494,
          -1.2483083327623725,
          0.2066697543893116,
          0.6719817769679528,
          0.39567931062804224,
          -0.4306543072032271,
          -1.7546189253573135,
          -0.47332649862861675,
          0.6426916085977166,
          0.9633850723074893,
          -0.8770555093850285,
          -2.905161987160775,
          0.8482874475301787,
          -0.42270655290951586,
          -0.9953775484525826,
          1.3213317263108992,
          -1.4492254391520913,
          -0.09570604420631665,
          -1.4866448108202428,
          -1.4453918207614649,
          -0.07423117728993073,
          -0.9995823360214144,
          0.7388765575959787,
          -0.37297370367235766,
          -0.6659108390811059,
          -0.4651095380198942,
          -0.3160081273844198,
          -0.9815681676930179,
          0.5435691970650005,
          0.4969979391842474,
          -0.8672665672491162,
          0.44019907878237374
         ],
         "yaxis": "y12"
        },
        {
         "line": {
          "color": "rgba(128, 128, 128, 1.0)",
          "dash": "solid",
          "shape": "linear",
          "width": 1.3
         },
         "marker": {
          "size": 2,
          "symbol": "circle"
         },
         "mode": "markers",
         "name": "D",
         "text": "",
         "type": "scatter",
         "x": [
          -0.051837791061411176,
          -0.49686287148954067,
          -2.1771515192846906,
          -0.5113732243720404,
          -0.03837284189106989,
          0.3548680089577916,
          -0.9670222154179324,
          0.48967087422011185,
          1.010118843634135,
          1.1767005716127645,
          0.6049739509700985,
          -1.2688805227873958,
          -0.02341822554535787,
          -0.8845292410026588,
          -0.11078185573420099,
          0.4450716121013818,
          -0.6524788440445956,
          0.8362365802443669,
          -0.26480206570836334,
          -0.015521473434741142,
          -0.9070581908107753,
          -0.19848188846188358,
          0.23484988589792208,
          -0.9429068811094353,
          0.33804310467588616,
          0.2231325138137817,
          1.4180751876383473,
          0.27684307950859816,
          -0.7268118558078794,
          -1.8190959116589784,
          0.8863588248415394,
          0.811407224749543,
          0.9168706533314526,
          -0.49255538436951624,
          -0.38855891112932583,
          -0.33060548677620133,
          0.22814018946691325,
          -0.06134433481792067,
          2.2699080261066835,
          -0.648450660547072,
          -0.6676597248888836,
          0.12780912335519987,
          0.26203454175511987,
          -0.5425640188515645,
          -1.7685038013335517,
          0.40968157985444253,
          -0.42445362372076917,
          -1.088382988200841,
          1.23453450356868,
          -0.3638729323339125,
          0.7811986561585942,
          -1.0258459763128092,
          -1.7662105171837867,
          0.41472993026917654,
          -0.9409427214991185,
          -2.224333425583536,
          -0.2431794109095521,
          -0.9395444396754363,
          -0.5689902576839743,
          3.044340783482019,
          1.2505474809367803,
          -1.8363813899795214,
          -1.4820530742319769,
          -0.46642801300752706,
          0.812718554669287,
          0.6645329003944418,
          0.3270216654104052,
          -0.1223759657745449,
          0.09624616022289444,
          -0.22541462588698472,
          -0.2958817575821674,
          0.2871613386480438,
          0.07953086113867225,
          0.36601957350281533,
          1.646247258053811,
          0.40813146514571574,
          0.43032791348249316,
          -0.35118667775584894,
          1.0808974968793563,
          0.4428858638821342,
          -1.276203580800424,
          -0.5670787860121267,
          0.5425648310098887,
          -2.3985130158037213,
          0.02387026311991676,
          -0.1123122571750988,
          -0.778639967616544,
          0.5459580253709689,
          1.4604660678279568,
          0.3965009201697333,
          -0.5651998505477467,
          0.3117696147066201,
          -1.5089493383412824,
          -0.28001165739536366,
          1.3072298277883696,
          -0.7487924987650352,
          -0.48883749025194284,
          -0.09653869536735393,
          0.01895917624825842,
          0.6100637239125053
         ],
         "xaxis": "x13",
         "y": [
          1.2822550062316957,
          0.40055323573444107,
          1.787307135006294,
          1.7221907799186702,
          -0.33012384630410374,
          0.5015771873657603,
          -0.2473547725963533,
          -0.0640547215064039,
          -1.2688345257971019,
          0.7944394500612837,
          -0.3464648964452649,
          0.3724309331099352,
          0.4334063357163549,
          -0.7803152729518554,
          -0.15256826965799988,
          0.9860346107050248,
          -0.013657624655136605,
          -0.4302458835164767,
          0.08742528916803126,
          0.519209084088822,
          0.6982718270826062,
          -0.19695824668480003,
          0.7343656222610719,
          0.9842019036477565,
          0.5451772059859311,
          -0.24858903661320736,
          -0.7824188710943614,
          1.1640797041445852,
          0.15329927658788975,
          -0.09114867065191426,
          0.5534416427041143,
          0.6946738238910318,
          0.20194117504756964,
          -0.35896270465549474,
          1.0906445557163424,
          -0.2824539228891635,
          1.1233705548985673,
          0.9589648047845943,
          0.2754236452464434,
          -1.0603397442196445,
          -0.2256360884092571,
          0.8603631910291578,
          0.1747665131819617,
          0.8597007906478508,
          -0.4947516166827669,
          1.24843889390558,
          0.5676592941056465,
          -0.5409291274871663,
          -0.043153913618455345,
          1.5573689209796098,
          -0.7637023855934686,
          0.7268950799090498,
          -0.48806830712512594,
          0.3432994768634184,
          -0.6239399075477323,
          -0.8508008791939529,
          -0.5373137821388475,
          0.41568614809700694,
          -1.0649642415638567,
          0.14383644256798317,
          -1.8054575468622778,
          0.7519404686581771,
          -0.4669308726577494,
          2.2686409521408586,
          1.9162386285954347,
          -0.5210201624771259,
          -2.2616201473779607,
          -0.3441027012451506,
          -1.403557990210369,
          -0.09748187365174565,
          0.30996784622566304,
          -0.30719849294978363,
          -0.5164850226458253,
          2.069020581536834,
          -0.3683269178730194,
          -0.16538567091528325,
          -1.3502023312974114,
          0.03029806499858065,
          -0.2854438445079592,
          -0.33348005450209356,
          -0.8087196832418141,
          2.7578216244376583,
          1.3775591992462703,
          1.1445203631577308,
          -1.1319746537803164,
          1.2151819805491515,
          -1.0214125872731903,
          0.542764965117343,
          0.8186438869989077,
          1.9598102601770646,
          1.5098606557031709,
          1.3644224942264092,
          -0.4907462799383518,
          0.7910265512352088,
          0.5886869733598117,
          -1.0582675744202503,
          1.3505249560880823,
          0.7928774939813371,
          0.5393622371005773,
          -1.4353470328033175
         ],
         "yaxis": "y13"
        },
        {
         "line": {
          "color": "rgba(128, 128, 128, 1.0)",
          "dash": "solid",
          "shape": "linear",
          "width": 1.3
         },
         "marker": {
          "size": 2,
          "symbol": "circle"
         },
         "mode": "markers",
         "name": "D",
         "text": "",
         "type": "scatter",
         "x": [
          0.3695370284703798,
          -0.8743817851595044,
          -1.5751701215297989,
          -0.5285960006848781,
          1.626477455353992,
          -2.459883081251386,
          -0.2917473650965046,
          -0.27854283712680494,
          -0.21414904709360755,
          0.05697064749512811,
          -0.11926176248256731,
          -0.7021821239487716,
          -0.24572150749364016,
          -0.14898474253809174,
          -1.3113443874376083,
          -4.167956106747543,
          0.5272200063944493,
          0.8649922158474757,
          -0.44583230013138686,
          -0.4160049037062795,
          -0.466239445185336,
          0.08377937035475586,
          0.6614591440734874,
          1.12535799467954,
          0.9567317890641305,
          1.8181135552660397,
          -0.927102989747783,
          0.44080180507522854,
          -0.06554376455534469,
          -0.2603983795904401,
          0.6333449797500809,
          -0.10072593183762651,
          -1.1133918555613957,
          -1.129529656932896,
          -0.19799900792328565,
          -0.13847772677187756,
          -0.18071833438394155,
          0.08693506582433717,
          0.4956531660302352,
          0.518581006571991,
          -0.5021690307243035,
          -0.46873614050059736,
          2.8629607999012587,
          1.1628814628174975,
          -0.10637423519170412,
          -0.5365095684859182,
          0.10172889460656297,
          0.8434298624659738,
          0.178773563424261,
          -0.8930770980031411,
          -0.528758606533394,
          -0.2566640539476154,
          -1.288023250707061,
          -0.970954446795933,
          0.6549562426168584,
          -2.3232483033711198,
          -0.11610262914757792,
          0.09858406174514805,
          0.4361663737293656,
          0.6945343333387475,
          -0.16649974364440523,
          0.8223881464101899,
          1.9482584831312117,
          0.29704791128841773,
          0.3237810004606294,
          0.544957091603034,
          -0.17353554497162008,
          -1.065684238826915,
          -0.08021988841387116,
          0.4569936193631879,
          0.6254218330930134,
          -0.08102891382823191,
          -1.0928559466028436,
          -1.3591555442045564,
          0.4577921792340458,
          0.3495884903538427,
          -1.1037616297370296,
          -1.990831617641072,
          0.6455485345946241,
          -1.5268647591648523,
          -0.46605297721767797,
          -0.019275930557890078,
          -0.34203927447449445,
          1.3673189706167137,
          0.4734388491991349,
          1.0693898450217338,
          -1.1866359358774416,
          0.012262267947191194,
          1.5134873033665468,
          1.5976790969792416,
          -0.423613673426834,
          0.06955095640490072,
          -1.1664675783266583,
          -0.6094899292030159,
          -0.7697122722341971,
          -0.011835620658037676,
          -0.6125980696950949,
          0.6171362973467006,
          -1.4793715674364853,
          -1.1455262902983676
         ],
         "xaxis": "x14",
         "y": [
          1.2822550062316957,
          0.40055323573444107,
          1.787307135006294,
          1.7221907799186702,
          -0.33012384630410374,
          0.5015771873657603,
          -0.2473547725963533,
          -0.0640547215064039,
          -1.2688345257971019,
          0.7944394500612837,
          -0.3464648964452649,
          0.3724309331099352,
          0.4334063357163549,
          -0.7803152729518554,
          -0.15256826965799988,
          0.9860346107050248,
          -0.013657624655136605,
          -0.4302458835164767,
          0.08742528916803126,
          0.519209084088822,
          0.6982718270826062,
          -0.19695824668480003,
          0.7343656222610719,
          0.9842019036477565,
          0.5451772059859311,
          -0.24858903661320736,
          -0.7824188710943614,
          1.1640797041445852,
          0.15329927658788975,
          -0.09114867065191426,
          0.5534416427041143,
          0.6946738238910318,
          0.20194117504756964,
          -0.35896270465549474,
          1.0906445557163424,
          -0.2824539228891635,
          1.1233705548985673,
          0.9589648047845943,
          0.2754236452464434,
          -1.0603397442196445,
          -0.2256360884092571,
          0.8603631910291578,
          0.1747665131819617,
          0.8597007906478508,
          -0.4947516166827669,
          1.24843889390558,
          0.5676592941056465,
          -0.5409291274871663,
          -0.043153913618455345,
          1.5573689209796098,
          -0.7637023855934686,
          0.7268950799090498,
          -0.48806830712512594,
          0.3432994768634184,
          -0.6239399075477323,
          -0.8508008791939529,
          -0.5373137821388475,
          0.41568614809700694,
          -1.0649642415638567,
          0.14383644256798317,
          -1.8054575468622778,
          0.7519404686581771,
          -0.4669308726577494,
          2.2686409521408586,
          1.9162386285954347,
          -0.5210201624771259,
          -2.2616201473779607,
          -0.3441027012451506,
          -1.403557990210369,
          -0.09748187365174565,
          0.30996784622566304,
          -0.30719849294978363,
          -0.5164850226458253,
          2.069020581536834,
          -0.3683269178730194,
          -0.16538567091528325,
          -1.3502023312974114,
          0.03029806499858065,
          -0.2854438445079592,
          -0.33348005450209356,
          -0.8087196832418141,
          2.7578216244376583,
          1.3775591992462703,
          1.1445203631577308,
          -1.1319746537803164,
          1.2151819805491515,
          -1.0214125872731903,
          0.542764965117343,
          0.8186438869989077,
          1.9598102601770646,
          1.5098606557031709,
          1.3644224942264092,
          -0.4907462799383518,
          0.7910265512352088,
          0.5886869733598117,
          -1.0582675744202503,
          1.3505249560880823,
          0.7928774939813371,
          0.5393622371005773,
          -1.4353470328033175
         ],
         "yaxis": "y14"
        },
        {
         "line": {
          "color": "rgba(128, 128, 128, 1.0)",
          "dash": "solid",
          "shape": "linear",
          "width": 1.3
         },
         "marker": {
          "size": 2,
          "symbol": "circle"
         },
         "mode": "markers",
         "name": "D",
         "text": "",
         "type": "scatter",
         "x": [
          -0.8154929365890754,
          0.6792826710933785,
          0.824703082888759,
          0.7075762470179497,
          0.07365396278792792,
          -0.8105705063983373,
          0.13334782373413395,
          -0.02443113381127301,
          1.0536217164839008,
          -0.08342677773846315,
          -0.298493431665501,
          -2.2784790679135716,
          -1.033862408480082,
          0.8642419401735617,
          0.10085264050538734,
          0.9410010976361294,
          -0.2674685056250175,
          -0.8642828255005719,
          -0.69632068563847,
          -0.8664922439507659,
          0.6293027737635437,
          0.06050408243705343,
          1.1593542458650372,
          -0.5899162141516092,
          0.626324691115494,
          1.032168396778142,
          0.33754734882931714,
          0.18713337526897916,
          -0.17343679502919768,
          1.6286878922994552,
          0.28899545345282185,
          -1.4448313139698175,
          -0.8388221697622474,
          0.17907157837101717,
          0.32931330254002256,
          -0.9250137613019447,
          0.4935716283948479,
          0.394160237456869,
          -2.013902701361426,
          -0.2940243829919321,
          0.21586676849098707,
          0.5298064552415997,
          1.614518034961775,
          -2.270101038469866,
          1.6886601157977816,
          0.6881533447454158,
          0.25174345012722577,
          0.3378213355528154,
          0.6705698060137221,
          -0.031948036708369106,
          -0.08220382176457258,
          0.3125795749433185,
          1.5272691242267729,
          0.9718481567175451,
          -1.1274261759202133,
          0.4421452144984506,
          -0.35499216986570375,
          -0.7814438069631231,
          -0.5598770139976932,
          0.8165428868962974,
          -0.10292551612671881,
          -1.9599786743326544,
          0.47510296837616367,
          0.7328407303431982,
          -0.46872720075476854,
          1.262190459516613,
          -0.05833540902356298,
          0.11052859576117118,
          -0.5884698688701494,
          -1.2483083327623725,
          0.2066697543893116,
          0.6719817769679528,
          0.39567931062804224,
          -0.4306543072032271,
          -1.7546189253573135,
          -0.47332649862861675,
          0.6426916085977166,
          0.9633850723074893,
          -0.8770555093850285,
          -2.905161987160775,
          0.8482874475301787,
          -0.42270655290951586,
          -0.9953775484525826,
          1.3213317263108992,
          -1.4492254391520913,
          -0.09570604420631665,
          -1.4866448108202428,
          -1.4453918207614649,
          -0.07423117728993073,
          -0.9995823360214144,
          0.7388765575959787,
          -0.37297370367235766,
          -0.6659108390811059,
          -0.4651095380198942,
          -0.3160081273844198,
          -0.9815681676930179,
          0.5435691970650005,
          0.4969979391842474,
          -0.8672665672491162,
          0.44019907878237374
         ],
         "xaxis": "x15",
         "y": [
          1.2822550062316957,
          0.40055323573444107,
          1.787307135006294,
          1.7221907799186702,
          -0.33012384630410374,
          0.5015771873657603,
          -0.2473547725963533,
          -0.0640547215064039,
          -1.2688345257971019,
          0.7944394500612837,
          -0.3464648964452649,
          0.3724309331099352,
          0.4334063357163549,
          -0.7803152729518554,
          -0.15256826965799988,
          0.9860346107050248,
          -0.013657624655136605,
          -0.4302458835164767,
          0.08742528916803126,
          0.519209084088822,
          0.6982718270826062,
          -0.19695824668480003,
          0.7343656222610719,
          0.9842019036477565,
          0.5451772059859311,
          -0.24858903661320736,
          -0.7824188710943614,
          1.1640797041445852,
          0.15329927658788975,
          -0.09114867065191426,
          0.5534416427041143,
          0.6946738238910318,
          0.20194117504756964,
          -0.35896270465549474,
          1.0906445557163424,
          -0.2824539228891635,
          1.1233705548985673,
          0.9589648047845943,
          0.2754236452464434,
          -1.0603397442196445,
          -0.2256360884092571,
          0.8603631910291578,
          0.1747665131819617,
          0.8597007906478508,
          -0.4947516166827669,
          1.24843889390558,
          0.5676592941056465,
          -0.5409291274871663,
          -0.043153913618455345,
          1.5573689209796098,
          -0.7637023855934686,
          0.7268950799090498,
          -0.48806830712512594,
          0.3432994768634184,
          -0.6239399075477323,
          -0.8508008791939529,
          -0.5373137821388475,
          0.41568614809700694,
          -1.0649642415638567,
          0.14383644256798317,
          -1.8054575468622778,
          0.7519404686581771,
          -0.4669308726577494,
          2.2686409521408586,
          1.9162386285954347,
          -0.5210201624771259,
          -2.2616201473779607,
          -0.3441027012451506,
          -1.403557990210369,
          -0.09748187365174565,
          0.30996784622566304,
          -0.30719849294978363,
          -0.5164850226458253,
          2.069020581536834,
          -0.3683269178730194,
          -0.16538567091528325,
          -1.3502023312974114,
          0.03029806499858065,
          -0.2854438445079592,
          -0.33348005450209356,
          -0.8087196832418141,
          2.7578216244376583,
          1.3775591992462703,
          1.1445203631577308,
          -1.1319746537803164,
          1.2151819805491515,
          -1.0214125872731903,
          0.542764965117343,
          0.8186438869989077,
          1.9598102601770646,
          1.5098606557031709,
          1.3644224942264092,
          -0.4907462799383518,
          0.7910265512352088,
          0.5886869733598117,
          -1.0582675744202503,
          1.3505249560880823,
          0.7928774939813371,
          0.5393622371005773,
          -1.4353470328033175
         ],
         "yaxis": "y15"
        },
        {
         "histfunc": "count",
         "histnorm": "",
         "marker": {
          "color": "rgba(128, 0, 128, 1.0)",
          "line": {
           "color": "#4D5663",
           "width": 1.3
          }
         },
         "name": "D",
         "nbinsx": 10,
         "opacity": 0.8,
         "orientation": "v",
         "type": "histogram",
         "x": [
          1.2822550062316957,
          0.40055323573444107,
          1.787307135006294,
          1.7221907799186702,
          -0.33012384630410374,
          0.5015771873657603,
          -0.2473547725963533,
          -0.0640547215064039,
          -1.2688345257971019,
          0.7944394500612837,
          -0.3464648964452649,
          0.3724309331099352,
          0.4334063357163549,
          -0.7803152729518554,
          -0.15256826965799988,
          0.9860346107050248,
          -0.013657624655136605,
          -0.4302458835164767,
          0.08742528916803126,
          0.519209084088822,
          0.6982718270826062,
          -0.19695824668480003,
          0.7343656222610719,
          0.9842019036477565,
          0.5451772059859311,
          -0.24858903661320736,
          -0.7824188710943614,
          1.1640797041445852,
          0.15329927658788975,
          -0.09114867065191426,
          0.5534416427041143,
          0.6946738238910318,
          0.20194117504756964,
          -0.35896270465549474,
          1.0906445557163424,
          -0.2824539228891635,
          1.1233705548985673,
          0.9589648047845943,
          0.2754236452464434,
          -1.0603397442196445,
          -0.2256360884092571,
          0.8603631910291578,
          0.1747665131819617,
          0.8597007906478508,
          -0.4947516166827669,
          1.24843889390558,
          0.5676592941056465,
          -0.5409291274871663,
          -0.043153913618455345,
          1.5573689209796098,
          -0.7637023855934686,
          0.7268950799090498,
          -0.48806830712512594,
          0.3432994768634184,
          -0.6239399075477323,
          -0.8508008791939529,
          -0.5373137821388475,
          0.41568614809700694,
          -1.0649642415638567,
          0.14383644256798317,
          -1.8054575468622778,
          0.7519404686581771,
          -0.4669308726577494,
          2.2686409521408586,
          1.9162386285954347,
          -0.5210201624771259,
          -2.2616201473779607,
          -0.3441027012451506,
          -1.403557990210369,
          -0.09748187365174565,
          0.30996784622566304,
          -0.30719849294978363,
          -0.5164850226458253,
          2.069020581536834,
          -0.3683269178730194,
          -0.16538567091528325,
          -1.3502023312974114,
          0.03029806499858065,
          -0.2854438445079592,
          -0.33348005450209356,
          -0.8087196832418141,
          2.7578216244376583,
          1.3775591992462703,
          1.1445203631577308,
          -1.1319746537803164,
          1.2151819805491515,
          -1.0214125872731903,
          0.542764965117343,
          0.8186438869989077,
          1.9598102601770646,
          1.5098606557031709,
          1.3644224942264092,
          -0.4907462799383518,
          0.7910265512352088,
          0.5886869733598117,
          -1.0582675744202503,
          1.3505249560880823,
          0.7928774939813371,
          0.5393622371005773,
          -1.4353470328033175
         ],
         "xaxis": "x16",
         "yaxis": "y16"
        }
       ],
       "layout": {
        "bargap": 0.02,
        "legend": {
         "bgcolor": "#F5F6F9",
         "font": {
          "color": "#4D5663"
         }
        },
        "paper_bgcolor": "#F5F6F9",
        "plot_bgcolor": "#F5F6F9",
        "showlegend": false,
        "template": {
         "data": {
          "bar": [
           {
            "error_x": {
             "color": "#2a3f5f"
            },
            "error_y": {
             "color": "#2a3f5f"
            },
            "marker": {
             "line": {
              "color": "#E5ECF6",
              "width": 0.5
             }
            },
            "type": "bar"
           }
          ],
          "barpolar": [
           {
            "marker": {
             "line": {
              "color": "#E5ECF6",
              "width": 0.5
             }
            },
            "type": "barpolar"
           }
          ],
          "carpet": [
           {
            "aaxis": {
             "endlinecolor": "#2a3f5f",
             "gridcolor": "white",
             "linecolor": "white",
             "minorgridcolor": "white",
             "startlinecolor": "#2a3f5f"
            },
            "baxis": {
             "endlinecolor": "#2a3f5f",
             "gridcolor": "white",
             "linecolor": "white",
             "minorgridcolor": "white",
             "startlinecolor": "#2a3f5f"
            },
            "type": "carpet"
           }
          ],
          "choropleth": [
           {
            "colorbar": {
             "outlinewidth": 0,
             "ticks": ""
            },
            "type": "choropleth"
           }
          ],
          "contour": [
           {
            "colorbar": {
             "outlinewidth": 0,
             "ticks": ""
            },
            "colorscale": [
             [
              0,
              "#0d0887"
             ],
             [
              0.1111111111111111,
              "#46039f"
             ],
             [
              0.2222222222222222,
              "#7201a8"
             ],
             [
              0.3333333333333333,
              "#9c179e"
             ],
             [
              0.4444444444444444,
              "#bd3786"
             ],
             [
              0.5555555555555556,
              "#d8576b"
             ],
             [
              0.6666666666666666,
              "#ed7953"
             ],
             [
              0.7777777777777778,
              "#fb9f3a"
             ],
             [
              0.8888888888888888,
              "#fdca26"
             ],
             [
              1,
              "#f0f921"
             ]
            ],
            "type": "contour"
           }
          ],
          "contourcarpet": [
           {
            "colorbar": {
             "outlinewidth": 0,
             "ticks": ""
            },
            "type": "contourcarpet"
           }
          ],
          "heatmap": [
           {
            "colorbar": {
             "outlinewidth": 0,
             "ticks": ""
            },
            "colorscale": [
             [
              0,
              "#0d0887"
             ],
             [
              0.1111111111111111,
              "#46039f"
             ],
             [
              0.2222222222222222,
              "#7201a8"
             ],
             [
              0.3333333333333333,
              "#9c179e"
             ],
             [
              0.4444444444444444,
              "#bd3786"
             ],
             [
              0.5555555555555556,
              "#d8576b"
             ],
             [
              0.6666666666666666,
              "#ed7953"
             ],
             [
              0.7777777777777778,
              "#fb9f3a"
             ],
             [
              0.8888888888888888,
              "#fdca26"
             ],
             [
              1,
              "#f0f921"
             ]
            ],
            "type": "heatmap"
           }
          ],
          "heatmapgl": [
           {
            "colorbar": {
             "outlinewidth": 0,
             "ticks": ""
            },
            "colorscale": [
             [
              0,
              "#0d0887"
             ],
             [
              0.1111111111111111,
              "#46039f"
             ],
             [
              0.2222222222222222,
              "#7201a8"
             ],
             [
              0.3333333333333333,
              "#9c179e"
             ],
             [
              0.4444444444444444,
              "#bd3786"
             ],
             [
              0.5555555555555556,
              "#d8576b"
             ],
             [
              0.6666666666666666,
              "#ed7953"
             ],
             [
              0.7777777777777778,
              "#fb9f3a"
             ],
             [
              0.8888888888888888,
              "#fdca26"
             ],
             [
              1,
              "#f0f921"
             ]
            ],
            "type": "heatmapgl"
           }
          ],
          "histogram": [
           {
            "marker": {
             "colorbar": {
              "outlinewidth": 0,
              "ticks": ""
             }
            },
            "type": "histogram"
           }
          ],
          "histogram2d": [
           {
            "colorbar": {
             "outlinewidth": 0,
             "ticks": ""
            },
            "colorscale": [
             [
              0,
              "#0d0887"
             ],
             [
              0.1111111111111111,
              "#46039f"
             ],
             [
              0.2222222222222222,
              "#7201a8"
             ],
             [
              0.3333333333333333,
              "#9c179e"
             ],
             [
              0.4444444444444444,
              "#bd3786"
             ],
             [
              0.5555555555555556,
              "#d8576b"
             ],
             [
              0.6666666666666666,
              "#ed7953"
             ],
             [
              0.7777777777777778,
              "#fb9f3a"
             ],
             [
              0.8888888888888888,
              "#fdca26"
             ],
             [
              1,
              "#f0f921"
             ]
            ],
            "type": "histogram2d"
           }
          ],
          "histogram2dcontour": [
           {
            "colorbar": {
             "outlinewidth": 0,
             "ticks": ""
            },
            "colorscale": [
             [
              0,
              "#0d0887"
             ],
             [
              0.1111111111111111,
              "#46039f"
             ],
             [
              0.2222222222222222,
              "#7201a8"
             ],
             [
              0.3333333333333333,
              "#9c179e"
             ],
             [
              0.4444444444444444,
              "#bd3786"
             ],
             [
              0.5555555555555556,
              "#d8576b"
             ],
             [
              0.6666666666666666,
              "#ed7953"
             ],
             [
              0.7777777777777778,
              "#fb9f3a"
             ],
             [
              0.8888888888888888,
              "#fdca26"
             ],
             [
              1,
              "#f0f921"
             ]
            ],
            "type": "histogram2dcontour"
           }
          ],
          "mesh3d": [
           {
            "colorbar": {
             "outlinewidth": 0,
             "ticks": ""
            },
            "type": "mesh3d"
           }
          ],
          "parcoords": [
           {
            "line": {
             "colorbar": {
              "outlinewidth": 0,
              "ticks": ""
             }
            },
            "type": "parcoords"
           }
          ],
          "pie": [
           {
            "automargin": true,
            "type": "pie"
           }
          ],
          "scatter": [
           {
            "marker": {
             "colorbar": {
              "outlinewidth": 0,
              "ticks": ""
             }
            },
            "type": "scatter"
           }
          ],
          "scatter3d": [
           {
            "line": {
             "colorbar": {
              "outlinewidth": 0,
              "ticks": ""
             }
            },
            "marker": {
             "colorbar": {
              "outlinewidth": 0,
              "ticks": ""
             }
            },
            "type": "scatter3d"
           }
          ],
          "scattercarpet": [
           {
            "marker": {
             "colorbar": {
              "outlinewidth": 0,
              "ticks": ""
             }
            },
            "type": "scattercarpet"
           }
          ],
          "scattergeo": [
           {
            "marker": {
             "colorbar": {
              "outlinewidth": 0,
              "ticks": ""
             }
            },
            "type": "scattergeo"
           }
          ],
          "scattergl": [
           {
            "marker": {
             "colorbar": {
              "outlinewidth": 0,
              "ticks": ""
             }
            },
            "type": "scattergl"
           }
          ],
          "scattermapbox": [
           {
            "marker": {
             "colorbar": {
              "outlinewidth": 0,
              "ticks": ""
             }
            },
            "type": "scattermapbox"
           }
          ],
          "scatterpolar": [
           {
            "marker": {
             "colorbar": {
              "outlinewidth": 0,
              "ticks": ""
             }
            },
            "type": "scatterpolar"
           }
          ],
          "scatterpolargl": [
           {
            "marker": {
             "colorbar": {
              "outlinewidth": 0,
              "ticks": ""
             }
            },
            "type": "scatterpolargl"
           }
          ],
          "scatterternary": [
           {
            "marker": {
             "colorbar": {
              "outlinewidth": 0,
              "ticks": ""
             }
            },
            "type": "scatterternary"
           }
          ],
          "surface": [
           {
            "colorbar": {
             "outlinewidth": 0,
             "ticks": ""
            },
            "colorscale": [
             [
              0,
              "#0d0887"
             ],
             [
              0.1111111111111111,
              "#46039f"
             ],
             [
              0.2222222222222222,
              "#7201a8"
             ],
             [
              0.3333333333333333,
              "#9c179e"
             ],
             [
              0.4444444444444444,
              "#bd3786"
             ],
             [
              0.5555555555555556,
              "#d8576b"
             ],
             [
              0.6666666666666666,
              "#ed7953"
             ],
             [
              0.7777777777777778,
              "#fb9f3a"
             ],
             [
              0.8888888888888888,
              "#fdca26"
             ],
             [
              1,
              "#f0f921"
             ]
            ],
            "type": "surface"
           }
          ],
          "table": [
           {
            "cells": {
             "fill": {
              "color": "#EBF0F8"
             },
             "line": {
              "color": "white"
             }
            },
            "header": {
             "fill": {
              "color": "#C8D4E3"
             },
             "line": {
              "color": "white"
             }
            },
            "type": "table"
           }
          ]
         },
         "layout": {
          "annotationdefaults": {
           "arrowcolor": "#2a3f5f",
           "arrowhead": 0,
           "arrowwidth": 1
          },
          "coloraxis": {
           "colorbar": {
            "outlinewidth": 0,
            "ticks": ""
           }
          },
          "colorscale": {
           "diverging": [
            [
             0,
             "#8e0152"
            ],
            [
             0.1,
             "#c51b7d"
            ],
            [
             0.2,
             "#de77ae"
            ],
            [
             0.3,
             "#f1b6da"
            ],
            [
             0.4,
             "#fde0ef"
            ],
            [
             0.5,
             "#f7f7f7"
            ],
            [
             0.6,
             "#e6f5d0"
            ],
            [
             0.7,
             "#b8e186"
            ],
            [
             0.8,
             "#7fbc41"
            ],
            [
             0.9,
             "#4d9221"
            ],
            [
             1,
             "#276419"
            ]
           ],
           "sequential": [
            [
             0,
             "#0d0887"
            ],
            [
             0.1111111111111111,
             "#46039f"
            ],
            [
             0.2222222222222222,
             "#7201a8"
            ],
            [
             0.3333333333333333,
             "#9c179e"
            ],
            [
             0.4444444444444444,
             "#bd3786"
            ],
            [
             0.5555555555555556,
             "#d8576b"
            ],
            [
             0.6666666666666666,
             "#ed7953"
            ],
            [
             0.7777777777777778,
             "#fb9f3a"
            ],
            [
             0.8888888888888888,
             "#fdca26"
            ],
            [
             1,
             "#f0f921"
            ]
           ],
           "sequentialminus": [
            [
             0,
             "#0d0887"
            ],
            [
             0.1111111111111111,
             "#46039f"
            ],
            [
             0.2222222222222222,
             "#7201a8"
            ],
            [
             0.3333333333333333,
             "#9c179e"
            ],
            [
             0.4444444444444444,
             "#bd3786"
            ],
            [
             0.5555555555555556,
             "#d8576b"
            ],
            [
             0.6666666666666666,
             "#ed7953"
            ],
            [
             0.7777777777777778,
             "#fb9f3a"
            ],
            [
             0.8888888888888888,
             "#fdca26"
            ],
            [
             1,
             "#f0f921"
            ]
           ]
          },
          "colorway": [
           "#636efa",
           "#EF553B",
           "#00cc96",
           "#ab63fa",
           "#FFA15A",
           "#19d3f3",
           "#FF6692",
           "#B6E880",
           "#FF97FF",
           "#FECB52"
          ],
          "font": {
           "color": "#2a3f5f"
          },
          "geo": {
           "bgcolor": "white",
           "lakecolor": "white",
           "landcolor": "#E5ECF6",
           "showlakes": true,
           "showland": true,
           "subunitcolor": "white"
          },
          "hoverlabel": {
           "align": "left"
          },
          "hovermode": "closest",
          "mapbox": {
           "style": "light"
          },
          "paper_bgcolor": "white",
          "plot_bgcolor": "#E5ECF6",
          "polar": {
           "angularaxis": {
            "gridcolor": "white",
            "linecolor": "white",
            "ticks": ""
           },
           "bgcolor": "#E5ECF6",
           "radialaxis": {
            "gridcolor": "white",
            "linecolor": "white",
            "ticks": ""
           }
          },
          "scene": {
           "xaxis": {
            "backgroundcolor": "#E5ECF6",
            "gridcolor": "white",
            "gridwidth": 2,
            "linecolor": "white",
            "showbackground": true,
            "ticks": "",
            "zerolinecolor": "white"
           },
           "yaxis": {
            "backgroundcolor": "#E5ECF6",
            "gridcolor": "white",
            "gridwidth": 2,
            "linecolor": "white",
            "showbackground": true,
            "ticks": "",
            "zerolinecolor": "white"
           },
           "zaxis": {
            "backgroundcolor": "#E5ECF6",
            "gridcolor": "white",
            "gridwidth": 2,
            "linecolor": "white",
            "showbackground": true,
            "ticks": "",
            "zerolinecolor": "white"
           }
          },
          "shapedefaults": {
           "line": {
            "color": "#2a3f5f"
           }
          },
          "ternary": {
           "aaxis": {
            "gridcolor": "white",
            "linecolor": "white",
            "ticks": ""
           },
           "baxis": {
            "gridcolor": "white",
            "linecolor": "white",
            "ticks": ""
           },
           "bgcolor": "#E5ECF6",
           "caxis": {
            "gridcolor": "white",
            "linecolor": "white",
            "ticks": ""
           }
          },
          "title": {
           "x": 0.05
          },
          "xaxis": {
           "automargin": true,
           "gridcolor": "white",
           "linecolor": "white",
           "ticks": "",
           "title": {
            "standoff": 15
           },
           "zerolinecolor": "white",
           "zerolinewidth": 2
          },
          "yaxis": {
           "automargin": true,
           "gridcolor": "white",
           "linecolor": "white",
           "ticks": "",
           "title": {
            "standoff": 15
           },
           "zerolinecolor": "white",
           "zerolinewidth": 2
          }
         }
        },
        "title": {
         "font": {
          "color": "#4D5663"
         }
        },
        "xaxis": {
         "anchor": "y",
         "domain": [
          0,
          0.2125
         ],
         "gridcolor": "#E1E5ED",
         "showgrid": false,
         "tickfont": {
          "color": "#4D5663"
         },
         "title": {
          "font": {
           "color": "#4D5663"
          },
          "text": ""
         },
         "zerolinecolor": "#E1E5ED"
        },
        "xaxis10": {
         "anchor": "y10",
         "domain": [
          0.2625,
          0.475
         ],
         "gridcolor": "#E1E5ED",
         "showgrid": false,
         "tickfont": {
          "color": "#4D5663"
         },
         "title": {
          "font": {
           "color": "#4D5663"
          },
          "text": ""
         },
         "zerolinecolor": "#E1E5ED"
        },
        "xaxis11": {
         "anchor": "y11",
         "domain": [
          0.525,
          0.7375
         ],
         "gridcolor": "#E1E5ED",
         "showgrid": false,
         "tickfont": {
          "color": "#4D5663"
         },
         "title": {
          "font": {
           "color": "#4D5663"
          },
          "text": ""
         },
         "zerolinecolor": "#E1E5ED"
        },
        "xaxis12": {
         "anchor": "y12",
         "domain": [
          0.7875,
          1
         ],
         "gridcolor": "#E1E5ED",
         "showgrid": false,
         "tickfont": {
          "color": "#4D5663"
         },
         "title": {
          "font": {
           "color": "#4D5663"
          },
          "text": ""
         },
         "zerolinecolor": "#E1E5ED"
        },
        "xaxis13": {
         "anchor": "y13",
         "domain": [
          0,
          0.2125
         ],
         "gridcolor": "#E1E5ED",
         "showgrid": false,
         "tickfont": {
          "color": "#4D5663"
         },
         "title": {
          "font": {
           "color": "#4D5663"
          },
          "text": ""
         },
         "zerolinecolor": "#E1E5ED"
        },
        "xaxis14": {
         "anchor": "y14",
         "domain": [
          0.2625,
          0.475
         ],
         "gridcolor": "#E1E5ED",
         "showgrid": false,
         "tickfont": {
          "color": "#4D5663"
         },
         "title": {
          "font": {
           "color": "#4D5663"
          },
          "text": ""
         },
         "zerolinecolor": "#E1E5ED"
        },
        "xaxis15": {
         "anchor": "y15",
         "domain": [
          0.525,
          0.7375
         ],
         "gridcolor": "#E1E5ED",
         "showgrid": false,
         "tickfont": {
          "color": "#4D5663"
         },
         "title": {
          "font": {
           "color": "#4D5663"
          },
          "text": ""
         },
         "zerolinecolor": "#E1E5ED"
        },
        "xaxis16": {
         "anchor": "y16",
         "domain": [
          0.7875,
          1
         ],
         "gridcolor": "#E1E5ED",
         "showgrid": false,
         "tickfont": {
          "color": "#4D5663"
         },
         "title": {
          "font": {
           "color": "#4D5663"
          },
          "text": ""
         },
         "zerolinecolor": "#E1E5ED"
        },
        "xaxis2": {
         "anchor": "y2",
         "domain": [
          0.2625,
          0.475
         ],
         "gridcolor": "#E1E5ED",
         "showgrid": false,
         "tickfont": {
          "color": "#4D5663"
         },
         "title": {
          "font": {
           "color": "#4D5663"
          },
          "text": ""
         },
         "zerolinecolor": "#E1E5ED"
        },
        "xaxis3": {
         "anchor": "y3",
         "domain": [
          0.525,
          0.7375
         ],
         "gridcolor": "#E1E5ED",
         "showgrid": false,
         "tickfont": {
          "color": "#4D5663"
         },
         "title": {
          "font": {
           "color": "#4D5663"
          },
          "text": ""
         },
         "zerolinecolor": "#E1E5ED"
        },
        "xaxis4": {
         "anchor": "y4",
         "domain": [
          0.7875,
          1
         ],
         "gridcolor": "#E1E5ED",
         "showgrid": false,
         "tickfont": {
          "color": "#4D5663"
         },
         "title": {
          "font": {
           "color": "#4D5663"
          },
          "text": ""
         },
         "zerolinecolor": "#E1E5ED"
        },
        "xaxis5": {
         "anchor": "y5",
         "domain": [
          0,
          0.2125
         ],
         "gridcolor": "#E1E5ED",
         "showgrid": false,
         "tickfont": {
          "color": "#4D5663"
         },
         "title": {
          "font": {
           "color": "#4D5663"
          },
          "text": ""
         },
         "zerolinecolor": "#E1E5ED"
        },
        "xaxis6": {
         "anchor": "y6",
         "domain": [
          0.2625,
          0.475
         ],
         "gridcolor": "#E1E5ED",
         "showgrid": false,
         "tickfont": {
          "color": "#4D5663"
         },
         "title": {
          "font": {
           "color": "#4D5663"
          },
          "text": ""
         },
         "zerolinecolor": "#E1E5ED"
        },
        "xaxis7": {
         "anchor": "y7",
         "domain": [
          0.525,
          0.7375
         ],
         "gridcolor": "#E1E5ED",
         "showgrid": false,
         "tickfont": {
          "color": "#4D5663"
         },
         "title": {
          "font": {
           "color": "#4D5663"
          },
          "text": ""
         },
         "zerolinecolor": "#E1E5ED"
        },
        "xaxis8": {
         "anchor": "y8",
         "domain": [
          0.7875,
          1
         ],
         "gridcolor": "#E1E5ED",
         "showgrid": false,
         "tickfont": {
          "color": "#4D5663"
         },
         "title": {
          "font": {
           "color": "#4D5663"
          },
          "text": ""
         },
         "zerolinecolor": "#E1E5ED"
        },
        "xaxis9": {
         "anchor": "y9",
         "domain": [
          0,
          0.2125
         ],
         "gridcolor": "#E1E5ED",
         "showgrid": false,
         "tickfont": {
          "color": "#4D5663"
         },
         "title": {
          "font": {
           "color": "#4D5663"
          },
          "text": ""
         },
         "zerolinecolor": "#E1E5ED"
        },
        "yaxis": {
         "anchor": "x",
         "domain": [
          0.8025,
          1
         ],
         "gridcolor": "#E1E5ED",
         "showgrid": false,
         "tickfont": {
          "color": "#4D5663"
         },
         "title": {
          "font": {
           "color": "#4D5663"
          },
          "text": ""
         },
         "zerolinecolor": "#E1E5ED"
        },
        "yaxis10": {
         "anchor": "x10",
         "domain": [
          0.2675,
          0.465
         ],
         "gridcolor": "#E1E5ED",
         "showgrid": false,
         "tickfont": {
          "color": "#4D5663"
         },
         "title": {
          "font": {
           "color": "#4D5663"
          },
          "text": ""
         },
         "zerolinecolor": "#E1E5ED"
        },
        "yaxis11": {
         "anchor": "x11",
         "domain": [
          0.2675,
          0.465
         ],
         "gridcolor": "#E1E5ED",
         "showgrid": false,
         "tickfont": {
          "color": "#4D5663"
         },
         "title": {
          "font": {
           "color": "#4D5663"
          },
          "text": ""
         },
         "zerolinecolor": "#E1E5ED"
        },
        "yaxis12": {
         "anchor": "x12",
         "domain": [
          0.2675,
          0.465
         ],
         "gridcolor": "#E1E5ED",
         "showgrid": false,
         "tickfont": {
          "color": "#4D5663"
         },
         "title": {
          "font": {
           "color": "#4D5663"
          },
          "text": ""
         },
         "zerolinecolor": "#E1E5ED"
        },
        "yaxis13": {
         "anchor": "x13",
         "domain": [
          0,
          0.1975
         ],
         "gridcolor": "#E1E5ED",
         "showgrid": false,
         "tickfont": {
          "color": "#4D5663"
         },
         "title": {
          "font": {
           "color": "#4D5663"
          },
          "text": ""
         },
         "zerolinecolor": "#E1E5ED"
        },
        "yaxis14": {
         "anchor": "x14",
         "domain": [
          0,
          0.1975
         ],
         "gridcolor": "#E1E5ED",
         "showgrid": false,
         "tickfont": {
          "color": "#4D5663"
         },
         "title": {
          "font": {
           "color": "#4D5663"
          },
          "text": ""
         },
         "zerolinecolor": "#E1E5ED"
        },
        "yaxis15": {
         "anchor": "x15",
         "domain": [
          0,
          0.1975
         ],
         "gridcolor": "#E1E5ED",
         "showgrid": false,
         "tickfont": {
          "color": "#4D5663"
         },
         "title": {
          "font": {
           "color": "#4D5663"
          },
          "text": ""
         },
         "zerolinecolor": "#E1E5ED"
        },
        "yaxis16": {
         "anchor": "x16",
         "domain": [
          0,
          0.1975
         ],
         "gridcolor": "#E1E5ED",
         "showgrid": false,
         "tickfont": {
          "color": "#4D5663"
         },
         "title": {
          "font": {
           "color": "#4D5663"
          },
          "text": ""
         },
         "zerolinecolor": "#E1E5ED"
        },
        "yaxis2": {
         "anchor": "x2",
         "domain": [
          0.8025,
          1
         ],
         "gridcolor": "#E1E5ED",
         "showgrid": false,
         "tickfont": {
          "color": "#4D5663"
         },
         "title": {
          "font": {
           "color": "#4D5663"
          },
          "text": ""
         },
         "zerolinecolor": "#E1E5ED"
        },
        "yaxis3": {
         "anchor": "x3",
         "domain": [
          0.8025,
          1
         ],
         "gridcolor": "#E1E5ED",
         "showgrid": false,
         "tickfont": {
          "color": "#4D5663"
         },
         "title": {
          "font": {
           "color": "#4D5663"
          },
          "text": ""
         },
         "zerolinecolor": "#E1E5ED"
        },
        "yaxis4": {
         "anchor": "x4",
         "domain": [
          0.8025,
          1
         ],
         "gridcolor": "#E1E5ED",
         "showgrid": false,
         "tickfont": {
          "color": "#4D5663"
         },
         "title": {
          "font": {
           "color": "#4D5663"
          },
          "text": ""
         },
         "zerolinecolor": "#E1E5ED"
        },
        "yaxis5": {
         "anchor": "x5",
         "domain": [
          0.535,
          0.7325
         ],
         "gridcolor": "#E1E5ED",
         "showgrid": false,
         "tickfont": {
          "color": "#4D5663"
         },
         "title": {
          "font": {
           "color": "#4D5663"
          },
          "text": ""
         },
         "zerolinecolor": "#E1E5ED"
        },
        "yaxis6": {
         "anchor": "x6",
         "domain": [
          0.535,
          0.7325
         ],
         "gridcolor": "#E1E5ED",
         "showgrid": false,
         "tickfont": {
          "color": "#4D5663"
         },
         "title": {
          "font": {
           "color": "#4D5663"
          },
          "text": ""
         },
         "zerolinecolor": "#E1E5ED"
        },
        "yaxis7": {
         "anchor": "x7",
         "domain": [
          0.535,
          0.7325
         ],
         "gridcolor": "#E1E5ED",
         "showgrid": false,
         "tickfont": {
          "color": "#4D5663"
         },
         "title": {
          "font": {
           "color": "#4D5663"
          },
          "text": ""
         },
         "zerolinecolor": "#E1E5ED"
        },
        "yaxis8": {
         "anchor": "x8",
         "domain": [
          0.535,
          0.7325
         ],
         "gridcolor": "#E1E5ED",
         "showgrid": false,
         "tickfont": {
          "color": "#4D5663"
         },
         "title": {
          "font": {
           "color": "#4D5663"
          },
          "text": ""
         },
         "zerolinecolor": "#E1E5ED"
        },
        "yaxis9": {
         "anchor": "x9",
         "domain": [
          0.2675,
          0.465
         ],
         "gridcolor": "#E1E5ED",
         "showgrid": false,
         "tickfont": {
          "color": "#4D5663"
         },
         "title": {
          "font": {
           "color": "#4D5663"
          },
          "text": ""
         },
         "zerolinecolor": "#E1E5ED"
        }
       }
      },
      "text/html": [
       "<div>\n",
       "        \n",
       "        \n",
       "            <div id=\"8bbe932d-583e-4c57-8fa7-3d57e64b4b17\" class=\"plotly-graph-div\" style=\"height:525px; width:100%;\"></div>\n",
       "            <script type=\"text/javascript\">\n",
       "                require([\"plotly\"], function(Plotly) {\n",
       "                    window.PLOTLYENV=window.PLOTLYENV || {};\n",
       "                    window.PLOTLYENV.BASE_URL='https://plot.ly';\n",
       "                    \n",
       "                if (document.getElementById(\"8bbe932d-583e-4c57-8fa7-3d57e64b4b17\")) {\n",
       "                    Plotly.newPlot(\n",
       "                        '8bbe932d-583e-4c57-8fa7-3d57e64b4b17',\n",
       "                        [{\"histfunc\": \"count\", \"histnorm\": \"\", \"marker\": {\"color\": \"rgba(255, 153, 51, 1.0)\", \"line\": {\"color\": \"#4D5663\", \"width\": 1.3}}, \"name\": \"A\", \"nbinsx\": 10, \"opacity\": 0.8, \"orientation\": \"v\", \"type\": \"histogram\", \"x\": [-0.051837791061411176, -0.49686287148954067, -2.1771515192846906, -0.5113732243720404, -0.03837284189106989, 0.3548680089577916, -0.9670222154179324, 0.48967087422011185, 1.010118843634135, 1.1767005716127645, 0.6049739509700985, -1.2688805227873958, -0.02341822554535787, -0.8845292410026588, -0.11078185573420099, 0.4450716121013818, -0.6524788440445956, 0.8362365802443669, -0.26480206570836334, -0.015521473434741142, -0.9070581908107753, -0.19848188846188358, 0.23484988589792208, -0.9429068811094353, 0.33804310467588616, 0.2231325138137817, 1.4180751876383473, 0.27684307950859816, -0.7268118558078794, -1.8190959116589784, 0.8863588248415394, 0.811407224749543, 0.9168706533314526, -0.49255538436951624, -0.38855891112932583, -0.33060548677620133, 0.22814018946691325, -0.06134433481792067, 2.2699080261066835, -0.648450660547072, -0.6676597248888836, 0.12780912335519987, 0.26203454175511987, -0.5425640188515645, -1.7685038013335517, 0.40968157985444253, -0.42445362372076917, -1.088382988200841, 1.23453450356868, -0.3638729323339125, 0.7811986561585942, -1.0258459763128092, -1.7662105171837867, 0.41472993026917654, -0.9409427214991185, -2.224333425583536, -0.2431794109095521, -0.9395444396754363, -0.5689902576839743, 3.044340783482019, 1.2505474809367803, -1.8363813899795214, -1.4820530742319769, -0.46642801300752706, 0.812718554669287, 0.6645329003944418, 0.3270216654104052, -0.1223759657745449, 0.09624616022289444, -0.22541462588698472, -0.2958817575821674, 0.2871613386480438, 0.07953086113867225, 0.36601957350281533, 1.646247258053811, 0.40813146514571574, 0.43032791348249316, -0.35118667775584894, 1.0808974968793563, 0.4428858638821342, -1.276203580800424, -0.5670787860121267, 0.5425648310098887, -2.3985130158037213, 0.02387026311991676, -0.1123122571750988, -0.778639967616544, 0.5459580253709689, 1.4604660678279568, 0.3965009201697333, -0.5651998505477467, 0.3117696147066201, -1.5089493383412824, -0.28001165739536366, 1.3072298277883696, -0.7487924987650352, -0.48883749025194284, -0.09653869536735393, 0.01895917624825842, 0.6100637239125053], \"xaxis\": \"x\", \"yaxis\": \"y\"}, {\"line\": {\"color\": \"rgba(128, 128, 128, 1.0)\", \"dash\": \"solid\", \"shape\": \"linear\", \"width\": 1.3}, \"marker\": {\"size\": 2, \"symbol\": \"circle\"}, \"mode\": \"markers\", \"name\": \"A\", \"text\": \"\", \"type\": \"scatter\", \"x\": [0.3695370284703798, -0.8743817851595044, -1.5751701215297989, -0.5285960006848781, 1.626477455353992, -2.459883081251386, -0.2917473650965046, -0.27854283712680494, -0.21414904709360755, 0.05697064749512811, -0.11926176248256731, -0.7021821239487716, -0.24572150749364016, -0.14898474253809174, -1.3113443874376083, -4.167956106747543, 0.5272200063944493, 0.8649922158474757, -0.44583230013138686, -0.4160049037062795, -0.466239445185336, 0.08377937035475586, 0.6614591440734874, 1.12535799467954, 0.9567317890641305, 1.8181135552660397, -0.927102989747783, 0.44080180507522854, -0.06554376455534469, -0.2603983795904401, 0.6333449797500809, -0.10072593183762651, -1.1133918555613957, -1.129529656932896, -0.19799900792328565, -0.13847772677187756, -0.18071833438394155, 0.08693506582433717, 0.4956531660302352, 0.518581006571991, -0.5021690307243035, -0.46873614050059736, 2.8629607999012587, 1.1628814628174975, -0.10637423519170412, -0.5365095684859182, 0.10172889460656297, 0.8434298624659738, 0.178773563424261, -0.8930770980031411, -0.528758606533394, -0.2566640539476154, -1.288023250707061, -0.970954446795933, 0.6549562426168584, -2.3232483033711198, -0.11610262914757792, 0.09858406174514805, 0.4361663737293656, 0.6945343333387475, -0.16649974364440523, 0.8223881464101899, 1.9482584831312117, 0.29704791128841773, 0.3237810004606294, 0.544957091603034, -0.17353554497162008, -1.065684238826915, -0.08021988841387116, 0.4569936193631879, 0.6254218330930134, -0.08102891382823191, -1.0928559466028436, -1.3591555442045564, 0.4577921792340458, 0.3495884903538427, -1.1037616297370296, -1.990831617641072, 0.6455485345946241, -1.5268647591648523, -0.46605297721767797, -0.019275930557890078, -0.34203927447449445, 1.3673189706167137, 0.4734388491991349, 1.0693898450217338, -1.1866359358774416, 0.012262267947191194, 1.5134873033665468, 1.5976790969792416, -0.423613673426834, 0.06955095640490072, -1.1664675783266583, -0.6094899292030159, -0.7697122722341971, -0.011835620658037676, -0.6125980696950949, 0.6171362973467006, -1.4793715674364853, -1.1455262902983676], \"xaxis\": \"x2\", \"y\": [-0.051837791061411176, -0.49686287148954067, -2.1771515192846906, -0.5113732243720404, -0.03837284189106989, 0.3548680089577916, -0.9670222154179324, 0.48967087422011185, 1.010118843634135, 1.1767005716127645, 0.6049739509700985, -1.2688805227873958, -0.02341822554535787, -0.8845292410026588, -0.11078185573420099, 0.4450716121013818, -0.6524788440445956, 0.8362365802443669, -0.26480206570836334, -0.015521473434741142, -0.9070581908107753, -0.19848188846188358, 0.23484988589792208, -0.9429068811094353, 0.33804310467588616, 0.2231325138137817, 1.4180751876383473, 0.27684307950859816, -0.7268118558078794, -1.8190959116589784, 0.8863588248415394, 0.811407224749543, 0.9168706533314526, -0.49255538436951624, -0.38855891112932583, -0.33060548677620133, 0.22814018946691325, -0.06134433481792067, 2.2699080261066835, -0.648450660547072, -0.6676597248888836, 0.12780912335519987, 0.26203454175511987, -0.5425640188515645, -1.7685038013335517, 0.40968157985444253, -0.42445362372076917, -1.088382988200841, 1.23453450356868, -0.3638729323339125, 0.7811986561585942, -1.0258459763128092, -1.7662105171837867, 0.41472993026917654, -0.9409427214991185, -2.224333425583536, -0.2431794109095521, -0.9395444396754363, -0.5689902576839743, 3.044340783482019, 1.2505474809367803, -1.8363813899795214, -1.4820530742319769, -0.46642801300752706, 0.812718554669287, 0.6645329003944418, 0.3270216654104052, -0.1223759657745449, 0.09624616022289444, -0.22541462588698472, -0.2958817575821674, 0.2871613386480438, 0.07953086113867225, 0.36601957350281533, 1.646247258053811, 0.40813146514571574, 0.43032791348249316, -0.35118667775584894, 1.0808974968793563, 0.4428858638821342, -1.276203580800424, -0.5670787860121267, 0.5425648310098887, -2.3985130158037213, 0.02387026311991676, -0.1123122571750988, -0.778639967616544, 0.5459580253709689, 1.4604660678279568, 0.3965009201697333, -0.5651998505477467, 0.3117696147066201, -1.5089493383412824, -0.28001165739536366, 1.3072298277883696, -0.7487924987650352, -0.48883749025194284, -0.09653869536735393, 0.01895917624825842, 0.6100637239125053], \"yaxis\": \"y2\"}, {\"line\": {\"color\": \"rgba(128, 128, 128, 1.0)\", \"dash\": \"solid\", \"shape\": \"linear\", \"width\": 1.3}, \"marker\": {\"size\": 2, \"symbol\": \"circle\"}, \"mode\": \"markers\", \"name\": \"A\", \"text\": \"\", \"type\": \"scatter\", \"x\": [-0.8154929365890754, 0.6792826710933785, 0.824703082888759, 0.7075762470179497, 0.07365396278792792, -0.8105705063983373, 0.13334782373413395, -0.02443113381127301, 1.0536217164839008, -0.08342677773846315, -0.298493431665501, -2.2784790679135716, -1.033862408480082, 0.8642419401735617, 0.10085264050538734, 0.9410010976361294, -0.2674685056250175, -0.8642828255005719, -0.69632068563847, -0.8664922439507659, 0.6293027737635437, 0.06050408243705343, 1.1593542458650372, -0.5899162141516092, 0.626324691115494, 1.032168396778142, 0.33754734882931714, 0.18713337526897916, -0.17343679502919768, 1.6286878922994552, 0.28899545345282185, -1.4448313139698175, -0.8388221697622474, 0.17907157837101717, 0.32931330254002256, -0.9250137613019447, 0.4935716283948479, 0.394160237456869, -2.013902701361426, -0.2940243829919321, 0.21586676849098707, 0.5298064552415997, 1.614518034961775, -2.270101038469866, 1.6886601157977816, 0.6881533447454158, 0.25174345012722577, 0.3378213355528154, 0.6705698060137221, -0.031948036708369106, -0.08220382176457258, 0.3125795749433185, 1.5272691242267729, 0.9718481567175451, -1.1274261759202133, 0.4421452144984506, -0.35499216986570375, -0.7814438069631231, -0.5598770139976932, 0.8165428868962974, -0.10292551612671881, -1.9599786743326544, 0.47510296837616367, 0.7328407303431982, -0.46872720075476854, 1.262190459516613, -0.05833540902356298, 0.11052859576117118, -0.5884698688701494, -1.2483083327623725, 0.2066697543893116, 0.6719817769679528, 0.39567931062804224, -0.4306543072032271, -1.7546189253573135, -0.47332649862861675, 0.6426916085977166, 0.9633850723074893, -0.8770555093850285, -2.905161987160775, 0.8482874475301787, -0.42270655290951586, -0.9953775484525826, 1.3213317263108992, -1.4492254391520913, -0.09570604420631665, -1.4866448108202428, -1.4453918207614649, -0.07423117728993073, -0.9995823360214144, 0.7388765575959787, -0.37297370367235766, -0.6659108390811059, -0.4651095380198942, -0.3160081273844198, -0.9815681676930179, 0.5435691970650005, 0.4969979391842474, -0.8672665672491162, 0.44019907878237374], \"xaxis\": \"x3\", \"y\": [-0.051837791061411176, -0.49686287148954067, -2.1771515192846906, -0.5113732243720404, -0.03837284189106989, 0.3548680089577916, -0.9670222154179324, 0.48967087422011185, 1.010118843634135, 1.1767005716127645, 0.6049739509700985, -1.2688805227873958, -0.02341822554535787, -0.8845292410026588, -0.11078185573420099, 0.4450716121013818, -0.6524788440445956, 0.8362365802443669, -0.26480206570836334, -0.015521473434741142, -0.9070581908107753, -0.19848188846188358, 0.23484988589792208, -0.9429068811094353, 0.33804310467588616, 0.2231325138137817, 1.4180751876383473, 0.27684307950859816, -0.7268118558078794, -1.8190959116589784, 0.8863588248415394, 0.811407224749543, 0.9168706533314526, -0.49255538436951624, -0.38855891112932583, -0.33060548677620133, 0.22814018946691325, -0.06134433481792067, 2.2699080261066835, -0.648450660547072, -0.6676597248888836, 0.12780912335519987, 0.26203454175511987, -0.5425640188515645, -1.7685038013335517, 0.40968157985444253, -0.42445362372076917, -1.088382988200841, 1.23453450356868, -0.3638729323339125, 0.7811986561585942, -1.0258459763128092, -1.7662105171837867, 0.41472993026917654, -0.9409427214991185, -2.224333425583536, -0.2431794109095521, -0.9395444396754363, -0.5689902576839743, 3.044340783482019, 1.2505474809367803, -1.8363813899795214, -1.4820530742319769, -0.46642801300752706, 0.812718554669287, 0.6645329003944418, 0.3270216654104052, -0.1223759657745449, 0.09624616022289444, -0.22541462588698472, -0.2958817575821674, 0.2871613386480438, 0.07953086113867225, 0.36601957350281533, 1.646247258053811, 0.40813146514571574, 0.43032791348249316, -0.35118667775584894, 1.0808974968793563, 0.4428858638821342, -1.276203580800424, -0.5670787860121267, 0.5425648310098887, -2.3985130158037213, 0.02387026311991676, -0.1123122571750988, -0.778639967616544, 0.5459580253709689, 1.4604660678279568, 0.3965009201697333, -0.5651998505477467, 0.3117696147066201, -1.5089493383412824, -0.28001165739536366, 1.3072298277883696, -0.7487924987650352, -0.48883749025194284, -0.09653869536735393, 0.01895917624825842, 0.6100637239125053], \"yaxis\": \"y3\"}, {\"line\": {\"color\": \"rgba(128, 128, 128, 1.0)\", \"dash\": \"solid\", \"shape\": \"linear\", \"width\": 1.3}, \"marker\": {\"size\": 2, \"symbol\": \"circle\"}, \"mode\": \"markers\", \"name\": \"A\", \"text\": \"\", \"type\": \"scatter\", \"x\": [1.2822550062316957, 0.40055323573444107, 1.787307135006294, 1.7221907799186702, -0.33012384630410374, 0.5015771873657603, -0.2473547725963533, -0.0640547215064039, -1.2688345257971019, 0.7944394500612837, -0.3464648964452649, 0.3724309331099352, 0.4334063357163549, -0.7803152729518554, -0.15256826965799988, 0.9860346107050248, -0.013657624655136605, -0.4302458835164767, 0.08742528916803126, 0.519209084088822, 0.6982718270826062, -0.19695824668480003, 0.7343656222610719, 0.9842019036477565, 0.5451772059859311, -0.24858903661320736, -0.7824188710943614, 1.1640797041445852, 0.15329927658788975, -0.09114867065191426, 0.5534416427041143, 0.6946738238910318, 0.20194117504756964, -0.35896270465549474, 1.0906445557163424, -0.2824539228891635, 1.1233705548985673, 0.9589648047845943, 0.2754236452464434, -1.0603397442196445, -0.2256360884092571, 0.8603631910291578, 0.1747665131819617, 0.8597007906478508, -0.4947516166827669, 1.24843889390558, 0.5676592941056465, -0.5409291274871663, -0.043153913618455345, 1.5573689209796098, -0.7637023855934686, 0.7268950799090498, -0.48806830712512594, 0.3432994768634184, -0.6239399075477323, -0.8508008791939529, -0.5373137821388475, 0.41568614809700694, -1.0649642415638567, 0.14383644256798317, -1.8054575468622778, 0.7519404686581771, -0.4669308726577494, 2.2686409521408586, 1.9162386285954347, -0.5210201624771259, -2.2616201473779607, -0.3441027012451506, -1.403557990210369, -0.09748187365174565, 0.30996784622566304, -0.30719849294978363, -0.5164850226458253, 2.069020581536834, -0.3683269178730194, -0.16538567091528325, -1.3502023312974114, 0.03029806499858065, -0.2854438445079592, -0.33348005450209356, -0.8087196832418141, 2.7578216244376583, 1.3775591992462703, 1.1445203631577308, -1.1319746537803164, 1.2151819805491515, -1.0214125872731903, 0.542764965117343, 0.8186438869989077, 1.9598102601770646, 1.5098606557031709, 1.3644224942264092, -0.4907462799383518, 0.7910265512352088, 0.5886869733598117, -1.0582675744202503, 1.3505249560880823, 0.7928774939813371, 0.5393622371005773, -1.4353470328033175], \"xaxis\": \"x4\", \"y\": [-0.051837791061411176, -0.49686287148954067, -2.1771515192846906, -0.5113732243720404, -0.03837284189106989, 0.3548680089577916, -0.9670222154179324, 0.48967087422011185, 1.010118843634135, 1.1767005716127645, 0.6049739509700985, -1.2688805227873958, -0.02341822554535787, -0.8845292410026588, -0.11078185573420099, 0.4450716121013818, -0.6524788440445956, 0.8362365802443669, -0.26480206570836334, -0.015521473434741142, -0.9070581908107753, -0.19848188846188358, 0.23484988589792208, -0.9429068811094353, 0.33804310467588616, 0.2231325138137817, 1.4180751876383473, 0.27684307950859816, -0.7268118558078794, -1.8190959116589784, 0.8863588248415394, 0.811407224749543, 0.9168706533314526, -0.49255538436951624, -0.38855891112932583, -0.33060548677620133, 0.22814018946691325, -0.06134433481792067, 2.2699080261066835, -0.648450660547072, -0.6676597248888836, 0.12780912335519987, 0.26203454175511987, -0.5425640188515645, -1.7685038013335517, 0.40968157985444253, -0.42445362372076917, -1.088382988200841, 1.23453450356868, -0.3638729323339125, 0.7811986561585942, -1.0258459763128092, -1.7662105171837867, 0.41472993026917654, -0.9409427214991185, -2.224333425583536, -0.2431794109095521, -0.9395444396754363, -0.5689902576839743, 3.044340783482019, 1.2505474809367803, -1.8363813899795214, -1.4820530742319769, -0.46642801300752706, 0.812718554669287, 0.6645329003944418, 0.3270216654104052, -0.1223759657745449, 0.09624616022289444, -0.22541462588698472, -0.2958817575821674, 0.2871613386480438, 0.07953086113867225, 0.36601957350281533, 1.646247258053811, 0.40813146514571574, 0.43032791348249316, -0.35118667775584894, 1.0808974968793563, 0.4428858638821342, -1.276203580800424, -0.5670787860121267, 0.5425648310098887, -2.3985130158037213, 0.02387026311991676, -0.1123122571750988, -0.778639967616544, 0.5459580253709689, 1.4604660678279568, 0.3965009201697333, -0.5651998505477467, 0.3117696147066201, -1.5089493383412824, -0.28001165739536366, 1.3072298277883696, -0.7487924987650352, -0.48883749025194284, -0.09653869536735393, 0.01895917624825842, 0.6100637239125053], \"yaxis\": \"y4\"}, {\"line\": {\"color\": \"rgba(128, 128, 128, 1.0)\", \"dash\": \"solid\", \"shape\": \"linear\", \"width\": 1.3}, \"marker\": {\"size\": 2, \"symbol\": \"circle\"}, \"mode\": \"markers\", \"name\": \"B\", \"text\": \"\", \"type\": \"scatter\", \"x\": [-0.051837791061411176, -0.49686287148954067, -2.1771515192846906, -0.5113732243720404, -0.03837284189106989, 0.3548680089577916, -0.9670222154179324, 0.48967087422011185, 1.010118843634135, 1.1767005716127645, 0.6049739509700985, -1.2688805227873958, -0.02341822554535787, -0.8845292410026588, -0.11078185573420099, 0.4450716121013818, -0.6524788440445956, 0.8362365802443669, -0.26480206570836334, -0.015521473434741142, -0.9070581908107753, -0.19848188846188358, 0.23484988589792208, -0.9429068811094353, 0.33804310467588616, 0.2231325138137817, 1.4180751876383473, 0.27684307950859816, -0.7268118558078794, -1.8190959116589784, 0.8863588248415394, 0.811407224749543, 0.9168706533314526, -0.49255538436951624, -0.38855891112932583, -0.33060548677620133, 0.22814018946691325, -0.06134433481792067, 2.2699080261066835, -0.648450660547072, -0.6676597248888836, 0.12780912335519987, 0.26203454175511987, -0.5425640188515645, -1.7685038013335517, 0.40968157985444253, -0.42445362372076917, -1.088382988200841, 1.23453450356868, -0.3638729323339125, 0.7811986561585942, -1.0258459763128092, -1.7662105171837867, 0.41472993026917654, -0.9409427214991185, -2.224333425583536, -0.2431794109095521, -0.9395444396754363, -0.5689902576839743, 3.044340783482019, 1.2505474809367803, -1.8363813899795214, -1.4820530742319769, -0.46642801300752706, 0.812718554669287, 0.6645329003944418, 0.3270216654104052, -0.1223759657745449, 0.09624616022289444, -0.22541462588698472, -0.2958817575821674, 0.2871613386480438, 0.07953086113867225, 0.36601957350281533, 1.646247258053811, 0.40813146514571574, 0.43032791348249316, -0.35118667775584894, 1.0808974968793563, 0.4428858638821342, -1.276203580800424, -0.5670787860121267, 0.5425648310098887, -2.3985130158037213, 0.02387026311991676, -0.1123122571750988, -0.778639967616544, 0.5459580253709689, 1.4604660678279568, 0.3965009201697333, -0.5651998505477467, 0.3117696147066201, -1.5089493383412824, -0.28001165739536366, 1.3072298277883696, -0.7487924987650352, -0.48883749025194284, -0.09653869536735393, 0.01895917624825842, 0.6100637239125053], \"xaxis\": \"x5\", \"y\": [0.3695370284703798, -0.8743817851595044, -1.5751701215297989, -0.5285960006848781, 1.626477455353992, -2.459883081251386, -0.2917473650965046, -0.27854283712680494, -0.21414904709360755, 0.05697064749512811, -0.11926176248256731, -0.7021821239487716, -0.24572150749364016, -0.14898474253809174, -1.3113443874376083, -4.167956106747543, 0.5272200063944493, 0.8649922158474757, -0.44583230013138686, -0.4160049037062795, -0.466239445185336, 0.08377937035475586, 0.6614591440734874, 1.12535799467954, 0.9567317890641305, 1.8181135552660397, -0.927102989747783, 0.44080180507522854, -0.06554376455534469, -0.2603983795904401, 0.6333449797500809, -0.10072593183762651, -1.1133918555613957, -1.129529656932896, -0.19799900792328565, -0.13847772677187756, -0.18071833438394155, 0.08693506582433717, 0.4956531660302352, 0.518581006571991, -0.5021690307243035, -0.46873614050059736, 2.8629607999012587, 1.1628814628174975, -0.10637423519170412, -0.5365095684859182, 0.10172889460656297, 0.8434298624659738, 0.178773563424261, -0.8930770980031411, -0.528758606533394, -0.2566640539476154, -1.288023250707061, -0.970954446795933, 0.6549562426168584, -2.3232483033711198, -0.11610262914757792, 0.09858406174514805, 0.4361663737293656, 0.6945343333387475, -0.16649974364440523, 0.8223881464101899, 1.9482584831312117, 0.29704791128841773, 0.3237810004606294, 0.544957091603034, -0.17353554497162008, -1.065684238826915, -0.08021988841387116, 0.4569936193631879, 0.6254218330930134, -0.08102891382823191, -1.0928559466028436, -1.3591555442045564, 0.4577921792340458, 0.3495884903538427, -1.1037616297370296, -1.990831617641072, 0.6455485345946241, -1.5268647591648523, -0.46605297721767797, -0.019275930557890078, -0.34203927447449445, 1.3673189706167137, 0.4734388491991349, 1.0693898450217338, -1.1866359358774416, 0.012262267947191194, 1.5134873033665468, 1.5976790969792416, -0.423613673426834, 0.06955095640490072, -1.1664675783266583, -0.6094899292030159, -0.7697122722341971, -0.011835620658037676, -0.6125980696950949, 0.6171362973467006, -1.4793715674364853, -1.1455262902983676], \"yaxis\": \"y5\"}, {\"histfunc\": \"count\", \"histnorm\": \"\", \"marker\": {\"color\": \"rgba(55, 128, 191, 1.0)\", \"line\": {\"color\": \"#4D5663\", \"width\": 1.3}}, \"name\": \"B\", \"nbinsx\": 10, \"opacity\": 0.8, \"orientation\": \"v\", \"type\": \"histogram\", \"x\": [0.3695370284703798, -0.8743817851595044, -1.5751701215297989, -0.5285960006848781, 1.626477455353992, -2.459883081251386, -0.2917473650965046, -0.27854283712680494, -0.21414904709360755, 0.05697064749512811, -0.11926176248256731, -0.7021821239487716, -0.24572150749364016, -0.14898474253809174, -1.3113443874376083, -4.167956106747543, 0.5272200063944493, 0.8649922158474757, -0.44583230013138686, -0.4160049037062795, -0.466239445185336, 0.08377937035475586, 0.6614591440734874, 1.12535799467954, 0.9567317890641305, 1.8181135552660397, -0.927102989747783, 0.44080180507522854, -0.06554376455534469, -0.2603983795904401, 0.6333449797500809, -0.10072593183762651, -1.1133918555613957, -1.129529656932896, -0.19799900792328565, -0.13847772677187756, -0.18071833438394155, 0.08693506582433717, 0.4956531660302352, 0.518581006571991, -0.5021690307243035, -0.46873614050059736, 2.8629607999012587, 1.1628814628174975, -0.10637423519170412, -0.5365095684859182, 0.10172889460656297, 0.8434298624659738, 0.178773563424261, -0.8930770980031411, -0.528758606533394, -0.2566640539476154, -1.288023250707061, -0.970954446795933, 0.6549562426168584, -2.3232483033711198, -0.11610262914757792, 0.09858406174514805, 0.4361663737293656, 0.6945343333387475, -0.16649974364440523, 0.8223881464101899, 1.9482584831312117, 0.29704791128841773, 0.3237810004606294, 0.544957091603034, -0.17353554497162008, -1.065684238826915, -0.08021988841387116, 0.4569936193631879, 0.6254218330930134, -0.08102891382823191, -1.0928559466028436, -1.3591555442045564, 0.4577921792340458, 0.3495884903538427, -1.1037616297370296, -1.990831617641072, 0.6455485345946241, -1.5268647591648523, -0.46605297721767797, -0.019275930557890078, -0.34203927447449445, 1.3673189706167137, 0.4734388491991349, 1.0693898450217338, -1.1866359358774416, 0.012262267947191194, 1.5134873033665468, 1.5976790969792416, -0.423613673426834, 0.06955095640490072, -1.1664675783266583, -0.6094899292030159, -0.7697122722341971, -0.011835620658037676, -0.6125980696950949, 0.6171362973467006, -1.4793715674364853, -1.1455262902983676], \"xaxis\": \"x6\", \"yaxis\": \"y6\"}, {\"line\": {\"color\": \"rgba(128, 128, 128, 1.0)\", \"dash\": \"solid\", \"shape\": \"linear\", \"width\": 1.3}, \"marker\": {\"size\": 2, \"symbol\": \"circle\"}, \"mode\": \"markers\", \"name\": \"B\", \"text\": \"\", \"type\": \"scatter\", \"x\": [-0.8154929365890754, 0.6792826710933785, 0.824703082888759, 0.7075762470179497, 0.07365396278792792, -0.8105705063983373, 0.13334782373413395, -0.02443113381127301, 1.0536217164839008, -0.08342677773846315, -0.298493431665501, -2.2784790679135716, -1.033862408480082, 0.8642419401735617, 0.10085264050538734, 0.9410010976361294, -0.2674685056250175, -0.8642828255005719, -0.69632068563847, -0.8664922439507659, 0.6293027737635437, 0.06050408243705343, 1.1593542458650372, -0.5899162141516092, 0.626324691115494, 1.032168396778142, 0.33754734882931714, 0.18713337526897916, -0.17343679502919768, 1.6286878922994552, 0.28899545345282185, -1.4448313139698175, -0.8388221697622474, 0.17907157837101717, 0.32931330254002256, -0.9250137613019447, 0.4935716283948479, 0.394160237456869, -2.013902701361426, -0.2940243829919321, 0.21586676849098707, 0.5298064552415997, 1.614518034961775, -2.270101038469866, 1.6886601157977816, 0.6881533447454158, 0.25174345012722577, 0.3378213355528154, 0.6705698060137221, -0.031948036708369106, -0.08220382176457258, 0.3125795749433185, 1.5272691242267729, 0.9718481567175451, -1.1274261759202133, 0.4421452144984506, -0.35499216986570375, -0.7814438069631231, -0.5598770139976932, 0.8165428868962974, -0.10292551612671881, -1.9599786743326544, 0.47510296837616367, 0.7328407303431982, -0.46872720075476854, 1.262190459516613, -0.05833540902356298, 0.11052859576117118, -0.5884698688701494, -1.2483083327623725, 0.2066697543893116, 0.6719817769679528, 0.39567931062804224, -0.4306543072032271, -1.7546189253573135, -0.47332649862861675, 0.6426916085977166, 0.9633850723074893, -0.8770555093850285, -2.905161987160775, 0.8482874475301787, -0.42270655290951586, -0.9953775484525826, 1.3213317263108992, -1.4492254391520913, -0.09570604420631665, -1.4866448108202428, -1.4453918207614649, -0.07423117728993073, -0.9995823360214144, 0.7388765575959787, -0.37297370367235766, -0.6659108390811059, -0.4651095380198942, -0.3160081273844198, -0.9815681676930179, 0.5435691970650005, 0.4969979391842474, -0.8672665672491162, 0.44019907878237374], \"xaxis\": \"x7\", \"y\": [0.3695370284703798, -0.8743817851595044, -1.5751701215297989, -0.5285960006848781, 1.626477455353992, -2.459883081251386, -0.2917473650965046, -0.27854283712680494, -0.21414904709360755, 0.05697064749512811, -0.11926176248256731, -0.7021821239487716, -0.24572150749364016, -0.14898474253809174, -1.3113443874376083, -4.167956106747543, 0.5272200063944493, 0.8649922158474757, -0.44583230013138686, -0.4160049037062795, -0.466239445185336, 0.08377937035475586, 0.6614591440734874, 1.12535799467954, 0.9567317890641305, 1.8181135552660397, -0.927102989747783, 0.44080180507522854, -0.06554376455534469, -0.2603983795904401, 0.6333449797500809, -0.10072593183762651, -1.1133918555613957, -1.129529656932896, -0.19799900792328565, -0.13847772677187756, -0.18071833438394155, 0.08693506582433717, 0.4956531660302352, 0.518581006571991, -0.5021690307243035, -0.46873614050059736, 2.8629607999012587, 1.1628814628174975, -0.10637423519170412, -0.5365095684859182, 0.10172889460656297, 0.8434298624659738, 0.178773563424261, -0.8930770980031411, -0.528758606533394, -0.2566640539476154, -1.288023250707061, -0.970954446795933, 0.6549562426168584, -2.3232483033711198, -0.11610262914757792, 0.09858406174514805, 0.4361663737293656, 0.6945343333387475, -0.16649974364440523, 0.8223881464101899, 1.9482584831312117, 0.29704791128841773, 0.3237810004606294, 0.544957091603034, -0.17353554497162008, -1.065684238826915, -0.08021988841387116, 0.4569936193631879, 0.6254218330930134, -0.08102891382823191, -1.0928559466028436, -1.3591555442045564, 0.4577921792340458, 0.3495884903538427, -1.1037616297370296, -1.990831617641072, 0.6455485345946241, -1.5268647591648523, -0.46605297721767797, -0.019275930557890078, -0.34203927447449445, 1.3673189706167137, 0.4734388491991349, 1.0693898450217338, -1.1866359358774416, 0.012262267947191194, 1.5134873033665468, 1.5976790969792416, -0.423613673426834, 0.06955095640490072, -1.1664675783266583, -0.6094899292030159, -0.7697122722341971, -0.011835620658037676, -0.6125980696950949, 0.6171362973467006, -1.4793715674364853, -1.1455262902983676], \"yaxis\": \"y7\"}, {\"line\": {\"color\": \"rgba(128, 128, 128, 1.0)\", \"dash\": \"solid\", \"shape\": \"linear\", \"width\": 1.3}, \"marker\": {\"size\": 2, \"symbol\": \"circle\"}, \"mode\": \"markers\", \"name\": \"B\", \"text\": \"\", \"type\": \"scatter\", \"x\": [1.2822550062316957, 0.40055323573444107, 1.787307135006294, 1.7221907799186702, -0.33012384630410374, 0.5015771873657603, -0.2473547725963533, -0.0640547215064039, -1.2688345257971019, 0.7944394500612837, -0.3464648964452649, 0.3724309331099352, 0.4334063357163549, -0.7803152729518554, -0.15256826965799988, 0.9860346107050248, -0.013657624655136605, -0.4302458835164767, 0.08742528916803126, 0.519209084088822, 0.6982718270826062, -0.19695824668480003, 0.7343656222610719, 0.9842019036477565, 0.5451772059859311, -0.24858903661320736, -0.7824188710943614, 1.1640797041445852, 0.15329927658788975, -0.09114867065191426, 0.5534416427041143, 0.6946738238910318, 0.20194117504756964, -0.35896270465549474, 1.0906445557163424, -0.2824539228891635, 1.1233705548985673, 0.9589648047845943, 0.2754236452464434, -1.0603397442196445, -0.2256360884092571, 0.8603631910291578, 0.1747665131819617, 0.8597007906478508, -0.4947516166827669, 1.24843889390558, 0.5676592941056465, -0.5409291274871663, -0.043153913618455345, 1.5573689209796098, -0.7637023855934686, 0.7268950799090498, -0.48806830712512594, 0.3432994768634184, -0.6239399075477323, -0.8508008791939529, -0.5373137821388475, 0.41568614809700694, -1.0649642415638567, 0.14383644256798317, -1.8054575468622778, 0.7519404686581771, -0.4669308726577494, 2.2686409521408586, 1.9162386285954347, -0.5210201624771259, -2.2616201473779607, -0.3441027012451506, -1.403557990210369, -0.09748187365174565, 0.30996784622566304, -0.30719849294978363, -0.5164850226458253, 2.069020581536834, -0.3683269178730194, -0.16538567091528325, -1.3502023312974114, 0.03029806499858065, -0.2854438445079592, -0.33348005450209356, -0.8087196832418141, 2.7578216244376583, 1.3775591992462703, 1.1445203631577308, -1.1319746537803164, 1.2151819805491515, -1.0214125872731903, 0.542764965117343, 0.8186438869989077, 1.9598102601770646, 1.5098606557031709, 1.3644224942264092, -0.4907462799383518, 0.7910265512352088, 0.5886869733598117, -1.0582675744202503, 1.3505249560880823, 0.7928774939813371, 0.5393622371005773, -1.4353470328033175], \"xaxis\": \"x8\", \"y\": [0.3695370284703798, -0.8743817851595044, -1.5751701215297989, -0.5285960006848781, 1.626477455353992, -2.459883081251386, -0.2917473650965046, -0.27854283712680494, -0.21414904709360755, 0.05697064749512811, -0.11926176248256731, -0.7021821239487716, -0.24572150749364016, -0.14898474253809174, -1.3113443874376083, -4.167956106747543, 0.5272200063944493, 0.8649922158474757, -0.44583230013138686, -0.4160049037062795, -0.466239445185336, 0.08377937035475586, 0.6614591440734874, 1.12535799467954, 0.9567317890641305, 1.8181135552660397, -0.927102989747783, 0.44080180507522854, -0.06554376455534469, -0.2603983795904401, 0.6333449797500809, -0.10072593183762651, -1.1133918555613957, -1.129529656932896, -0.19799900792328565, -0.13847772677187756, -0.18071833438394155, 0.08693506582433717, 0.4956531660302352, 0.518581006571991, -0.5021690307243035, -0.46873614050059736, 2.8629607999012587, 1.1628814628174975, -0.10637423519170412, -0.5365095684859182, 0.10172889460656297, 0.8434298624659738, 0.178773563424261, -0.8930770980031411, -0.528758606533394, -0.2566640539476154, -1.288023250707061, -0.970954446795933, 0.6549562426168584, -2.3232483033711198, -0.11610262914757792, 0.09858406174514805, 0.4361663737293656, 0.6945343333387475, -0.16649974364440523, 0.8223881464101899, 1.9482584831312117, 0.29704791128841773, 0.3237810004606294, 0.544957091603034, -0.17353554497162008, -1.065684238826915, -0.08021988841387116, 0.4569936193631879, 0.6254218330930134, -0.08102891382823191, -1.0928559466028436, -1.3591555442045564, 0.4577921792340458, 0.3495884903538427, -1.1037616297370296, -1.990831617641072, 0.6455485345946241, -1.5268647591648523, -0.46605297721767797, -0.019275930557890078, -0.34203927447449445, 1.3673189706167137, 0.4734388491991349, 1.0693898450217338, -1.1866359358774416, 0.012262267947191194, 1.5134873033665468, 1.5976790969792416, -0.423613673426834, 0.06955095640490072, -1.1664675783266583, -0.6094899292030159, -0.7697122722341971, -0.011835620658037676, -0.6125980696950949, 0.6171362973467006, -1.4793715674364853, -1.1455262902983676], \"yaxis\": \"y8\"}, {\"line\": {\"color\": \"rgba(128, 128, 128, 1.0)\", \"dash\": \"solid\", \"shape\": \"linear\", \"width\": 1.3}, \"marker\": {\"size\": 2, \"symbol\": \"circle\"}, \"mode\": \"markers\", \"name\": \"C\", \"text\": \"\", \"type\": \"scatter\", \"x\": [-0.051837791061411176, -0.49686287148954067, -2.1771515192846906, -0.5113732243720404, -0.03837284189106989, 0.3548680089577916, -0.9670222154179324, 0.48967087422011185, 1.010118843634135, 1.1767005716127645, 0.6049739509700985, -1.2688805227873958, -0.02341822554535787, -0.8845292410026588, -0.11078185573420099, 0.4450716121013818, -0.6524788440445956, 0.8362365802443669, -0.26480206570836334, -0.015521473434741142, -0.9070581908107753, -0.19848188846188358, 0.23484988589792208, -0.9429068811094353, 0.33804310467588616, 0.2231325138137817, 1.4180751876383473, 0.27684307950859816, -0.7268118558078794, -1.8190959116589784, 0.8863588248415394, 0.811407224749543, 0.9168706533314526, -0.49255538436951624, -0.38855891112932583, -0.33060548677620133, 0.22814018946691325, -0.06134433481792067, 2.2699080261066835, -0.648450660547072, -0.6676597248888836, 0.12780912335519987, 0.26203454175511987, -0.5425640188515645, -1.7685038013335517, 0.40968157985444253, -0.42445362372076917, -1.088382988200841, 1.23453450356868, -0.3638729323339125, 0.7811986561585942, -1.0258459763128092, -1.7662105171837867, 0.41472993026917654, -0.9409427214991185, -2.224333425583536, -0.2431794109095521, -0.9395444396754363, -0.5689902576839743, 3.044340783482019, 1.2505474809367803, -1.8363813899795214, -1.4820530742319769, -0.46642801300752706, 0.812718554669287, 0.6645329003944418, 0.3270216654104052, -0.1223759657745449, 0.09624616022289444, -0.22541462588698472, -0.2958817575821674, 0.2871613386480438, 0.07953086113867225, 0.36601957350281533, 1.646247258053811, 0.40813146514571574, 0.43032791348249316, -0.35118667775584894, 1.0808974968793563, 0.4428858638821342, -1.276203580800424, -0.5670787860121267, 0.5425648310098887, -2.3985130158037213, 0.02387026311991676, -0.1123122571750988, -0.778639967616544, 0.5459580253709689, 1.4604660678279568, 0.3965009201697333, -0.5651998505477467, 0.3117696147066201, -1.5089493383412824, -0.28001165739536366, 1.3072298277883696, -0.7487924987650352, -0.48883749025194284, -0.09653869536735393, 0.01895917624825842, 0.6100637239125053], \"xaxis\": \"x9\", \"y\": [-0.8154929365890754, 0.6792826710933785, 0.824703082888759, 0.7075762470179497, 0.07365396278792792, -0.8105705063983373, 0.13334782373413395, -0.02443113381127301, 1.0536217164839008, -0.08342677773846315, -0.298493431665501, -2.2784790679135716, -1.033862408480082, 0.8642419401735617, 0.10085264050538734, 0.9410010976361294, -0.2674685056250175, -0.8642828255005719, -0.69632068563847, -0.8664922439507659, 0.6293027737635437, 0.06050408243705343, 1.1593542458650372, -0.5899162141516092, 0.626324691115494, 1.032168396778142, 0.33754734882931714, 0.18713337526897916, -0.17343679502919768, 1.6286878922994552, 0.28899545345282185, -1.4448313139698175, -0.8388221697622474, 0.17907157837101717, 0.32931330254002256, -0.9250137613019447, 0.4935716283948479, 0.394160237456869, -2.013902701361426, -0.2940243829919321, 0.21586676849098707, 0.5298064552415997, 1.614518034961775, -2.270101038469866, 1.6886601157977816, 0.6881533447454158, 0.25174345012722577, 0.3378213355528154, 0.6705698060137221, -0.031948036708369106, -0.08220382176457258, 0.3125795749433185, 1.5272691242267729, 0.9718481567175451, -1.1274261759202133, 0.4421452144984506, -0.35499216986570375, -0.7814438069631231, -0.5598770139976932, 0.8165428868962974, -0.10292551612671881, -1.9599786743326544, 0.47510296837616367, 0.7328407303431982, -0.46872720075476854, 1.262190459516613, -0.05833540902356298, 0.11052859576117118, -0.5884698688701494, -1.2483083327623725, 0.2066697543893116, 0.6719817769679528, 0.39567931062804224, -0.4306543072032271, -1.7546189253573135, -0.47332649862861675, 0.6426916085977166, 0.9633850723074893, -0.8770555093850285, -2.905161987160775, 0.8482874475301787, -0.42270655290951586, -0.9953775484525826, 1.3213317263108992, -1.4492254391520913, -0.09570604420631665, -1.4866448108202428, -1.4453918207614649, -0.07423117728993073, -0.9995823360214144, 0.7388765575959787, -0.37297370367235766, -0.6659108390811059, -0.4651095380198942, -0.3160081273844198, -0.9815681676930179, 0.5435691970650005, 0.4969979391842474, -0.8672665672491162, 0.44019907878237374], \"yaxis\": \"y9\"}, {\"line\": {\"color\": \"rgba(128, 128, 128, 1.0)\", \"dash\": \"solid\", \"shape\": \"linear\", \"width\": 1.3}, \"marker\": {\"size\": 2, \"symbol\": \"circle\"}, \"mode\": \"markers\", \"name\": \"C\", \"text\": \"\", \"type\": \"scatter\", \"x\": [0.3695370284703798, -0.8743817851595044, -1.5751701215297989, -0.5285960006848781, 1.626477455353992, -2.459883081251386, -0.2917473650965046, -0.27854283712680494, -0.21414904709360755, 0.05697064749512811, -0.11926176248256731, -0.7021821239487716, -0.24572150749364016, -0.14898474253809174, -1.3113443874376083, -4.167956106747543, 0.5272200063944493, 0.8649922158474757, -0.44583230013138686, -0.4160049037062795, -0.466239445185336, 0.08377937035475586, 0.6614591440734874, 1.12535799467954, 0.9567317890641305, 1.8181135552660397, -0.927102989747783, 0.44080180507522854, -0.06554376455534469, -0.2603983795904401, 0.6333449797500809, -0.10072593183762651, -1.1133918555613957, -1.129529656932896, -0.19799900792328565, -0.13847772677187756, -0.18071833438394155, 0.08693506582433717, 0.4956531660302352, 0.518581006571991, -0.5021690307243035, -0.46873614050059736, 2.8629607999012587, 1.1628814628174975, -0.10637423519170412, -0.5365095684859182, 0.10172889460656297, 0.8434298624659738, 0.178773563424261, -0.8930770980031411, -0.528758606533394, -0.2566640539476154, -1.288023250707061, -0.970954446795933, 0.6549562426168584, -2.3232483033711198, -0.11610262914757792, 0.09858406174514805, 0.4361663737293656, 0.6945343333387475, -0.16649974364440523, 0.8223881464101899, 1.9482584831312117, 0.29704791128841773, 0.3237810004606294, 0.544957091603034, -0.17353554497162008, -1.065684238826915, -0.08021988841387116, 0.4569936193631879, 0.6254218330930134, -0.08102891382823191, -1.0928559466028436, -1.3591555442045564, 0.4577921792340458, 0.3495884903538427, -1.1037616297370296, -1.990831617641072, 0.6455485345946241, -1.5268647591648523, -0.46605297721767797, -0.019275930557890078, -0.34203927447449445, 1.3673189706167137, 0.4734388491991349, 1.0693898450217338, -1.1866359358774416, 0.012262267947191194, 1.5134873033665468, 1.5976790969792416, -0.423613673426834, 0.06955095640490072, -1.1664675783266583, -0.6094899292030159, -0.7697122722341971, -0.011835620658037676, -0.6125980696950949, 0.6171362973467006, -1.4793715674364853, -1.1455262902983676], \"xaxis\": \"x10\", \"y\": [-0.8154929365890754, 0.6792826710933785, 0.824703082888759, 0.7075762470179497, 0.07365396278792792, -0.8105705063983373, 0.13334782373413395, -0.02443113381127301, 1.0536217164839008, -0.08342677773846315, -0.298493431665501, -2.2784790679135716, -1.033862408480082, 0.8642419401735617, 0.10085264050538734, 0.9410010976361294, -0.2674685056250175, -0.8642828255005719, -0.69632068563847, -0.8664922439507659, 0.6293027737635437, 0.06050408243705343, 1.1593542458650372, -0.5899162141516092, 0.626324691115494, 1.032168396778142, 0.33754734882931714, 0.18713337526897916, -0.17343679502919768, 1.6286878922994552, 0.28899545345282185, -1.4448313139698175, -0.8388221697622474, 0.17907157837101717, 0.32931330254002256, -0.9250137613019447, 0.4935716283948479, 0.394160237456869, -2.013902701361426, -0.2940243829919321, 0.21586676849098707, 0.5298064552415997, 1.614518034961775, -2.270101038469866, 1.6886601157977816, 0.6881533447454158, 0.25174345012722577, 0.3378213355528154, 0.6705698060137221, -0.031948036708369106, -0.08220382176457258, 0.3125795749433185, 1.5272691242267729, 0.9718481567175451, -1.1274261759202133, 0.4421452144984506, -0.35499216986570375, -0.7814438069631231, -0.5598770139976932, 0.8165428868962974, -0.10292551612671881, -1.9599786743326544, 0.47510296837616367, 0.7328407303431982, -0.46872720075476854, 1.262190459516613, -0.05833540902356298, 0.11052859576117118, -0.5884698688701494, -1.2483083327623725, 0.2066697543893116, 0.6719817769679528, 0.39567931062804224, -0.4306543072032271, -1.7546189253573135, -0.47332649862861675, 0.6426916085977166, 0.9633850723074893, -0.8770555093850285, -2.905161987160775, 0.8482874475301787, -0.42270655290951586, -0.9953775484525826, 1.3213317263108992, -1.4492254391520913, -0.09570604420631665, -1.4866448108202428, -1.4453918207614649, -0.07423117728993073, -0.9995823360214144, 0.7388765575959787, -0.37297370367235766, -0.6659108390811059, -0.4651095380198942, -0.3160081273844198, -0.9815681676930179, 0.5435691970650005, 0.4969979391842474, -0.8672665672491162, 0.44019907878237374], \"yaxis\": \"y10\"}, {\"histfunc\": \"count\", \"histnorm\": \"\", \"marker\": {\"color\": \"rgba(50, 171, 96, 1.0)\", \"line\": {\"color\": \"#4D5663\", \"width\": 1.3}}, \"name\": \"C\", \"nbinsx\": 10, \"opacity\": 0.8, \"orientation\": \"v\", \"type\": \"histogram\", \"x\": [-0.8154929365890754, 0.6792826710933785, 0.824703082888759, 0.7075762470179497, 0.07365396278792792, -0.8105705063983373, 0.13334782373413395, -0.02443113381127301, 1.0536217164839008, -0.08342677773846315, -0.298493431665501, -2.2784790679135716, -1.033862408480082, 0.8642419401735617, 0.10085264050538734, 0.9410010976361294, -0.2674685056250175, -0.8642828255005719, -0.69632068563847, -0.8664922439507659, 0.6293027737635437, 0.06050408243705343, 1.1593542458650372, -0.5899162141516092, 0.626324691115494, 1.032168396778142, 0.33754734882931714, 0.18713337526897916, -0.17343679502919768, 1.6286878922994552, 0.28899545345282185, -1.4448313139698175, -0.8388221697622474, 0.17907157837101717, 0.32931330254002256, -0.9250137613019447, 0.4935716283948479, 0.394160237456869, -2.013902701361426, -0.2940243829919321, 0.21586676849098707, 0.5298064552415997, 1.614518034961775, -2.270101038469866, 1.6886601157977816, 0.6881533447454158, 0.25174345012722577, 0.3378213355528154, 0.6705698060137221, -0.031948036708369106, -0.08220382176457258, 0.3125795749433185, 1.5272691242267729, 0.9718481567175451, -1.1274261759202133, 0.4421452144984506, -0.35499216986570375, -0.7814438069631231, -0.5598770139976932, 0.8165428868962974, -0.10292551612671881, -1.9599786743326544, 0.47510296837616367, 0.7328407303431982, -0.46872720075476854, 1.262190459516613, -0.05833540902356298, 0.11052859576117118, -0.5884698688701494, -1.2483083327623725, 0.2066697543893116, 0.6719817769679528, 0.39567931062804224, -0.4306543072032271, -1.7546189253573135, -0.47332649862861675, 0.6426916085977166, 0.9633850723074893, -0.8770555093850285, -2.905161987160775, 0.8482874475301787, -0.42270655290951586, -0.9953775484525826, 1.3213317263108992, -1.4492254391520913, -0.09570604420631665, -1.4866448108202428, -1.4453918207614649, -0.07423117728993073, -0.9995823360214144, 0.7388765575959787, -0.37297370367235766, -0.6659108390811059, -0.4651095380198942, -0.3160081273844198, -0.9815681676930179, 0.5435691970650005, 0.4969979391842474, -0.8672665672491162, 0.44019907878237374], \"xaxis\": \"x11\", \"yaxis\": \"y11\"}, {\"line\": {\"color\": \"rgba(128, 128, 128, 1.0)\", \"dash\": \"solid\", \"shape\": \"linear\", \"width\": 1.3}, \"marker\": {\"size\": 2, \"symbol\": \"circle\"}, \"mode\": \"markers\", \"name\": \"C\", \"text\": \"\", \"type\": \"scatter\", \"x\": [1.2822550062316957, 0.40055323573444107, 1.787307135006294, 1.7221907799186702, -0.33012384630410374, 0.5015771873657603, -0.2473547725963533, -0.0640547215064039, -1.2688345257971019, 0.7944394500612837, -0.3464648964452649, 0.3724309331099352, 0.4334063357163549, -0.7803152729518554, -0.15256826965799988, 0.9860346107050248, -0.013657624655136605, -0.4302458835164767, 0.08742528916803126, 0.519209084088822, 0.6982718270826062, -0.19695824668480003, 0.7343656222610719, 0.9842019036477565, 0.5451772059859311, -0.24858903661320736, -0.7824188710943614, 1.1640797041445852, 0.15329927658788975, -0.09114867065191426, 0.5534416427041143, 0.6946738238910318, 0.20194117504756964, -0.35896270465549474, 1.0906445557163424, -0.2824539228891635, 1.1233705548985673, 0.9589648047845943, 0.2754236452464434, -1.0603397442196445, -0.2256360884092571, 0.8603631910291578, 0.1747665131819617, 0.8597007906478508, -0.4947516166827669, 1.24843889390558, 0.5676592941056465, -0.5409291274871663, -0.043153913618455345, 1.5573689209796098, -0.7637023855934686, 0.7268950799090498, -0.48806830712512594, 0.3432994768634184, -0.6239399075477323, -0.8508008791939529, -0.5373137821388475, 0.41568614809700694, -1.0649642415638567, 0.14383644256798317, -1.8054575468622778, 0.7519404686581771, -0.4669308726577494, 2.2686409521408586, 1.9162386285954347, -0.5210201624771259, -2.2616201473779607, -0.3441027012451506, -1.403557990210369, -0.09748187365174565, 0.30996784622566304, -0.30719849294978363, -0.5164850226458253, 2.069020581536834, -0.3683269178730194, -0.16538567091528325, -1.3502023312974114, 0.03029806499858065, -0.2854438445079592, -0.33348005450209356, -0.8087196832418141, 2.7578216244376583, 1.3775591992462703, 1.1445203631577308, -1.1319746537803164, 1.2151819805491515, -1.0214125872731903, 0.542764965117343, 0.8186438869989077, 1.9598102601770646, 1.5098606557031709, 1.3644224942264092, -0.4907462799383518, 0.7910265512352088, 0.5886869733598117, -1.0582675744202503, 1.3505249560880823, 0.7928774939813371, 0.5393622371005773, -1.4353470328033175], \"xaxis\": \"x12\", \"y\": [-0.8154929365890754, 0.6792826710933785, 0.824703082888759, 0.7075762470179497, 0.07365396278792792, -0.8105705063983373, 0.13334782373413395, -0.02443113381127301, 1.0536217164839008, -0.08342677773846315, -0.298493431665501, -2.2784790679135716, -1.033862408480082, 0.8642419401735617, 0.10085264050538734, 0.9410010976361294, -0.2674685056250175, -0.8642828255005719, -0.69632068563847, -0.8664922439507659, 0.6293027737635437, 0.06050408243705343, 1.1593542458650372, -0.5899162141516092, 0.626324691115494, 1.032168396778142, 0.33754734882931714, 0.18713337526897916, -0.17343679502919768, 1.6286878922994552, 0.28899545345282185, -1.4448313139698175, -0.8388221697622474, 0.17907157837101717, 0.32931330254002256, -0.9250137613019447, 0.4935716283948479, 0.394160237456869, -2.013902701361426, -0.2940243829919321, 0.21586676849098707, 0.5298064552415997, 1.614518034961775, -2.270101038469866, 1.6886601157977816, 0.6881533447454158, 0.25174345012722577, 0.3378213355528154, 0.6705698060137221, -0.031948036708369106, -0.08220382176457258, 0.3125795749433185, 1.5272691242267729, 0.9718481567175451, -1.1274261759202133, 0.4421452144984506, -0.35499216986570375, -0.7814438069631231, -0.5598770139976932, 0.8165428868962974, -0.10292551612671881, -1.9599786743326544, 0.47510296837616367, 0.7328407303431982, -0.46872720075476854, 1.262190459516613, -0.05833540902356298, 0.11052859576117118, -0.5884698688701494, -1.2483083327623725, 0.2066697543893116, 0.6719817769679528, 0.39567931062804224, -0.4306543072032271, -1.7546189253573135, -0.47332649862861675, 0.6426916085977166, 0.9633850723074893, -0.8770555093850285, -2.905161987160775, 0.8482874475301787, -0.42270655290951586, -0.9953775484525826, 1.3213317263108992, -1.4492254391520913, -0.09570604420631665, -1.4866448108202428, -1.4453918207614649, -0.07423117728993073, -0.9995823360214144, 0.7388765575959787, -0.37297370367235766, -0.6659108390811059, -0.4651095380198942, -0.3160081273844198, -0.9815681676930179, 0.5435691970650005, 0.4969979391842474, -0.8672665672491162, 0.44019907878237374], \"yaxis\": \"y12\"}, {\"line\": {\"color\": \"rgba(128, 128, 128, 1.0)\", \"dash\": \"solid\", \"shape\": \"linear\", \"width\": 1.3}, \"marker\": {\"size\": 2, \"symbol\": \"circle\"}, \"mode\": \"markers\", \"name\": \"D\", \"text\": \"\", \"type\": \"scatter\", \"x\": [-0.051837791061411176, -0.49686287148954067, -2.1771515192846906, -0.5113732243720404, -0.03837284189106989, 0.3548680089577916, -0.9670222154179324, 0.48967087422011185, 1.010118843634135, 1.1767005716127645, 0.6049739509700985, -1.2688805227873958, -0.02341822554535787, -0.8845292410026588, -0.11078185573420099, 0.4450716121013818, -0.6524788440445956, 0.8362365802443669, -0.26480206570836334, -0.015521473434741142, -0.9070581908107753, -0.19848188846188358, 0.23484988589792208, -0.9429068811094353, 0.33804310467588616, 0.2231325138137817, 1.4180751876383473, 0.27684307950859816, -0.7268118558078794, -1.8190959116589784, 0.8863588248415394, 0.811407224749543, 0.9168706533314526, -0.49255538436951624, -0.38855891112932583, -0.33060548677620133, 0.22814018946691325, -0.06134433481792067, 2.2699080261066835, -0.648450660547072, -0.6676597248888836, 0.12780912335519987, 0.26203454175511987, -0.5425640188515645, -1.7685038013335517, 0.40968157985444253, -0.42445362372076917, -1.088382988200841, 1.23453450356868, -0.3638729323339125, 0.7811986561585942, -1.0258459763128092, -1.7662105171837867, 0.41472993026917654, -0.9409427214991185, -2.224333425583536, -0.2431794109095521, -0.9395444396754363, -0.5689902576839743, 3.044340783482019, 1.2505474809367803, -1.8363813899795214, -1.4820530742319769, -0.46642801300752706, 0.812718554669287, 0.6645329003944418, 0.3270216654104052, -0.1223759657745449, 0.09624616022289444, -0.22541462588698472, -0.2958817575821674, 0.2871613386480438, 0.07953086113867225, 0.36601957350281533, 1.646247258053811, 0.40813146514571574, 0.43032791348249316, -0.35118667775584894, 1.0808974968793563, 0.4428858638821342, -1.276203580800424, -0.5670787860121267, 0.5425648310098887, -2.3985130158037213, 0.02387026311991676, -0.1123122571750988, -0.778639967616544, 0.5459580253709689, 1.4604660678279568, 0.3965009201697333, -0.5651998505477467, 0.3117696147066201, -1.5089493383412824, -0.28001165739536366, 1.3072298277883696, -0.7487924987650352, -0.48883749025194284, -0.09653869536735393, 0.01895917624825842, 0.6100637239125053], \"xaxis\": \"x13\", \"y\": [1.2822550062316957, 0.40055323573444107, 1.787307135006294, 1.7221907799186702, -0.33012384630410374, 0.5015771873657603, -0.2473547725963533, -0.0640547215064039, -1.2688345257971019, 0.7944394500612837, -0.3464648964452649, 0.3724309331099352, 0.4334063357163549, -0.7803152729518554, -0.15256826965799988, 0.9860346107050248, -0.013657624655136605, -0.4302458835164767, 0.08742528916803126, 0.519209084088822, 0.6982718270826062, -0.19695824668480003, 0.7343656222610719, 0.9842019036477565, 0.5451772059859311, -0.24858903661320736, -0.7824188710943614, 1.1640797041445852, 0.15329927658788975, -0.09114867065191426, 0.5534416427041143, 0.6946738238910318, 0.20194117504756964, -0.35896270465549474, 1.0906445557163424, -0.2824539228891635, 1.1233705548985673, 0.9589648047845943, 0.2754236452464434, -1.0603397442196445, -0.2256360884092571, 0.8603631910291578, 0.1747665131819617, 0.8597007906478508, -0.4947516166827669, 1.24843889390558, 0.5676592941056465, -0.5409291274871663, -0.043153913618455345, 1.5573689209796098, -0.7637023855934686, 0.7268950799090498, -0.48806830712512594, 0.3432994768634184, -0.6239399075477323, -0.8508008791939529, -0.5373137821388475, 0.41568614809700694, -1.0649642415638567, 0.14383644256798317, -1.8054575468622778, 0.7519404686581771, -0.4669308726577494, 2.2686409521408586, 1.9162386285954347, -0.5210201624771259, -2.2616201473779607, -0.3441027012451506, -1.403557990210369, -0.09748187365174565, 0.30996784622566304, -0.30719849294978363, -0.5164850226458253, 2.069020581536834, -0.3683269178730194, -0.16538567091528325, -1.3502023312974114, 0.03029806499858065, -0.2854438445079592, -0.33348005450209356, -0.8087196832418141, 2.7578216244376583, 1.3775591992462703, 1.1445203631577308, -1.1319746537803164, 1.2151819805491515, -1.0214125872731903, 0.542764965117343, 0.8186438869989077, 1.9598102601770646, 1.5098606557031709, 1.3644224942264092, -0.4907462799383518, 0.7910265512352088, 0.5886869733598117, -1.0582675744202503, 1.3505249560880823, 0.7928774939813371, 0.5393622371005773, -1.4353470328033175], \"yaxis\": \"y13\"}, {\"line\": {\"color\": \"rgba(128, 128, 128, 1.0)\", \"dash\": \"solid\", \"shape\": \"linear\", \"width\": 1.3}, \"marker\": {\"size\": 2, \"symbol\": \"circle\"}, \"mode\": \"markers\", \"name\": \"D\", \"text\": \"\", \"type\": \"scatter\", \"x\": [0.3695370284703798, -0.8743817851595044, -1.5751701215297989, -0.5285960006848781, 1.626477455353992, -2.459883081251386, -0.2917473650965046, -0.27854283712680494, -0.21414904709360755, 0.05697064749512811, -0.11926176248256731, -0.7021821239487716, -0.24572150749364016, -0.14898474253809174, -1.3113443874376083, -4.167956106747543, 0.5272200063944493, 0.8649922158474757, -0.44583230013138686, -0.4160049037062795, -0.466239445185336, 0.08377937035475586, 0.6614591440734874, 1.12535799467954, 0.9567317890641305, 1.8181135552660397, -0.927102989747783, 0.44080180507522854, -0.06554376455534469, -0.2603983795904401, 0.6333449797500809, -0.10072593183762651, -1.1133918555613957, -1.129529656932896, -0.19799900792328565, -0.13847772677187756, -0.18071833438394155, 0.08693506582433717, 0.4956531660302352, 0.518581006571991, -0.5021690307243035, -0.46873614050059736, 2.8629607999012587, 1.1628814628174975, -0.10637423519170412, -0.5365095684859182, 0.10172889460656297, 0.8434298624659738, 0.178773563424261, -0.8930770980031411, -0.528758606533394, -0.2566640539476154, -1.288023250707061, -0.970954446795933, 0.6549562426168584, -2.3232483033711198, -0.11610262914757792, 0.09858406174514805, 0.4361663737293656, 0.6945343333387475, -0.16649974364440523, 0.8223881464101899, 1.9482584831312117, 0.29704791128841773, 0.3237810004606294, 0.544957091603034, -0.17353554497162008, -1.065684238826915, -0.08021988841387116, 0.4569936193631879, 0.6254218330930134, -0.08102891382823191, -1.0928559466028436, -1.3591555442045564, 0.4577921792340458, 0.3495884903538427, -1.1037616297370296, -1.990831617641072, 0.6455485345946241, -1.5268647591648523, -0.46605297721767797, -0.019275930557890078, -0.34203927447449445, 1.3673189706167137, 0.4734388491991349, 1.0693898450217338, -1.1866359358774416, 0.012262267947191194, 1.5134873033665468, 1.5976790969792416, -0.423613673426834, 0.06955095640490072, -1.1664675783266583, -0.6094899292030159, -0.7697122722341971, -0.011835620658037676, -0.6125980696950949, 0.6171362973467006, -1.4793715674364853, -1.1455262902983676], \"xaxis\": \"x14\", \"y\": [1.2822550062316957, 0.40055323573444107, 1.787307135006294, 1.7221907799186702, -0.33012384630410374, 0.5015771873657603, -0.2473547725963533, -0.0640547215064039, -1.2688345257971019, 0.7944394500612837, -0.3464648964452649, 0.3724309331099352, 0.4334063357163549, -0.7803152729518554, -0.15256826965799988, 0.9860346107050248, -0.013657624655136605, -0.4302458835164767, 0.08742528916803126, 0.519209084088822, 0.6982718270826062, -0.19695824668480003, 0.7343656222610719, 0.9842019036477565, 0.5451772059859311, -0.24858903661320736, -0.7824188710943614, 1.1640797041445852, 0.15329927658788975, -0.09114867065191426, 0.5534416427041143, 0.6946738238910318, 0.20194117504756964, -0.35896270465549474, 1.0906445557163424, -0.2824539228891635, 1.1233705548985673, 0.9589648047845943, 0.2754236452464434, -1.0603397442196445, -0.2256360884092571, 0.8603631910291578, 0.1747665131819617, 0.8597007906478508, -0.4947516166827669, 1.24843889390558, 0.5676592941056465, -0.5409291274871663, -0.043153913618455345, 1.5573689209796098, -0.7637023855934686, 0.7268950799090498, -0.48806830712512594, 0.3432994768634184, -0.6239399075477323, -0.8508008791939529, -0.5373137821388475, 0.41568614809700694, -1.0649642415638567, 0.14383644256798317, -1.8054575468622778, 0.7519404686581771, -0.4669308726577494, 2.2686409521408586, 1.9162386285954347, -0.5210201624771259, -2.2616201473779607, -0.3441027012451506, -1.403557990210369, -0.09748187365174565, 0.30996784622566304, -0.30719849294978363, -0.5164850226458253, 2.069020581536834, -0.3683269178730194, -0.16538567091528325, -1.3502023312974114, 0.03029806499858065, -0.2854438445079592, -0.33348005450209356, -0.8087196832418141, 2.7578216244376583, 1.3775591992462703, 1.1445203631577308, -1.1319746537803164, 1.2151819805491515, -1.0214125872731903, 0.542764965117343, 0.8186438869989077, 1.9598102601770646, 1.5098606557031709, 1.3644224942264092, -0.4907462799383518, 0.7910265512352088, 0.5886869733598117, -1.0582675744202503, 1.3505249560880823, 0.7928774939813371, 0.5393622371005773, -1.4353470328033175], \"yaxis\": \"y14\"}, {\"line\": {\"color\": \"rgba(128, 128, 128, 1.0)\", \"dash\": \"solid\", \"shape\": \"linear\", \"width\": 1.3}, \"marker\": {\"size\": 2, \"symbol\": \"circle\"}, \"mode\": \"markers\", \"name\": \"D\", \"text\": \"\", \"type\": \"scatter\", \"x\": [-0.8154929365890754, 0.6792826710933785, 0.824703082888759, 0.7075762470179497, 0.07365396278792792, -0.8105705063983373, 0.13334782373413395, -0.02443113381127301, 1.0536217164839008, -0.08342677773846315, -0.298493431665501, -2.2784790679135716, -1.033862408480082, 0.8642419401735617, 0.10085264050538734, 0.9410010976361294, -0.2674685056250175, -0.8642828255005719, -0.69632068563847, -0.8664922439507659, 0.6293027737635437, 0.06050408243705343, 1.1593542458650372, -0.5899162141516092, 0.626324691115494, 1.032168396778142, 0.33754734882931714, 0.18713337526897916, -0.17343679502919768, 1.6286878922994552, 0.28899545345282185, -1.4448313139698175, -0.8388221697622474, 0.17907157837101717, 0.32931330254002256, -0.9250137613019447, 0.4935716283948479, 0.394160237456869, -2.013902701361426, -0.2940243829919321, 0.21586676849098707, 0.5298064552415997, 1.614518034961775, -2.270101038469866, 1.6886601157977816, 0.6881533447454158, 0.25174345012722577, 0.3378213355528154, 0.6705698060137221, -0.031948036708369106, -0.08220382176457258, 0.3125795749433185, 1.5272691242267729, 0.9718481567175451, -1.1274261759202133, 0.4421452144984506, -0.35499216986570375, -0.7814438069631231, -0.5598770139976932, 0.8165428868962974, -0.10292551612671881, -1.9599786743326544, 0.47510296837616367, 0.7328407303431982, -0.46872720075476854, 1.262190459516613, -0.05833540902356298, 0.11052859576117118, -0.5884698688701494, -1.2483083327623725, 0.2066697543893116, 0.6719817769679528, 0.39567931062804224, -0.4306543072032271, -1.7546189253573135, -0.47332649862861675, 0.6426916085977166, 0.9633850723074893, -0.8770555093850285, -2.905161987160775, 0.8482874475301787, -0.42270655290951586, -0.9953775484525826, 1.3213317263108992, -1.4492254391520913, -0.09570604420631665, -1.4866448108202428, -1.4453918207614649, -0.07423117728993073, -0.9995823360214144, 0.7388765575959787, -0.37297370367235766, -0.6659108390811059, -0.4651095380198942, -0.3160081273844198, -0.9815681676930179, 0.5435691970650005, 0.4969979391842474, -0.8672665672491162, 0.44019907878237374], \"xaxis\": \"x15\", \"y\": [1.2822550062316957, 0.40055323573444107, 1.787307135006294, 1.7221907799186702, -0.33012384630410374, 0.5015771873657603, -0.2473547725963533, -0.0640547215064039, -1.2688345257971019, 0.7944394500612837, -0.3464648964452649, 0.3724309331099352, 0.4334063357163549, -0.7803152729518554, -0.15256826965799988, 0.9860346107050248, -0.013657624655136605, -0.4302458835164767, 0.08742528916803126, 0.519209084088822, 0.6982718270826062, -0.19695824668480003, 0.7343656222610719, 0.9842019036477565, 0.5451772059859311, -0.24858903661320736, -0.7824188710943614, 1.1640797041445852, 0.15329927658788975, -0.09114867065191426, 0.5534416427041143, 0.6946738238910318, 0.20194117504756964, -0.35896270465549474, 1.0906445557163424, -0.2824539228891635, 1.1233705548985673, 0.9589648047845943, 0.2754236452464434, -1.0603397442196445, -0.2256360884092571, 0.8603631910291578, 0.1747665131819617, 0.8597007906478508, -0.4947516166827669, 1.24843889390558, 0.5676592941056465, -0.5409291274871663, -0.043153913618455345, 1.5573689209796098, -0.7637023855934686, 0.7268950799090498, -0.48806830712512594, 0.3432994768634184, -0.6239399075477323, -0.8508008791939529, -0.5373137821388475, 0.41568614809700694, -1.0649642415638567, 0.14383644256798317, -1.8054575468622778, 0.7519404686581771, -0.4669308726577494, 2.2686409521408586, 1.9162386285954347, -0.5210201624771259, -2.2616201473779607, -0.3441027012451506, -1.403557990210369, -0.09748187365174565, 0.30996784622566304, -0.30719849294978363, -0.5164850226458253, 2.069020581536834, -0.3683269178730194, -0.16538567091528325, -1.3502023312974114, 0.03029806499858065, -0.2854438445079592, -0.33348005450209356, -0.8087196832418141, 2.7578216244376583, 1.3775591992462703, 1.1445203631577308, -1.1319746537803164, 1.2151819805491515, -1.0214125872731903, 0.542764965117343, 0.8186438869989077, 1.9598102601770646, 1.5098606557031709, 1.3644224942264092, -0.4907462799383518, 0.7910265512352088, 0.5886869733598117, -1.0582675744202503, 1.3505249560880823, 0.7928774939813371, 0.5393622371005773, -1.4353470328033175], \"yaxis\": \"y15\"}, {\"histfunc\": \"count\", \"histnorm\": \"\", \"marker\": {\"color\": \"rgba(128, 0, 128, 1.0)\", \"line\": {\"color\": \"#4D5663\", \"width\": 1.3}}, \"name\": \"D\", \"nbinsx\": 10, \"opacity\": 0.8, \"orientation\": \"v\", \"type\": \"histogram\", \"x\": [1.2822550062316957, 0.40055323573444107, 1.787307135006294, 1.7221907799186702, -0.33012384630410374, 0.5015771873657603, -0.2473547725963533, -0.0640547215064039, -1.2688345257971019, 0.7944394500612837, -0.3464648964452649, 0.3724309331099352, 0.4334063357163549, -0.7803152729518554, -0.15256826965799988, 0.9860346107050248, -0.013657624655136605, -0.4302458835164767, 0.08742528916803126, 0.519209084088822, 0.6982718270826062, -0.19695824668480003, 0.7343656222610719, 0.9842019036477565, 0.5451772059859311, -0.24858903661320736, -0.7824188710943614, 1.1640797041445852, 0.15329927658788975, -0.09114867065191426, 0.5534416427041143, 0.6946738238910318, 0.20194117504756964, -0.35896270465549474, 1.0906445557163424, -0.2824539228891635, 1.1233705548985673, 0.9589648047845943, 0.2754236452464434, -1.0603397442196445, -0.2256360884092571, 0.8603631910291578, 0.1747665131819617, 0.8597007906478508, -0.4947516166827669, 1.24843889390558, 0.5676592941056465, -0.5409291274871663, -0.043153913618455345, 1.5573689209796098, -0.7637023855934686, 0.7268950799090498, -0.48806830712512594, 0.3432994768634184, -0.6239399075477323, -0.8508008791939529, -0.5373137821388475, 0.41568614809700694, -1.0649642415638567, 0.14383644256798317, -1.8054575468622778, 0.7519404686581771, -0.4669308726577494, 2.2686409521408586, 1.9162386285954347, -0.5210201624771259, -2.2616201473779607, -0.3441027012451506, -1.403557990210369, -0.09748187365174565, 0.30996784622566304, -0.30719849294978363, -0.5164850226458253, 2.069020581536834, -0.3683269178730194, -0.16538567091528325, -1.3502023312974114, 0.03029806499858065, -0.2854438445079592, -0.33348005450209356, -0.8087196832418141, 2.7578216244376583, 1.3775591992462703, 1.1445203631577308, -1.1319746537803164, 1.2151819805491515, -1.0214125872731903, 0.542764965117343, 0.8186438869989077, 1.9598102601770646, 1.5098606557031709, 1.3644224942264092, -0.4907462799383518, 0.7910265512352088, 0.5886869733598117, -1.0582675744202503, 1.3505249560880823, 0.7928774939813371, 0.5393622371005773, -1.4353470328033175], \"xaxis\": \"x16\", \"yaxis\": \"y16\"}],\n",
       "                        {\"bargap\": 0.02, \"legend\": {\"bgcolor\": \"#F5F6F9\", \"font\": {\"color\": \"#4D5663\"}}, \"paper_bgcolor\": \"#F5F6F9\", \"plot_bgcolor\": \"#F5F6F9\", \"showlegend\": false, \"template\": {\"data\": {\"bar\": [{\"error_x\": {\"color\": \"#2a3f5f\"}, \"error_y\": {\"color\": \"#2a3f5f\"}, \"marker\": {\"line\": {\"color\": \"#E5ECF6\", \"width\": 0.5}}, \"type\": \"bar\"}], \"barpolar\": [{\"marker\": {\"line\": {\"color\": \"#E5ECF6\", \"width\": 0.5}}, \"type\": \"barpolar\"}], \"carpet\": [{\"aaxis\": {\"endlinecolor\": \"#2a3f5f\", \"gridcolor\": \"white\", \"linecolor\": \"white\", \"minorgridcolor\": \"white\", \"startlinecolor\": \"#2a3f5f\"}, \"baxis\": {\"endlinecolor\": \"#2a3f5f\", \"gridcolor\": \"white\", \"linecolor\": \"white\", \"minorgridcolor\": \"white\", \"startlinecolor\": \"#2a3f5f\"}, \"type\": \"carpet\"}], \"choropleth\": [{\"colorbar\": {\"outlinewidth\": 0, \"ticks\": \"\"}, \"type\": \"choropleth\"}], \"contour\": [{\"colorbar\": {\"outlinewidth\": 0, \"ticks\": \"\"}, \"colorscale\": [[0.0, \"#0d0887\"], [0.1111111111111111, \"#46039f\"], [0.2222222222222222, \"#7201a8\"], [0.3333333333333333, \"#9c179e\"], [0.4444444444444444, \"#bd3786\"], [0.5555555555555556, \"#d8576b\"], [0.6666666666666666, \"#ed7953\"], [0.7777777777777778, \"#fb9f3a\"], [0.8888888888888888, \"#fdca26\"], [1.0, \"#f0f921\"]], \"type\": \"contour\"}], \"contourcarpet\": [{\"colorbar\": {\"outlinewidth\": 0, \"ticks\": \"\"}, \"type\": \"contourcarpet\"}], \"heatmap\": [{\"colorbar\": {\"outlinewidth\": 0, \"ticks\": \"\"}, \"colorscale\": [[0.0, \"#0d0887\"], [0.1111111111111111, \"#46039f\"], [0.2222222222222222, \"#7201a8\"], [0.3333333333333333, \"#9c179e\"], [0.4444444444444444, \"#bd3786\"], [0.5555555555555556, \"#d8576b\"], [0.6666666666666666, \"#ed7953\"], [0.7777777777777778, \"#fb9f3a\"], [0.8888888888888888, \"#fdca26\"], [1.0, \"#f0f921\"]], \"type\": \"heatmap\"}], \"heatmapgl\": [{\"colorbar\": {\"outlinewidth\": 0, \"ticks\": \"\"}, \"colorscale\": [[0.0, \"#0d0887\"], [0.1111111111111111, \"#46039f\"], [0.2222222222222222, \"#7201a8\"], [0.3333333333333333, \"#9c179e\"], [0.4444444444444444, \"#bd3786\"], [0.5555555555555556, \"#d8576b\"], [0.6666666666666666, \"#ed7953\"], [0.7777777777777778, \"#fb9f3a\"], [0.8888888888888888, \"#fdca26\"], [1.0, \"#f0f921\"]], \"type\": \"heatmapgl\"}], \"histogram\": [{\"marker\": {\"colorbar\": {\"outlinewidth\": 0, \"ticks\": \"\"}}, \"type\": \"histogram\"}], \"histogram2d\": [{\"colorbar\": {\"outlinewidth\": 0, \"ticks\": \"\"}, \"colorscale\": [[0.0, \"#0d0887\"], [0.1111111111111111, \"#46039f\"], [0.2222222222222222, \"#7201a8\"], [0.3333333333333333, \"#9c179e\"], [0.4444444444444444, \"#bd3786\"], [0.5555555555555556, \"#d8576b\"], [0.6666666666666666, \"#ed7953\"], [0.7777777777777778, \"#fb9f3a\"], [0.8888888888888888, \"#fdca26\"], [1.0, \"#f0f921\"]], \"type\": \"histogram2d\"}], \"histogram2dcontour\": [{\"colorbar\": {\"outlinewidth\": 0, \"ticks\": \"\"}, \"colorscale\": [[0.0, \"#0d0887\"], [0.1111111111111111, \"#46039f\"], [0.2222222222222222, \"#7201a8\"], [0.3333333333333333, \"#9c179e\"], [0.4444444444444444, \"#bd3786\"], [0.5555555555555556, \"#d8576b\"], [0.6666666666666666, \"#ed7953\"], [0.7777777777777778, \"#fb9f3a\"], [0.8888888888888888, \"#fdca26\"], [1.0, \"#f0f921\"]], \"type\": \"histogram2dcontour\"}], \"mesh3d\": [{\"colorbar\": {\"outlinewidth\": 0, \"ticks\": \"\"}, \"type\": \"mesh3d\"}], \"parcoords\": [{\"line\": {\"colorbar\": {\"outlinewidth\": 0, \"ticks\": \"\"}}, \"type\": \"parcoords\"}], \"pie\": [{\"automargin\": true, \"type\": \"pie\"}], \"scatter\": [{\"marker\": {\"colorbar\": {\"outlinewidth\": 0, \"ticks\": \"\"}}, \"type\": \"scatter\"}], \"scatter3d\": [{\"line\": {\"colorbar\": {\"outlinewidth\": 0, \"ticks\": \"\"}}, \"marker\": {\"colorbar\": {\"outlinewidth\": 0, \"ticks\": \"\"}}, \"type\": \"scatter3d\"}], \"scattercarpet\": [{\"marker\": {\"colorbar\": {\"outlinewidth\": 0, \"ticks\": \"\"}}, \"type\": \"scattercarpet\"}], \"scattergeo\": [{\"marker\": {\"colorbar\": {\"outlinewidth\": 0, \"ticks\": \"\"}}, \"type\": \"scattergeo\"}], \"scattergl\": [{\"marker\": {\"colorbar\": {\"outlinewidth\": 0, \"ticks\": \"\"}}, \"type\": \"scattergl\"}], \"scattermapbox\": [{\"marker\": {\"colorbar\": {\"outlinewidth\": 0, \"ticks\": \"\"}}, \"type\": \"scattermapbox\"}], \"scatterpolar\": [{\"marker\": {\"colorbar\": {\"outlinewidth\": 0, \"ticks\": \"\"}}, \"type\": \"scatterpolar\"}], \"scatterpolargl\": [{\"marker\": {\"colorbar\": {\"outlinewidth\": 0, \"ticks\": \"\"}}, \"type\": \"scatterpolargl\"}], \"scatterternary\": [{\"marker\": {\"colorbar\": {\"outlinewidth\": 0, \"ticks\": \"\"}}, \"type\": \"scatterternary\"}], \"surface\": [{\"colorbar\": {\"outlinewidth\": 0, \"ticks\": \"\"}, \"colorscale\": [[0.0, \"#0d0887\"], [0.1111111111111111, \"#46039f\"], [0.2222222222222222, \"#7201a8\"], [0.3333333333333333, \"#9c179e\"], [0.4444444444444444, \"#bd3786\"], [0.5555555555555556, \"#d8576b\"], [0.6666666666666666, \"#ed7953\"], [0.7777777777777778, \"#fb9f3a\"], [0.8888888888888888, \"#fdca26\"], [1.0, \"#f0f921\"]], \"type\": \"surface\"}], \"table\": [{\"cells\": {\"fill\": {\"color\": \"#EBF0F8\"}, \"line\": {\"color\": \"white\"}}, \"header\": {\"fill\": {\"color\": \"#C8D4E3\"}, \"line\": {\"color\": \"white\"}}, \"type\": \"table\"}]}, \"layout\": {\"annotationdefaults\": {\"arrowcolor\": \"#2a3f5f\", \"arrowhead\": 0, \"arrowwidth\": 1}, \"coloraxis\": {\"colorbar\": {\"outlinewidth\": 0, \"ticks\": \"\"}}, \"colorscale\": {\"diverging\": [[0, \"#8e0152\"], [0.1, \"#c51b7d\"], [0.2, \"#de77ae\"], [0.3, \"#f1b6da\"], [0.4, \"#fde0ef\"], [0.5, \"#f7f7f7\"], [0.6, \"#e6f5d0\"], [0.7, \"#b8e186\"], [0.8, \"#7fbc41\"], [0.9, \"#4d9221\"], [1, \"#276419\"]], \"sequential\": [[0.0, \"#0d0887\"], [0.1111111111111111, \"#46039f\"], [0.2222222222222222, \"#7201a8\"], [0.3333333333333333, \"#9c179e\"], [0.4444444444444444, \"#bd3786\"], [0.5555555555555556, \"#d8576b\"], [0.6666666666666666, \"#ed7953\"], [0.7777777777777778, \"#fb9f3a\"], [0.8888888888888888, \"#fdca26\"], [1.0, \"#f0f921\"]], \"sequentialminus\": [[0.0, \"#0d0887\"], [0.1111111111111111, \"#46039f\"], [0.2222222222222222, \"#7201a8\"], [0.3333333333333333, \"#9c179e\"], [0.4444444444444444, \"#bd3786\"], [0.5555555555555556, \"#d8576b\"], [0.6666666666666666, \"#ed7953\"], [0.7777777777777778, \"#fb9f3a\"], [0.8888888888888888, \"#fdca26\"], [1.0, \"#f0f921\"]]}, \"colorway\": [\"#636efa\", \"#EF553B\", \"#00cc96\", \"#ab63fa\", \"#FFA15A\", \"#19d3f3\", \"#FF6692\", \"#B6E880\", \"#FF97FF\", \"#FECB52\"], \"font\": {\"color\": \"#2a3f5f\"}, \"geo\": {\"bgcolor\": \"white\", \"lakecolor\": \"white\", \"landcolor\": \"#E5ECF6\", \"showlakes\": true, \"showland\": true, \"subunitcolor\": \"white\"}, \"hoverlabel\": {\"align\": \"left\"}, \"hovermode\": \"closest\", \"mapbox\": {\"style\": \"light\"}, \"paper_bgcolor\": \"white\", \"plot_bgcolor\": \"#E5ECF6\", \"polar\": {\"angularaxis\": {\"gridcolor\": \"white\", \"linecolor\": \"white\", \"ticks\": \"\"}, \"bgcolor\": \"#E5ECF6\", \"radialaxis\": {\"gridcolor\": \"white\", \"linecolor\": \"white\", \"ticks\": \"\"}}, \"scene\": {\"xaxis\": {\"backgroundcolor\": \"#E5ECF6\", \"gridcolor\": \"white\", \"gridwidth\": 2, \"linecolor\": \"white\", \"showbackground\": true, \"ticks\": \"\", \"zerolinecolor\": \"white\"}, \"yaxis\": {\"backgroundcolor\": \"#E5ECF6\", \"gridcolor\": \"white\", \"gridwidth\": 2, \"linecolor\": \"white\", \"showbackground\": true, \"ticks\": \"\", \"zerolinecolor\": \"white\"}, \"zaxis\": {\"backgroundcolor\": \"#E5ECF6\", \"gridcolor\": \"white\", \"gridwidth\": 2, \"linecolor\": \"white\", \"showbackground\": true, \"ticks\": \"\", \"zerolinecolor\": \"white\"}}, \"shapedefaults\": {\"line\": {\"color\": \"#2a3f5f\"}}, \"ternary\": {\"aaxis\": {\"gridcolor\": \"white\", \"linecolor\": \"white\", \"ticks\": \"\"}, \"baxis\": {\"gridcolor\": \"white\", \"linecolor\": \"white\", \"ticks\": \"\"}, \"bgcolor\": \"#E5ECF6\", \"caxis\": {\"gridcolor\": \"white\", \"linecolor\": \"white\", \"ticks\": \"\"}}, \"title\": {\"x\": 0.05}, \"xaxis\": {\"automargin\": true, \"gridcolor\": \"white\", \"linecolor\": \"white\", \"ticks\": \"\", \"title\": {\"standoff\": 15}, \"zerolinecolor\": \"white\", \"zerolinewidth\": 2}, \"yaxis\": {\"automargin\": true, \"gridcolor\": \"white\", \"linecolor\": \"white\", \"ticks\": \"\", \"title\": {\"standoff\": 15}, \"zerolinecolor\": \"white\", \"zerolinewidth\": 2}}}, \"title\": {\"font\": {\"color\": \"#4D5663\"}}, \"xaxis\": {\"anchor\": \"y\", \"domain\": [0.0, 0.2125], \"gridcolor\": \"#E1E5ED\", \"showgrid\": false, \"tickfont\": {\"color\": \"#4D5663\"}, \"title\": {\"font\": {\"color\": \"#4D5663\"}, \"text\": \"\"}, \"zerolinecolor\": \"#E1E5ED\"}, \"xaxis10\": {\"anchor\": \"y10\", \"domain\": [0.2625, 0.475], \"gridcolor\": \"#E1E5ED\", \"showgrid\": false, \"tickfont\": {\"color\": \"#4D5663\"}, \"title\": {\"font\": {\"color\": \"#4D5663\"}, \"text\": \"\"}, \"zerolinecolor\": \"#E1E5ED\"}, \"xaxis11\": {\"anchor\": \"y11\", \"domain\": [0.525, 0.7375], \"gridcolor\": \"#E1E5ED\", \"showgrid\": false, \"tickfont\": {\"color\": \"#4D5663\"}, \"title\": {\"font\": {\"color\": \"#4D5663\"}, \"text\": \"\"}, \"zerolinecolor\": \"#E1E5ED\"}, \"xaxis12\": {\"anchor\": \"y12\", \"domain\": [0.7875, 1.0], \"gridcolor\": \"#E1E5ED\", \"showgrid\": false, \"tickfont\": {\"color\": \"#4D5663\"}, \"title\": {\"font\": {\"color\": \"#4D5663\"}, \"text\": \"\"}, \"zerolinecolor\": \"#E1E5ED\"}, \"xaxis13\": {\"anchor\": \"y13\", \"domain\": [0.0, 0.2125], \"gridcolor\": \"#E1E5ED\", \"showgrid\": false, \"tickfont\": {\"color\": \"#4D5663\"}, \"title\": {\"font\": {\"color\": \"#4D5663\"}, \"text\": \"\"}, \"zerolinecolor\": \"#E1E5ED\"}, \"xaxis14\": {\"anchor\": \"y14\", \"domain\": [0.2625, 0.475], \"gridcolor\": \"#E1E5ED\", \"showgrid\": false, \"tickfont\": {\"color\": \"#4D5663\"}, \"title\": {\"font\": {\"color\": \"#4D5663\"}, \"text\": \"\"}, \"zerolinecolor\": \"#E1E5ED\"}, \"xaxis15\": {\"anchor\": \"y15\", \"domain\": [0.525, 0.7375], \"gridcolor\": \"#E1E5ED\", \"showgrid\": false, \"tickfont\": {\"color\": \"#4D5663\"}, \"title\": {\"font\": {\"color\": \"#4D5663\"}, \"text\": \"\"}, \"zerolinecolor\": \"#E1E5ED\"}, \"xaxis16\": {\"anchor\": \"y16\", \"domain\": [0.7875, 1.0], \"gridcolor\": \"#E1E5ED\", \"showgrid\": false, \"tickfont\": {\"color\": \"#4D5663\"}, \"title\": {\"font\": {\"color\": \"#4D5663\"}, \"text\": \"\"}, \"zerolinecolor\": \"#E1E5ED\"}, \"xaxis2\": {\"anchor\": \"y2\", \"domain\": [0.2625, 0.475], \"gridcolor\": \"#E1E5ED\", \"showgrid\": false, \"tickfont\": {\"color\": \"#4D5663\"}, \"title\": {\"font\": {\"color\": \"#4D5663\"}, \"text\": \"\"}, \"zerolinecolor\": \"#E1E5ED\"}, \"xaxis3\": {\"anchor\": \"y3\", \"domain\": [0.525, 0.7375], \"gridcolor\": \"#E1E5ED\", \"showgrid\": false, \"tickfont\": {\"color\": \"#4D5663\"}, \"title\": {\"font\": {\"color\": \"#4D5663\"}, \"text\": \"\"}, \"zerolinecolor\": \"#E1E5ED\"}, \"xaxis4\": {\"anchor\": \"y4\", \"domain\": [0.7875, 1.0], \"gridcolor\": \"#E1E5ED\", \"showgrid\": false, \"tickfont\": {\"color\": \"#4D5663\"}, \"title\": {\"font\": {\"color\": \"#4D5663\"}, \"text\": \"\"}, \"zerolinecolor\": \"#E1E5ED\"}, \"xaxis5\": {\"anchor\": \"y5\", \"domain\": [0.0, 0.2125], \"gridcolor\": \"#E1E5ED\", \"showgrid\": false, \"tickfont\": {\"color\": \"#4D5663\"}, \"title\": {\"font\": {\"color\": \"#4D5663\"}, \"text\": \"\"}, \"zerolinecolor\": \"#E1E5ED\"}, \"xaxis6\": {\"anchor\": \"y6\", \"domain\": [0.2625, 0.475], \"gridcolor\": \"#E1E5ED\", \"showgrid\": false, \"tickfont\": {\"color\": \"#4D5663\"}, \"title\": {\"font\": {\"color\": \"#4D5663\"}, \"text\": \"\"}, \"zerolinecolor\": \"#E1E5ED\"}, \"xaxis7\": {\"anchor\": \"y7\", \"domain\": [0.525, 0.7375], \"gridcolor\": \"#E1E5ED\", \"showgrid\": false, \"tickfont\": {\"color\": \"#4D5663\"}, \"title\": {\"font\": {\"color\": \"#4D5663\"}, \"text\": \"\"}, \"zerolinecolor\": \"#E1E5ED\"}, \"xaxis8\": {\"anchor\": \"y8\", \"domain\": [0.7875, 1.0], \"gridcolor\": \"#E1E5ED\", \"showgrid\": false, \"tickfont\": {\"color\": \"#4D5663\"}, \"title\": {\"font\": {\"color\": \"#4D5663\"}, \"text\": \"\"}, \"zerolinecolor\": \"#E1E5ED\"}, \"xaxis9\": {\"anchor\": \"y9\", \"domain\": [0.0, 0.2125], \"gridcolor\": \"#E1E5ED\", \"showgrid\": false, \"tickfont\": {\"color\": \"#4D5663\"}, \"title\": {\"font\": {\"color\": \"#4D5663\"}, \"text\": \"\"}, \"zerolinecolor\": \"#E1E5ED\"}, \"yaxis\": {\"anchor\": \"x\", \"domain\": [0.8025, 1.0], \"gridcolor\": \"#E1E5ED\", \"showgrid\": false, \"tickfont\": {\"color\": \"#4D5663\"}, \"title\": {\"font\": {\"color\": \"#4D5663\"}, \"text\": \"\"}, \"zerolinecolor\": \"#E1E5ED\"}, \"yaxis10\": {\"anchor\": \"x10\", \"domain\": [0.2675, 0.465], \"gridcolor\": \"#E1E5ED\", \"showgrid\": false, \"tickfont\": {\"color\": \"#4D5663\"}, \"title\": {\"font\": {\"color\": \"#4D5663\"}, \"text\": \"\"}, \"zerolinecolor\": \"#E1E5ED\"}, \"yaxis11\": {\"anchor\": \"x11\", \"domain\": [0.2675, 0.465], \"gridcolor\": \"#E1E5ED\", \"showgrid\": false, \"tickfont\": {\"color\": \"#4D5663\"}, \"title\": {\"font\": {\"color\": \"#4D5663\"}, \"text\": \"\"}, \"zerolinecolor\": \"#E1E5ED\"}, \"yaxis12\": {\"anchor\": \"x12\", \"domain\": [0.2675, 0.465], \"gridcolor\": \"#E1E5ED\", \"showgrid\": false, \"tickfont\": {\"color\": \"#4D5663\"}, \"title\": {\"font\": {\"color\": \"#4D5663\"}, \"text\": \"\"}, \"zerolinecolor\": \"#E1E5ED\"}, \"yaxis13\": {\"anchor\": \"x13\", \"domain\": [0.0, 0.1975], \"gridcolor\": \"#E1E5ED\", \"showgrid\": false, \"tickfont\": {\"color\": \"#4D5663\"}, \"title\": {\"font\": {\"color\": \"#4D5663\"}, \"text\": \"\"}, \"zerolinecolor\": \"#E1E5ED\"}, \"yaxis14\": {\"anchor\": \"x14\", \"domain\": [0.0, 0.1975], \"gridcolor\": \"#E1E5ED\", \"showgrid\": false, \"tickfont\": {\"color\": \"#4D5663\"}, \"title\": {\"font\": {\"color\": \"#4D5663\"}, \"text\": \"\"}, \"zerolinecolor\": \"#E1E5ED\"}, \"yaxis15\": {\"anchor\": \"x15\", \"domain\": [0.0, 0.1975], \"gridcolor\": \"#E1E5ED\", \"showgrid\": false, \"tickfont\": {\"color\": \"#4D5663\"}, \"title\": {\"font\": {\"color\": \"#4D5663\"}, \"text\": \"\"}, \"zerolinecolor\": \"#E1E5ED\"}, \"yaxis16\": {\"anchor\": \"x16\", \"domain\": [0.0, 0.1975], \"gridcolor\": \"#E1E5ED\", \"showgrid\": false, \"tickfont\": {\"color\": \"#4D5663\"}, \"title\": {\"font\": {\"color\": \"#4D5663\"}, \"text\": \"\"}, \"zerolinecolor\": \"#E1E5ED\"}, \"yaxis2\": {\"anchor\": \"x2\", \"domain\": [0.8025, 1.0], \"gridcolor\": \"#E1E5ED\", \"showgrid\": false, \"tickfont\": {\"color\": \"#4D5663\"}, \"title\": {\"font\": {\"color\": \"#4D5663\"}, \"text\": \"\"}, \"zerolinecolor\": \"#E1E5ED\"}, \"yaxis3\": {\"anchor\": \"x3\", \"domain\": [0.8025, 1.0], \"gridcolor\": \"#E1E5ED\", \"showgrid\": false, \"tickfont\": {\"color\": \"#4D5663\"}, \"title\": {\"font\": {\"color\": \"#4D5663\"}, \"text\": \"\"}, \"zerolinecolor\": \"#E1E5ED\"}, \"yaxis4\": {\"anchor\": \"x4\", \"domain\": [0.8025, 1.0], \"gridcolor\": \"#E1E5ED\", \"showgrid\": false, \"tickfont\": {\"color\": \"#4D5663\"}, \"title\": {\"font\": {\"color\": \"#4D5663\"}, \"text\": \"\"}, \"zerolinecolor\": \"#E1E5ED\"}, \"yaxis5\": {\"anchor\": \"x5\", \"domain\": [0.535, 0.7325], \"gridcolor\": \"#E1E5ED\", \"showgrid\": false, \"tickfont\": {\"color\": \"#4D5663\"}, \"title\": {\"font\": {\"color\": \"#4D5663\"}, \"text\": \"\"}, \"zerolinecolor\": \"#E1E5ED\"}, \"yaxis6\": {\"anchor\": \"x6\", \"domain\": [0.535, 0.7325], \"gridcolor\": \"#E1E5ED\", \"showgrid\": false, \"tickfont\": {\"color\": \"#4D5663\"}, \"title\": {\"font\": {\"color\": \"#4D5663\"}, \"text\": \"\"}, \"zerolinecolor\": \"#E1E5ED\"}, \"yaxis7\": {\"anchor\": \"x7\", \"domain\": [0.535, 0.7325], \"gridcolor\": \"#E1E5ED\", \"showgrid\": false, \"tickfont\": {\"color\": \"#4D5663\"}, \"title\": {\"font\": {\"color\": \"#4D5663\"}, \"text\": \"\"}, \"zerolinecolor\": \"#E1E5ED\"}, \"yaxis8\": {\"anchor\": \"x8\", \"domain\": [0.535, 0.7325], \"gridcolor\": \"#E1E5ED\", \"showgrid\": false, \"tickfont\": {\"color\": \"#4D5663\"}, \"title\": {\"font\": {\"color\": \"#4D5663\"}, \"text\": \"\"}, \"zerolinecolor\": \"#E1E5ED\"}, \"yaxis9\": {\"anchor\": \"x9\", \"domain\": [0.2675, 0.465], \"gridcolor\": \"#E1E5ED\", \"showgrid\": false, \"tickfont\": {\"color\": \"#4D5663\"}, \"title\": {\"font\": {\"color\": \"#4D5663\"}, \"text\": \"\"}, \"zerolinecolor\": \"#E1E5ED\"}},\n",
       "                        {\"showLink\": true, \"linkText\": \"Export to plot.ly\", \"plotlyServerURL\": \"https://plot.ly\", \"responsive\": true}\n",
       "                    ).then(function(){\n",
       "                            \n",
       "var gd = document.getElementById('8bbe932d-583e-4c57-8fa7-3d57e64b4b17');\n",
       "var x = new MutationObserver(function (mutations, observer) {{\n",
       "        var display = window.getComputedStyle(gd).display;\n",
       "        if (!display || display === 'none') {{\n",
       "            console.log([gd, 'removed!']);\n",
       "            Plotly.purge(gd);\n",
       "            observer.disconnect();\n",
       "        }}\n",
       "}});\n",
       "\n",
       "// Listen for the removal of the full notebook cells\n",
       "var notebookContainer = gd.closest('#notebook-container');\n",
       "if (notebookContainer) {{\n",
       "    x.observe(notebookContainer, {childList: true});\n",
       "}}\n",
       "\n",
       "// Listen for the clearing of the current output cell\n",
       "var outputEl = gd.closest('.output');\n",
       "if (outputEl) {{\n",
       "    x.observe(outputEl, {childList: true});\n",
       "}}\n",
       "\n",
       "                        })\n",
       "                };\n",
       "                });\n",
       "            </script>\n",
       "        </div>"
      ]
     },
     "metadata": {},
     "output_type": "display_data"
    }
   ],
   "source": [
    "df.scatter_matrix()"
   ]
  }
 ],
 "metadata": {
  "kernelspec": {
   "display_name": "Python 3",
   "language": "python",
   "name": "python3"
  },
  "language_info": {
   "codemirror_mode": {
    "name": "ipython",
    "version": 3
   },
   "file_extension": ".py",
   "mimetype": "text/x-python",
   "name": "python",
   "nbconvert_exporter": "python",
   "pygments_lexer": "ipython3",
   "version": "3.8.2"
  }
 },
 "nbformat": 4,
 "nbformat_minor": 4
}
