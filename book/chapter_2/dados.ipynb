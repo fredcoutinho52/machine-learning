{
 "cells": [
  {
   "cell_type": "code",
   "execution_count": 39,
   "metadata": {},
   "outputs": [],
   "source": [
    "import csv\n",
    "\n",
    "# X => dados / Y => marcacoes\n",
    "def carregar_acessos():\n",
    "    X = []\n",
    "    Y = []\n",
    "    \n",
    "    arquivo = open('acesso.csv', 'r')\n",
    "    leitor = csv.reader(arquivo)\n",
    "    next(leitor)\n",
    "    for home, como_funciona, contato, comprou in leitor:\n",
    "        dado = [int(home), int(como_funciona), int(contato)]\n",
    "        X.append(dado)\n",
    "        Y.append(int(comprou))\n",
    "    \n",
    "    return X, Y\n",
    "\n",
    "X, Y = carregar_acessos()\n",
    "\n",
    "# 90% dos dados para treino\n",
    "treino_dados = X[:90]\n",
    "treino_marcacoes = Y[:90]\n",
    "\n",
    "# 10% dos dados para teste\n",
    "teste_dados = X[-9:]\n",
    "teste_marcacoes = Y[-9:]"
   ]
  },
  {
   "cell_type": "code",
   "execution_count": 27,
   "metadata": {},
   "outputs": [
    {
     "data": {
      "text/plain": [
       "MultinomialNB(alpha=1.0, class_prior=None, fit_prior=True)"
      ]
     },
     "execution_count": 27,
     "metadata": {},
     "output_type": "execute_result"
    }
   ],
   "source": [
    "from sklearn.naive_bayes import MultinomialNB\n",
    "\n",
    "modelo = MultinomialNB()\n",
    "modelo.fit(treino_dados, treino_marcacoes)"
   ]
  },
  {
   "cell_type": "code",
   "execution_count": 38,
   "metadata": {},
   "outputs": [
    {
     "name": "stdout",
     "output_type": "stream",
     "text": [
      "88.88888888888889 9\n"
     ]
    }
   ],
   "source": [
    "# 1 => Vai comprar/ 0 => Não vai comprar\n",
    "resultado = modelo.predict(teste_dados)\n",
    "\n",
    "# verificando taxa de acerto\n",
    "diferencas = resultado - teste_marcacoes\n",
    "acertos = [d for d in diferencas if d == 0]\n",
    "total_acertos = len(acertos)\n",
    "total_elementos = len(teste_dados)\n",
    "taxa_acerto = 100.0 * total_acertos / total_elementos\n",
    "print(taxa_acerto, total_elementos)"
   ]
  }
 ],
 "metadata": {
  "kernelspec": {
   "display_name": "Python 3",
   "language": "python",
   "name": "python3"
  },
  "language_info": {
   "codemirror_mode": {
    "name": "ipython",
    "version": 3
   },
   "file_extension": ".py",
   "mimetype": "text/x-python",
   "name": "python",
   "nbconvert_exporter": "python",
   "pygments_lexer": "ipython3",
   "version": "3.7.5"
  }
 },
 "nbformat": 4,
 "nbformat_minor": 2
}
