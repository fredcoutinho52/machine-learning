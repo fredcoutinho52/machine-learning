{
 "cells": [
  {
   "cell_type": "code",
   "execution_count": 98,
   "metadata": {},
   "outputs": [],
   "source": [
    "entrada = open('human.fasta').read()\n",
    "saida = open('humano.html', 'w')"
   ]
  },
  {
   "cell_type": "code",
   "execution_count": 99,
   "metadata": {},
   "outputs": [
    {
     "name": "stdout",
     "output_type": "stream",
     "text": [
      "{'AA': 0, 'AT': 0, 'AC': 0, 'AG': 0, 'TA': 0, 'TT': 0, 'TC': 0, 'TG': 0, 'CA': 0, 'CT': 0, 'CC': 0, 'CG': 0, 'GA': 0, 'GT': 0, 'GC': 0, 'GG': 0}\n"
     ]
    }
   ],
   "source": [
    "cont = {}\n",
    "\n",
    "for i in ['A', 'T', 'C', 'G']:\n",
    "    for j in ['A', 'T', 'C', 'G']:\n",
    "        cont[i + j] = 0\n",
    "        \n",
    "print(cont)"
   ]
  },
  {
   "cell_type": "code",
   "execution_count": 100,
   "metadata": {
    "scrolled": false
   },
   "outputs": [
    {
     "name": "stdout",
     "output_type": "stream",
     "text": [
      "{'AA': 105, 'AT': 61, 'AC': 85, 'AG': 109, 'TA': 63, 'TT': 57, 'TC': 60, 'TG': 105, 'CA': 81, 'CT': 74, 'CC': 74, 'CG': 96, 'GA': 111, 'GT': 92, 'GC': 107, 'GG': 146}\n"
     ]
    }
   ],
   "source": [
    "entrada = [item.replace(\"\\n\", \"\") for item in entrada]\n",
    "\n",
    "#print(entrada)\n",
    "\n",
    "for k in range(len(entrada) - 1):\n",
    "    if entrada[k] != '' and entrada[k + 1] != '':\n",
    "        cont[entrada[k] + entrada[k + 1]] += 1\n",
    "        \n",
    "print(cont)"
   ]
  },
  {
   "cell_type": "code",
   "execution_count": 101,
   "metadata": {},
   "outputs": [],
   "source": [
    "counter = 1\n",
    "for k in cont:\n",
    "    transparencia = cont[k] / max(cont.values())\n",
    "    saida.write(\"<div style='width:100px;border:1px solid #111;height:100px;float:left;background-color:rgba(0,0,255,\" + str(transparencia) + \")'>\" + k + \"</div>\")\n",
    "        \n",
    "saida.close()"
   ]
  },
  {
   "cell_type": "code",
   "execution_count": null,
   "metadata": {},
   "outputs": [],
   "source": []
  }
 ],
 "metadata": {
  "kernelspec": {
   "display_name": "Python 3",
   "language": "python",
   "name": "python3"
  },
  "language_info": {
   "codemirror_mode": {
    "name": "ipython",
    "version": 3
   },
   "file_extension": ".py",
   "mimetype": "text/x-python",
   "name": "python",
   "nbconvert_exporter": "python",
   "pygments_lexer": "ipython3",
   "version": "3.7.5"
  }
 },
 "nbformat": 4,
 "nbformat_minor": 2
}
